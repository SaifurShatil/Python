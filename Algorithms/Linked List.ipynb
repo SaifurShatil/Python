{
 "cells": [
  {
   "cell_type": "code",
   "execution_count": 3,
   "metadata": {},
   "outputs": [],
   "source": [
    "# creating node\\\n",
    "class Node:\n",
    "    def __init__(self,data):\n",
    "        self.data=data\n",
    "        self.next=None"
   ]
  },
  {
   "cell_type": "code",
   "execution_count": 4,
   "metadata": {},
   "outputs": [],
   "source": [
    "# Create L List\n",
    "class LinkedList:\n",
    "    def __init__(self):\n",
    "        self.head=None"
   ]
  },
  {
   "cell_type": "code",
   "execution_count": 5,
   "metadata": {},
   "outputs": [],
   "source": [
    "ll=LinkedList()"
   ]
  },
  {
   "cell_type": "code",
   "execution_count": 9,
   "metadata": {},
   "outputs": [],
   "source": [
    "# assign values\n",
    "ll.head= Node(10)\n",
    "second= Node(24)\n",
    "third= Node(33)"
   ]
  },
  {
   "cell_type": "code",
   "execution_count": 10,
   "metadata": {},
   "outputs": [],
   "source": [
    "# connect nodes\n",
    "ll.head.next=second\n",
    "second.next=third"
   ]
  },
  {
   "cell_type": "code",
   "execution_count": 11,
   "metadata": {},
   "outputs": [
    {
     "name": "stdout",
     "output_type": "stream",
     "text": [
      "10 24 33 "
     ]
    }
   ],
   "source": [
    "# print\n",
    "while ll.head != None:\n",
    "    print(ll.head.data, end=\" \")\n",
    "    ll.head= ll.head.next"
   ]
  },
  {
   "cell_type": "code",
   "execution_count": 12,
   "metadata": {},
   "outputs": [],
   "source": [
    "#operations"
   ]
  },
  {
   "cell_type": "code",
   "execution_count": 1,
   "metadata": {},
   "outputs": [],
   "source": [
    "class Node:\n",
    "    def __init__(self,item):\n",
    "        self.item=item\n",
    "        self.next=None"
   ]
  },
  {
   "cell_type": "code",
   "execution_count": 2,
   "metadata": {},
   "outputs": [],
   "source": [
    "class LinkedList:\n",
    "    def __init__(self):\n",
    "        self.head= None\n",
    "        \n",
    "    def insetAtBeginning(self,item):\n",
    "        newnode=Node(item)\n",
    "        newnode.next=self.head\n",
    "        self.head=newnode\n",
    "        \n",
    "    # insert after a node\n",
    "    def insertAfter(self,prevnode,item):\n",
    "        if prevnode is None:\n",
    "            print(\"prev node none\")\n",
    "        newnode=Node(item)\n",
    "        newnode.next=prevnode.next\n",
    "        prevnode.next=newnode\n",
    "        \n",
    "    #insert at end\n",
    "    def insertEnd(self, item):\n",
    "        newnode=Node(item)\n",
    "        \n",
    "        if self.head is None:\n",
    "            self.head= newnode\n",
    "            \n",
    "        current=self.head\n",
    "        while(current.next):\n",
    "            current=current.next\n",
    "        \n",
    "        current.next=newnode\n",
    "        \n",
    "    # deleting a node\n",
    "    def deleteNode(self,position):\n",
    "        if self.head is None:\n",
    "            return\n",
    "        temp= self.head\n",
    "        if position==0:\n",
    "            self.head=temp.next\n",
    "            temp=None\n",
    "            return\n",
    "        #find the key to be deleted\n",
    "        for i in range(position-1):\n",
    "            temp=temp.next\n",
    "            if temp is none:\n",
    "                break\n",
    "        # if the key not present\n",
    "        if temp is None:\n",
    "            return\n",
    "        if temp.next is None:\n",
    "            return\n",
    "        next=temp.next.next\n",
    "        temp.next=None\n",
    "        temp.next=next\n",
    "        \n",
    "        \n",
    "        # search element\n",
    "        def search(self,item):\n",
    "            current= self.head\n",
    "            while current is not None:\n",
    "                if current.data==item:\n",
    "                    return True\n",
    "                current=current.next\n",
    "            return False\n",
    "        \n",
    "        \n",
    "        # sorting\n",
    "        def sortl(self, head):\n",
    "            current= head\n",
    "            index=Node(None)\n",
    "            \n",
    "            if head is None:\n",
    "                return\n",
    "            else:\n",
    "                while current is not None:\n",
    "                    index= current.next\n",
    "                    while index is not None:\n",
    "                        if current.data>index.data:\n",
    "                            current.data,index.data= index.data,current.data\n",
    "                        index=index.next\n",
    "                    current=current.next\n",
    "        # print\n",
    "        def printl(self):\n",
    "            temp=self.head\n",
    "            while(temp):\n",
    "                print(str(temp.data),end=\" \")\n",
    "                temp=temp.next\n",
    "            \n",
    "                \n",
    "        \n",
    "        "
   ]
  },
  {
   "cell_type": "code",
   "execution_count": null,
   "metadata": {},
   "outputs": [],
   "source": [
    "if __name__=='__main__':\n",
    "    ll=LinkedList()\n",
    "    ll.insertEnd(1)\n",
    "    ll.insetAtBeginning(2)\n",
    "    ll.insetAtBeginning(3)\n",
    "    ll.insertEnd(4)\n",
    "    ll.insertAfter(ll.head.next,5)\n",
    "    print('linked list:')\n",
    "    ll.printl()\n",
    "    print(\"\\nAfter deleting an element:\")\n",
    "    ll.deleteNode(3)\n",
    "    ll.printl()\n",
    "    \n",
    "    print()\n",
    "    item_to_find = 3\n",
    "    if ll.search(item_to_find):\n",
    "        print(str(item_to_find) + \" is found\")\n",
    "    else:\n",
    "        print(str(item_to_find) + \" is not found\")\n",
    "\n",
    "    ll.sortl(ll.head)\n",
    "    print(\"Sorted List: \")\n",
    "    ll.printl()"
   ]
  },
  {
   "cell_type": "code",
   "execution_count": null,
   "metadata": {},
   "outputs": [],
   "source": []
  },
  {
   "cell_type": "code",
   "execution_count": null,
   "metadata": {},
   "outputs": [],
   "source": []
  }
 ],
 "metadata": {
  "kernelspec": {
   "display_name": "Python 3",
   "language": "python",
   "name": "python3"
  },
  "language_info": {
   "codemirror_mode": {
    "name": "ipython",
    "version": 3
   },
   "file_extension": ".py",
   "mimetype": "text/x-python",
   "name": "python",
   "nbconvert_exporter": "python",
   "pygments_lexer": "ipython3",
   "version": "3.8.5"
  }
 },
 "nbformat": 4,
 "nbformat_minor": 4
}
