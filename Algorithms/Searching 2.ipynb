{
 "cells": [
  {
   "cell_type": "markdown",
   "metadata": {},
   "source": [
    "#### Linear Search O(n)"
   ]
  },
  {
   "cell_type": "code",
   "execution_count": 24,
   "metadata": {},
   "outputs": [],
   "source": [
    "def lin_search(array,value):\n",
    "    for i in range(0,len(array)):\n",
    "        if array[i]==value:\n",
    "            return i\n",
    "    return -1"
   ]
  },
  {
   "cell_type": "code",
   "execution_count": 25,
   "metadata": {},
   "outputs": [
    {
     "name": "stdout",
     "output_type": "stream",
     "text": [
      "5\n",
      "found at 2\n"
     ]
    }
   ],
   "source": [
    "array=[2,4,0,1,9]\n",
    "print(len(array))\n",
    "x=4\n",
    "index= lin_search(array,x)\n",
    "if index==-1:\n",
    "    print('not found')\n",
    "else:\n",
    "    print(\"found at {}\".format(index+1))"
   ]
  },
  {
   "cell_type": "code",
   "execution_count": 26,
   "metadata": {},
   "outputs": [
    {
     "name": "stdout",
     "output_type": "stream",
     "text": [
      "not found\n"
     ]
    }
   ],
   "source": [
    "index= lin_search(array,10)\n",
    "if index==-1:\n",
    "    print('not found')\n",
    "else:\n",
    "    print(\"found at {}\".format(index+1))"
   ]
  },
  {
   "cell_type": "markdown",
   "metadata": {},
   "source": [
    "#### Binary Search (Iterative method) O(logn)"
   ]
  },
  {
   "cell_type": "code",
   "execution_count": 40,
   "metadata": {},
   "outputs": [],
   "source": [
    "def bin_search(array,low,high, value):\n",
    "    while low<=high:\n",
    "        mid=low+(high-low)//2\n",
    "        if array[mid]==value:\n",
    "            return mid\n",
    "        elif array[mid]<value:\n",
    "            low=mid+1\n",
    "        else:\n",
    "            high= mid-1\n",
    "    return -1\n",
    "    "
   ]
  },
  {
   "cell_type": "code",
   "execution_count": 41,
   "metadata": {},
   "outputs": [
    {
     "name": "stdout",
     "output_type": "stream",
     "text": [
      "[0, 1, 2, 4, 9]\n",
      "not found\n"
     ]
    }
   ],
   "source": [
    "array=[2,4,0,1,9]\n",
    "array.sort()\n",
    "print(array)\n",
    "size=len(array)\n",
    "x=10\n",
    "index= bin_search(array,0,size-1,x)\n",
    "if index!=-1:\n",
    "    print(\"found at : \",str(index+1))\n",
    "    \n",
    "else:\n",
    "    print('not found')"
   ]
  },
  {
   "cell_type": "markdown",
   "metadata": {},
   "source": [
    "#### Binary Search (Recursive method)"
   ]
  },
  {
   "cell_type": "code",
   "execution_count": 44,
   "metadata": {},
   "outputs": [],
   "source": [
    "def bin_search(array,low,high,val):\n",
    "    if high>=low:\n",
    "        mid= low+(high-low)//2\n",
    "        if array[mid]==val:\n",
    "            return mid\n",
    "        elif array[mid]<val:\n",
    "            return bin_search(array,mid+1,high,val)\n",
    "        else:\n",
    "            return bin_search(array,low,mid-1,val)\n",
    "    else:\n",
    "         return -1\n",
    "    "
   ]
  },
  {
   "cell_type": "code",
   "execution_count": 45,
   "metadata": {},
   "outputs": [
    {
     "name": "stdout",
     "output_type": "stream",
     "text": [
      "[0, 1, 2, 4, 9]\n",
      "not found\n"
     ]
    }
   ],
   "source": [
    "array=[2,4,0,1,9]\n",
    "array.sort()\n",
    "print(array)\n",
    "size=len(array)\n",
    "x=10\n",
    "index= bin_search(array,0,size-1,x)\n",
    "if index!=-1:\n",
    "    print(\"found at : \",str(index+1))\n",
    "    \n",
    "else:\n",
    "    print('not found')"
   ]
  },
  {
   "cell_type": "code",
   "execution_count": 48,
   "metadata": {},
   "outputs": [
    {
     "name": "stdout",
     "output_type": "stream",
     "text": [
      "found at : 4\n"
     ]
    }
   ],
   "source": [
    "x=4\n",
    "index= bin_search(array,0,size-1,x)\n",
    "if index!=-1:\n",
    "    print(\"found at : \"+ str(index+1))\n",
    "    \n",
    "else:\n",
    "    print('not found')"
   ]
  },
  {
   "cell_type": "code",
   "execution_count": null,
   "metadata": {},
   "outputs": [],
   "source": []
  }
 ],
 "metadata": {
  "kernelspec": {
   "display_name": "Python 3",
   "language": "python",
   "name": "python3"
  },
  "language_info": {
   "codemirror_mode": {
    "name": "ipython",
    "version": 3
   },
   "file_extension": ".py",
   "mimetype": "text/x-python",
   "name": "python",
   "nbconvert_exporter": "python",
   "pygments_lexer": "ipython3",
   "version": "3.8.5"
  }
 },
 "nbformat": 4,
 "nbformat_minor": 4
}
