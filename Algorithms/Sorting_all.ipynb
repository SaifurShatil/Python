{
 "cells": [
  {
   "cell_type": "markdown",
   "metadata": {},
   "source": [
    "https://www.programiz.com/dsa/selection-sort"
   ]
  },
  {
   "cell_type": "code",
   "execution_count": 27,
   "metadata": {},
   "outputs": [
    {
     "name": "stdout",
     "output_type": "stream",
     "text": [
      "[-4, 5, 18, 23, 32, 56]\n",
      "[56, 32, 23, 18, 5, -4]\n"
     ]
    }
   ],
   "source": [
    "data=[23,5,-4,56,32,18]\n",
    "data.sort()\n",
    "print(data)\n",
    "data.sort(reverse=True)\n",
    "print(data)"
   ]
  },
  {
   "cell_type": "markdown",
   "metadata": {},
   "source": [
    "#### Bubble Sort    O(n^2)"
   ]
  },
  {
   "cell_type": "code",
   "execution_count": null,
   "metadata": {},
   "outputs": [],
   "source": [
    "# selects largest element at each iter"
   ]
  },
  {
   "cell_type": "code",
   "execution_count": 2,
   "metadata": {},
   "outputs": [],
   "source": [
    "def bubble_sort(array):\n",
    "    for i in range(len(array)):\n",
    "        for j in range(0,len(array)-i-1):\n",
    "            if array[j]> array[j+1]:\n",
    "                temp= array[j+1]\n",
    "                array[j+1]= array[j]\n",
    "                array[j]= temp"
   ]
  },
  {
   "cell_type": "code",
   "execution_count": 3,
   "metadata": {},
   "outputs": [
    {
     "name": "stdout",
     "output_type": "stream",
     "text": [
      "[-9, -2, 0, 11, 45]\n"
     ]
    }
   ],
   "source": [
    "data = [-2, 45, 0, 11, -9]\n",
    "bubble_sort(data)\n",
    "print(data)"
   ]
  },
  {
   "cell_type": "code",
   "execution_count": 18,
   "metadata": {},
   "outputs": [],
   "source": [
    "# optimized\n",
    "def bubble_sort(array):\n",
    "    for i in range(len(array)):\n",
    "        swapped= False\n",
    "        for j in range(0,len(array)-i-1):\n",
    "            if array[j]>array[j+1]:\n",
    "                temp=array[j]\n",
    "                array[j]=array[j+1]\n",
    "                array[j+1]=temp\n",
    "                \n",
    "                swapped= True\n",
    "        # no swapping means the array is already sorted\n",
    "        # so no need for further comparison       \n",
    "        if not swapped:\n",
    "            break"
   ]
  },
  {
   "cell_type": "code",
   "execution_count": 19,
   "metadata": {},
   "outputs": [
    {
     "name": "stdout",
     "output_type": "stream",
     "text": [
      "[-3, 1, 2, 3, 7, 43, 55]\n"
     ]
    }
   ],
   "source": [
    "data=[2,43,7,1,55,3,-3]\n",
    "bubble_sort(data)\n",
    "print(data)"
   ]
  },
  {
   "cell_type": "markdown",
   "metadata": {},
   "source": [
    "#### Selection Sort   O(n^2)"
   ]
  },
  {
   "cell_type": "code",
   "execution_count": 20,
   "metadata": {},
   "outputs": [],
   "source": [
    "# selects smallest elemnet at each iter\n",
    "# swap the first element with min index value"
   ]
  },
  {
   "cell_type": "code",
   "execution_count": 21,
   "metadata": {},
   "outputs": [],
   "source": [
    "def selection_sort(array):\n",
    "    size= len(array)\n",
    "    for i in range(size):\n",
    "        min_index=i\n",
    "        for j in range(i+1,size):\n",
    "            if array[min_index]> array[j]:\n",
    "                min_index=j\n",
    "        (array[i],array[min_index])=(array[min_index],array[i]) # swap "
   ]
  },
  {
   "cell_type": "code",
   "execution_count": 22,
   "metadata": {},
   "outputs": [
    {
     "name": "stdout",
     "output_type": "stream",
     "text": [
      "[-4, 5, 18, 23, 32, 56]\n"
     ]
    }
   ],
   "source": [
    "data=[23,5,-4,56,32,18]\n",
    "selection_sort(data)\n",
    "print(data)"
   ]
  },
  {
   "cell_type": "code",
   "execution_count": 23,
   "metadata": {},
   "outputs": [],
   "source": [
    "def selection_sort(array):\n",
    "    size= len(array)\n",
    "    for i in range(size):\n",
    "        max_index=i\n",
    "        for j in range(i+1,size):\n",
    "            if array[max_index]< array[j]:\n",
    "                max_index=j\n",
    "        (array[i],array[max_index])=(array[max_index],array[i]) # swap "
   ]
  },
  {
   "cell_type": "code",
   "execution_count": 24,
   "metadata": {},
   "outputs": [
    {
     "name": "stdout",
     "output_type": "stream",
     "text": [
      "[56, 32, 23, 18, 5, -4]\n"
     ]
    }
   ],
   "source": [
    "data=[23,5,-4,56,32,18]\n",
    "selection_sort(data)\n",
    "print(data)"
   ]
  },
  {
   "cell_type": "markdown",
   "metadata": {},
   "source": [
    "#### Insertion Sort    O(n^2)"
   ]
  },
  {
   "cell_type": "markdown",
   "metadata": {},
   "source": [
    "Insertion sort places an unsorted element at its suitable place in each iteration."
   ]
  },
  {
   "cell_type": "markdown",
   "metadata": {},
   "source": [
    "The first element in the array is assumed to be sorted. Take the second element and store it separately in key.\n",
    "\n",
    "Compare key with the first element. Take the third element and compare it with the elements on the left of it to find its correct position. Place it just behind the element smaller than it. If there is no element smaller than it, then place it at the beginning of the array."
   ]
  },
  {
   "cell_type": "markdown",
   "metadata": {},
   "source": [
    "It comapres an unsorted element with its left sorted elements till 0 index to find its position"
   ]
  },
  {
   "cell_type": "code",
   "execution_count": 30,
   "metadata": {},
   "outputs": [],
   "source": [
    "def insertion_sort(array):\n",
    "    size= len(array)\n",
    "    for i in range(1,size):          # as 1st element is thought sorted\n",
    "        key= array[i]                # unsorted elements from 2nd index\n",
    "        j=i-1                        # sorted element number\n",
    "        \n",
    "        while j>=0 and key<array[j]:\n",
    "            array[j+1]=array[j]      # make space\n",
    "            j-=1\n",
    "        array[j+1]=key               # place key after the element just smaller than it"
   ]
  },
  {
   "cell_type": "code",
   "execution_count": 31,
   "metadata": {},
   "outputs": [
    {
     "name": "stdout",
     "output_type": "stream",
     "text": [
      "[-4, 5, 18, 23, 32, 56]\n"
     ]
    }
   ],
   "source": [
    "data=[23,5,-4,56,32,18]\n",
    "insertion_sort(data)\n",
    "print(data)"
   ]
  },
  {
   "cell_type": "code",
   "execution_count": 32,
   "metadata": {},
   "outputs": [],
   "source": [
    "def insertion_sort(array):\n",
    "    size= len(array)\n",
    "    for i in range(1,size):          # as 1st element is thought sorted\n",
    "        key= array[i]                # unsorted elements from 2nd index\n",
    "        j=i-1                        # sorted element number\n",
    "        \n",
    "        while j>=0 and key>array[j]:\n",
    "            array[j+1]=array[j]      # make space\n",
    "            j-=1\n",
    "        array[j+1]=key               # place key after the element just smaller than it"
   ]
  },
  {
   "cell_type": "code",
   "execution_count": 33,
   "metadata": {},
   "outputs": [
    {
     "name": "stdout",
     "output_type": "stream",
     "text": [
      "[56, 32, 23, 18, 5, -4]\n"
     ]
    }
   ],
   "source": [
    "data=[23,5,-4,56,32,18]\n",
    "insertion_sort(data)\n",
    "print(data)"
   ]
  },
  {
   "cell_type": "markdown",
   "metadata": {},
   "source": [
    "#### Merge Sort      O(n*logn)"
   ]
  },
  {
   "cell_type": "markdown",
   "metadata": {},
   "source": [
    "Merge conditions:\n",
    "    Have we reached the end of any of the arrays?\n",
    "    No:\n",
    "        Compare current elements of both arrays \n",
    "        Copy smaller element into sorted array\n",
    "        Move pointer of element containing smaller element\n",
    "    Yes:\n",
    "        Copy all remaining elements of non-empty array"
   ]
  },
  {
   "cell_type": "code",
   "execution_count": 35,
   "metadata": {},
   "outputs": [],
   "source": [
    "def merge_sort(array):\n",
    "    if len(array)>1:\n",
    "        # Divide\n",
    "        m= len(array)//2\n",
    "        L=array[:m]\n",
    "        R= array[m:]\n",
    "        merge_sort(L)\n",
    "        merge_sort(R)\n",
    "        \n",
    "        # Merge\n",
    "        i=j=k=0 # position pointers\n",
    "        \n",
    "        # Until we reach either end of either L or R, pick lower among\n",
    "        # elements L and R and place them in the correct position at A[p..r]\n",
    "        \n",
    "        while i<len(L) and j<len(R):\n",
    "            if L[i]<R[j]:\n",
    "                array[k]=L[i]\n",
    "                i+=1\n",
    "            else:\n",
    "                array[k]=R[j]\n",
    "                j+=1\n",
    "            k+=1\n",
    "        \n",
    "        # When we run out of elements in either L or R,\n",
    "        # pick up the remaining elements and put in A[p..r]\n",
    "        \n",
    "        while i<len(L):\n",
    "            array[k]=L[i]\n",
    "            i+=1\n",
    "            k+=1\n",
    "        while j<len(R):\n",
    "            array[k]=R[j]\n",
    "            j+=1\n",
    "            k+=1\n",
    "                \n",
    "def print_list(array):\n",
    "    for i in range(len(array)):\n",
    "        print(array[i],end=\" \")\n",
    "        "
   ]
  },
  {
   "cell_type": "code",
   "execution_count": 36,
   "metadata": {},
   "outputs": [
    {
     "name": "stdout",
     "output_type": "stream",
     "text": [
      "1 5 9 12 23 34 54 56 89 "
     ]
    }
   ],
   "source": [
    "data=[23,1,56,12,89,54,9,5,34]\n",
    "merge_sort(data)\n",
    "print_list(data)"
   ]
  },
  {
   "cell_type": "code",
   "execution_count": 40,
   "metadata": {},
   "outputs": [],
   "source": [
    "def merge_sort1(array):\n",
    "    if len(array)>1:\n",
    "        # Divide\n",
    "        m= len(array)//2\n",
    "        L=array[:m]\n",
    "        R= array[m:]\n",
    "        merge_sort(L)\n",
    "        merge_sort(R)\n",
    "        merge(array,L,R)\n",
    "        \n",
    "def merge(array,L,R):\n",
    "        i=j=k=0 # position pointers\n",
    "        \n",
    "        # Until we reach either end of either L or R, pick lower among\n",
    "        # elements L and R and place them in the correct position at A[p..r]\n",
    "        \n",
    "        while i<len(L) and j<len(R):\n",
    "            if L[i]<R[j]:\n",
    "                array[k]=L[i]\n",
    "                i+=1\n",
    "            else:\n",
    "                array[k]=R[j]\n",
    "                j+=1\n",
    "            k+=1\n",
    "        \n",
    "        # When we run out of elements in either L or R,\n",
    "        # pick up the remaining elements and put in A[p..r]\n",
    "        \n",
    "        while i<len(L):\n",
    "            array[k]=L[i]\n",
    "            i+=1\n",
    "            k+=1\n",
    "        while j<len(R):\n",
    "            array[k]=R[j]\n",
    "            j+=1\n",
    "            k+=1\n",
    "\n",
    "def print_list(array):\n",
    "    for i in range(len(array)):\n",
    "        print(array[i],end=\" \")"
   ]
  },
  {
   "cell_type": "code",
   "execution_count": 41,
   "metadata": {},
   "outputs": [
    {
     "name": "stdout",
     "output_type": "stream",
     "text": [
      "1 3 5 9 12 20 23 34 54 56 89 100 "
     ]
    }
   ],
   "source": [
    "data=[23,1,56,12,89,54,9,5,34,20,100,3]\n",
    "merge_sort1(data)\n",
    "print_list(data)"
   ]
  },
  {
   "cell_type": "markdown",
   "metadata": {},
   "source": [
    "#### Quick Sort      O(n^2)"
   ]
  },
  {
   "cell_type": "markdown",
   "metadata": {},
   "source": [
    "1. An array is divided into subarrays by selecting a pivot element. While dividing the array, the pivot element should be positioned in such a way that elements less than pivot are kept on the left side and elements greater than pivot are on the right side of the pivot.\n",
    "2. The left and right subarrays are also divided using the same approach. This process continues until each subarray contains a single element.\n",
    "3. The subarrays are divided until each subarray is formed of a single element. At this point, the array is already sorted. At this point, elements are already sorted. Finally, elements are combined to form a sorted array"
   ]
  },
  {
   "cell_type": "markdown",
   "metadata": {},
   "source": [
    "1. A pointer is fixed at the pivot element. The pivot element is compared with the elements beginning from the first index j = 0.\n",
    "2. If the element is greater than the pivot element, a second pointer is set for that element starting i= -1. but no operations. \n",
    "3. Now, pivot is compared with other elements. If an element smaller than the pivot element is reached, the smaller element    is swapped with the greater element found earlier pointed by 2nd pointer.\n",
    "4. The process goes on until the second last element is reached which is the one before pivot.\n",
    "5. Finally, the pivot element is swapped with the second pointer"
   ]
  },
  {
   "cell_type": "code",
   "execution_count": 66,
   "metadata": {},
   "outputs": [],
   "source": [
    "def partition(array,low,high):\n",
    "    pivot= array[high] \n",
    "    i=low-1                                                 # pointer for greater element than pivot\n",
    "    for j in range(low,high):                               # traverse through all elements\n",
    "        if array[j]<=pivot:                                 # compare each element with pivot\n",
    "            # if element smaller than pivot is found\n",
    "            # swap it with the greater element pointed by i\n",
    "            i+=1\n",
    "            (array[i],array[j])=(array[j],array[i])\n",
    "            \n",
    "    (array[i+1],array[high])=(array[high],array[i+1])   # swap the pivot element with the greater element specified by i\n",
    "    return i+1                                          # return the position from where partition is done"
   ]
  },
  {
   "cell_type": "code",
   "execution_count": 63,
   "metadata": {},
   "outputs": [],
   "source": [
    "def Quick_sort(array, low,high):\n",
    "    \n",
    "    if low<high:\n",
    "        pivot= partition(array,low,high)\n",
    "        Quick_sort(array,low,pivot-1)\n",
    "        Quick_sort(array,pivot+1,high)\n",
    "    "
   ]
  },
  {
   "cell_type": "code",
   "execution_count": 64,
   "metadata": {},
   "outputs": [],
   "source": [
    "def print_list(array):\n",
    "    for i in range(len(array)):\n",
    "        print(array[i],end=\" \")"
   ]
  },
  {
   "cell_type": "code",
   "execution_count": 65,
   "metadata": {},
   "outputs": [
    {
     "name": "stdout",
     "output_type": "stream",
     "text": [
      "1 3 5 9 12 20 23 34 54 56 89 100 "
     ]
    }
   ],
   "source": [
    "if __name__=='__main__':\n",
    "    data=[23,1,56,12,89,54,9,5,34,20,100,3]\n",
    "    size=len(data)\n",
    "    Quick_sort(data,0,size-1)\n",
    "    print_list(data)"
   ]
  },
  {
   "cell_type": "markdown",
   "metadata": {},
   "source": [
    "#### Heap Sort"
   ]
  },
  {
   "cell_type": "code",
   "execution_count": 78,
   "metadata": {},
   "outputs": [],
   "source": [
    "def heapify(array,n,i):\n",
    "    largest=i\n",
    "    l= 2*i +1\n",
    "    r= 2*i+ 2\n",
    "    # Find largest among root and children\n",
    "    if l<n and array[l]>array[i]:\n",
    "        largest=l\n",
    "    if r<n and array[r]>array[largest]:\n",
    "        largest=r\n",
    "    \n",
    "    # If root is not largest, swap with largest and continue heapifying\n",
    "    if (largest !=i):\n",
    "        array[i],array[largest]= array[largest],array[i]\n",
    "        heapify(array,n,largest)"
   ]
  },
  {
   "cell_type": "code",
   "execution_count": 79,
   "metadata": {},
   "outputs": [],
   "source": [
    "def heap_sort(array):\n",
    "    n=len(array)\n",
    "    \n",
    "    # Build max heap from leaf to root\n",
    "    for i in range(n//2,-1,-1):\n",
    "        heapify(array,n,i)\n",
    "    # heap sort\n",
    "    for i in range (n-1,0,-1):\n",
    "        array[0],array[i]=array[i],array[0]   # swap root and last node\n",
    "        heapify(array,i,0)      # Heapify root element\n",
    "    "
   ]
  },
  {
   "cell_type": "code",
   "execution_count": 77,
   "metadata": {},
   "outputs": [
    {
     "name": "stdout",
     "output_type": "stream",
     "text": [
      "Sorted array is\n",
      "1 5 6 9 10 12 "
     ]
    }
   ],
   "source": [
    "arr = [1, 12, 9, 5, 6, 10]\n",
    "heap_sort(arr)\n",
    "n = len(arr)\n",
    "print(\"Sorted array is\")\n",
    "for i in range(n):\n",
    "    print(\"%d \" % arr[i], end='')"
   ]
  },
  {
   "cell_type": "code",
   "execution_count": null,
   "metadata": {},
   "outputs": [],
   "source": []
  }
 ],
 "metadata": {
  "kernelspec": {
   "display_name": "Python 3",
   "language": "python",
   "name": "python3"
  },
  "language_info": {
   "codemirror_mode": {
    "name": "ipython",
    "version": 3
   },
   "file_extension": ".py",
   "mimetype": "text/x-python",
   "name": "python",
   "nbconvert_exporter": "python",
   "pygments_lexer": "ipython3",
   "version": "3.8.5"
  }
 },
 "nbformat": 4,
 "nbformat_minor": 4
}
