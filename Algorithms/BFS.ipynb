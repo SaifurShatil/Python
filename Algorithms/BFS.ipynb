{
 "cells": [
  {
   "cell_type": "code",
   "execution_count": 3,
   "metadata": {},
   "outputs": [],
   "source": [
    "graph=({\n",
    "    'A':['B','C'],\n",
    "    'B':['D','E'],\n",
    "    'C':['F'],\n",
    "    'D':[],\n",
    "    'E':['F'],\n",
    "    'F':[]\n",
    "})"
   ]
  },
  {
   "cell_type": "code",
   "execution_count": 6,
   "metadata": {},
   "outputs": [],
   "source": [
    "visited=[]\n",
    "queue=[]\n",
    "\n",
    "def BFS(graph,node,visited):\n",
    "    visited.append(node)\n",
    "    queue.append(node)\n",
    "    while queue:\n",
    "        item= queue.pop(0)\n",
    "        print(item, end=\" \")\n",
    "        for neighbour in graph[item]:\n",
    "            if neighbour not in visited:\n",
    "                visited.append(neighbour)\n",
    "                queue.append(neighbour)"
   ]
  },
  {
   "cell_type": "code",
   "execution_count": 7,
   "metadata": {},
   "outputs": [
    {
     "name": "stdout",
     "output_type": "stream",
     "text": [
      "A B C D E F "
     ]
    }
   ],
   "source": [
    "BFS(graph,'A',visited)"
   ]
  },
  {
   "cell_type": "code",
   "execution_count": 17,
   "metadata": {},
   "outputs": [],
   "source": [
    "import collections\n",
    "def BFS(graph,root):\n",
    "    visited,queue= set(),collections.deque([root])\n",
    "    visited.add(root)\n",
    "    while queue:\n",
    "        vertex= queue.popleft()\n",
    "        print(str(vertex)+\" \", end=\"\")\n",
    "        for neighbour in graph[vertex]:\n",
    "            if neighbour not in visited:\n",
    "                visited.add(neighbour)\n",
    "                queue.append(neighbour)"
   ]
  },
  {
   "cell_type": "code",
   "execution_count": 18,
   "metadata": {},
   "outputs": [
    {
     "name": "stdout",
     "output_type": "stream",
     "text": [
      "0 1 2 3 "
     ]
    }
   ],
   "source": [
    "if __name__=='__main__':\n",
    "    Graph={\n",
    "        0:[1,2],\n",
    "        1:[2],\n",
    "        2:[3],\n",
    "        3:[1,2]\n",
    "    }\n",
    "    BFS(Graph, 0)"
   ]
  },
  {
   "cell_type": "code",
   "execution_count": null,
   "metadata": {},
   "outputs": [],
   "source": []
  }
 ],
 "metadata": {
  "kernelspec": {
   "display_name": "Python 3",
   "language": "python",
   "name": "python3"
  },
  "language_info": {
   "codemirror_mode": {
    "name": "ipython",
    "version": 3
   },
   "file_extension": ".py",
   "mimetype": "text/x-python",
   "name": "python",
   "nbconvert_exporter": "python",
   "pygments_lexer": "ipython3",
   "version": "3.8.5"
  }
 },
 "nbformat": 4,
 "nbformat_minor": 4
}
