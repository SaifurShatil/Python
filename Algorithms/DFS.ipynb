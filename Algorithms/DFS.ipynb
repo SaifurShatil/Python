{
 "cells": [
  {
   "cell_type": "code",
   "execution_count": 3,
   "metadata": {},
   "outputs": [
    {
     "name": "stdout",
     "output_type": "stream",
     "text": [
      "A\n",
      "B\n",
      "D\n",
      "E\n",
      "F\n",
      "C\n"
     ]
    }
   ],
   "source": [
    "graph=({\n",
    "    'A':['B','C'],\n",
    "    'B':['D','E'],\n",
    "    'C':['F'],\n",
    "    'D':[],\n",
    "    'E':['F'],\n",
    "    'F':[]\n",
    "})\n",
    "visited= set()\n",
    "def DFS(graph,node,visited):\n",
    "    if node not in visited:\n",
    "        print(node)\n",
    "    visited.add(node)\n",
    "    for neighbour in graph[node]:\n",
    "        if neighbour not in visited:\n",
    "            DFS(graph,neighbour,visited)\n",
    "DFS(graph,'A',visited)"
   ]
  },
  {
   "cell_type": "code",
   "execution_count": 39,
   "metadata": {},
   "outputs": [],
   "source": [
    "def DFS(graph, node, visited= None):\n",
    "    if visited is None:\n",
    "        visited=set()\n",
    "    if node not in visited:\n",
    "        print(node)\n",
    "    visited.add(node)\n",
    "    \n",
    "    for neighbour in graph[node]-visited:\n",
    "        DFS(graph,neighbour,visited)\n",
    "    "
   ]
  },
  {
   "cell_type": "code",
   "execution_count": 40,
   "metadata": {},
   "outputs": [],
   "source": [
    "Graph={\n",
    "    '0':set(['1','2']),\n",
    "    '1':set(['0','3','4']),\n",
    "    '2':set(['0']),\n",
    "    '3':set(['1']),\n",
    "    '4':set(['2','3'])\n",
    "}"
   ]
  },
  {
   "cell_type": "code",
   "execution_count": 41,
   "metadata": {},
   "outputs": [
    {
     "name": "stdout",
     "output_type": "stream",
     "text": [
      "0\n",
      "1\n",
      "4\n",
      "3\n",
      "2\n"
     ]
    }
   ],
   "source": [
    "DFS(Graph, '0')"
   ]
  },
  {
   "cell_type": "code",
   "execution_count": 42,
   "metadata": {},
   "outputs": [],
   "source": [
    "visited= set()\n",
    "def DFS(graph,node,visited):\n",
    "    if node not in visited:\n",
    "        print(node)\n",
    "    visited.add(node)\n",
    "    for neighbour in graph[node]:\n",
    "        if neighbour not in visited:\n",
    "            DFS(graph,neighbour,visited)"
   ]
  },
  {
   "cell_type": "code",
   "execution_count": 28,
   "metadata": {},
   "outputs": [],
   "source": [
    "Graph={\n",
    "    '0':set(['1','2']),\n",
    "    '1':set(['0','3','4']),\n",
    "    '2':set(['0']),\n",
    "    '3':set(['1']),\n",
    "    '4':set(['2','3'])\n",
    "}"
   ]
  },
  {
   "cell_type": "code",
   "execution_count": 29,
   "metadata": {},
   "outputs": [
    {
     "name": "stdout",
     "output_type": "stream",
     "text": [
      "0\n",
      "1\n",
      "4\n",
      "3\n",
      "2\n"
     ]
    }
   ],
   "source": [
    "DFS(Graph, '0',visited)"
   ]
  },
  {
   "cell_type": "code",
   "execution_count": 43,
   "metadata": {},
   "outputs": [],
   "source": [
    "Graph={\n",
    "    0:[1,2],\n",
    "    1:[0,3,4],\n",
    "    2:[0],\n",
    "    3:[1],\n",
    "    4:[2,3]\n",
    "}"
   ]
  },
  {
   "cell_type": "code",
   "execution_count": 44,
   "metadata": {},
   "outputs": [
    {
     "name": "stdout",
     "output_type": "stream",
     "text": [
      "0\n",
      "1\n",
      "3\n",
      "4\n",
      "2\n"
     ]
    }
   ],
   "source": [
    "DFS(Graph,0,visited)"
   ]
  },
  {
   "cell_type": "code",
   "execution_count": 45,
   "metadata": {},
   "outputs": [],
   "source": [
    "visited= []\n",
    "def DFS(graph,node,visited):\n",
    "    if node not in visited:\n",
    "        print(node)\n",
    "    visited.append(node)\n",
    "    for neighbour in graph[node]:\n",
    "        if neighbour not in visited:\n",
    "            DFS(graph,neighbour,visited)"
   ]
  },
  {
   "cell_type": "code",
   "execution_count": 46,
   "metadata": {},
   "outputs": [
    {
     "name": "stdout",
     "output_type": "stream",
     "text": [
      "0\n",
      "1\n",
      "3\n",
      "4\n",
      "2\n"
     ]
    }
   ],
   "source": [
    "DFS(Graph, 0,visited)"
   ]
  },
  {
   "cell_type": "code",
   "execution_count": 34,
   "metadata": {},
   "outputs": [],
   "source": [
    "graph=({\n",
    "    'A':['B','C'],\n",
    "    'B':['D','E'],\n",
    "    'C':['F'],\n",
    "    'D':[],\n",
    "    'E':['F'],\n",
    "    'F':[]\n",
    "})"
   ]
  },
  {
   "cell_type": "code",
   "execution_count": 35,
   "metadata": {},
   "outputs": [
    {
     "name": "stdout",
     "output_type": "stream",
     "text": [
      "A\n",
      "B\n",
      "D\n",
      "E\n",
      "F\n",
      "C\n"
     ]
    }
   ],
   "source": [
    "DFS(graph, 'A',visited)"
   ]
  },
  {
   "cell_type": "code",
   "execution_count": 47,
   "metadata": {},
   "outputs": [],
   "source": [
    "Graph={\n",
    "    '0':['1','2'],\n",
    "    '1':['0','3','4'],\n",
    "    '2':['0'],\n",
    "    '3':['1'],\n",
    "    '4':['2','3']\n",
    "}"
   ]
  },
  {
   "cell_type": "code",
   "execution_count": 48,
   "metadata": {},
   "outputs": [],
   "source": [
    "visited= []\n",
    "def DFS(graph,node,visited):\n",
    "    if node not in visited:\n",
    "        print(node)\n",
    "    visited.append(node)\n",
    "    for neighbour in graph[node]:\n",
    "        if neighbour not in visited:\n",
    "            DFS(graph,neighbour,visited)"
   ]
  },
  {
   "cell_type": "code",
   "execution_count": 49,
   "metadata": {},
   "outputs": [
    {
     "name": "stdout",
     "output_type": "stream",
     "text": [
      "0\n",
      "1\n",
      "3\n",
      "4\n",
      "2\n"
     ]
    }
   ],
   "source": [
    "DFS(Graph, '0',visited)"
   ]
  },
  {
   "cell_type": "code",
   "execution_count": 50,
   "metadata": {},
   "outputs": [],
   "source": [
    "visited= set()\n",
    "def DFS(graph,node,visited):\n",
    "    if node not in visited:\n",
    "        print(node)\n",
    "    visited.add(node)\n",
    "    for neighbour in graph[node]:\n",
    "        if neighbour not in visited:\n",
    "            DFS(graph,neighbour,visited)"
   ]
  },
  {
   "cell_type": "code",
   "execution_count": 51,
   "metadata": {},
   "outputs": [
    {
     "name": "stdout",
     "output_type": "stream",
     "text": [
      "0\n",
      "1\n",
      "3\n",
      "4\n",
      "2\n"
     ]
    }
   ],
   "source": [
    "DFS(Graph, '0',visited)"
   ]
  },
  {
   "cell_type": "code",
   "execution_count": 52,
   "metadata": {},
   "outputs": [],
   "source": [
    "visited= set()\n",
    "def DFS(graph,node,visited):\n",
    "    if node not in visited:\n",
    "        print(node)\n",
    "    visited.add(node)\n",
    "    for neighbour in graph[node]:\n",
    "        if neighbour not in visited:\n",
    "            DFS(graph,neighbour,visited)"
   ]
  },
  {
   "cell_type": "code",
   "execution_count": 53,
   "metadata": {},
   "outputs": [
    {
     "name": "stdout",
     "output_type": "stream",
     "text": [
      "0\n",
      "1\n",
      "4\n",
      "3\n",
      "2\n"
     ]
    }
   ],
   "source": [
    "Graph={\n",
    "    '0':set(['1','2']),\n",
    "    '1':set(['0','3','4']),\n",
    "    '2':set(['0']),\n",
    "    '3':set(['1']),\n",
    "    '4':set(['2','3'])\n",
    "}\n",
    "DFS(Graph, '0',visited)"
   ]
  },
  {
   "cell_type": "code",
   "execution_count": null,
   "metadata": {},
   "outputs": [],
   "source": [
    "# Actual o/p - 01432"
   ]
  },
  {
   "cell_type": "code",
   "execution_count": null,
   "metadata": {},
   "outputs": [],
   "source": [
    "# test result ..for numbers...we should use set"
   ]
  }
 ],
 "metadata": {
  "kernelspec": {
   "display_name": "Python 3",
   "language": "python",
   "name": "python3"
  },
  "language_info": {
   "codemirror_mode": {
    "name": "ipython",
    "version": 3
   },
   "file_extension": ".py",
   "mimetype": "text/x-python",
   "name": "python",
   "nbconvert_exporter": "python",
   "pygments_lexer": "ipython3",
   "version": "3.8.5"
  }
 },
 "nbformat": 4,
 "nbformat_minor": 4
}
