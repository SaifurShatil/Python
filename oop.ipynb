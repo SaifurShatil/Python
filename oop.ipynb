{
 "cells": [
  {
   "cell_type": "markdown",
   "metadata": {},
   "source": [
    "## class & object"
   ]
  },
  {
   "cell_type": "markdown",
   "metadata": {},
   "source": [
    "#object, class, encapsulation, abstraction, polymorphism\n",
    "#function-> method\n",
    "#class - > design\n",
    "#class have attributes (variables) & behaviour(methods)\n",
    "#object -> instance"
   ]
  },
  {
   "cell_type": "code",
   "execution_count": 1,
   "metadata": {},
   "outputs": [],
   "source": [
    "\n",
    "class Computer:\n",
    "    def config(self):\n",
    "        print('i5 16gb 1tb')"
   ]
  },
  {
   "cell_type": "code",
   "execution_count": 2,
   "metadata": {},
   "outputs": [],
   "source": [
    "com1= Computer()\n",
    "com2=Computer()"
   ]
  },
  {
   "cell_type": "code",
   "execution_count": 3,
   "metadata": {},
   "outputs": [
    {
     "name": "stdout",
     "output_type": "stream",
     "text": [
      "<class '__main__.Computer'>\n",
      "i5 16gb 1tb\n",
      "i5 16gb 1tb\n",
      "i5 16gb 1tb\n",
      "i5 16gb 1tb\n"
     ]
    }
   ],
   "source": [
    "print(type(com1))\n",
    "\n",
    "Computer.config(com1)\n",
    "com1.config()\n",
    "\n",
    "Computer.config(com2)\n",
    "com2.config()"
   ]
  },
  {
   "cell_type": "markdown",
   "metadata": {},
   "source": [
    "## __init__"
   ]
  },
  {
   "cell_type": "code",
   "execution_count": 4,
   "metadata": {},
   "outputs": [
    {
     "name": "stdout",
     "output_type": "stream",
     "text": [
      "config is:  i5 16\n",
      "config is:  Ryzen3 8\n"
     ]
    }
   ],
   "source": [
    "\n",
    "# special method(__init__)\n",
    "# to initialize variables\n",
    "# called automatically when obj created\n",
    "\n",
    "class Computer():\n",
    "    def __init__(self,cpu,ram):\n",
    "        self.cpu=cpu  # assign values to an obj\n",
    "        self.ram=ram\n",
    "\n",
    "    def config(self):\n",
    "        print('config is: ',self.cpu,self.ram)  # as cpu/ram is not a local variable (belongs to an object)\n",
    "\n",
    "com1=Computer('i5', 16)\n",
    "com2= Computer('Ryzen3', 8)\n",
    "\n",
    "com1.config()\n",
    "com2.config()"
   ]
  },
  {
   "cell_type": "markdown",
   "metadata": {},
   "source": [
    "## constructor"
   ]
  },
  {
   "cell_type": "code",
   "execution_count": 5,
   "metadata": {},
   "outputs": [
    {
     "name": "stdout",
     "output_type": "stream",
     "text": [
      "shatil\n",
      "shatil\n",
      "25\n",
      "24\n",
      "different\n"
     ]
    }
   ],
   "source": [
    "\n",
    "class computer():\n",
    "    def __init__(self):\n",
    "        self.name ='shatil'\n",
    "        self.age =24\n",
    "    def update(self): # self is directing to an object\n",
    "        self.age= 25\n",
    "    def compare(self ,other):\n",
    "        if self.age == other.age:\n",
    "            return True\n",
    "        else:\n",
    "            return False\n",
    "\n",
    "c1 =computer()\n",
    "c2 =computer()\n",
    "print(c1.name)\n",
    "print(c2.name)\n",
    "c2.name='rabbi'\n",
    "c1.update()\n",
    "print(c1.age)\n",
    "print(c2.age)\n",
    "\n",
    "if c1.compare(c2):\n",
    "    print('they ARE same')\n",
    "else:\n",
    "    print('different')"
   ]
  },
  {
   "cell_type": "markdown",
   "metadata": {},
   "source": [
    "## types of variables"
   ]
  },
  {
   "cell_type": "code",
   "execution_count": 6,
   "metadata": {},
   "outputs": [
    {
     "name": "stdout",
     "output_type": "stream",
     "text": [
      "bmw 8 4\n",
      "bmw 10 4\n",
      "bmw 8 5\n",
      "bmw 10 5\n"
     ]
    }
   ],
   "source": [
    "# 2 types\n",
    "# instance variable -> changes for each obj -> inside init\n",
    "# class(static variable) -> outside init\n",
    "\n",
    "class Car():\n",
    "    wheel=4 #static variable\n",
    "    def __init__(self):\n",
    "        self.mil=10  #\n",
    "        self.com='bmw' # instance var\n",
    "\n",
    "\n",
    "c1=Car()\n",
    "c2=Car()\n",
    "c1.mil=8\n",
    "\n",
    "print(c1.com,c1.mil,c1.wheel)\n",
    "print(c2.com,c2.mil,c2.wheel)\n",
    "\n",
    "Car.wheel=5\n",
    "print(c1.com,c1.mil,c1.wheel)\n",
    "print(c2.com,c2.mil,c2.wheel)"
   ]
  },
  {
   "cell_type": "markdown",
   "metadata": {},
   "source": [
    "## types of methods"
   ]
  },
  {
   "cell_type": "markdown",
   "metadata": {},
   "source": [
    "1. instance method\n",
    "   a. accessor methods (just fetch values) get\n",
    "   b. mutator methods (modify values) set\n",
    "2. class method\n",
    "3. static method"
   ]
  },
  {
   "cell_type": "code",
   "execution_count": 39,
   "metadata": {},
   "outputs": [],
   "source": [
    "class Student:\n",
    "    \n",
    "    school='ak high school'\n",
    "    \n",
    "    def __init__(self,m1,m2,m3):\n",
    "        self.m1 = m1\n",
    "        self.m2=m2\n",
    "        self.m3=m3\n",
    "    def avg(self):   #instance method as we are passing self\n",
    "        return (self.m1+self.m2+self.m3)/3\n",
    "    \n",
    "    def get_m1(self):  #getters accessor\n",
    "        return self.m1\n",
    "    \n",
    "    def set_m1(self,val):  #setters mutator\n",
    "        self.m1=val\n",
    "        \n",
    "    @classmethod    #decorator must be used for class method   \n",
    "    def getSchool(cls):  # class method (must be (cls), works with class variables)\n",
    "        return cls.school\n",
    "    \n",
    "    @staticmethod\n",
    "    def info():   # static method-> nothing inside () \n",
    "        print('This is static method')\n",
    "        \n",
    "    \n",
    "    \n",
    "    "
   ]
  },
  {
   "cell_type": "code",
   "execution_count": 40,
   "metadata": {},
   "outputs": [],
   "source": [
    "s1=Student(54,85,36)\n",
    "s2=Student(87,89,83)"
   ]
  },
  {
   "cell_type": "code",
   "execution_count": 27,
   "metadata": {},
   "outputs": [
    {
     "name": "stdout",
     "output_type": "stream",
     "text": [
      "58.333333333333336\n",
      "86.33333333333333\n"
     ]
    }
   ],
   "source": [
    "print(s1.avg())\n",
    "print(s2.avg())"
   ]
  },
  {
   "cell_type": "code",
   "execution_count": 28,
   "metadata": {},
   "outputs": [
    {
     "name": "stdout",
     "output_type": "stream",
     "text": [
      "54\n"
     ]
    }
   ],
   "source": [
    "print(s1.get_m1())"
   ]
  },
  {
   "cell_type": "code",
   "execution_count": 29,
   "metadata": {},
   "outputs": [],
   "source": [
    "s1.set_m1(80)"
   ]
  },
  {
   "cell_type": "code",
   "execution_count": 30,
   "metadata": {},
   "outputs": [
    {
     "name": "stdout",
     "output_type": "stream",
     "text": [
      "80\n"
     ]
    }
   ],
   "source": [
    "print(s1.get_m1())"
   ]
  },
  {
   "cell_type": "code",
   "execution_count": 41,
   "metadata": {},
   "outputs": [
    {
     "name": "stdout",
     "output_type": "stream",
     "text": [
      "ak high school\n"
     ]
    }
   ],
   "source": [
    "print(Student.getSchool())  #class method"
   ]
  },
  {
   "cell_type": "code",
   "execution_count": 44,
   "metadata": {},
   "outputs": [
    {
     "name": "stdout",
     "output_type": "stream",
     "text": [
      "This is static method\n"
     ]
    }
   ],
   "source": [
    "Student.info() #static method"
   ]
  },
  {
   "cell_type": "markdown",
   "metadata": {},
   "source": [
    "## Inner class"
   ]
  },
  {
   "cell_type": "code",
   "execution_count": 76,
   "metadata": {},
   "outputs": [],
   "source": [
    "class Student():\n",
    "    def __init__(self,name,roll):\n",
    "        self.name=name\n",
    "        self.roll=roll\n",
    "        self.lap= self.laptop() #create obj of inner class\n",
    "        \n",
    "    def show(self):\n",
    "        print(self.name, self.roll)\n",
    "        self.lap.show() #laptop data\n",
    "    \n",
    "    class laptop():\n",
    "        def __init__(self):\n",
    "            self.brand='hp'\n",
    "            self.cpu='i5'\n",
    "            self.ram=8\n",
    "        def show(self):\n",
    "            print(self.brand, self.cpu, self.ram)\n",
    "            \n",
    "    "
   ]
  },
  {
   "cell_type": "code",
   "execution_count": 77,
   "metadata": {},
   "outputs": [],
   "source": [
    "s1=Student('shatil',1)\n",
    "s2=Student('chandan',2)"
   ]
  },
  {
   "cell_type": "code",
   "execution_count": 78,
   "metadata": {},
   "outputs": [
    {
     "name": "stdout",
     "output_type": "stream",
     "text": [
      "shatil 1\n"
     ]
    }
   ],
   "source": [
    "print(s1.name,s1.roll)"
   ]
  },
  {
   "cell_type": "code",
   "execution_count": 79,
   "metadata": {},
   "outputs": [
    {
     "name": "stdout",
     "output_type": "stream",
     "text": [
      "shatil 1\n",
      "hp i5 8\n"
     ]
    }
   ],
   "source": [
    "s1.show() #student and laptop together"
   ]
  },
  {
   "cell_type": "code",
   "execution_count": 80,
   "metadata": {},
   "outputs": [
    {
     "data": {
      "text/plain": [
       "'hp'"
      ]
     },
     "execution_count": 80,
     "metadata": {},
     "output_type": "execute_result"
    }
   ],
   "source": [
    "s1.lap.brand"
   ]
  },
  {
   "cell_type": "code",
   "execution_count": 81,
   "metadata": {},
   "outputs": [],
   "source": [
    "lap1=s1.lap\n",
    "lap2=s2.lap"
   ]
  },
  {
   "cell_type": "code",
   "execution_count": 82,
   "metadata": {},
   "outputs": [
    {
     "name": "stdout",
     "output_type": "stream",
     "text": [
      "2371956126048\n",
      "2371955426016\n"
     ]
    }
   ],
   "source": [
    "print(id(lap1)) #different ids of diff objs\n",
    "print(id(lap2))"
   ]
  },
  {
   "cell_type": "code",
   "execution_count": 83,
   "metadata": {},
   "outputs": [
    {
     "name": "stdout",
     "output_type": "stream",
     "text": [
      "hp\n"
     ]
    }
   ],
   "source": [
    "print(lap1.brand)"
   ]
  },
  {
   "cell_type": "code",
   "execution_count": 84,
   "metadata": {},
   "outputs": [
    {
     "name": "stdout",
     "output_type": "stream",
     "text": [
      "hp i5 8\n"
     ]
    }
   ],
   "source": [
    "lap1.show()"
   ]
  },
  {
   "cell_type": "code",
   "execution_count": 85,
   "metadata": {},
   "outputs": [
    {
     "data": {
      "text/plain": [
       "'hp'"
      ]
     },
     "execution_count": 85,
     "metadata": {},
     "output_type": "execute_result"
    }
   ],
   "source": [
    "lap3=Student.laptop() #directly create obj of inner class outside of class\n",
    "lap3.brand"
   ]
  },
  {
   "cell_type": "code",
   "execution_count": 86,
   "metadata": {},
   "outputs": [
    {
     "name": "stdout",
     "output_type": "stream",
     "text": [
      "hp i5 8\n"
     ]
    }
   ],
   "source": [
    "lap3.show()"
   ]
  },
  {
   "cell_type": "markdown",
   "metadata": {},
   "source": [
    "## Inheritance"
   ]
  },
  {
   "cell_type": "code",
   "execution_count": 87,
   "metadata": {},
   "outputs": [],
   "source": [
    "class A:\n",
    "    def feature1(self):\n",
    "        print('feature 1')\n",
    "    def feature2(self):\n",
    "        print('feature 2')"
   ]
  },
  {
   "cell_type": "code",
   "execution_count": 94,
   "metadata": {},
   "outputs": [],
   "source": [
    "class B(A): #child class - single level inheritance\n",
    "    def feature3(self):\n",
    "        print('feature 3')\n",
    "    def feature4(self):\n",
    "        print('feature 4')"
   ]
  },
  {
   "cell_type": "code",
   "execution_count": 107,
   "metadata": {},
   "outputs": [],
   "source": [
    "class C(B): #multi level inheritance\n",
    "    def feature5(self):\n",
    "        print('feature 5')"
   ]
  },
  {
   "cell_type": "code",
   "execution_count": 108,
   "metadata": {},
   "outputs": [],
   "source": [
    "class D: \n",
    "    def feature6(self):\n",
    "        print('feature 6')"
   ]
  },
  {
   "cell_type": "code",
   "execution_count": 111,
   "metadata": {},
   "outputs": [],
   "source": [
    "class E(A,D): #multiple inhertance\n",
    "    def feature7(self):  # no relation between A&D\n",
    "        print('feature 7')"
   ]
  },
  {
   "cell_type": "code",
   "execution_count": 112,
   "metadata": {},
   "outputs": [],
   "source": [
    "a1=A()"
   ]
  },
  {
   "cell_type": "code",
   "execution_count": 113,
   "metadata": {},
   "outputs": [
    {
     "name": "stdout",
     "output_type": "stream",
     "text": [
      "feature 1\n",
      "feature 2\n"
     ]
    }
   ],
   "source": [
    "a1.feature1()\n",
    "a1.feature2()"
   ]
  },
  {
   "cell_type": "code",
   "execution_count": 114,
   "metadata": {},
   "outputs": [],
   "source": [
    "b1=B()"
   ]
  },
  {
   "cell_type": "code",
   "execution_count": 115,
   "metadata": {},
   "outputs": [
    {
     "name": "stdout",
     "output_type": "stream",
     "text": [
      "feature 1\n",
      "feature 3\n"
     ]
    }
   ],
   "source": [
    "b1.feature1()\n",
    "b1.feature3()"
   ]
  },
  {
   "cell_type": "code",
   "execution_count": 116,
   "metadata": {},
   "outputs": [],
   "source": [
    "c1=C()"
   ]
  },
  {
   "cell_type": "code",
   "execution_count": 117,
   "metadata": {},
   "outputs": [
    {
     "name": "stdout",
     "output_type": "stream",
     "text": [
      "feature 1\n",
      "feature 4\n",
      "feature 5\n"
     ]
    }
   ],
   "source": [
    "c1.feature1()\n",
    "c1.feature4()\n",
    "c1.feature5()"
   ]
  },
  {
   "cell_type": "code",
   "execution_count": 118,
   "metadata": {},
   "outputs": [
    {
     "name": "stdout",
     "output_type": "stream",
     "text": [
      "feature 1\n",
      "feature 6\n",
      "feature 7\n"
     ]
    }
   ],
   "source": [
    "e1=E()\n",
    "e1.feature1()\n",
    "e1.feature6()\n",
    "e1.feature7()"
   ]
  },
  {
   "cell_type": "code",
   "execution_count": null,
   "metadata": {},
   "outputs": [],
   "source": []
  },
  {
   "cell_type": "markdown",
   "metadata": {},
   "source": [
    "#  Constructor in Inheritance"
   ]
  },
  {
   "cell_type": "code",
   "execution_count": 126,
   "metadata": {},
   "outputs": [],
   "source": [
    "class A:\n",
    "    def __init__(self):\n",
    "        print('in A init')\n",
    "    def feature1(self):\n",
    "        print('feature 1')\n",
    "    def feature2(self):\n",
    "        print('feature 2')"
   ]
  },
  {
   "cell_type": "code",
   "execution_count": 130,
   "metadata": {},
   "outputs": [],
   "source": [
    "class B(A): \n",
    "    def feature3(self):\n",
    "        print('feature 3')\n",
    "    def feature4(self):\n",
    "        print('feature 4')"
   ]
  },
  {
   "cell_type": "code",
   "execution_count": 131,
   "metadata": {},
   "outputs": [
    {
     "name": "stdout",
     "output_type": "stream",
     "text": [
      "in A init\n"
     ]
    }
   ],
   "source": [
    "a1 = A()"
   ]
  },
  {
   "cell_type": "code",
   "execution_count": 132,
   "metadata": {},
   "outputs": [
    {
     "name": "stdout",
     "output_type": "stream",
     "text": [
      "in A init\n"
     ]
    }
   ],
   "source": [
    "b1=B()"
   ]
  },
  {
   "cell_type": "code",
   "execution_count": 133,
   "metadata": {},
   "outputs": [],
   "source": [
    "class B(A): \n",
    "    def __init__(self):\n",
    "        print('in B init')\n",
    "    def feature3(self):\n",
    "        print('feature 3')\n",
    "    def feature4(self):\n",
    "        print('feature 4')"
   ]
  },
  {
   "cell_type": "code",
   "execution_count": 134,
   "metadata": {},
   "outputs": [
    {
     "name": "stdout",
     "output_type": "stream",
     "text": [
      "in B init\n"
     ]
    }
   ],
   "source": [
    "b2=B() #first it will try to find init of B else it will go for A"
   ]
  },
  {
   "cell_type": "code",
   "execution_count": 137,
   "metadata": {},
   "outputs": [],
   "source": [
    "class B(A):  \n",
    "    def __init__(self):\n",
    "        super().__init__() #using super u can accress all features of parent class\n",
    "        print('in B init')\n",
    "    def feature3(self):\n",
    "        print('feature 3')\n",
    "    def feature4(self):\n",
    "        print('feature 4')"
   ]
  },
  {
   "cell_type": "code",
   "execution_count": 138,
   "metadata": {},
   "outputs": [
    {
     "name": "stdout",
     "output_type": "stream",
     "text": [
      "in A init\n",
      "in B init\n"
     ]
    }
   ],
   "source": [
    "b3=B()"
   ]
  },
  {
   "cell_type": "code",
   "execution_count": 139,
   "metadata": {},
   "outputs": [],
   "source": []
  },
  {
   "cell_type": "markdown",
   "metadata": {},
   "source": [
    "Method resolution order: for multiple inheritance always starts from left to right. (for classes and methods)"
   ]
  },
  {
   "cell_type": "code",
   "execution_count": 144,
   "metadata": {},
   "outputs": [],
   "source": [
    "class A:\n",
    "    def __init__(self):\n",
    "        print('in A init')\n",
    "    def feature1(self):\n",
    "        print('feature 1A')\n",
    "    def feature2(self):\n",
    "        print('feature 2')"
   ]
  },
  {
   "cell_type": "code",
   "execution_count": 145,
   "metadata": {},
   "outputs": [],
   "source": [
    "class B: \n",
    "    def __init__(self):\n",
    "        print('in B init')\n",
    "    def feature1(self):\n",
    "        print('feature 1B')\n",
    "    def feature4(self):\n",
    "        print('feature 4')"
   ]
  },
  {
   "cell_type": "code",
   "execution_count": 149,
   "metadata": {},
   "outputs": [],
   "source": [
    "class C(A,B):\n",
    "    def __init__(self):\n",
    "        super().__init__() #left is A\n",
    "        print(\"In C init\")\n",
    "    def fet(self):\n",
    "        super().feature2() # use of super method to call other methods, not just init\n",
    "        "
   ]
  },
  {
   "cell_type": "code",
   "execution_count": 150,
   "metadata": {},
   "outputs": [
    {
     "name": "stdout",
     "output_type": "stream",
     "text": [
      "in A init\n",
      "In C init\n"
     ]
    }
   ],
   "source": [
    "c1=C()"
   ]
  },
  {
   "cell_type": "code",
   "execution_count": 153,
   "metadata": {},
   "outputs": [
    {
     "name": "stdout",
     "output_type": "stream",
     "text": [
      "feature 1A\n"
     ]
    }
   ],
   "source": [
    "c1.feature1() # As left is class A method 1A"
   ]
  },
  {
   "cell_type": "code",
   "execution_count": 154,
   "metadata": {},
   "outputs": [
    {
     "name": "stdout",
     "output_type": "stream",
     "text": [
      "feature 2\n"
     ]
    }
   ],
   "source": [
    "c1.fet()"
   ]
  },
  {
   "cell_type": "markdown",
   "metadata": {},
   "source": [
    "## Polymorphism ( duck typing, op overloading, method overloading & overriding) "
   ]
  },
  {
   "cell_type": "markdown",
   "metadata": {},
   "source": [
    "### Duck Typing"
   ]
  },
  {
   "cell_type": "code",
   "execution_count": 161,
   "metadata": {},
   "outputs": [],
   "source": [
    "class PyCharm:\n",
    "    def execute(self):\n",
    "        print('compiling')\n",
    "        print('running')"
   ]
  },
  {
   "cell_type": "code",
   "execution_count": 166,
   "metadata": {},
   "outputs": [],
   "source": [
    "class Myeditor:\n",
    "    def execute(self):\n",
    "        print('spell check')\n",
    "        print('convention check')\n",
    "        print('compiling')\n",
    "        print('running')"
   ]
  },
  {
   "cell_type": "code",
   "execution_count": 162,
   "metadata": {},
   "outputs": [],
   "source": [
    "class Laptop:\n",
    "    def code(self,ide):\n",
    "        ide.execute()"
   ]
  },
  {
   "cell_type": "code",
   "execution_count": 169,
   "metadata": {},
   "outputs": [],
   "source": [
    "ide=PyCharm()"
   ]
  },
  {
   "cell_type": "code",
   "execution_count": 170,
   "metadata": {},
   "outputs": [
    {
     "name": "stdout",
     "output_type": "stream",
     "text": [
      "compiling\n",
      "running\n"
     ]
    }
   ],
   "source": [
    "lap1=Laptop()\n",
    "lap1.code(ide)"
   ]
  },
  {
   "cell_type": "code",
   "execution_count": 171,
   "metadata": {},
   "outputs": [],
   "source": [
    "ide=Myeditor()"
   ]
  },
  {
   "cell_type": "code",
   "execution_count": 172,
   "metadata": {},
   "outputs": [
    {
     "name": "stdout",
     "output_type": "stream",
     "text": [
      "spell check\n",
      "convention check\n",
      "compiling\n",
      "running\n"
     ]
    }
   ],
   "source": [
    "lap1=Laptop()\n",
    "lap1.code(ide)"
   ]
  },
  {
   "cell_type": "markdown",
   "metadata": {},
   "source": [
    "if there is an object ide with a method execute, we r not concerned about which class object it is. what we are concerned about it should have execute method."
   ]
  },
  {
   "cell_type": "markdown",
   "metadata": {},
   "source": [
    "## operator overloading"
   ]
  },
  {
   "cell_type": "code",
   "execution_count": 209,
   "metadata": {},
   "outputs": [],
   "source": [
    "class Student:\n",
    "    def __init__(self,m1,m2):\n",
    "        self.m1=m1\n",
    "        self.m2=m2\n",
    "        \n",
    "    def __add__(self,other): # + overloading to add 2 objects(students)\n",
    "        m1= self.m1+other.m1\n",
    "        m2=self.m2+other.m2\n",
    "        s3=Student(m1,m2)\n",
    "        return s3 #return the obj of student\n",
    "    \n",
    "    def __gt__(self,other): # > greater than overload\n",
    "        r1=self.m1+self.m2\n",
    "        r2=self.m1+self.m2\n",
    "        if r1>r2:\n",
    "            return True\n",
    "        else:\n",
    "            return False\n",
    "    def __str__(self):\n",
    "        return '{} {}'.format( self.m1,self.m2)\n",
    "        "
   ]
  },
  {
   "cell_type": "code",
   "execution_count": 210,
   "metadata": {},
   "outputs": [],
   "source": [
    "s1=Student(56,87)\n",
    "s2=Student(98,87)"
   ]
  },
  {
   "cell_type": "code",
   "execution_count": 211,
   "metadata": {},
   "outputs": [
    {
     "name": "stdout",
     "output_type": "stream",
     "text": [
      "154\n"
     ]
    }
   ],
   "source": [
    "s3=s1+s2 #Student.__add__(s1,s2) # (self,other)\n",
    "print(s3.m1)"
   ]
  },
  {
   "cell_type": "code",
   "execution_count": 212,
   "metadata": {},
   "outputs": [
    {
     "name": "stdout",
     "output_type": "stream",
     "text": [
      "s2 wins\n"
     ]
    }
   ],
   "source": [
    "if s1>s2: #greater than overload\n",
    "    print('s1 wins')\n",
    "else:\n",
    "    print('s2 wins')"
   ]
  },
  {
   "cell_type": "markdown",
   "metadata": {},
   "source": [
    "if you want to perfrom any operations on user defined objects u need to define all these methods"
   ]
  },
  {
   "cell_type": "code",
   "execution_count": 217,
   "metadata": {},
   "outputs": [
    {
     "name": "stdout",
     "output_type": "stream",
     "text": [
      "9\n",
      "9\n",
      "56 87\n",
      "56 87\n",
      "98 87\n"
     ]
    }
   ],
   "source": [
    "a=9\n",
    "print(a) #every time it calls str to get the value\n",
    "print(a.__str__()) #behind the scene #builtin\n",
    "print(s1) #without overloading returns address # auto call __str__\n",
    "print(s1.__str__()) #overloaded\n",
    "print(s2)"
   ]
  },
  {
   "cell_type": "markdown",
   "metadata": {},
   "source": [
    "## Method overloading and overriding"
   ]
  },
  {
   "cell_type": "markdown",
   "metadata": {},
   "source": [
    "op overloading: same method name but arguments are        diferent,no of arguments or type of arguments.\n",
    "\n",
    "method overloading: same . in python theres no method overloading as we cant declare same method name\n",
    "\n",
    "method overriding: same method name, same parameters. but cant do in same class. must be done in another class. can be implemented using inhertance."
   ]
  },
  {
   "cell_type": "code",
   "execution_count": 236,
   "metadata": {},
   "outputs": [],
   "source": [
    "class Student:\n",
    "    def __init__(self,m1,m2):\n",
    "        self.m1=m1\n",
    "        self.m2=m2\n",
    "    def sum(self,a=0,b=0,c=0):  # sort of overloading \n",
    "        s=0\n",
    "        if a!= 0 and b!=0 and c!=0:  \n",
    "            s=a+b+c\n",
    "        elif a!= 0 and b!=0:\n",
    "            s=a+b\n",
    "        else:\n",
    "            s=a\n",
    "        return s"
   ]
  },
  {
   "cell_type": "code",
   "execution_count": 237,
   "metadata": {},
   "outputs": [],
   "source": [
    "s1=Student(32,65)"
   ]
  },
  {
   "cell_type": "code",
   "execution_count": 241,
   "metadata": {},
   "outputs": [
    {
     "name": "stdout",
     "output_type": "stream",
     "text": [
      "7\n",
      "16\n",
      "2\n"
     ]
    }
   ],
   "source": [
    "print(s1.sum(3,4))\n",
    "print(s1.sum(3,4,9))\n",
    "print(s1.sum(2))"
   ]
  },
  {
   "cell_type": "code",
   "execution_count": 242,
   "metadata": {},
   "outputs": [],
   "source": [
    "####overriding\n",
    "\n",
    "class A:\n",
    "    def show(self):\n",
    "        print(\"In A show\")"
   ]
  },
  {
   "cell_type": "code",
   "execution_count": 257,
   "metadata": {},
   "outputs": [],
   "source": [
    "class B(A):\n",
    "    def show(self): #overrides A show\n",
    "        print('In B show')"
   ]
  },
  {
   "cell_type": "code",
   "execution_count": 258,
   "metadata": {},
   "outputs": [],
   "source": [
    "a1=A()"
   ]
  },
  {
   "cell_type": "code",
   "execution_count": 259,
   "metadata": {},
   "outputs": [
    {
     "name": "stdout",
     "output_type": "stream",
     "text": [
      "In A show\n"
     ]
    }
   ],
   "source": [
    "a1.show()"
   ]
  },
  {
   "cell_type": "code",
   "execution_count": 260,
   "metadata": {},
   "outputs": [],
   "source": [
    "b1=B()"
   ]
  },
  {
   "cell_type": "code",
   "execution_count": 261,
   "metadata": {},
   "outputs": [
    {
     "name": "stdout",
     "output_type": "stream",
     "text": [
      "In B show\n"
     ]
    }
   ],
   "source": [
    "b1.show()"
   ]
  },
  {
   "cell_type": "markdown",
   "metadata": {},
   "source": [
    "## Iterator"
   ]
  },
  {
   "cell_type": "code",
   "execution_count": null,
   "metadata": {},
   "outputs": [],
   "source": []
  },
  {
   "cell_type": "code",
   "execution_count": 295,
   "metadata": {},
   "outputs": [],
   "source": [
    "nums=[3,4,6,7]"
   ]
  },
  {
   "cell_type": "code",
   "execution_count": 296,
   "metadata": {},
   "outputs": [
    {
     "name": "stdout",
     "output_type": "stream",
     "text": [
      "3\n",
      "4\n",
      "6\n",
      "7\n"
     ]
    }
   ],
   "source": [
    "for i in nums:\n",
    "    print(i)"
   ]
  },
  {
   "cell_type": "code",
   "execution_count": 297,
   "metadata": {},
   "outputs": [],
   "source": [
    "it = iter(nums) #converts list to iterator, gives one value at a time"
   ]
  },
  {
   "cell_type": "code",
   "execution_count": 298,
   "metadata": {},
   "outputs": [
    {
     "name": "stdout",
     "output_type": "stream",
     "text": [
      "3\n",
      "4\n"
     ]
    }
   ],
   "source": [
    "print(it.__next__())\n",
    "print(next(it))"
   ]
  },
  {
   "cell_type": "code",
   "execution_count": 299,
   "metadata": {},
   "outputs": [
    {
     "name": "stdout",
     "output_type": "stream",
     "text": [
      "3\n",
      "4\n",
      "6\n",
      "7\n"
     ]
    }
   ],
   "source": [
    "for i in nums: #will repeat\n",
    "    print(i)"
   ]
  },
  {
   "cell_type": "code",
   "execution_count": 300,
   "metadata": {},
   "outputs": [],
   "source": [
    "class TopTen:\n",
    "    def __init__(self):\n",
    "        self.num=1\n",
    "    def __iter__(self):\n",
    "        return self\n",
    "    def __next__(self):\n",
    "        if self.num<=10:\n",
    "            val=self.num\n",
    "            self.num+=1\n",
    "            return val\n",
    "        else:\n",
    "            raise StopIteration #exception to stop iteration"
   ]
  },
  {
   "cell_type": "code",
   "execution_count": 301,
   "metadata": {},
   "outputs": [],
   "source": [
    "values=TopTen()"
   ]
  },
  {
   "cell_type": "code",
   "execution_count": 302,
   "metadata": {},
   "outputs": [
    {
     "name": "stdout",
     "output_type": "stream",
     "text": [
      "1\n"
     ]
    }
   ],
   "source": [
    "print(next(values))"
   ]
  },
  {
   "cell_type": "code",
   "execution_count": 303,
   "metadata": {},
   "outputs": [
    {
     "name": "stdout",
     "output_type": "stream",
     "text": [
      "2\n"
     ]
    }
   ],
   "source": [
    "print(values.__next__())"
   ]
  },
  {
   "cell_type": "code",
   "execution_count": 304,
   "metadata": {},
   "outputs": [
    {
     "name": "stdout",
     "output_type": "stream",
     "text": [
      "3\n",
      "4\n",
      "5\n",
      "6\n",
      "7\n",
      "8\n",
      "9\n",
      "10\n"
     ]
    }
   ],
   "source": [
    "for i in values: #will not repeat\n",
    "    print(i)"
   ]
  },
  {
   "cell_type": "markdown",
   "metadata": {},
   "source": [
    "## Generators"
   ]
  },
  {
   "cell_type": "code",
   "execution_count": 309,
   "metadata": {},
   "outputs": [],
   "source": [
    "def TopTen():\n",
    "    yield 5 #yield will make a function as generator \n",
    "    yield 4\n",
    "    yield 2\n",
    "    yield 3"
   ]
  },
  {
   "cell_type": "code",
   "execution_count": 310,
   "metadata": {},
   "outputs": [],
   "source": [
    "values = TopTen()"
   ]
  },
  {
   "cell_type": "code",
   "execution_count": 311,
   "metadata": {},
   "outputs": [
    {
     "name": "stdout",
     "output_type": "stream",
     "text": [
      "<generator object TopTen at 0x0000022843A2FA50>\n"
     ]
    }
   ],
   "source": [
    "print(values)"
   ]
  },
  {
   "cell_type": "code",
   "execution_count": 312,
   "metadata": {},
   "outputs": [
    {
     "name": "stdout",
     "output_type": "stream",
     "text": [
      "5\n"
     ]
    }
   ],
   "source": [
    "print(values.__next__())"
   ]
  },
  {
   "cell_type": "code",
   "execution_count": 313,
   "metadata": {},
   "outputs": [
    {
     "name": "stdout",
     "output_type": "stream",
     "text": [
      "4\n"
     ]
    }
   ],
   "source": [
    "print(values.__next__())"
   ]
  },
  {
   "cell_type": "code",
   "execution_count": 314,
   "metadata": {},
   "outputs": [
    {
     "name": "stdout",
     "output_type": "stream",
     "text": [
      "2\n",
      "3\n"
     ]
    }
   ],
   "source": [
    "for i in values:\n",
    "    print(i)"
   ]
  },
  {
   "cell_type": "markdown",
   "metadata": {},
   "source": [
    "iterator using generator"
   ]
  },
  {
   "cell_type": "code",
   "execution_count": 315,
   "metadata": {},
   "outputs": [],
   "source": [
    "def topten():\n",
    "    n = 1\n",
    "    while n<=10:\n",
    "        sq=n*n\n",
    "        yield sq #to work with one value at a time as it returns one value at a time. efficient memeory usage rather than loading whole llist into memory \n",
    "        n+=1"
   ]
  },
  {
   "cell_type": "code",
   "execution_count": 316,
   "metadata": {},
   "outputs": [],
   "source": [
    "values=topten()"
   ]
  },
  {
   "cell_type": "code",
   "execution_count": 317,
   "metadata": {},
   "outputs": [
    {
     "name": "stdout",
     "output_type": "stream",
     "text": [
      "1\n",
      "4\n",
      "9\n",
      "16\n",
      "25\n",
      "36\n",
      "49\n",
      "64\n",
      "81\n",
      "100\n"
     ]
    }
   ],
   "source": [
    "for i in values:\n",
    "    print(i)"
   ]
  },
  {
   "cell_type": "code",
   "execution_count": null,
   "metadata": {},
   "outputs": [],
   "source": []
  },
  {
   "cell_type": "code",
   "execution_count": null,
   "metadata": {},
   "outputs": [],
   "source": []
  },
  {
   "cell_type": "code",
   "execution_count": null,
   "metadata": {},
   "outputs": [],
   "source": []
  }
 ],
 "metadata": {
  "kernelspec": {
   "display_name": "Python 3",
   "language": "python",
   "name": "python3"
  },
  "language_info": {
   "codemirror_mode": {
    "name": "ipython",
    "version": 3
   },
   "file_extension": ".py",
   "mimetype": "text/x-python",
   "name": "python",
   "nbconvert_exporter": "python",
   "pygments_lexer": "ipython3",
   "version": "3.8.5"
  }
 },
 "nbformat": 4,
 "nbformat_minor": 4
}
