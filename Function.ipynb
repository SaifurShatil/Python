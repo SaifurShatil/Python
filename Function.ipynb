{
 "cells": [
  {
   "cell_type": "code",
   "execution_count": 1,
   "metadata": {},
   "outputs": [],
   "source": [
    "from numpy import *"
   ]
  },
  {
   "cell_type": "code",
   "execution_count": 2,
   "metadata": {},
   "outputs": [],
   "source": [
    "def greet():\n",
    "    print('hello')\n",
    "    print('good morning')"
   ]
  },
  {
   "cell_type": "code",
   "execution_count": 3,
   "metadata": {},
   "outputs": [
    {
     "name": "stdout",
     "output_type": "stream",
     "text": [
      "hello\n",
      "good morning\n"
     ]
    }
   ],
   "source": [
    "greet()"
   ]
  },
  {
   "cell_type": "code",
   "execution_count": 4,
   "metadata": {},
   "outputs": [],
   "source": [
    "def add(x,y):\n",
    "    c=x+y\n",
    "    print(c)\n",
    "    "
   ]
  },
  {
   "cell_type": "code",
   "execution_count": 6,
   "metadata": {},
   "outputs": [
    {
     "name": "stdout",
     "output_type": "stream",
     "text": [
      "9\n"
     ]
    }
   ],
   "source": [
    "add(5,4)"
   ]
  },
  {
   "cell_type": "code",
   "execution_count": 7,
   "metadata": {},
   "outputs": [],
   "source": [
    "def add(x,y):\n",
    "    c=x+y\n",
    "    return c"
   ]
  },
  {
   "cell_type": "code",
   "execution_count": 10,
   "metadata": {},
   "outputs": [
    {
     "name": "stdout",
     "output_type": "stream",
     "text": [
      "9\n"
     ]
    }
   ],
   "source": [
    "res = add(5,4)\n",
    "print(res)"
   ]
  },
  {
   "cell_type": "code",
   "execution_count": 11,
   "metadata": {},
   "outputs": [],
   "source": [
    "def add_sub(x,y):\n",
    "    c=x+y\n",
    "    d=x-y\n",
    "    return c,d"
   ]
  },
  {
   "cell_type": "code",
   "execution_count": 12,
   "metadata": {},
   "outputs": [
    {
     "name": "stdout",
     "output_type": "stream",
     "text": [
      "9 1\n"
     ]
    }
   ],
   "source": [
    "a,s = add_sub(5,4)\n",
    "print(a,s)"
   ]
  },
  {
   "cell_type": "markdown",
   "metadata": {},
   "source": [
    "## function arguments: mutable & immutable"
   ]
  },
  {
   "cell_type": "code",
   "execution_count": 23,
   "metadata": {},
   "outputs": [],
   "source": [
    "def update(x):\n",
    "    print('before',id(x))\n",
    "    x=8\n",
    "    print('after',id(x))\n",
    "    print(\"x \",x)"
   ]
  },
  {
   "cell_type": "code",
   "execution_count": 25,
   "metadata": {},
   "outputs": [
    {
     "name": "stdout",
     "output_type": "stream",
     "text": [
      "before 140733993396288\n",
      "after 140733993396224\n",
      "x  8\n"
     ]
    }
   ],
   "source": [
    "update(10)"
   ]
  },
  {
   "cell_type": "code",
   "execution_count": 24,
   "metadata": {},
   "outputs": [
    {
     "name": "stdout",
     "output_type": "stream",
     "text": [
      "a 140733993396288\n",
      "before 140733993396288\n",
      "after 140733993396224\n",
      "x  8\n",
      "a  10\n"
     ]
    }
   ],
   "source": [
    "a=10\n",
    "print(\"a\",id(a))\n",
    "update(a)\n",
    "print('a ',a)"
   ]
  },
  {
   "cell_type": "code",
   "execution_count": 27,
   "metadata": {},
   "outputs": [],
   "source": [
    "def update(x):\n",
    "    print('before',id(x))\n",
    "    x[1]=25\n",
    "    print('after',id(x))\n",
    "    print(\"x \",x)"
   ]
  },
  {
   "cell_type": "code",
   "execution_count": 29,
   "metadata": {},
   "outputs": [
    {
     "name": "stdout",
     "output_type": "stream",
     "text": [
      "lst 1858796869312\n",
      "before 1858796869312\n",
      "after 1858796869312\n",
      "x  [10, 25, 30]\n",
      "after lst 1858796869312\n",
      "lst [10, 25, 30]\n"
     ]
    }
   ],
   "source": [
    "lst=[10,20,30]\n",
    "print('lst',id(lst))\n",
    "update(lst)\n",
    "print('after lst',id(lst))\n",
    "print('lst',lst)"
   ]
  },
  {
   "cell_type": "markdown",
   "metadata": {},
   "source": [
    "## types of arguments: position, keyword, deault, variable length"
   ]
  },
  {
   "cell_type": "code",
   "execution_count": 30,
   "metadata": {},
   "outputs": [],
   "source": [
    "def add(a,b): #formal arguments a,b\n",
    "    c=a+b\n",
    "    print(c)\n",
    "    "
   ]
  },
  {
   "cell_type": "code",
   "execution_count": 31,
   "metadata": {},
   "outputs": [
    {
     "name": "stdout",
     "output_type": "stream",
     "text": [
      "78\n"
     ]
    }
   ],
   "source": [
    "add(19,59) #actual arguments(4 types)"
   ]
  },
  {
   "cell_type": "code",
   "execution_count": 36,
   "metadata": {},
   "outputs": [],
   "source": [
    "def person(name,age=18): #default age\n",
    "    print(name)\n",
    "    print(age)"
   ]
  },
  {
   "cell_type": "code",
   "execution_count": 37,
   "metadata": {},
   "outputs": [
    {
     "name": "stdout",
     "output_type": "stream",
     "text": [
      "shatil\n",
      "24\n"
     ]
    }
   ],
   "source": [
    "person('shatil',24) #position arg: maintain sequence"
   ]
  },
  {
   "cell_type": "code",
   "execution_count": 34,
   "metadata": {},
   "outputs": [
    {
     "name": "stdout",
     "output_type": "stream",
     "text": [
      "shatil\n",
      "25\n"
     ]
    }
   ],
   "source": [
    "person(age=25,name='shatil') #keyword arg"
   ]
  },
  {
   "cell_type": "code",
   "execution_count": 38,
   "metadata": {},
   "outputs": [
    {
     "name": "stdout",
     "output_type": "stream",
     "text": [
      "shatil\n",
      "18\n"
     ]
    }
   ],
   "source": [
    "#default arg\n",
    "person('shatil')"
   ]
  },
  {
   "cell_type": "code",
   "execution_count": 43,
   "metadata": {},
   "outputs": [],
   "source": [
    "#variable length argument\n",
    "def sum(a,*b):#*b means it can accept multi values\n",
    "    \n",
    "    print(a)\n",
    "    print(b)\n",
    "    c=a\n",
    "    for i in b:\n",
    "        c=c+i\n",
    "    print(c)"
   ]
  },
  {
   "cell_type": "code",
   "execution_count": 44,
   "metadata": {},
   "outputs": [
    {
     "name": "stdout",
     "output_type": "stream",
     "text": [
      "5\n",
      "(6, 76, 43)\n",
      "130\n"
     ]
    }
   ],
   "source": [
    "sum(5,6,76,43)"
   ]
  },
  {
   "cell_type": "code",
   "execution_count": 45,
   "metadata": {},
   "outputs": [],
   "source": [
    "#variable length argument\n",
    "def sum(*b):#*b means it can accept multi values\n",
    "    c=0\n",
    "    for i in b:\n",
    "        c=c+i\n",
    "    print(c)"
   ]
  },
  {
   "cell_type": "code",
   "execution_count": 46,
   "metadata": {},
   "outputs": [
    {
     "name": "stdout",
     "output_type": "stream",
     "text": [
      "130\n"
     ]
    }
   ],
   "source": [
    "sum(5,6,76,43)"
   ]
  },
  {
   "cell_type": "markdown",
   "metadata": {},
   "source": [
    "## **kwargs : keyworded variable length arguments"
   ]
  },
  {
   "cell_type": "code",
   "execution_count": 52,
   "metadata": {},
   "outputs": [],
   "source": [
    "def person(name, *data):\n",
    "    print(name)\n",
    "    print(data)\n",
    "    "
   ]
  },
  {
   "cell_type": "code",
   "execution_count": 53,
   "metadata": {},
   "outputs": [
    {
     "name": "stdout",
     "output_type": "stream",
     "text": [
      "shatil\n",
      "(28, 'Amtali', 92838)\n"
     ]
    }
   ],
   "source": [
    "person('shatil',28,'Amtali',92838)"
   ]
  },
  {
   "cell_type": "code",
   "execution_count": 56,
   "metadata": {},
   "outputs": [],
   "source": [
    "def person(name, **data):\n",
    "    print(name)\n",
    "    print(data)\n",
    "    for i,j in data.items():\n",
    "        print(i,j)\n",
    "    "
   ]
  },
  {
   "cell_type": "code",
   "execution_count": 57,
   "metadata": {},
   "outputs": [
    {
     "name": "stdout",
     "output_type": "stream",
     "text": [
      "shatil\n",
      "{'age': 28, 'city': 'Amtali', 'mob': 92838}\n",
      "age 28\n",
      "city Amtali\n",
      "mob 92838\n"
     ]
    }
   ],
   "source": [
    "person('shatil',age=28,city='Amtali',mob=92838)"
   ]
  },
  {
   "cell_type": "markdown",
   "metadata": {},
   "source": [
    "## global keyword : global a, globals()['a']"
   ]
  },
  {
   "cell_type": "code",
   "execution_count": 88,
   "metadata": {},
   "outputs": [],
   "source": [
    "a=10"
   ]
  },
  {
   "cell_type": "code",
   "execution_count": 59,
   "metadata": {},
   "outputs": [],
   "source": [
    "def something():\n",
    "    a=15 #reassign value, local variable\n",
    "    print(a)"
   ]
  },
  {
   "cell_type": "code",
   "execution_count": 61,
   "metadata": {},
   "outputs": [
    {
     "name": "stdout",
     "output_type": "stream",
     "text": [
      "15\n"
     ]
    }
   ],
   "source": [
    "something()"
   ]
  },
  {
   "cell_type": "code",
   "execution_count": 60,
   "metadata": {},
   "outputs": [
    {
     "name": "stdout",
     "output_type": "stream",
     "text": [
      "10\n"
     ]
    }
   ],
   "source": [
    "print(a)"
   ]
  },
  {
   "cell_type": "code",
   "execution_count": 89,
   "metadata": {},
   "outputs": [],
   "source": [
    "def something():\n",
    "    global a\n",
    "    a=15\n",
    "    print(a)"
   ]
  },
  {
   "cell_type": "code",
   "execution_count": 90,
   "metadata": {},
   "outputs": [
    {
     "name": "stdout",
     "output_type": "stream",
     "text": [
      "15\n"
     ]
    }
   ],
   "source": [
    "something()"
   ]
  },
  {
   "cell_type": "code",
   "execution_count": 91,
   "metadata": {},
   "outputs": [
    {
     "name": "stdout",
     "output_type": "stream",
     "text": [
      "15\n"
     ]
    }
   ],
   "source": [
    "print(a) #global a changed"
   ]
  },
  {
   "cell_type": "code",
   "execution_count": 84,
   "metadata": {},
   "outputs": [
    {
     "name": "stdout",
     "output_type": "stream",
     "text": [
      "140733993396288\n"
     ]
    }
   ],
   "source": [
    "a=10\n",
    "print(id(a))"
   ]
  },
  {
   "cell_type": "code",
   "execution_count": 85,
   "metadata": {},
   "outputs": [],
   "source": [
    "def something():  #global , local together\n",
    "    a=9      #local\n",
    "    print('local',a)\n",
    "    print('local id',id(a))\n",
    "    x=globals()['a'] # global a\n",
    "    print('g id',id(x))\n",
    "    print('global',x)\n",
    "    globals()['a']=15 # change global value\n",
    "    "
   ]
  },
  {
   "cell_type": "code",
   "execution_count": 86,
   "metadata": {},
   "outputs": [
    {
     "name": "stdout",
     "output_type": "stream",
     "text": [
      "local 9\n",
      "local id 140733993396256\n",
      "g id 140733993396288\n",
      "global 10\n"
     ]
    }
   ],
   "source": [
    "something()"
   ]
  },
  {
   "cell_type": "code",
   "execution_count": 87,
   "metadata": {},
   "outputs": [
    {
     "name": "stdout",
     "output_type": "stream",
     "text": [
      "15\n"
     ]
    }
   ],
   "source": [
    "print(a) #global value changed"
   ]
  },
  {
   "cell_type": "markdown",
   "metadata": {},
   "source": [
    "## passing list to a function"
   ]
  },
  {
   "cell_type": "code",
   "execution_count": 94,
   "metadata": {},
   "outputs": [],
   "source": [
    "def count(lst):\n",
    "    even=0\n",
    "    odd=0\n",
    "    \n",
    "    for i in lst:\n",
    "        if i%2==0:\n",
    "            even+=1\n",
    "        else:\n",
    "            odd+=1\n",
    "    return even, odd"
   ]
  },
  {
   "cell_type": "code",
   "execution_count": 95,
   "metadata": {},
   "outputs": [
    {
     "name": "stdout",
     "output_type": "stream",
     "text": [
      "6 3\n"
     ]
    }
   ],
   "source": [
    "lst=[20,25,4,19,16,24,28,47,26]\n",
    "even,odd=count(lst)\n",
    "print(even, odd)"
   ]
  },
  {
   "cell_type": "code",
   "execution_count": 96,
   "metadata": {},
   "outputs": [
    {
     "name": "stdout",
     "output_type": "stream",
     "text": [
      "Even: 6 and Odd: 3\n"
     ]
    }
   ],
   "source": [
    "print(\"Even: {} and Odd: {}\".format(even,odd))"
   ]
  },
  {
   "cell_type": "markdown",
   "metadata": {},
   "source": [
    "## fibonacci"
   ]
  },
  {
   "cell_type": "code",
   "execution_count": 30,
   "metadata": {},
   "outputs": [],
   "source": [
    "def fib(n):\n",
    "    a=0\n",
    "    b=1\n",
    "    \n",
    "    if n==1:\n",
    "        print(a)\n",
    "    elif n<0:\n",
    "        print('invalid')\n",
    "    else:\n",
    "        print(a)\n",
    "        print(b)\n",
    "    \n",
    "        for i in range(2,n):\n",
    "            c=a+b\n",
    "            a=b\n",
    "            b=c\n",
    "            print(c)\n",
    "        "
   ]
  },
  {
   "cell_type": "code",
   "execution_count": 31,
   "metadata": {},
   "outputs": [
    {
     "name": "stdout",
     "output_type": "stream",
     "text": [
      "0\n",
      "1\n",
      "1\n",
      "2\n",
      "3\n",
      "5\n",
      "8\n",
      "13\n",
      "21\n",
      "34\n"
     ]
    }
   ],
   "source": [
    "fib(10)"
   ]
  },
  {
   "cell_type": "code",
   "execution_count": 14,
   "metadata": {},
   "outputs": [
    {
     "name": "stdout",
     "output_type": "stream",
     "text": [
      "0\n"
     ]
    }
   ],
   "source": [
    "fib(1)"
   ]
  },
  {
   "cell_type": "code",
   "execution_count": 15,
   "metadata": {},
   "outputs": [
    {
     "name": "stdout",
     "output_type": "stream",
     "text": [
      "invalid\n"
     ]
    }
   ],
   "source": [
    "fib(-3)"
   ]
  },
  {
   "cell_type": "markdown",
   "metadata": {},
   "source": [
    "## factorial"
   ]
  },
  {
   "cell_type": "code",
   "execution_count": 34,
   "metadata": {},
   "outputs": [],
   "source": [
    "def fact(n):\n",
    "    f=1\n",
    "    for i in range(1,n+1):\n",
    "        f=f*i\n",
    "    return f\n",
    "        "
   ]
  },
  {
   "cell_type": "code",
   "execution_count": 35,
   "metadata": {},
   "outputs": [
    {
     "name": "stdout",
     "output_type": "stream",
     "text": [
      "120\n"
     ]
    }
   ],
   "source": [
    "x=5\n",
    "result=fact(x)\n",
    "print(result)"
   ]
  },
  {
   "cell_type": "markdown",
   "metadata": {},
   "source": [
    "## recursion"
   ]
  },
  {
   "cell_type": "code",
   "execution_count": 40,
   "metadata": {},
   "outputs": [],
   "source": [
    "import sys"
   ]
  },
  {
   "cell_type": "code",
   "execution_count": 41,
   "metadata": {},
   "outputs": [
    {
     "name": "stdout",
     "output_type": "stream",
     "text": [
      "3000\n"
     ]
    }
   ],
   "source": [
    "print(sys.getrecursionlimit())\n",
    "def greet():\n",
    "    print('hello')\n",
    "    greet()"
   ]
  },
  {
   "cell_type": "code",
   "execution_count": 42,
   "metadata": {},
   "outputs": [],
   "source": [
    "sys.setrecursionlimit(1000)"
   ]
  },
  {
   "cell_type": "code",
   "execution_count": 44,
   "metadata": {},
   "outputs": [
    {
     "name": "stdout",
     "output_type": "stream",
     "text": [
      "1000\n"
     ]
    }
   ],
   "source": [
    "print(sys.getrecursionlimit())\n",
    "i=0\n",
    "def greet():\n",
    "    global i\n",
    "    i+=1\n",
    "    print('hello', i)\n",
    "    greet()"
   ]
  },
  {
   "cell_type": "code",
   "execution_count": 45,
   "metadata": {},
   "outputs": [
    {
     "name": "stdout",
     "output_type": "stream",
     "text": [
      "hello 1\n",
      "hello 2\n",
      "hello 3\n",
      "hello 4\n",
      "hello 5\n",
      "hello 6\n",
      "hello 7\n",
      "hello 8\n",
      "hello 9\n",
      "hello 10\n",
      "hello 11\n",
      "hello 12\n",
      "hello 13\n",
      "hello 14\n",
      "hello 15\n",
      "hello 16\n",
      "hello 17\n",
      "hello 18\n",
      "hello 19\n",
      "hello 20\n",
      "hello 21\n",
      "hello 22\n",
      "hello 23\n",
      "hello 24\n",
      "hello 25\n",
      "hello 26\n",
      "hello 27\n",
      "hello 28\n",
      "hello 29\n",
      "hello 30\n",
      "hello 31\n",
      "hello 32\n",
      "hello 33\n",
      "hello 34\n",
      "hello 35\n",
      "hello 36\n",
      "hello 37\n",
      "hello 38\n",
      "hello 39\n",
      "hello 40\n",
      "hello 41\n",
      "hello 42\n",
      "hello 43\n",
      "hello 44\n",
      "hello 45\n",
      "hello 46\n",
      "hello 47\n",
      "hello 48\n",
      "hello 49\n",
      "hello 50\n",
      "hello 51\n",
      "hello 52\n",
      "hello 53\n",
      "hello 54\n",
      "hello 55\n",
      "hello 56\n",
      "hello 57\n",
      "hello 58\n",
      "hello 59\n",
      "hello 60\n",
      "hello 61\n",
      "hello 62\n",
      "hello 63\n",
      "hello 64\n",
      "hello 65\n",
      "hello 66\n",
      "hello 67\n",
      "hello 68\n",
      "hello 69\n",
      "hello 70\n",
      "hello 71\n",
      "hello 72\n",
      "hello 73\n",
      "hello 74\n",
      "hello 75\n",
      "hello 76\n",
      "hello 77\n",
      "hello 78\n",
      "hello 79\n",
      "hello 80\n",
      "hello 81\n",
      "hello 82\n",
      "hello 83\n",
      "hello 84\n",
      "hello 85\n",
      "hello 86\n",
      "hello 87\n",
      "hello 88\n",
      "hello 89\n",
      "hello 90\n",
      "hello 91\n",
      "hello 92\n",
      "hello 93\n",
      "hello 94\n",
      "hello 95\n",
      "hello 96\n",
      "hello 97\n",
      "hello 98\n",
      "hello 99\n",
      "hello 100\n",
      "hello 101\n",
      "hello 102\n",
      "hello 103\n",
      "hello 104\n",
      "hello 105\n",
      "hello 106\n",
      "hello 107\n",
      "hello 108\n",
      "hello 109\n",
      "hello 110\n",
      "hello 111\n",
      "hello 112\n",
      "hello 113\n",
      "hello 114\n",
      "hello 115\n",
      "hello 116\n",
      "hello 117\n",
      "hello 118\n",
      "hello 119\n",
      "hello 120\n",
      "hello 121\n",
      "hello 122\n",
      "hello 123\n",
      "hello 124\n",
      "hello 125\n",
      "hello 126\n",
      "hello 127\n",
      "hello 128\n",
      "hello 129\n",
      "hello 130\n",
      "hello 131\n",
      "hello 132\n",
      "hello 133\n",
      "hello 134\n",
      "hello 135\n",
      "hello 136\n",
      "hello 137\n",
      "hello 138\n",
      "hello 139\n",
      "hello 140\n",
      "hello 141\n",
      "hello 142\n",
      "hello 143\n",
      "hello 144\n",
      "hello 145\n",
      "hello 146\n",
      "hello 147\n",
      "hello 148\n",
      "hello 149\n",
      "hello 150\n",
      "hello 151\n",
      "hello 152\n",
      "hello 153\n",
      "hello 154\n",
      "hello 155\n",
      "hello 156\n",
      "hello 157\n",
      "hello 158\n",
      "hello 159\n",
      "hello 160\n",
      "hello 161\n",
      "hello 162\n",
      "hello 163\n",
      "hello 164\n",
      "hello 165\n",
      "hello 166\n",
      "hello 167\n",
      "hello 168\n",
      "hello 169\n",
      "hello 170\n",
      "hello 171\n",
      "hello 172\n",
      "hello 173\n",
      "hello 174\n",
      "hello 175\n",
      "hello 176\n",
      "hello 177\n",
      "hello 178\n",
      "hello 179\n",
      "hello 180\n",
      "hello 181\n",
      "hello 182\n",
      "hello 183\n",
      "hello 184\n",
      "hello 185\n",
      "hello 186\n",
      "hello 187\n",
      "hello 188\n",
      "hello 189\n",
      "hello 190\n",
      "hello 191\n",
      "hello 192\n",
      "hello 193\n",
      "hello 194\n",
      "hello 195\n",
      "hello 196\n",
      "hello 197\n",
      "hello 198\n",
      "hello 199\n",
      "hello 200\n",
      "hello 201\n",
      "hello 202\n",
      "hello 203\n",
      "hello 204\n",
      "hello 205\n",
      "hello 206\n",
      "hello 207\n",
      "hello 208\n",
      "hello 209\n",
      "hello 210\n",
      "hello 211\n",
      "hello 212\n",
      "hello 213\n",
      "hello 214\n",
      "hello 215\n",
      "hello 216\n",
      "hello 217\n",
      "hello 218\n",
      "hello 219\n",
      "hello 220\n",
      "hello 221\n",
      "hello 222\n",
      "hello 223\n",
      "hello 224\n",
      "hello 225\n",
      "hello 226\n",
      "hello 227\n",
      "hello 228\n",
      "hello 229\n",
      "hello 230\n",
      "hello 231\n",
      "hello 232\n",
      "hello 233\n",
      "hello 234\n",
      "hello 235\n",
      "hello 236\n",
      "hello 237\n",
      "hello 238\n",
      "hello 239\n",
      "hello 240\n",
      "hello 241\n",
      "hello 242\n",
      "hello 243\n",
      "hello 244\n",
      "hello 245\n",
      "hello 246\n",
      "hello 247\n",
      "hello 248\n",
      "hello 249\n",
      "hello 250\n",
      "hello 251\n",
      "hello 252\n",
      "hello 253\n",
      "hello 254\n",
      "hello 255\n",
      "hello 256\n",
      "hello 257\n",
      "hello 258\n",
      "hello 259\n",
      "hello 260\n",
      "hello 261\n",
      "hello 262\n",
      "hello 263\n",
      "hello 264\n",
      "hello 265\n",
      "hello 266\n",
      "hello 267\n",
      "hello 268\n",
      "hello 269\n",
      "hello 270\n",
      "hello 271\n",
      "hello 272\n",
      "hello 273\n",
      "hello 274\n",
      "hello 275\n",
      "hello 276\n",
      "hello 277\n",
      "hello 278\n",
      "hello 279\n",
      "hello 280\n",
      "hello 281\n",
      "hello 282\n",
      "hello 283\n",
      "hello 284\n",
      "hello 285\n",
      "hello 286\n",
      "hello 287\n",
      "hello 288\n",
      "hello 289\n",
      "hello 290\n",
      "hello 291\n",
      "hello 292\n",
      "hello 293\n",
      "hello 294\n",
      "hello 295\n",
      "hello 296\n",
      "hello 297\n",
      "hello 298\n",
      "hello 299\n",
      "hello 300\n",
      "hello 301\n",
      "hello 302\n",
      "hello 303\n",
      "hello 304\n",
      "hello 305\n",
      "hello 306\n",
      "hello 307\n",
      "hello 308\n",
      "hello 309\n",
      "hello 310\n",
      "hello 311\n",
      "hello 312\n",
      "hello 313\n",
      "hello 314\n",
      "hello 315\n",
      "hello 316\n",
      "hello 317\n",
      "hello 318\n",
      "hello 319\n",
      "hello 320\n",
      "hello 321\n",
      "hello 322\n",
      "hello 323\n",
      "hello 324\n",
      "hello 325\n",
      "hello 326\n",
      "hello 327\n",
      "hello 328\n",
      "hello 329\n",
      "hello 330\n",
      "hello 331\n",
      "hello 332\n",
      "hello 333\n",
      "hello 334\n",
      "hello 335\n",
      "hello 336\n",
      "hello 337\n",
      "hello 338\n",
      "hello 339\n",
      "hello 340\n",
      "hello 341\n",
      "hello 342\n",
      "hello 343\n",
      "hello 344\n",
      "hello 345\n",
      "hello 346\n",
      "hello 347\n",
      "hello 348\n",
      "hello 349\n",
      "hello 350\n",
      "hello 351\n",
      "hello 352\n",
      "hello 353\n",
      "hello 354\n",
      "hello 355\n",
      "hello 356\n",
      "hello 357\n",
      "hello 358\n",
      "hello 359\n",
      "hello 360\n",
      "hello 361\n",
      "hello 362\n",
      "hello 363\n",
      "hello 364\n",
      "hello 365\n",
      "hello 366\n",
      "hello 367\n",
      "hello 368\n",
      "hello 369\n",
      "hello 370\n",
      "hello 371\n",
      "hello 372\n",
      "hello 373\n",
      "hello 374\n",
      "hello 375\n",
      "hello 376\n",
      "hello 377\n",
      "hello 378\n",
      "hello 379\n",
      "hello 380\n",
      "hello 381\n",
      "hello 382\n",
      "hello 383\n",
      "hello 384\n",
      "hello 385\n",
      "hello 386\n",
      "hello 387\n",
      "hello 388\n",
      "hello 389\n",
      "hello 390\n",
      "hello 391\n",
      "hello 392\n",
      "hello 393\n",
      "hello 394\n",
      "hello 395\n",
      "hello 396\n",
      "hello 397\n",
      "hello 398\n",
      "hello 399\n",
      "hello 400\n",
      "hello 401\n",
      "hello 402\n",
      "hello 403\n",
      "hello 404\n",
      "hello 405\n",
      "hello 406\n",
      "hello 407\n",
      "hello 408\n",
      "hello 409\n",
      "hello 410\n",
      "hello 411\n",
      "hello 412\n",
      "hello 413\n",
      "hello 414\n",
      "hello 415\n",
      "hello 416\n",
      "hello 417\n",
      "hello 418\n",
      "hello 419\n",
      "hello 420\n",
      "hello 421\n",
      "hello 422\n",
      "hello 423\n",
      "hello 424\n",
      "hello 425\n",
      "hello 426\n",
      "hello 427\n",
      "hello 428\n",
      "hello 429\n",
      "hello 430\n",
      "hello 431\n",
      "hello 432\n",
      "hello 433\n",
      "hello 434\n",
      "hello 435\n",
      "hello 436\n",
      "hello 437\n",
      "hello 438\n",
      "hello 439\n",
      "hello 440\n",
      "hello 441\n",
      "hello 442\n",
      "hello 443\n",
      "hello 444\n",
      "hello 445\n",
      "hello 446\n",
      "hello 447\n",
      "hello 448\n",
      "hello 449\n",
      "hello 450\n",
      "hello 451\n",
      "hello 452\n",
      "hello 453\n",
      "hello 454\n",
      "hello 455\n",
      "hello 456\n",
      "hello 457\n",
      "hello 458\n",
      "hello 459\n",
      "hello 460\n",
      "hello 461\n",
      "hello 462\n",
      "hello 463\n",
      "hello 464\n",
      "hello 465\n",
      "hello 466\n",
      "hello 467\n",
      "hello 468\n",
      "hello 469\n",
      "hello 470\n",
      "hello 471\n",
      "hello 472\n",
      "hello 473\n",
      "hello 474\n",
      "hello 475\n",
      "hello 476\n",
      "hello 477\n",
      "hello 478\n",
      "hello 479\n",
      "hello 480\n",
      "hello 481\n",
      "hello 482\n",
      "hello 483\n",
      "hello 484\n",
      "hello 485\n",
      "hello 486\n",
      "hello 487\n",
      "hello 488\n",
      "hello 489\n",
      "hello 490\n",
      "hello 491\n",
      "hello 492\n",
      "hello 493\n",
      "hello 494\n",
      "hello 495\n",
      "hello 496\n",
      "hello 497\n",
      "hello 498\n",
      "hello 499\n",
      "hello 500\n",
      "hello 501\n",
      "hello 502\n",
      "hello 503\n",
      "hello 504\n",
      "hello 505\n",
      "hello 506\n",
      "hello 507\n",
      "hello 508\n",
      "hello 509\n",
      "hello 510\n",
      "hello 511\n",
      "hello 512\n",
      "hello 513\n",
      "hello 514\n",
      "hello 515\n",
      "hello 516\n",
      "hello 517\n",
      "hello 518\n",
      "hello 519\n",
      "hello 520\n",
      "hello 521\n",
      "hello 522\n",
      "hello 523\n",
      "hello 524\n",
      "hello 525\n",
      "hello 526\n",
      "hello 527\n",
      "hello 528\n",
      "hello 529\n",
      "hello 530\n",
      "hello 531\n",
      "hello 532\n",
      "hello 533\n",
      "hello 534\n",
      "hello 535\n",
      "hello 536\n",
      "hello 537\n",
      "hello 538\n",
      "hello 539\n",
      "hello 540\n",
      "hello 541\n",
      "hello 542\n",
      "hello 543\n",
      "hello 544\n",
      "hello 545\n",
      "hello 546\n",
      "hello 547\n",
      "hello 548\n",
      "hello 549\n",
      "hello 550\n",
      "hello 551\n",
      "hello 552\n",
      "hello 553\n",
      "hello 554\n",
      "hello 555\n",
      "hello 556\n",
      "hello 557\n",
      "hello 558\n",
      "hello 559\n",
      "hello 560\n",
      "hello 561\n",
      "hello 562\n",
      "hello 563\n",
      "hello 564\n",
      "hello 565\n",
      "hello 566\n",
      "hello 567\n",
      "hello 568\n",
      "hello 569\n",
      "hello 570\n",
      "hello 571\n",
      "hello 572\n",
      "hello 573\n",
      "hello 574\n",
      "hello 575\n",
      "hello 576\n",
      "hello 577\n",
      "hello 578\n",
      "hello 579\n",
      "hello 580\n",
      "hello 581\n",
      "hello 582\n",
      "hello 583\n",
      "hello 584\n",
      "hello 585\n",
      "hello 586\n",
      "hello 587\n",
      "hello 588\n",
      "hello 589\n",
      "hello 590\n",
      "hello 591\n",
      "hello 592\n",
      "hello 593\n",
      "hello 594\n",
      "hello 595\n",
      "hello 596\n",
      "hello 597\n",
      "hello 598\n",
      "hello 599\n",
      "hello 600\n",
      "hello 601\n",
      "hello 602\n",
      "hello 603\n",
      "hello 604\n",
      "hello 605\n",
      "hello 606\n",
      "hello 607\n",
      "hello 608\n",
      "hello 609\n",
      "hello 610\n",
      "hello 611\n",
      "hello 612\n",
      "hello 613\n",
      "hello 614\n",
      "hello 615\n",
      "hello 616\n",
      "hello 617\n",
      "hello 618\n",
      "hello 619\n",
      "hello 620\n",
      "hello 621\n",
      "hello 622\n",
      "hello 623\n",
      "hello 624\n",
      "hello 625\n",
      "hello 626\n",
      "hello 627\n",
      "hello 628\n",
      "hello 629\n",
      "hello 630\n",
      "hello 631\n",
      "hello 632\n",
      "hello 633\n",
      "hello 634\n",
      "hello 635\n",
      "hello 636\n",
      "hello 637\n",
      "hello 638\n",
      "hello 639\n",
      "hello 640\n",
      "hello 641\n",
      "hello 642\n",
      "hello 643\n",
      "hello 644\n",
      "hello 645\n",
      "hello 646\n",
      "hello 647\n",
      "hello 648\n",
      "hello 649\n",
      "hello 650\n",
      "hello 651\n",
      "hello 652\n",
      "hello 653\n",
      "hello 654\n",
      "hello 655\n",
      "hello 656\n",
      "hello 657\n",
      "hello 658\n",
      "hello 659\n",
      "hello 660\n",
      "hello 661\n",
      "hello 662\n",
      "hello 663\n",
      "hello 664\n",
      "hello 665\n",
      "hello 666\n",
      "hello 667\n",
      "hello 668\n",
      "hello 669\n",
      "hello 670\n",
      "hello 671\n",
      "hello 672\n",
      "hello 673\n",
      "hello 674\n",
      "hello 675\n",
      "hello 676\n",
      "hello 677\n",
      "hello 678\n",
      "hello 679\n",
      "hello 680\n",
      "hello 681\n",
      "hello 682\n",
      "hello 683\n",
      "hello 684\n",
      "hello 685\n",
      "hello 686\n",
      "hello 687\n",
      "hello 688\n",
      "hello 689\n",
      "hello 690\n",
      "hello 691\n",
      "hello 692\n",
      "hello 693\n",
      "hello 694\n",
      "hello 695\n",
      "hello 696\n",
      "hello 697\n",
      "hello 698\n",
      "hello 699\n",
      "hello 700\n",
      "hello 701\n",
      "hello 702\n",
      "hello 703\n",
      "hello 704\n",
      "hello 705\n",
      "hello 706\n",
      "hello 707\n",
      "hello 708\n",
      "hello 709\n",
      "hello 710\n",
      "hello 711\n",
      "hello 712\n",
      "hello 713\n",
      "hello 714\n",
      "hello 715\n",
      "hello 716\n",
      "hello 717\n",
      "hello 718\n",
      "hello 719\n",
      "hello 720\n",
      "hello 721\n",
      "hello 722\n",
      "hello 723\n",
      "hello 724\n",
      "hello 725\n",
      "hello 726\n",
      "hello 727\n",
      "hello 728\n",
      "hello 729\n",
      "hello 730\n",
      "hello 731\n",
      "hello 732\n",
      "hello 733\n",
      "hello 734\n",
      "hello 735\n",
      "hello 736\n",
      "hello 737\n",
      "hello 738\n",
      "hello 739\n",
      "hello 740\n",
      "hello 741\n",
      "hello 742\n",
      "hello 743\n",
      "hello 744\n",
      "hello 745\n",
      "hello 746\n",
      "hello 747\n",
      "hello 748\n",
      "hello 749\n",
      "hello 750\n",
      "hello 751\n",
      "hello 752\n",
      "hello 753\n",
      "hello 754\n",
      "hello 755\n",
      "hello 756\n",
      "hello 757\n",
      "hello 758\n",
      "hello 759\n",
      "hello 760\n",
      "hello 761\n",
      "hello 762\n",
      "hello 763\n",
      "hello 764\n",
      "hello 765\n",
      "hello 766\n",
      "hello 767\n",
      "hello 768\n",
      "hello 769\n",
      "hello 770\n",
      "hello 771\n",
      "hello 772\n",
      "hello 773\n",
      "hello 774\n",
      "hello 775\n",
      "hello 776\n",
      "hello 777\n",
      "hello 778\n",
      "hello 779\n",
      "hello 780\n",
      "hello 781\n",
      "hello 782\n",
      "hello 783\n",
      "hello 784\n",
      "hello 785\n",
      "hello 786\n",
      "hello 787\n",
      "hello 788\n",
      "hello 789\n",
      "hello 790\n",
      "hello 791\n",
      "hello 792\n",
      "hello 793\n",
      "hello 794\n",
      "hello 795\n",
      "hello 796\n",
      "hello 797\n",
      "hello 798\n",
      "hello 799\n",
      "hello 800\n",
      "hello 801\n",
      "hello 802\n",
      "hello 803\n",
      "hello 804\n",
      "hello 805\n",
      "hello 806\n",
      "hello 807\n",
      "hello 808\n",
      "hello 809\n",
      "hello 810\n",
      "hello 811\n",
      "hello 812\n",
      "hello 813\n",
      "hello 814\n",
      "hello 815\n",
      "hello 816\n",
      "hello 817\n",
      "hello 818\n",
      "hello 819\n",
      "hello 820\n",
      "hello 821\n",
      "hello 822\n",
      "hello 823\n",
      "hello 824\n",
      "hello 825\n",
      "hello 826\n",
      "hello 827\n",
      "hello 828\n",
      "hello 829\n",
      "hello 830\n",
      "hello 831\n",
      "hello 832\n",
      "hello 833\n",
      "hello 834\n",
      "hello 835\n",
      "hello 836\n",
      "hello 837\n",
      "hello 838\n",
      "hello 839\n",
      "hello 840\n",
      "hello 841\n",
      "hello 842\n",
      "hello 843\n",
      "hello 844\n",
      "hello 845\n",
      "hello 846\n",
      "hello 847\n",
      "hello 848\n",
      "hello 849\n",
      "hello 850\n",
      "hello 851\n",
      "hello 852\n",
      "hello 853\n",
      "hello 854\n",
      "hello 855\n",
      "hello 856\n",
      "hello 857\n",
      "hello 858\n",
      "hello 859\n",
      "hello 860\n",
      "hello 861\n",
      "hello 862\n",
      "hello 863\n",
      "hello 864\n",
      "hello 865\n",
      "hello 866\n",
      "hello 867\n",
      "hello 868\n",
      "hello 869\n",
      "hello 870\n",
      "hello 871\n",
      "hello 872\n",
      "hello 873\n",
      "hello 874\n",
      "hello 875\n",
      "hello 876\n",
      "hello 877\n",
      "hello 878\n",
      "hello 879\n",
      "hello 880\n",
      "hello 881\n",
      "hello 882\n",
      "hello 883\n",
      "hello 884\n",
      "hello 885\n",
      "hello 886\n",
      "hello 887\n",
      "hello 888\n",
      "hello 889\n",
      "hello 890\n",
      "hello 891\n",
      "hello 892\n",
      "hello 893\n",
      "hello 894\n",
      "hello 895\n",
      "hello 896\n",
      "hello 897\n",
      "hello 898\n",
      "hello 899\n",
      "hello 900\n",
      "hello 901\n",
      "hello 902\n",
      "hello 903\n",
      "hello 904\n",
      "hello 905\n",
      "hello 906\n",
      "hello 907\n",
      "hello 908\n",
      "hello 909\n",
      "hello 910\n",
      "hello 911\n",
      "hello 912\n",
      "hello 913\n",
      "hello 914\n",
      "hello 915\n",
      "hello 916\n",
      "hello 917\n",
      "hello 918\n",
      "hello 919\n",
      "hello 920\n",
      "hello 921\n",
      "hello 922\n",
      "hello 923\n",
      "hello 924\n",
      "hello 925\n",
      "hello 926\n",
      "hello 927\n",
      "hello 928\n",
      "hello 929\n",
      "hello 930\n",
      "hello 931\n",
      "hello 932\n",
      "hello 933\n",
      "hello 934\n",
      "hello 935\n",
      "hello 936\n",
      "hello 937\n",
      "hello 938\n",
      "hello 939\n",
      "hello 940\n",
      "hello 941\n",
      "hello 942\n",
      "hello 943\n",
      "hello 944\n",
      "hello 945\n",
      "hello 946\n",
      "hello 947\n",
      "hello 948\n",
      "hello 949\n",
      "hello 950\n",
      "hello 951\n",
      "hello 952\n",
      "hello 953\n",
      "hello 954\n",
      "hello 955\n",
      "hello 956\n",
      "hello 957\n"
     ]
    },
    {
     "ename": "RecursionError",
     "evalue": "maximum recursion depth exceeded while calling a Python object",
     "output_type": "error",
     "traceback": [
      "\u001b[1;31m---------------------------------------------------------------------------\u001b[0m",
      "\u001b[1;31mRecursionError\u001b[0m                            Traceback (most recent call last)",
      "\u001b[1;32m<ipython-input-45-db845682bfe7>\u001b[0m in \u001b[0;36m<module>\u001b[1;34m\u001b[0m\n\u001b[1;32m----> 1\u001b[1;33m \u001b[0mgreet\u001b[0m\u001b[1;33m(\u001b[0m\u001b[1;33m)\u001b[0m\u001b[1;33m\u001b[0m\u001b[1;33m\u001b[0m\u001b[0m\n\u001b[0m",
      "\u001b[1;32m<ipython-input-44-78c33bd5265f>\u001b[0m in \u001b[0;36mgreet\u001b[1;34m()\u001b[0m\n\u001b[0;32m      5\u001b[0m     \u001b[0mi\u001b[0m\u001b[1;33m+=\u001b[0m\u001b[1;36m1\u001b[0m\u001b[1;33m\u001b[0m\u001b[1;33m\u001b[0m\u001b[0m\n\u001b[0;32m      6\u001b[0m     \u001b[0mprint\u001b[0m\u001b[1;33m(\u001b[0m\u001b[1;34m'hello'\u001b[0m\u001b[1;33m,\u001b[0m \u001b[0mi\u001b[0m\u001b[1;33m)\u001b[0m\u001b[1;33m\u001b[0m\u001b[1;33m\u001b[0m\u001b[0m\n\u001b[1;32m----> 7\u001b[1;33m     \u001b[0mgreet\u001b[0m\u001b[1;33m(\u001b[0m\u001b[1;33m)\u001b[0m\u001b[1;33m\u001b[0m\u001b[1;33m\u001b[0m\u001b[0m\n\u001b[0m",
      "... last 1 frames repeated, from the frame below ...\n",
      "\u001b[1;32m<ipython-input-44-78c33bd5265f>\u001b[0m in \u001b[0;36mgreet\u001b[1;34m()\u001b[0m\n\u001b[0;32m      5\u001b[0m     \u001b[0mi\u001b[0m\u001b[1;33m+=\u001b[0m\u001b[1;36m1\u001b[0m\u001b[1;33m\u001b[0m\u001b[1;33m\u001b[0m\u001b[0m\n\u001b[0;32m      6\u001b[0m     \u001b[0mprint\u001b[0m\u001b[1;33m(\u001b[0m\u001b[1;34m'hello'\u001b[0m\u001b[1;33m,\u001b[0m \u001b[0mi\u001b[0m\u001b[1;33m)\u001b[0m\u001b[1;33m\u001b[0m\u001b[1;33m\u001b[0m\u001b[0m\n\u001b[1;32m----> 7\u001b[1;33m     \u001b[0mgreet\u001b[0m\u001b[1;33m(\u001b[0m\u001b[1;33m)\u001b[0m\u001b[1;33m\u001b[0m\u001b[1;33m\u001b[0m\u001b[0m\n\u001b[0m",
      "\u001b[1;31mRecursionError\u001b[0m: maximum recursion depth exceeded while calling a Python object"
     ]
    }
   ],
   "source": [
    "greet()"
   ]
  },
  {
   "cell_type": "code",
   "execution_count": 46,
   "metadata": {},
   "outputs": [],
   "source": [
    "def fact(n):\n",
    "    if(n==0):\n",
    "        return 1\n",
    "    return n*fact(n-1)\n",
    "    "
   ]
  },
  {
   "cell_type": "code",
   "execution_count": 47,
   "metadata": {},
   "outputs": [
    {
     "name": "stdout",
     "output_type": "stream",
     "text": [
      "120\n"
     ]
    }
   ],
   "source": [
    "res=fact(5)\n",
    "print(res)"
   ]
  },
  {
   "cell_type": "markdown",
   "metadata": {},
   "source": [
    "anonymous function: lambda (when use a function only once, dont want to define a name, only have one expression)"
   ]
  },
  {
   "cell_type": "code",
   "execution_count": 48,
   "metadata": {},
   "outputs": [],
   "source": [
    "def square(a):\n",
    "    return a*a"
   ]
  },
  {
   "cell_type": "code",
   "execution_count": 49,
   "metadata": {},
   "outputs": [
    {
     "name": "stdout",
     "output_type": "stream",
     "text": [
      "25\n"
     ]
    }
   ],
   "source": [
    "r=square(5)\n",
    "print(r)"
   ]
  },
  {
   "cell_type": "code",
   "execution_count": 50,
   "metadata": {},
   "outputs": [],
   "source": [
    "f=lambda a: a*a # assign = lambda argument: operation"
   ]
  },
  {
   "cell_type": "code",
   "execution_count": 51,
   "metadata": {},
   "outputs": [
    {
     "name": "stdout",
     "output_type": "stream",
     "text": [
      "25\n"
     ]
    }
   ],
   "source": [
    "r=f(5)\n",
    "print(r)"
   ]
  },
  {
   "cell_type": "code",
   "execution_count": 52,
   "metadata": {},
   "outputs": [],
   "source": [
    "f=lambda a,b:a+b"
   ]
  },
  {
   "cell_type": "code",
   "execution_count": 53,
   "metadata": {},
   "outputs": [
    {
     "name": "stdout",
     "output_type": "stream",
     "text": [
      "11\n"
     ]
    }
   ],
   "source": [
    "r=f(5,6)\n",
    "print(r)"
   ]
  },
  {
   "cell_type": "markdown",
   "metadata": {},
   "source": [
    "## use lambda in filter, map, reduce function"
   ]
  },
  {
   "cell_type": "code",
   "execution_count": 54,
   "metadata": {},
   "outputs": [],
   "source": [
    "def is_even(n):\n",
    "    return n%2==0"
   ]
  },
  {
   "cell_type": "code",
   "execution_count": 59,
   "metadata": {},
   "outputs": [],
   "source": [
    "nums=[2,3,4,5,67,1,3,9,6,8]"
   ]
  },
  {
   "cell_type": "code",
   "execution_count": 60,
   "metadata": {},
   "outputs": [
    {
     "name": "stdout",
     "output_type": "stream",
     "text": [
      "[2, 4, 6, 8]\n"
     ]
    }
   ],
   "source": [
    "evens= list(filter(is_even, nums))\n",
    "print(evens)"
   ]
  },
  {
   "cell_type": "code",
   "execution_count": 61,
   "metadata": {},
   "outputs": [
    {
     "name": "stdout",
     "output_type": "stream",
     "text": [
      "[2, 4, 6, 8]\n"
     ]
    }
   ],
   "source": [
    "evens= list(filter(lambda n : n%2==0, nums)) # filter out things\n",
    "print(evens)"
   ]
  },
  {
   "cell_type": "code",
   "execution_count": 66,
   "metadata": {},
   "outputs": [],
   "source": [
    "def update(n):\n",
    "    return n*2"
   ]
  },
  {
   "cell_type": "code",
   "execution_count": 67,
   "metadata": {},
   "outputs": [
    {
     "name": "stdout",
     "output_type": "stream",
     "text": [
      "[4, 8, 12, 16]\n"
     ]
    }
   ],
   "source": [
    "doubles = list(map(update,evens)) # map for some operations\n",
    "print(doubles)"
   ]
  },
  {
   "cell_type": "code",
   "execution_count": 68,
   "metadata": {},
   "outputs": [
    {
     "name": "stdout",
     "output_type": "stream",
     "text": [
      "[4, 8, 12, 16]\n"
     ]
    }
   ],
   "source": [
    "doubles = list(map(lambda n:n*2,evens)) # map for some operations\n",
    "print(doubles)"
   ]
  },
  {
   "cell_type": "code",
   "execution_count": 69,
   "metadata": {},
   "outputs": [],
   "source": [
    "from functools import reduce # to reduce values"
   ]
  },
  {
   "cell_type": "code",
   "execution_count": 70,
   "metadata": {},
   "outputs": [],
   "source": [
    "def add(a,b):\n",
    "    return a+b"
   ]
  },
  {
   "cell_type": "code",
   "execution_count": 72,
   "metadata": {},
   "outputs": [
    {
     "name": "stdout",
     "output_type": "stream",
     "text": [
      "40\n"
     ]
    }
   ],
   "source": [
    "sum= reduce(add,doubles) \n",
    "print(sum)"
   ]
  },
  {
   "cell_type": "code",
   "execution_count": 73,
   "metadata": {},
   "outputs": [
    {
     "name": "stdout",
     "output_type": "stream",
     "text": [
      "40\n"
     ]
    }
   ],
   "source": [
    "sum= reduce(lambda a,b:a+b,doubles)\n",
    "print(sum)"
   ]
  },
  {
   "cell_type": "markdown",
   "metadata": {},
   "source": [
    "## decorators : add extra features in the existing function"
   ]
  },
  {
   "cell_type": "code",
   "execution_count": 75,
   "metadata": {},
   "outputs": [],
   "source": [
    "def div(a,b):\n",
    "    print( a/b)"
   ]
  },
  {
   "cell_type": "code",
   "execution_count": 76,
   "metadata": {},
   "outputs": [
    {
     "name": "stdout",
     "output_type": "stream",
     "text": [
      "2.0\n"
     ]
    }
   ],
   "source": [
    "div(4,2)\n"
   ]
  },
  {
   "cell_type": "code",
   "execution_count": 77,
   "metadata": {},
   "outputs": [
    {
     "name": "stdout",
     "output_type": "stream",
     "text": [
      "0.5\n"
     ]
    }
   ],
   "source": [
    "div(2,4)"
   ]
  },
  {
   "cell_type": "code",
   "execution_count": 79,
   "metadata": {},
   "outputs": [],
   "source": [
    "def div(a,b):\n",
    "    if a<b:\n",
    "        a,b=b,a\n",
    "    print(a/b)"
   ]
  },
  {
   "cell_type": "code",
   "execution_count": 80,
   "metadata": {
    "scrolled": true
   },
   "outputs": [
    {
     "name": "stdout",
     "output_type": "stream",
     "text": [
      "2.0\n"
     ]
    }
   ],
   "source": [
    "div(2,4)"
   ]
  },
  {
   "cell_type": "code",
   "execution_count": null,
   "metadata": {},
   "outputs": [],
   "source": []
  },
  {
   "cell_type": "code",
   "execution_count": 81,
   "metadata": {},
   "outputs": [],
   "source": [
    "def div(a,b):\n",
    "    print(a/b)"
   ]
  },
  {
   "cell_type": "code",
   "execution_count": 85,
   "metadata": {},
   "outputs": [],
   "source": [
    "def smart_div(func): #decorator\n",
    "    def inner(a,b):\n",
    "        if a<b:\n",
    "            a,b=b,a\n",
    "        return func(a,b)\n",
    "    return inner"
   ]
  },
  {
   "cell_type": "code",
   "execution_count": 86,
   "metadata": {},
   "outputs": [],
   "source": [
    "div1=smart_div(div)"
   ]
  },
  {
   "cell_type": "code",
   "execution_count": 87,
   "metadata": {},
   "outputs": [
    {
     "name": "stdout",
     "output_type": "stream",
     "text": [
      "2.0\n"
     ]
    }
   ],
   "source": [
    "div1(2,4)"
   ]
  },
  {
   "cell_type": "code",
   "execution_count": 88,
   "metadata": {},
   "outputs": [],
   "source": [
    "div=smart_div(div)"
   ]
  },
  {
   "cell_type": "code",
   "execution_count": 89,
   "metadata": {},
   "outputs": [
    {
     "name": "stdout",
     "output_type": "stream",
     "text": [
      "2.0\n"
     ]
    }
   ],
   "source": [
    "div(2,4)"
   ]
  },
  {
   "cell_type": "code",
   "execution_count": null,
   "metadata": {},
   "outputs": [],
   "source": []
  },
  {
   "cell_type": "code",
   "execution_count": null,
   "metadata": {},
   "outputs": [],
   "source": []
  },
  {
   "cell_type": "code",
   "execution_count": null,
   "metadata": {},
   "outputs": [],
   "source": []
  },
  {
   "cell_type": "code",
   "execution_count": null,
   "metadata": {},
   "outputs": [],
   "source": []
  },
  {
   "cell_type": "code",
   "execution_count": null,
   "metadata": {},
   "outputs": [],
   "source": []
  },
  {
   "cell_type": "code",
   "execution_count": null,
   "metadata": {},
   "outputs": [],
   "source": []
  },
  {
   "cell_type": "code",
   "execution_count": null,
   "metadata": {},
   "outputs": [],
   "source": []
  },
  {
   "cell_type": "code",
   "execution_count": null,
   "metadata": {},
   "outputs": [],
   "source": []
  },
  {
   "cell_type": "code",
   "execution_count": null,
   "metadata": {},
   "outputs": [],
   "source": []
  },
  {
   "cell_type": "code",
   "execution_count": null,
   "metadata": {},
   "outputs": [],
   "source": []
  },
  {
   "cell_type": "code",
   "execution_count": null,
   "metadata": {},
   "outputs": [],
   "source": []
  },
  {
   "cell_type": "code",
   "execution_count": null,
   "metadata": {},
   "outputs": [],
   "source": []
  },
  {
   "cell_type": "code",
   "execution_count": null,
   "metadata": {},
   "outputs": [],
   "source": []
  },
  {
   "cell_type": "code",
   "execution_count": null,
   "metadata": {},
   "outputs": [],
   "source": []
  }
 ],
 "metadata": {
  "kernelspec": {
   "display_name": "Python 3",
   "language": "python",
   "name": "python3"
  },
  "language_info": {
   "codemirror_mode": {
    "name": "ipython",
    "version": 3
   },
   "file_extension": ".py",
   "mimetype": "text/x-python",
   "name": "python",
   "nbconvert_exporter": "python",
   "pygments_lexer": "ipython3",
   "version": "3.8.5"
  }
 },
 "nbformat": 4,
 "nbformat_minor": 4
}
