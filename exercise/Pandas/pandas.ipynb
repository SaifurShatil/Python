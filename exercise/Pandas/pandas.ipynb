{
 "cells": [
  {
   "cell_type": "code",
   "execution_count": 1,
   "metadata": {},
   "outputs": [],
   "source": [
    "import pandas as pd\n",
    "import numpy as np"
   ]
  },
  {
   "cell_type": "code",
   "execution_count": 2,
   "metadata": {},
   "outputs": [],
   "source": [
    "#create series\n",
    "s= pd.Series([1,2,3,4,5,6,np.nan,8,9,10])"
   ]
  },
  {
   "cell_type": "code",
   "execution_count": 3,
   "metadata": {},
   "outputs": [
    {
     "data": {
      "text/plain": [
       "0     1.0\n",
       "1     2.0\n",
       "2     3.0\n",
       "3     4.0\n",
       "4     5.0\n",
       "5     6.0\n",
       "6     NaN\n",
       "7     8.0\n",
       "8     9.0\n",
       "9    10.0\n",
       "dtype: float64"
      ]
     },
     "execution_count": 3,
     "metadata": {},
     "output_type": "execute_result"
    }
   ],
   "source": [
    "s"
   ]
  },
  {
   "cell_type": "code",
   "execution_count": 4,
   "metadata": {},
   "outputs": [],
   "source": [
    "# dataframe by passing numpy array\n",
    "d=pd.date_range('20200301',periods=10) #date 2020-03-01"
   ]
  },
  {
   "cell_type": "code",
   "execution_count": 5,
   "metadata": {},
   "outputs": [
    {
     "data": {
      "text/plain": [
       "DatetimeIndex(['2020-03-01', '2020-03-02', '2020-03-03', '2020-03-04',\n",
       "               '2020-03-05', '2020-03-06', '2020-03-07', '2020-03-08',\n",
       "               '2020-03-09', '2020-03-10'],\n",
       "              dtype='datetime64[ns]', freq='D')"
      ]
     },
     "execution_count": 5,
     "metadata": {},
     "output_type": "execute_result"
    }
   ],
   "source": [
    "d"
   ]
  },
  {
   "cell_type": "code",
   "execution_count": 6,
   "metadata": {},
   "outputs": [],
   "source": [
    "df= pd.DataFrame(np.random.randn(10,4), index=d, columns=['A','B','C','D'])"
   ]
  },
  {
   "cell_type": "code",
   "execution_count": 7,
   "metadata": {},
   "outputs": [
    {
     "data": {
      "text/html": [
       "<div>\n",
       "<style scoped>\n",
       "    .dataframe tbody tr th:only-of-type {\n",
       "        vertical-align: middle;\n",
       "    }\n",
       "\n",
       "    .dataframe tbody tr th {\n",
       "        vertical-align: top;\n",
       "    }\n",
       "\n",
       "    .dataframe thead th {\n",
       "        text-align: right;\n",
       "    }\n",
       "</style>\n",
       "<table border=\"1\" class=\"dataframe\">\n",
       "  <thead>\n",
       "    <tr style=\"text-align: right;\">\n",
       "      <th></th>\n",
       "      <th>A</th>\n",
       "      <th>B</th>\n",
       "      <th>C</th>\n",
       "      <th>D</th>\n",
       "    </tr>\n",
       "  </thead>\n",
       "  <tbody>\n",
       "    <tr>\n",
       "      <th>2020-03-01</th>\n",
       "      <td>-0.084693</td>\n",
       "      <td>0.725556</td>\n",
       "      <td>-0.804611</td>\n",
       "      <td>-1.291762</td>\n",
       "    </tr>\n",
       "    <tr>\n",
       "      <th>2020-03-02</th>\n",
       "      <td>-0.343755</td>\n",
       "      <td>1.311228</td>\n",
       "      <td>-2.582982</td>\n",
       "      <td>-1.812649</td>\n",
       "    </tr>\n",
       "    <tr>\n",
       "      <th>2020-03-03</th>\n",
       "      <td>-0.118312</td>\n",
       "      <td>-0.191459</td>\n",
       "      <td>-0.936935</td>\n",
       "      <td>0.891118</td>\n",
       "    </tr>\n",
       "    <tr>\n",
       "      <th>2020-03-04</th>\n",
       "      <td>0.465854</td>\n",
       "      <td>-1.837215</td>\n",
       "      <td>-0.840053</td>\n",
       "      <td>-0.192826</td>\n",
       "    </tr>\n",
       "    <tr>\n",
       "      <th>2020-03-05</th>\n",
       "      <td>-0.615605</td>\n",
       "      <td>-0.392686</td>\n",
       "      <td>-1.202798</td>\n",
       "      <td>0.724123</td>\n",
       "    </tr>\n",
       "    <tr>\n",
       "      <th>2020-03-06</th>\n",
       "      <td>1.327992</td>\n",
       "      <td>-0.002053</td>\n",
       "      <td>0.385158</td>\n",
       "      <td>-1.151489</td>\n",
       "    </tr>\n",
       "    <tr>\n",
       "      <th>2020-03-07</th>\n",
       "      <td>-0.302154</td>\n",
       "      <td>0.027486</td>\n",
       "      <td>-0.662304</td>\n",
       "      <td>-0.206137</td>\n",
       "    </tr>\n",
       "    <tr>\n",
       "      <th>2020-03-08</th>\n",
       "      <td>0.070571</td>\n",
       "      <td>-0.111438</td>\n",
       "      <td>1.576326</td>\n",
       "      <td>0.583458</td>\n",
       "    </tr>\n",
       "    <tr>\n",
       "      <th>2020-03-09</th>\n",
       "      <td>0.072697</td>\n",
       "      <td>0.383137</td>\n",
       "      <td>0.668853</td>\n",
       "      <td>-0.666442</td>\n",
       "    </tr>\n",
       "    <tr>\n",
       "      <th>2020-03-10</th>\n",
       "      <td>0.241585</td>\n",
       "      <td>0.529959</td>\n",
       "      <td>-0.382400</td>\n",
       "      <td>0.620896</td>\n",
       "    </tr>\n",
       "  </tbody>\n",
       "</table>\n",
       "</div>"
      ],
      "text/plain": [
       "                   A         B         C         D\n",
       "2020-03-01 -0.084693  0.725556 -0.804611 -1.291762\n",
       "2020-03-02 -0.343755  1.311228 -2.582982 -1.812649\n",
       "2020-03-03 -0.118312 -0.191459 -0.936935  0.891118\n",
       "2020-03-04  0.465854 -1.837215 -0.840053 -0.192826\n",
       "2020-03-05 -0.615605 -0.392686 -1.202798  0.724123\n",
       "2020-03-06  1.327992 -0.002053  0.385158 -1.151489\n",
       "2020-03-07 -0.302154  0.027486 -0.662304 -0.206137\n",
       "2020-03-08  0.070571 -0.111438  1.576326  0.583458\n",
       "2020-03-09  0.072697  0.383137  0.668853 -0.666442\n",
       "2020-03-10  0.241585  0.529959 -0.382400  0.620896"
      ]
     },
     "execution_count": 7,
     "metadata": {},
     "output_type": "execute_result"
    }
   ],
   "source": [
    "df"
   ]
  },
  {
   "cell_type": "code",
   "execution_count": 8,
   "metadata": {},
   "outputs": [],
   "source": [
    "# dataframe by passing dictionary objects\n",
    "df1= pd.DataFrame({\n",
    "    'A':[1,2,3,4],\n",
    "    'B':pd.Timestamp('20200301'),\n",
    "    'C': pd.Series(1, index=list(range(4)), dtype='float32'),\n",
    "    'D':np.array([5]*4, dtype='int32'),\n",
    "    'E':pd.Categorical(['true','false','True','False']),\n",
    "    'F':'Edureka'\n",
    "})"
   ]
  },
  {
   "cell_type": "code",
   "execution_count": 9,
   "metadata": {
    "scrolled": true
   },
   "outputs": [
    {
     "data": {
      "text/html": [
       "<div>\n",
       "<style scoped>\n",
       "    .dataframe tbody tr th:only-of-type {\n",
       "        vertical-align: middle;\n",
       "    }\n",
       "\n",
       "    .dataframe tbody tr th {\n",
       "        vertical-align: top;\n",
       "    }\n",
       "\n",
       "    .dataframe thead th {\n",
       "        text-align: right;\n",
       "    }\n",
       "</style>\n",
       "<table border=\"1\" class=\"dataframe\">\n",
       "  <thead>\n",
       "    <tr style=\"text-align: right;\">\n",
       "      <th></th>\n",
       "      <th>A</th>\n",
       "      <th>B</th>\n",
       "      <th>C</th>\n",
       "      <th>D</th>\n",
       "      <th>E</th>\n",
       "      <th>F</th>\n",
       "    </tr>\n",
       "  </thead>\n",
       "  <tbody>\n",
       "    <tr>\n",
       "      <th>0</th>\n",
       "      <td>1</td>\n",
       "      <td>2020-03-01</td>\n",
       "      <td>1.0</td>\n",
       "      <td>5</td>\n",
       "      <td>true</td>\n",
       "      <td>Edureka</td>\n",
       "    </tr>\n",
       "    <tr>\n",
       "      <th>1</th>\n",
       "      <td>2</td>\n",
       "      <td>2020-03-01</td>\n",
       "      <td>1.0</td>\n",
       "      <td>5</td>\n",
       "      <td>false</td>\n",
       "      <td>Edureka</td>\n",
       "    </tr>\n",
       "    <tr>\n",
       "      <th>2</th>\n",
       "      <td>3</td>\n",
       "      <td>2020-03-01</td>\n",
       "      <td>1.0</td>\n",
       "      <td>5</td>\n",
       "      <td>True</td>\n",
       "      <td>Edureka</td>\n",
       "    </tr>\n",
       "    <tr>\n",
       "      <th>3</th>\n",
       "      <td>4</td>\n",
       "      <td>2020-03-01</td>\n",
       "      <td>1.0</td>\n",
       "      <td>5</td>\n",
       "      <td>False</td>\n",
       "      <td>Edureka</td>\n",
       "    </tr>\n",
       "  </tbody>\n",
       "</table>\n",
       "</div>"
      ],
      "text/plain": [
       "   A          B    C  D      E        F\n",
       "0  1 2020-03-01  1.0  5   true  Edureka\n",
       "1  2 2020-03-01  1.0  5  false  Edureka\n",
       "2  3 2020-03-01  1.0  5   True  Edureka\n",
       "3  4 2020-03-01  1.0  5  False  Edureka"
      ]
     },
     "execution_count": 9,
     "metadata": {},
     "output_type": "execute_result"
    }
   ],
   "source": [
    "df1"
   ]
  },
  {
   "cell_type": "code",
   "execution_count": 10,
   "metadata": {},
   "outputs": [
    {
     "data": {
      "text/plain": [
       "A             int64\n",
       "B    datetime64[ns]\n",
       "C           float32\n",
       "D             int32\n",
       "E          category\n",
       "F            object\n",
       "dtype: object"
      ]
     },
     "execution_count": 10,
     "metadata": {},
     "output_type": "execute_result"
    }
   ],
   "source": [
    "df1.dtypes"
   ]
  },
  {
   "cell_type": "markdown",
   "metadata": {},
   "source": [
    "### Viewing data"
   ]
  },
  {
   "cell_type": "code",
   "execution_count": 11,
   "metadata": {},
   "outputs": [
    {
     "data": {
      "text/html": [
       "<div>\n",
       "<style scoped>\n",
       "    .dataframe tbody tr th:only-of-type {\n",
       "        vertical-align: middle;\n",
       "    }\n",
       "\n",
       "    .dataframe tbody tr th {\n",
       "        vertical-align: top;\n",
       "    }\n",
       "\n",
       "    .dataframe thead th {\n",
       "        text-align: right;\n",
       "    }\n",
       "</style>\n",
       "<table border=\"1\" class=\"dataframe\">\n",
       "  <thead>\n",
       "    <tr style=\"text-align: right;\">\n",
       "      <th></th>\n",
       "      <th>A</th>\n",
       "      <th>B</th>\n",
       "      <th>C</th>\n",
       "      <th>D</th>\n",
       "    </tr>\n",
       "  </thead>\n",
       "  <tbody>\n",
       "    <tr>\n",
       "      <th>2020-03-01</th>\n",
       "      <td>-0.084693</td>\n",
       "      <td>0.725556</td>\n",
       "      <td>-0.804611</td>\n",
       "      <td>-1.291762</td>\n",
       "    </tr>\n",
       "    <tr>\n",
       "      <th>2020-03-02</th>\n",
       "      <td>-0.343755</td>\n",
       "      <td>1.311228</td>\n",
       "      <td>-2.582982</td>\n",
       "      <td>-1.812649</td>\n",
       "    </tr>\n",
       "    <tr>\n",
       "      <th>2020-03-03</th>\n",
       "      <td>-0.118312</td>\n",
       "      <td>-0.191459</td>\n",
       "      <td>-0.936935</td>\n",
       "      <td>0.891118</td>\n",
       "    </tr>\n",
       "    <tr>\n",
       "      <th>2020-03-04</th>\n",
       "      <td>0.465854</td>\n",
       "      <td>-1.837215</td>\n",
       "      <td>-0.840053</td>\n",
       "      <td>-0.192826</td>\n",
       "    </tr>\n",
       "    <tr>\n",
       "      <th>2020-03-05</th>\n",
       "      <td>-0.615605</td>\n",
       "      <td>-0.392686</td>\n",
       "      <td>-1.202798</td>\n",
       "      <td>0.724123</td>\n",
       "    </tr>\n",
       "  </tbody>\n",
       "</table>\n",
       "</div>"
      ],
      "text/plain": [
       "                   A         B         C         D\n",
       "2020-03-01 -0.084693  0.725556 -0.804611 -1.291762\n",
       "2020-03-02 -0.343755  1.311228 -2.582982 -1.812649\n",
       "2020-03-03 -0.118312 -0.191459 -0.936935  0.891118\n",
       "2020-03-04  0.465854 -1.837215 -0.840053 -0.192826\n",
       "2020-03-05 -0.615605 -0.392686 -1.202798  0.724123"
      ]
     },
     "execution_count": 11,
     "metadata": {},
     "output_type": "execute_result"
    }
   ],
   "source": [
    "df.head() # first 5 rows"
   ]
  },
  {
   "cell_type": "code",
   "execution_count": 12,
   "metadata": {},
   "outputs": [
    {
     "data": {
      "text/html": [
       "<div>\n",
       "<style scoped>\n",
       "    .dataframe tbody tr th:only-of-type {\n",
       "        vertical-align: middle;\n",
       "    }\n",
       "\n",
       "    .dataframe tbody tr th {\n",
       "        vertical-align: top;\n",
       "    }\n",
       "\n",
       "    .dataframe thead th {\n",
       "        text-align: right;\n",
       "    }\n",
       "</style>\n",
       "<table border=\"1\" class=\"dataframe\">\n",
       "  <thead>\n",
       "    <tr style=\"text-align: right;\">\n",
       "      <th></th>\n",
       "      <th>A</th>\n",
       "      <th>B</th>\n",
       "      <th>C</th>\n",
       "      <th>D</th>\n",
       "    </tr>\n",
       "  </thead>\n",
       "  <tbody>\n",
       "    <tr>\n",
       "      <th>2020-03-06</th>\n",
       "      <td>1.327992</td>\n",
       "      <td>-0.002053</td>\n",
       "      <td>0.385158</td>\n",
       "      <td>-1.151489</td>\n",
       "    </tr>\n",
       "    <tr>\n",
       "      <th>2020-03-07</th>\n",
       "      <td>-0.302154</td>\n",
       "      <td>0.027486</td>\n",
       "      <td>-0.662304</td>\n",
       "      <td>-0.206137</td>\n",
       "    </tr>\n",
       "    <tr>\n",
       "      <th>2020-03-08</th>\n",
       "      <td>0.070571</td>\n",
       "      <td>-0.111438</td>\n",
       "      <td>1.576326</td>\n",
       "      <td>0.583458</td>\n",
       "    </tr>\n",
       "    <tr>\n",
       "      <th>2020-03-09</th>\n",
       "      <td>0.072697</td>\n",
       "      <td>0.383137</td>\n",
       "      <td>0.668853</td>\n",
       "      <td>-0.666442</td>\n",
       "    </tr>\n",
       "    <tr>\n",
       "      <th>2020-03-10</th>\n",
       "      <td>0.241585</td>\n",
       "      <td>0.529959</td>\n",
       "      <td>-0.382400</td>\n",
       "      <td>0.620896</td>\n",
       "    </tr>\n",
       "  </tbody>\n",
       "</table>\n",
       "</div>"
      ],
      "text/plain": [
       "                   A         B         C         D\n",
       "2020-03-06  1.327992 -0.002053  0.385158 -1.151489\n",
       "2020-03-07 -0.302154  0.027486 -0.662304 -0.206137\n",
       "2020-03-08  0.070571 -0.111438  1.576326  0.583458\n",
       "2020-03-09  0.072697  0.383137  0.668853 -0.666442\n",
       "2020-03-10  0.241585  0.529959 -0.382400  0.620896"
      ]
     },
     "execution_count": 12,
     "metadata": {},
     "output_type": "execute_result"
    }
   ],
   "source": [
    "df.tail() # last 5 rows"
   ]
  },
  {
   "cell_type": "code",
   "execution_count": 14,
   "metadata": {},
   "outputs": [
    {
     "data": {
      "text/plain": [
       "DatetimeIndex(['2020-03-01', '2020-03-02', '2020-03-03', '2020-03-04',\n",
       "               '2020-03-05', '2020-03-06', '2020-03-07', '2020-03-08',\n",
       "               '2020-03-09', '2020-03-10'],\n",
       "              dtype='datetime64[ns]', freq='D')"
      ]
     },
     "execution_count": 14,
     "metadata": {},
     "output_type": "execute_result"
    }
   ],
   "source": [
    "df.index"
   ]
  },
  {
   "cell_type": "code",
   "execution_count": 15,
   "metadata": {},
   "outputs": [
    {
     "data": {
      "text/plain": [
       "Index(['A', 'B', 'C', 'D'], dtype='object')"
      ]
     },
     "execution_count": 15,
     "metadata": {},
     "output_type": "execute_result"
    }
   ],
   "source": [
    "df.columns"
   ]
  },
  {
   "cell_type": "code",
   "execution_count": 16,
   "metadata": {},
   "outputs": [
    {
     "data": {
      "text/plain": [
       "array([[-8.46926562e-02,  7.25556199e-01, -8.04611215e-01,\n",
       "        -1.29176229e+00],\n",
       "       [-3.43754903e-01,  1.31122838e+00, -2.58298247e+00,\n",
       "        -1.81264949e+00],\n",
       "       [-1.18312025e-01, -1.91459266e-01, -9.36934611e-01,\n",
       "         8.91118161e-01],\n",
       "       [ 4.65854457e-01, -1.83721482e+00, -8.40052612e-01,\n",
       "        -1.92825707e-01],\n",
       "       [-6.15605109e-01, -3.92686360e-01, -1.20279802e+00,\n",
       "         7.24123498e-01],\n",
       "       [ 1.32799167e+00, -2.05308766e-03,  3.85158288e-01,\n",
       "        -1.15148923e+00],\n",
       "       [-3.02153567e-01,  2.74860072e-02, -6.62303817e-01,\n",
       "        -2.06136630e-01],\n",
       "       [ 7.05709557e-02, -1.11437568e-01,  1.57632561e+00,\n",
       "         5.83457720e-01],\n",
       "       [ 7.26969073e-02,  3.83137334e-01,  6.68852644e-01,\n",
       "        -6.66442392e-01],\n",
       "       [ 2.41585258e-01,  5.29958558e-01, -3.82399890e-01,\n",
       "         6.20896157e-01]])"
      ]
     },
     "execution_count": 16,
     "metadata": {},
     "output_type": "execute_result"
    }
   ],
   "source": [
    "df.to_numpy() # create numpy array from dataframe"
   ]
  },
  {
   "cell_type": "code",
   "execution_count": 17,
   "metadata": {},
   "outputs": [
    {
     "data": {
      "text/html": [
       "<div>\n",
       "<style scoped>\n",
       "    .dataframe tbody tr th:only-of-type {\n",
       "        vertical-align: middle;\n",
       "    }\n",
       "\n",
       "    .dataframe tbody tr th {\n",
       "        vertical-align: top;\n",
       "    }\n",
       "\n",
       "    .dataframe thead th {\n",
       "        text-align: right;\n",
       "    }\n",
       "</style>\n",
       "<table border=\"1\" class=\"dataframe\">\n",
       "  <thead>\n",
       "    <tr style=\"text-align: right;\">\n",
       "      <th></th>\n",
       "      <th>A</th>\n",
       "      <th>B</th>\n",
       "      <th>C</th>\n",
       "      <th>D</th>\n",
       "    </tr>\n",
       "  </thead>\n",
       "  <tbody>\n",
       "    <tr>\n",
       "      <th>count</th>\n",
       "      <td>10.000000</td>\n",
       "      <td>10.000000</td>\n",
       "      <td>10.000000</td>\n",
       "      <td>10.000000</td>\n",
       "    </tr>\n",
       "    <tr>\n",
       "      <th>mean</th>\n",
       "      <td>0.071418</td>\n",
       "      <td>0.044252</td>\n",
       "      <td>-0.478175</td>\n",
       "      <td>-0.250171</td>\n",
       "    </tr>\n",
       "    <tr>\n",
       "      <th>std</th>\n",
       "      <td>0.538290</td>\n",
       "      <td>0.832214</td>\n",
       "      <td>1.141555</td>\n",
       "      <td>0.955837</td>\n",
       "    </tr>\n",
       "    <tr>\n",
       "      <th>min</th>\n",
       "      <td>-0.615605</td>\n",
       "      <td>-1.837215</td>\n",
       "      <td>-2.582982</td>\n",
       "      <td>-1.812649</td>\n",
       "    </tr>\n",
       "    <tr>\n",
       "      <th>25%</th>\n",
       "      <td>-0.256193</td>\n",
       "      <td>-0.171454</td>\n",
       "      <td>-0.912714</td>\n",
       "      <td>-1.030228</td>\n",
       "    </tr>\n",
       "    <tr>\n",
       "      <th>50%</th>\n",
       "      <td>-0.007061</td>\n",
       "      <td>0.012716</td>\n",
       "      <td>-0.733458</td>\n",
       "      <td>-0.199481</td>\n",
       "    </tr>\n",
       "    <tr>\n",
       "      <th>75%</th>\n",
       "      <td>0.199363</td>\n",
       "      <td>0.493253</td>\n",
       "      <td>0.193269</td>\n",
       "      <td>0.611537</td>\n",
       "    </tr>\n",
       "    <tr>\n",
       "      <th>max</th>\n",
       "      <td>1.327992</td>\n",
       "      <td>1.311228</td>\n",
       "      <td>1.576326</td>\n",
       "      <td>0.891118</td>\n",
       "    </tr>\n",
       "  </tbody>\n",
       "</table>\n",
       "</div>"
      ],
      "text/plain": [
       "               A          B          C          D\n",
       "count  10.000000  10.000000  10.000000  10.000000\n",
       "mean    0.071418   0.044252  -0.478175  -0.250171\n",
       "std     0.538290   0.832214   1.141555   0.955837\n",
       "min    -0.615605  -1.837215  -2.582982  -1.812649\n",
       "25%    -0.256193  -0.171454  -0.912714  -1.030228\n",
       "50%    -0.007061   0.012716  -0.733458  -0.199481\n",
       "75%     0.199363   0.493253   0.193269   0.611537\n",
       "max     1.327992   1.311228   1.576326   0.891118"
      ]
     },
     "execution_count": 17,
     "metadata": {},
     "output_type": "execute_result"
    }
   ],
   "source": [
    "df.describe()"
   ]
  },
  {
   "cell_type": "code",
   "execution_count": 18,
   "metadata": {},
   "outputs": [
    {
     "data": {
      "text/html": [
       "<div>\n",
       "<style scoped>\n",
       "    .dataframe tbody tr th:only-of-type {\n",
       "        vertical-align: middle;\n",
       "    }\n",
       "\n",
       "    .dataframe tbody tr th {\n",
       "        vertical-align: top;\n",
       "    }\n",
       "\n",
       "    .dataframe thead th {\n",
       "        text-align: right;\n",
       "    }\n",
       "</style>\n",
       "<table border=\"1\" class=\"dataframe\">\n",
       "  <thead>\n",
       "    <tr style=\"text-align: right;\">\n",
       "      <th></th>\n",
       "      <th>D</th>\n",
       "      <th>C</th>\n",
       "      <th>B</th>\n",
       "      <th>A</th>\n",
       "    </tr>\n",
       "  </thead>\n",
       "  <tbody>\n",
       "    <tr>\n",
       "      <th>2020-03-01</th>\n",
       "      <td>-1.291762</td>\n",
       "      <td>-0.804611</td>\n",
       "      <td>0.725556</td>\n",
       "      <td>-0.084693</td>\n",
       "    </tr>\n",
       "    <tr>\n",
       "      <th>2020-03-02</th>\n",
       "      <td>-1.812649</td>\n",
       "      <td>-2.582982</td>\n",
       "      <td>1.311228</td>\n",
       "      <td>-0.343755</td>\n",
       "    </tr>\n",
       "    <tr>\n",
       "      <th>2020-03-03</th>\n",
       "      <td>0.891118</td>\n",
       "      <td>-0.936935</td>\n",
       "      <td>-0.191459</td>\n",
       "      <td>-0.118312</td>\n",
       "    </tr>\n",
       "    <tr>\n",
       "      <th>2020-03-04</th>\n",
       "      <td>-0.192826</td>\n",
       "      <td>-0.840053</td>\n",
       "      <td>-1.837215</td>\n",
       "      <td>0.465854</td>\n",
       "    </tr>\n",
       "    <tr>\n",
       "      <th>2020-03-05</th>\n",
       "      <td>0.724123</td>\n",
       "      <td>-1.202798</td>\n",
       "      <td>-0.392686</td>\n",
       "      <td>-0.615605</td>\n",
       "    </tr>\n",
       "    <tr>\n",
       "      <th>2020-03-06</th>\n",
       "      <td>-1.151489</td>\n",
       "      <td>0.385158</td>\n",
       "      <td>-0.002053</td>\n",
       "      <td>1.327992</td>\n",
       "    </tr>\n",
       "    <tr>\n",
       "      <th>2020-03-07</th>\n",
       "      <td>-0.206137</td>\n",
       "      <td>-0.662304</td>\n",
       "      <td>0.027486</td>\n",
       "      <td>-0.302154</td>\n",
       "    </tr>\n",
       "    <tr>\n",
       "      <th>2020-03-08</th>\n",
       "      <td>0.583458</td>\n",
       "      <td>1.576326</td>\n",
       "      <td>-0.111438</td>\n",
       "      <td>0.070571</td>\n",
       "    </tr>\n",
       "    <tr>\n",
       "      <th>2020-03-09</th>\n",
       "      <td>-0.666442</td>\n",
       "      <td>0.668853</td>\n",
       "      <td>0.383137</td>\n",
       "      <td>0.072697</td>\n",
       "    </tr>\n",
       "    <tr>\n",
       "      <th>2020-03-10</th>\n",
       "      <td>0.620896</td>\n",
       "      <td>-0.382400</td>\n",
       "      <td>0.529959</td>\n",
       "      <td>0.241585</td>\n",
       "    </tr>\n",
       "  </tbody>\n",
       "</table>\n",
       "</div>"
      ],
      "text/plain": [
       "                   D         C         B         A\n",
       "2020-03-01 -1.291762 -0.804611  0.725556 -0.084693\n",
       "2020-03-02 -1.812649 -2.582982  1.311228 -0.343755\n",
       "2020-03-03  0.891118 -0.936935 -0.191459 -0.118312\n",
       "2020-03-04 -0.192826 -0.840053 -1.837215  0.465854\n",
       "2020-03-05  0.724123 -1.202798 -0.392686 -0.615605\n",
       "2020-03-06 -1.151489  0.385158 -0.002053  1.327992\n",
       "2020-03-07 -0.206137 -0.662304  0.027486 -0.302154\n",
       "2020-03-08  0.583458  1.576326 -0.111438  0.070571\n",
       "2020-03-09 -0.666442  0.668853  0.383137  0.072697\n",
       "2020-03-10  0.620896 -0.382400  0.529959  0.241585"
      ]
     },
     "execution_count": 18,
     "metadata": {},
     "output_type": "execute_result"
    }
   ],
   "source": [
    "df.sort_index(axis=1, ascending=False) # sorted index"
   ]
  },
  {
   "cell_type": "code",
   "execution_count": 20,
   "metadata": {},
   "outputs": [
    {
     "data": {
      "text/html": [
       "<div>\n",
       "<style scoped>\n",
       "    .dataframe tbody tr th:only-of-type {\n",
       "        vertical-align: middle;\n",
       "    }\n",
       "\n",
       "    .dataframe tbody tr th {\n",
       "        vertical-align: top;\n",
       "    }\n",
       "\n",
       "    .dataframe thead th {\n",
       "        text-align: right;\n",
       "    }\n",
       "</style>\n",
       "<table border=\"1\" class=\"dataframe\">\n",
       "  <thead>\n",
       "    <tr style=\"text-align: right;\">\n",
       "      <th></th>\n",
       "      <th>A</th>\n",
       "      <th>B</th>\n",
       "      <th>C</th>\n",
       "      <th>D</th>\n",
       "    </tr>\n",
       "  </thead>\n",
       "  <tbody>\n",
       "    <tr>\n",
       "      <th>2020-03-02</th>\n",
       "      <td>-0.343755</td>\n",
       "      <td>1.311228</td>\n",
       "      <td>-2.582982</td>\n",
       "      <td>-1.812649</td>\n",
       "    </tr>\n",
       "    <tr>\n",
       "      <th>2020-03-05</th>\n",
       "      <td>-0.615605</td>\n",
       "      <td>-0.392686</td>\n",
       "      <td>-1.202798</td>\n",
       "      <td>0.724123</td>\n",
       "    </tr>\n",
       "    <tr>\n",
       "      <th>2020-03-03</th>\n",
       "      <td>-0.118312</td>\n",
       "      <td>-0.191459</td>\n",
       "      <td>-0.936935</td>\n",
       "      <td>0.891118</td>\n",
       "    </tr>\n",
       "    <tr>\n",
       "      <th>2020-03-04</th>\n",
       "      <td>0.465854</td>\n",
       "      <td>-1.837215</td>\n",
       "      <td>-0.840053</td>\n",
       "      <td>-0.192826</td>\n",
       "    </tr>\n",
       "    <tr>\n",
       "      <th>2020-03-01</th>\n",
       "      <td>-0.084693</td>\n",
       "      <td>0.725556</td>\n",
       "      <td>-0.804611</td>\n",
       "      <td>-1.291762</td>\n",
       "    </tr>\n",
       "    <tr>\n",
       "      <th>2020-03-07</th>\n",
       "      <td>-0.302154</td>\n",
       "      <td>0.027486</td>\n",
       "      <td>-0.662304</td>\n",
       "      <td>-0.206137</td>\n",
       "    </tr>\n",
       "    <tr>\n",
       "      <th>2020-03-10</th>\n",
       "      <td>0.241585</td>\n",
       "      <td>0.529959</td>\n",
       "      <td>-0.382400</td>\n",
       "      <td>0.620896</td>\n",
       "    </tr>\n",
       "    <tr>\n",
       "      <th>2020-03-06</th>\n",
       "      <td>1.327992</td>\n",
       "      <td>-0.002053</td>\n",
       "      <td>0.385158</td>\n",
       "      <td>-1.151489</td>\n",
       "    </tr>\n",
       "    <tr>\n",
       "      <th>2020-03-09</th>\n",
       "      <td>0.072697</td>\n",
       "      <td>0.383137</td>\n",
       "      <td>0.668853</td>\n",
       "      <td>-0.666442</td>\n",
       "    </tr>\n",
       "    <tr>\n",
       "      <th>2020-03-08</th>\n",
       "      <td>0.070571</td>\n",
       "      <td>-0.111438</td>\n",
       "      <td>1.576326</td>\n",
       "      <td>0.583458</td>\n",
       "    </tr>\n",
       "  </tbody>\n",
       "</table>\n",
       "</div>"
      ],
      "text/plain": [
       "                   A         B         C         D\n",
       "2020-03-02 -0.343755  1.311228 -2.582982 -1.812649\n",
       "2020-03-05 -0.615605 -0.392686 -1.202798  0.724123\n",
       "2020-03-03 -0.118312 -0.191459 -0.936935  0.891118\n",
       "2020-03-04  0.465854 -1.837215 -0.840053 -0.192826\n",
       "2020-03-01 -0.084693  0.725556 -0.804611 -1.291762\n",
       "2020-03-07 -0.302154  0.027486 -0.662304 -0.206137\n",
       "2020-03-10  0.241585  0.529959 -0.382400  0.620896\n",
       "2020-03-06  1.327992 -0.002053  0.385158 -1.151489\n",
       "2020-03-09  0.072697  0.383137  0.668853 -0.666442\n",
       "2020-03-08  0.070571 -0.111438  1.576326  0.583458"
      ]
     },
     "execution_count": 20,
     "metadata": {},
     "output_type": "execute_result"
    }
   ],
   "source": [
    "df.sort_values(by='C') # sorted C"
   ]
  },
  {
   "cell_type": "code",
   "execution_count": 21,
   "metadata": {},
   "outputs": [
    {
     "data": {
      "text/plain": [
       "2020-03-01   -0.804611\n",
       "2020-03-02   -2.582982\n",
       "2020-03-03   -0.936935\n",
       "2020-03-04   -0.840053\n",
       "2020-03-05   -1.202798\n",
       "2020-03-06    0.385158\n",
       "2020-03-07   -0.662304\n",
       "2020-03-08    1.576326\n",
       "2020-03-09    0.668853\n",
       "2020-03-10   -0.382400\n",
       "Freq: D, Name: C, dtype: float64"
      ]
     },
     "execution_count": 21,
     "metadata": {},
     "output_type": "execute_result"
    }
   ],
   "source": [
    "# select single column\n",
    "\n",
    "df['C']"
   ]
  },
  {
   "cell_type": "code",
   "execution_count": 22,
   "metadata": {},
   "outputs": [
    {
     "data": {
      "text/html": [
       "<div>\n",
       "<style scoped>\n",
       "    .dataframe tbody tr th:only-of-type {\n",
       "        vertical-align: middle;\n",
       "    }\n",
       "\n",
       "    .dataframe tbody tr th {\n",
       "        vertical-align: top;\n",
       "    }\n",
       "\n",
       "    .dataframe thead th {\n",
       "        text-align: right;\n",
       "    }\n",
       "</style>\n",
       "<table border=\"1\" class=\"dataframe\">\n",
       "  <thead>\n",
       "    <tr style=\"text-align: right;\">\n",
       "      <th></th>\n",
       "      <th>A</th>\n",
       "      <th>B</th>\n",
       "      <th>C</th>\n",
       "      <th>D</th>\n",
       "    </tr>\n",
       "  </thead>\n",
       "  <tbody>\n",
       "    <tr>\n",
       "      <th>2020-03-01</th>\n",
       "      <td>-0.084693</td>\n",
       "      <td>0.725556</td>\n",
       "      <td>-0.804611</td>\n",
       "      <td>-1.291762</td>\n",
       "    </tr>\n",
       "    <tr>\n",
       "      <th>2020-03-02</th>\n",
       "      <td>-0.343755</td>\n",
       "      <td>1.311228</td>\n",
       "      <td>-2.582982</td>\n",
       "      <td>-1.812649</td>\n",
       "    </tr>\n",
       "    <tr>\n",
       "      <th>2020-03-03</th>\n",
       "      <td>-0.118312</td>\n",
       "      <td>-0.191459</td>\n",
       "      <td>-0.936935</td>\n",
       "      <td>0.891118</td>\n",
       "    </tr>\n",
       "  </tbody>\n",
       "</table>\n",
       "</div>"
      ],
      "text/plain": [
       "                   A         B         C         D\n",
       "2020-03-01 -0.084693  0.725556 -0.804611 -1.291762\n",
       "2020-03-02 -0.343755  1.311228 -2.582982 -1.812649\n",
       "2020-03-03 -0.118312 -0.191459 -0.936935  0.891118"
      ]
     },
     "execution_count": 22,
     "metadata": {},
     "output_type": "execute_result"
    }
   ],
   "source": [
    "# slice rows\n",
    "\n",
    "df[0:3]"
   ]
  },
  {
   "cell_type": "code",
   "execution_count": 24,
   "metadata": {},
   "outputs": [
    {
     "data": {
      "text/plain": [
       "A   -0.084693\n",
       "B    0.725556\n",
       "C   -0.804611\n",
       "D   -1.291762\n",
       "Name: 2020-03-01 00:00:00, dtype: float64"
      ]
     },
     "execution_count": 24,
     "metadata": {},
     "output_type": "execute_result"
    }
   ],
   "source": [
    "# select data using levels\n",
    "df.loc[d[0]] #d = dates... data in date 0"
   ]
  },
  {
   "cell_type": "code",
   "execution_count": 26,
   "metadata": {},
   "outputs": [
    {
     "data": {
      "text/html": [
       "<div>\n",
       "<style scoped>\n",
       "    .dataframe tbody tr th:only-of-type {\n",
       "        vertical-align: middle;\n",
       "    }\n",
       "\n",
       "    .dataframe tbody tr th {\n",
       "        vertical-align: top;\n",
       "    }\n",
       "\n",
       "    .dataframe thead th {\n",
       "        text-align: right;\n",
       "    }\n",
       "</style>\n",
       "<table border=\"1\" class=\"dataframe\">\n",
       "  <thead>\n",
       "    <tr style=\"text-align: right;\">\n",
       "      <th></th>\n",
       "      <th>B</th>\n",
       "      <th>C</th>\n",
       "    </tr>\n",
       "  </thead>\n",
       "  <tbody>\n",
       "    <tr>\n",
       "      <th>2020-03-01</th>\n",
       "      <td>0.725556</td>\n",
       "      <td>-0.804611</td>\n",
       "    </tr>\n",
       "    <tr>\n",
       "      <th>2020-03-02</th>\n",
       "      <td>1.311228</td>\n",
       "      <td>-2.582982</td>\n",
       "    </tr>\n",
       "    <tr>\n",
       "      <th>2020-03-03</th>\n",
       "      <td>-0.191459</td>\n",
       "      <td>-0.936935</td>\n",
       "    </tr>\n",
       "    <tr>\n",
       "      <th>2020-03-04</th>\n",
       "      <td>-1.837215</td>\n",
       "      <td>-0.840053</td>\n",
       "    </tr>\n",
       "    <tr>\n",
       "      <th>2020-03-05</th>\n",
       "      <td>-0.392686</td>\n",
       "      <td>-1.202798</td>\n",
       "    </tr>\n",
       "    <tr>\n",
       "      <th>2020-03-06</th>\n",
       "      <td>-0.002053</td>\n",
       "      <td>0.385158</td>\n",
       "    </tr>\n",
       "    <tr>\n",
       "      <th>2020-03-07</th>\n",
       "      <td>0.027486</td>\n",
       "      <td>-0.662304</td>\n",
       "    </tr>\n",
       "    <tr>\n",
       "      <th>2020-03-08</th>\n",
       "      <td>-0.111438</td>\n",
       "      <td>1.576326</td>\n",
       "    </tr>\n",
       "    <tr>\n",
       "      <th>2020-03-09</th>\n",
       "      <td>0.383137</td>\n",
       "      <td>0.668853</td>\n",
       "    </tr>\n",
       "    <tr>\n",
       "      <th>2020-03-10</th>\n",
       "      <td>0.529959</td>\n",
       "      <td>-0.382400</td>\n",
       "    </tr>\n",
       "  </tbody>\n",
       "</table>\n",
       "</div>"
      ],
      "text/plain": [
       "                   B         C\n",
       "2020-03-01  0.725556 -0.804611\n",
       "2020-03-02  1.311228 -2.582982\n",
       "2020-03-03 -0.191459 -0.936935\n",
       "2020-03-04 -1.837215 -0.840053\n",
       "2020-03-05 -0.392686 -1.202798\n",
       "2020-03-06 -0.002053  0.385158\n",
       "2020-03-07  0.027486 -0.662304\n",
       "2020-03-08 -0.111438  1.576326\n",
       "2020-03-09  0.383137  0.668853\n",
       "2020-03-10  0.529959 -0.382400"
      ]
     },
     "execution_count": 26,
     "metadata": {},
     "output_type": "execute_result"
    }
   ],
   "source": [
    "# selecting data on multi axis by label\n",
    "df.loc[:,['B','C']]"
   ]
  },
  {
   "cell_type": "code",
   "execution_count": 28,
   "metadata": {},
   "outputs": [
    {
     "data": {
      "text/html": [
       "<div>\n",
       "<style scoped>\n",
       "    .dataframe tbody tr th:only-of-type {\n",
       "        vertical-align: middle;\n",
       "    }\n",
       "\n",
       "    .dataframe tbody tr th {\n",
       "        vertical-align: top;\n",
       "    }\n",
       "\n",
       "    .dataframe thead th {\n",
       "        text-align: right;\n",
       "    }\n",
       "</style>\n",
       "<table border=\"1\" class=\"dataframe\">\n",
       "  <thead>\n",
       "    <tr style=\"text-align: right;\">\n",
       "      <th></th>\n",
       "      <th>B</th>\n",
       "      <th>C</th>\n",
       "    </tr>\n",
       "  </thead>\n",
       "  <tbody>\n",
       "    <tr>\n",
       "      <th>2020-03-01</th>\n",
       "      <td>0.725556</td>\n",
       "      <td>-0.804611</td>\n",
       "    </tr>\n",
       "    <tr>\n",
       "      <th>2020-03-02</th>\n",
       "      <td>1.311228</td>\n",
       "      <td>-2.582982</td>\n",
       "    </tr>\n",
       "    <tr>\n",
       "      <th>2020-03-03</th>\n",
       "      <td>-0.191459</td>\n",
       "      <td>-0.936935</td>\n",
       "    </tr>\n",
       "    <tr>\n",
       "      <th>2020-03-04</th>\n",
       "      <td>-1.837215</td>\n",
       "      <td>-0.840053</td>\n",
       "    </tr>\n",
       "    <tr>\n",
       "      <th>2020-03-05</th>\n",
       "      <td>-0.392686</td>\n",
       "      <td>-1.202798</td>\n",
       "    </tr>\n",
       "    <tr>\n",
       "      <th>2020-03-06</th>\n",
       "      <td>-0.002053</td>\n",
       "      <td>0.385158</td>\n",
       "    </tr>\n",
       "  </tbody>\n",
       "</table>\n",
       "</div>"
      ],
      "text/plain": [
       "                   B         C\n",
       "2020-03-01  0.725556 -0.804611\n",
       "2020-03-02  1.311228 -2.582982\n",
       "2020-03-03 -0.191459 -0.936935\n",
       "2020-03-04 -1.837215 -0.840053\n",
       "2020-03-05 -0.392686 -1.202798\n",
       "2020-03-06 -0.002053  0.385158"
      ]
     },
     "execution_count": 28,
     "metadata": {},
     "output_type": "execute_result"
    }
   ],
   "source": [
    "#showning label slicing \n",
    "df.loc['20200301':'20200306',['B','C']]"
   ]
  },
  {
   "cell_type": "code",
   "execution_count": 29,
   "metadata": {},
   "outputs": [
    {
     "data": {
      "text/plain": [
       "B   -0.002053\n",
       "C    0.385158\n",
       "Name: 2020-03-06 00:00:00, dtype: float64"
      ]
     },
     "execution_count": 29,
     "metadata": {},
     "output_type": "execute_result"
    }
   ],
   "source": [
    "df.loc['20200306',['B','C']] # get values"
   ]
  },
  {
   "cell_type": "code",
   "execution_count": 32,
   "metadata": {},
   "outputs": [
    {
     "data": {
      "text/plain": [
       "B   -0.002053\n",
       "C    0.385158\n",
       "Name: 2020-03-06 00:00:00, dtype: float64"
      ]
     },
     "execution_count": 32,
     "metadata": {},
     "output_type": "execute_result"
    }
   ],
   "source": [
    "df.loc[d[5],['B','C']]"
   ]
  },
  {
   "cell_type": "code",
   "execution_count": 33,
   "metadata": {},
   "outputs": [
    {
     "data": {
      "text/plain": [
       "-0.8046112152489149"
      ]
     },
     "execution_count": 33,
     "metadata": {},
     "output_type": "execute_result"
    }
   ],
   "source": [
    "df.at[d[0],'C'] # exact value of 0 row c col"
   ]
  },
  {
   "cell_type": "code",
   "execution_count": 34,
   "metadata": {},
   "outputs": [
    {
     "data": {
      "text/plain": [
       "A    0.465854\n",
       "B   -1.837215\n",
       "C   -0.840053\n",
       "D   -0.192826\n",
       "Name: 2020-03-04 00:00:00, dtype: float64"
      ]
     },
     "execution_count": 34,
     "metadata": {},
     "output_type": "execute_result"
    }
   ],
   "source": [
    "df.iloc[3] # all values on 3rd+1 row"
   ]
  },
  {
   "cell_type": "code",
   "execution_count": 35,
   "metadata": {},
   "outputs": [
    {
     "data": {
      "text/html": [
       "<div>\n",
       "<style scoped>\n",
       "    .dataframe tbody tr th:only-of-type {\n",
       "        vertical-align: middle;\n",
       "    }\n",
       "\n",
       "    .dataframe tbody tr th {\n",
       "        vertical-align: top;\n",
       "    }\n",
       "\n",
       "    .dataframe thead th {\n",
       "        text-align: right;\n",
       "    }\n",
       "</style>\n",
       "<table border=\"1\" class=\"dataframe\">\n",
       "  <thead>\n",
       "    <tr style=\"text-align: right;\">\n",
       "      <th></th>\n",
       "      <th>A</th>\n",
       "      <th>B</th>\n",
       "      <th>C</th>\n",
       "      <th>D</th>\n",
       "    </tr>\n",
       "  </thead>\n",
       "  <tbody>\n",
       "    <tr>\n",
       "      <th>2020-03-04</th>\n",
       "      <td>0.465854</td>\n",
       "      <td>-1.837215</td>\n",
       "      <td>-0.840053</td>\n",
       "      <td>-0.192826</td>\n",
       "    </tr>\n",
       "    <tr>\n",
       "      <th>2020-03-05</th>\n",
       "      <td>-0.615605</td>\n",
       "      <td>-0.392686</td>\n",
       "      <td>-1.202798</td>\n",
       "      <td>0.724123</td>\n",
       "    </tr>\n",
       "  </tbody>\n",
       "</table>\n",
       "</div>"
      ],
      "text/plain": [
       "                   A         B         C         D\n",
       "2020-03-04  0.465854 -1.837215 -0.840053 -0.192826\n",
       "2020-03-05 -0.615605 -0.392686 -1.202798  0.724123"
      ]
     },
     "execution_count": 35,
     "metadata": {},
     "output_type": "execute_result"
    }
   ],
   "source": [
    "df.iloc[3:5]"
   ]
  },
  {
   "cell_type": "code",
   "execution_count": 36,
   "metadata": {},
   "outputs": [
    {
     "data": {
      "text/html": [
       "<div>\n",
       "<style scoped>\n",
       "    .dataframe tbody tr th:only-of-type {\n",
       "        vertical-align: middle;\n",
       "    }\n",
       "\n",
       "    .dataframe tbody tr th {\n",
       "        vertical-align: top;\n",
       "    }\n",
       "\n",
       "    .dataframe thead th {\n",
       "        text-align: right;\n",
       "    }\n",
       "</style>\n",
       "<table border=\"1\" class=\"dataframe\">\n",
       "  <thead>\n",
       "    <tr style=\"text-align: right;\">\n",
       "      <th></th>\n",
       "      <th>A</th>\n",
       "      <th>B</th>\n",
       "    </tr>\n",
       "  </thead>\n",
       "  <tbody>\n",
       "    <tr>\n",
       "      <th>2020-03-04</th>\n",
       "      <td>0.465854</td>\n",
       "      <td>-1.837215</td>\n",
       "    </tr>\n",
       "    <tr>\n",
       "      <th>2020-03-05</th>\n",
       "      <td>-0.615605</td>\n",
       "      <td>-0.392686</td>\n",
       "    </tr>\n",
       "  </tbody>\n",
       "</table>\n",
       "</div>"
      ],
      "text/plain": [
       "                   A         B\n",
       "2020-03-04  0.465854 -1.837215\n",
       "2020-03-05 -0.615605 -0.392686"
      ]
     },
     "execution_count": 36,
     "metadata": {},
     "output_type": "execute_result"
    }
   ],
   "source": [
    "df.iloc[3:5,0:2]"
   ]
  },
  {
   "cell_type": "code",
   "execution_count": 37,
   "metadata": {},
   "outputs": [
    {
     "data": {
      "text/html": [
       "<div>\n",
       "<style scoped>\n",
       "    .dataframe tbody tr th:only-of-type {\n",
       "        vertical-align: middle;\n",
       "    }\n",
       "\n",
       "    .dataframe tbody tr th {\n",
       "        vertical-align: top;\n",
       "    }\n",
       "\n",
       "    .dataframe thead th {\n",
       "        text-align: right;\n",
       "    }\n",
       "</style>\n",
       "<table border=\"1\" class=\"dataframe\">\n",
       "  <thead>\n",
       "    <tr style=\"text-align: right;\">\n",
       "      <th></th>\n",
       "      <th>A</th>\n",
       "      <th>B</th>\n",
       "      <th>C</th>\n",
       "      <th>D</th>\n",
       "    </tr>\n",
       "  </thead>\n",
       "  <tbody>\n",
       "    <tr>\n",
       "      <th>2020-03-04</th>\n",
       "      <td>0.465854</td>\n",
       "      <td>-1.837215</td>\n",
       "      <td>-0.840053</td>\n",
       "      <td>-0.192826</td>\n",
       "    </tr>\n",
       "    <tr>\n",
       "      <th>2020-03-06</th>\n",
       "      <td>1.327992</td>\n",
       "      <td>-0.002053</td>\n",
       "      <td>0.385158</td>\n",
       "      <td>-1.151489</td>\n",
       "    </tr>\n",
       "    <tr>\n",
       "      <th>2020-03-08</th>\n",
       "      <td>0.070571</td>\n",
       "      <td>-0.111438</td>\n",
       "      <td>1.576326</td>\n",
       "      <td>0.583458</td>\n",
       "    </tr>\n",
       "    <tr>\n",
       "      <th>2020-03-09</th>\n",
       "      <td>0.072697</td>\n",
       "      <td>0.383137</td>\n",
       "      <td>0.668853</td>\n",
       "      <td>-0.666442</td>\n",
       "    </tr>\n",
       "    <tr>\n",
       "      <th>2020-03-10</th>\n",
       "      <td>0.241585</td>\n",
       "      <td>0.529959</td>\n",
       "      <td>-0.382400</td>\n",
       "      <td>0.620896</td>\n",
       "    </tr>\n",
       "  </tbody>\n",
       "</table>\n",
       "</div>"
      ],
      "text/plain": [
       "                   A         B         C         D\n",
       "2020-03-04  0.465854 -1.837215 -0.840053 -0.192826\n",
       "2020-03-06  1.327992 -0.002053  0.385158 -1.151489\n",
       "2020-03-08  0.070571 -0.111438  1.576326  0.583458\n",
       "2020-03-09  0.072697  0.383137  0.668853 -0.666442\n",
       "2020-03-10  0.241585  0.529959 -0.382400  0.620896"
      ]
     },
     "execution_count": 37,
     "metadata": {},
     "output_type": "execute_result"
    }
   ],
   "source": [
    "df[df['A']>0] # all values of A where A>0"
   ]
  },
  {
   "cell_type": "markdown",
   "metadata": {},
   "source": [
    "### Handling mising data"
   ]
  },
  {
   "cell_type": "code",
   "execution_count": 38,
   "metadata": {},
   "outputs": [],
   "source": [
    "df2= df.reindex(index=d[0:4], columns=list(df.columns)+['E'])"
   ]
  },
  {
   "cell_type": "code",
   "execution_count": 39,
   "metadata": {},
   "outputs": [],
   "source": [
    "df2.loc[d[0]:d[1],'E']=1"
   ]
  },
  {
   "cell_type": "code",
   "execution_count": 40,
   "metadata": {},
   "outputs": [
    {
     "data": {
      "text/html": [
       "<div>\n",
       "<style scoped>\n",
       "    .dataframe tbody tr th:only-of-type {\n",
       "        vertical-align: middle;\n",
       "    }\n",
       "\n",
       "    .dataframe tbody tr th {\n",
       "        vertical-align: top;\n",
       "    }\n",
       "\n",
       "    .dataframe thead th {\n",
       "        text-align: right;\n",
       "    }\n",
       "</style>\n",
       "<table border=\"1\" class=\"dataframe\">\n",
       "  <thead>\n",
       "    <tr style=\"text-align: right;\">\n",
       "      <th></th>\n",
       "      <th>A</th>\n",
       "      <th>B</th>\n",
       "      <th>C</th>\n",
       "      <th>D</th>\n",
       "      <th>E</th>\n",
       "    </tr>\n",
       "  </thead>\n",
       "  <tbody>\n",
       "    <tr>\n",
       "      <th>2020-03-01</th>\n",
       "      <td>-0.084693</td>\n",
       "      <td>0.725556</td>\n",
       "      <td>-0.804611</td>\n",
       "      <td>-1.291762</td>\n",
       "      <td>1.0</td>\n",
       "    </tr>\n",
       "    <tr>\n",
       "      <th>2020-03-02</th>\n",
       "      <td>-0.343755</td>\n",
       "      <td>1.311228</td>\n",
       "      <td>-2.582982</td>\n",
       "      <td>-1.812649</td>\n",
       "      <td>1.0</td>\n",
       "    </tr>\n",
       "    <tr>\n",
       "      <th>2020-03-03</th>\n",
       "      <td>-0.118312</td>\n",
       "      <td>-0.191459</td>\n",
       "      <td>-0.936935</td>\n",
       "      <td>0.891118</td>\n",
       "      <td>NaN</td>\n",
       "    </tr>\n",
       "    <tr>\n",
       "      <th>2020-03-04</th>\n",
       "      <td>0.465854</td>\n",
       "      <td>-1.837215</td>\n",
       "      <td>-0.840053</td>\n",
       "      <td>-0.192826</td>\n",
       "      <td>NaN</td>\n",
       "    </tr>\n",
       "  </tbody>\n",
       "</table>\n",
       "</div>"
      ],
      "text/plain": [
       "                   A         B         C         D    E\n",
       "2020-03-01 -0.084693  0.725556 -0.804611 -1.291762  1.0\n",
       "2020-03-02 -0.343755  1.311228 -2.582982 -1.812649  1.0\n",
       "2020-03-03 -0.118312 -0.191459 -0.936935  0.891118  NaN\n",
       "2020-03-04  0.465854 -1.837215 -0.840053 -0.192826  NaN"
      ]
     },
     "execution_count": 40,
     "metadata": {},
     "output_type": "execute_result"
    }
   ],
   "source": [
    "df2"
   ]
  },
  {
   "cell_type": "code",
   "execution_count": 41,
   "metadata": {},
   "outputs": [
    {
     "data": {
      "text/html": [
       "<div>\n",
       "<style scoped>\n",
       "    .dataframe tbody tr th:only-of-type {\n",
       "        vertical-align: middle;\n",
       "    }\n",
       "\n",
       "    .dataframe tbody tr th {\n",
       "        vertical-align: top;\n",
       "    }\n",
       "\n",
       "    .dataframe thead th {\n",
       "        text-align: right;\n",
       "    }\n",
       "</style>\n",
       "<table border=\"1\" class=\"dataframe\">\n",
       "  <thead>\n",
       "    <tr style=\"text-align: right;\">\n",
       "      <th></th>\n",
       "      <th>A</th>\n",
       "      <th>B</th>\n",
       "      <th>C</th>\n",
       "      <th>D</th>\n",
       "      <th>E</th>\n",
       "    </tr>\n",
       "  </thead>\n",
       "  <tbody>\n",
       "    <tr>\n",
       "      <th>2020-03-01</th>\n",
       "      <td>False</td>\n",
       "      <td>False</td>\n",
       "      <td>False</td>\n",
       "      <td>False</td>\n",
       "      <td>False</td>\n",
       "    </tr>\n",
       "    <tr>\n",
       "      <th>2020-03-02</th>\n",
       "      <td>False</td>\n",
       "      <td>False</td>\n",
       "      <td>False</td>\n",
       "      <td>False</td>\n",
       "      <td>False</td>\n",
       "    </tr>\n",
       "    <tr>\n",
       "      <th>2020-03-03</th>\n",
       "      <td>False</td>\n",
       "      <td>False</td>\n",
       "      <td>False</td>\n",
       "      <td>False</td>\n",
       "      <td>True</td>\n",
       "    </tr>\n",
       "    <tr>\n",
       "      <th>2020-03-04</th>\n",
       "      <td>False</td>\n",
       "      <td>False</td>\n",
       "      <td>False</td>\n",
       "      <td>False</td>\n",
       "      <td>True</td>\n",
       "    </tr>\n",
       "  </tbody>\n",
       "</table>\n",
       "</div>"
      ],
      "text/plain": [
       "                A      B      C      D      E\n",
       "2020-03-01  False  False  False  False  False\n",
       "2020-03-02  False  False  False  False  False\n",
       "2020-03-03  False  False  False  False   True\n",
       "2020-03-04  False  False  False  False   True"
      ]
     },
     "execution_count": 41,
     "metadata": {},
     "output_type": "execute_result"
    }
   ],
   "source": [
    "df2.isnull()"
   ]
  },
  {
   "cell_type": "code",
   "execution_count": 43,
   "metadata": {},
   "outputs": [
    {
     "data": {
      "text/plain": [
       "A    4\n",
       "B    4\n",
       "C    4\n",
       "D    4\n",
       "E    4\n",
       "dtype: int64"
      ]
     },
     "execution_count": 43,
     "metadata": {},
     "output_type": "execute_result"
    }
   ],
   "source": [
    "df2.isnull().count()"
   ]
  },
  {
   "cell_type": "code",
   "execution_count": 44,
   "metadata": {},
   "outputs": [
    {
     "data": {
      "text/html": [
       "<div>\n",
       "<style scoped>\n",
       "    .dataframe tbody tr th:only-of-type {\n",
       "        vertical-align: middle;\n",
       "    }\n",
       "\n",
       "    .dataframe tbody tr th {\n",
       "        vertical-align: top;\n",
       "    }\n",
       "\n",
       "    .dataframe thead th {\n",
       "        text-align: right;\n",
       "    }\n",
       "</style>\n",
       "<table border=\"1\" class=\"dataframe\">\n",
       "  <thead>\n",
       "    <tr style=\"text-align: right;\">\n",
       "      <th></th>\n",
       "      <th>A</th>\n",
       "      <th>B</th>\n",
       "      <th>C</th>\n",
       "      <th>D</th>\n",
       "      <th>E</th>\n",
       "    </tr>\n",
       "  </thead>\n",
       "  <tbody>\n",
       "    <tr>\n",
       "      <th>2020-03-01</th>\n",
       "      <td>-0.084693</td>\n",
       "      <td>0.725556</td>\n",
       "      <td>-0.804611</td>\n",
       "      <td>-1.291762</td>\n",
       "      <td>1.0</td>\n",
       "    </tr>\n",
       "    <tr>\n",
       "      <th>2020-03-02</th>\n",
       "      <td>-0.343755</td>\n",
       "      <td>1.311228</td>\n",
       "      <td>-2.582982</td>\n",
       "      <td>-1.812649</td>\n",
       "      <td>1.0</td>\n",
       "    </tr>\n",
       "  </tbody>\n",
       "</table>\n",
       "</div>"
      ],
      "text/plain": [
       "                   A         B         C         D    E\n",
       "2020-03-01 -0.084693  0.725556 -0.804611 -1.291762  1.0\n",
       "2020-03-02 -0.343755  1.311228 -2.582982 -1.812649  1.0"
      ]
     },
     "execution_count": 44,
     "metadata": {},
     "output_type": "execute_result"
    }
   ],
   "source": [
    "df2.dropna() # null values are dropped"
   ]
  },
  {
   "cell_type": "code",
   "execution_count": 45,
   "metadata": {},
   "outputs": [
    {
     "data": {
      "text/html": [
       "<div>\n",
       "<style scoped>\n",
       "    .dataframe tbody tr th:only-of-type {\n",
       "        vertical-align: middle;\n",
       "    }\n",
       "\n",
       "    .dataframe tbody tr th {\n",
       "        vertical-align: top;\n",
       "    }\n",
       "\n",
       "    .dataframe thead th {\n",
       "        text-align: right;\n",
       "    }\n",
       "</style>\n",
       "<table border=\"1\" class=\"dataframe\">\n",
       "  <thead>\n",
       "    <tr style=\"text-align: right;\">\n",
       "      <th></th>\n",
       "      <th>A</th>\n",
       "      <th>B</th>\n",
       "      <th>C</th>\n",
       "      <th>D</th>\n",
       "      <th>E</th>\n",
       "    </tr>\n",
       "  </thead>\n",
       "  <tbody>\n",
       "    <tr>\n",
       "      <th>2020-03-01</th>\n",
       "      <td>-0.084693</td>\n",
       "      <td>0.725556</td>\n",
       "      <td>-0.804611</td>\n",
       "      <td>-1.291762</td>\n",
       "      <td>1.0</td>\n",
       "    </tr>\n",
       "    <tr>\n",
       "      <th>2020-03-02</th>\n",
       "      <td>-0.343755</td>\n",
       "      <td>1.311228</td>\n",
       "      <td>-2.582982</td>\n",
       "      <td>-1.812649</td>\n",
       "      <td>1.0</td>\n",
       "    </tr>\n",
       "    <tr>\n",
       "      <th>2020-03-03</th>\n",
       "      <td>-0.118312</td>\n",
       "      <td>-0.191459</td>\n",
       "      <td>-0.936935</td>\n",
       "      <td>0.891118</td>\n",
       "      <td>NaN</td>\n",
       "    </tr>\n",
       "    <tr>\n",
       "      <th>2020-03-04</th>\n",
       "      <td>0.465854</td>\n",
       "      <td>-1.837215</td>\n",
       "      <td>-0.840053</td>\n",
       "      <td>-0.192826</td>\n",
       "      <td>NaN</td>\n",
       "    </tr>\n",
       "  </tbody>\n",
       "</table>\n",
       "</div>"
      ],
      "text/plain": [
       "                   A         B         C         D    E\n",
       "2020-03-01 -0.084693  0.725556 -0.804611 -1.291762  1.0\n",
       "2020-03-02 -0.343755  1.311228 -2.582982 -1.812649  1.0\n",
       "2020-03-03 -0.118312 -0.191459 -0.936935  0.891118  NaN\n",
       "2020-03-04  0.465854 -1.837215 -0.840053 -0.192826  NaN"
      ]
     },
     "execution_count": 45,
     "metadata": {},
     "output_type": "execute_result"
    }
   ],
   "source": [
    "df2"
   ]
  },
  {
   "cell_type": "code",
   "execution_count": 46,
   "metadata": {},
   "outputs": [
    {
     "data": {
      "text/html": [
       "<div>\n",
       "<style scoped>\n",
       "    .dataframe tbody tr th:only-of-type {\n",
       "        vertical-align: middle;\n",
       "    }\n",
       "\n",
       "    .dataframe tbody tr th {\n",
       "        vertical-align: top;\n",
       "    }\n",
       "\n",
       "    .dataframe thead th {\n",
       "        text-align: right;\n",
       "    }\n",
       "</style>\n",
       "<table border=\"1\" class=\"dataframe\">\n",
       "  <thead>\n",
       "    <tr style=\"text-align: right;\">\n",
       "      <th></th>\n",
       "      <th>A</th>\n",
       "      <th>B</th>\n",
       "      <th>C</th>\n",
       "      <th>D</th>\n",
       "      <th>E</th>\n",
       "    </tr>\n",
       "  </thead>\n",
       "  <tbody>\n",
       "    <tr>\n",
       "      <th>2020-03-01</th>\n",
       "      <td>-0.084693</td>\n",
       "      <td>0.725556</td>\n",
       "      <td>-0.804611</td>\n",
       "      <td>-1.291762</td>\n",
       "      <td>1.0</td>\n",
       "    </tr>\n",
       "    <tr>\n",
       "      <th>2020-03-02</th>\n",
       "      <td>-0.343755</td>\n",
       "      <td>1.311228</td>\n",
       "      <td>-2.582982</td>\n",
       "      <td>-1.812649</td>\n",
       "      <td>1.0</td>\n",
       "    </tr>\n",
       "    <tr>\n",
       "      <th>2020-03-03</th>\n",
       "      <td>-0.118312</td>\n",
       "      <td>-0.191459</td>\n",
       "      <td>-0.936935</td>\n",
       "      <td>0.891118</td>\n",
       "      <td>2.0</td>\n",
       "    </tr>\n",
       "    <tr>\n",
       "      <th>2020-03-04</th>\n",
       "      <td>0.465854</td>\n",
       "      <td>-1.837215</td>\n",
       "      <td>-0.840053</td>\n",
       "      <td>-0.192826</td>\n",
       "      <td>2.0</td>\n",
       "    </tr>\n",
       "  </tbody>\n",
       "</table>\n",
       "</div>"
      ],
      "text/plain": [
       "                   A         B         C         D    E\n",
       "2020-03-01 -0.084693  0.725556 -0.804611 -1.291762  1.0\n",
       "2020-03-02 -0.343755  1.311228 -2.582982 -1.812649  1.0\n",
       "2020-03-03 -0.118312 -0.191459 -0.936935  0.891118  2.0\n",
       "2020-03-04  0.465854 -1.837215 -0.840053 -0.192826  2.0"
      ]
     },
     "execution_count": 46,
     "metadata": {},
     "output_type": "execute_result"
    }
   ],
   "source": [
    "df2.fillna(value=2) # fill missing value with some othe value"
   ]
  },
  {
   "cell_type": "code",
   "execution_count": 48,
   "metadata": {},
   "outputs": [
    {
     "data": {
      "text/html": [
       "<div>\n",
       "<style scoped>\n",
       "    .dataframe tbody tr th:only-of-type {\n",
       "        vertical-align: middle;\n",
       "    }\n",
       "\n",
       "    .dataframe tbody tr th {\n",
       "        vertical-align: top;\n",
       "    }\n",
       "\n",
       "    .dataframe thead th {\n",
       "        text-align: right;\n",
       "    }\n",
       "</style>\n",
       "<table border=\"1\" class=\"dataframe\">\n",
       "  <thead>\n",
       "    <tr style=\"text-align: right;\">\n",
       "      <th></th>\n",
       "      <th>A</th>\n",
       "      <th>B</th>\n",
       "      <th>C</th>\n",
       "      <th>D</th>\n",
       "      <th>E</th>\n",
       "    </tr>\n",
       "  </thead>\n",
       "  <tbody>\n",
       "    <tr>\n",
       "      <th>2020-03-01</th>\n",
       "      <td>False</td>\n",
       "      <td>False</td>\n",
       "      <td>False</td>\n",
       "      <td>False</td>\n",
       "      <td>False</td>\n",
       "    </tr>\n",
       "    <tr>\n",
       "      <th>2020-03-02</th>\n",
       "      <td>False</td>\n",
       "      <td>False</td>\n",
       "      <td>False</td>\n",
       "      <td>False</td>\n",
       "      <td>False</td>\n",
       "    </tr>\n",
       "    <tr>\n",
       "      <th>2020-03-03</th>\n",
       "      <td>False</td>\n",
       "      <td>False</td>\n",
       "      <td>False</td>\n",
       "      <td>False</td>\n",
       "      <td>True</td>\n",
       "    </tr>\n",
       "    <tr>\n",
       "      <th>2020-03-04</th>\n",
       "      <td>False</td>\n",
       "      <td>False</td>\n",
       "      <td>False</td>\n",
       "      <td>False</td>\n",
       "      <td>True</td>\n",
       "    </tr>\n",
       "  </tbody>\n",
       "</table>\n",
       "</div>"
      ],
      "text/plain": [
       "                A      B      C      D      E\n",
       "2020-03-01  False  False  False  False  False\n",
       "2020-03-02  False  False  False  False  False\n",
       "2020-03-03  False  False  False  False   True\n",
       "2020-03-04  False  False  False  False   True"
      ]
     },
     "execution_count": 48,
     "metadata": {},
     "output_type": "execute_result"
    }
   ],
   "source": [
    "pd.isna(df2)"
   ]
  },
  {
   "cell_type": "markdown",
   "metadata": {},
   "source": [
    "### Operations"
   ]
  },
  {
   "cell_type": "code",
   "execution_count": 49,
   "metadata": {},
   "outputs": [
    {
     "data": {
      "text/plain": [
       "A    0.071418\n",
       "B    0.044252\n",
       "C   -0.478175\n",
       "D   -0.250171\n",
       "dtype: float64"
      ]
     },
     "execution_count": 49,
     "metadata": {},
     "output_type": "execute_result"
    }
   ],
   "source": [
    "df.mean()"
   ]
  },
  {
   "cell_type": "code",
   "execution_count": 50,
   "metadata": {},
   "outputs": [
    {
     "data": {
      "text/plain": [
       "2020-03-01   -0.363877\n",
       "2020-03-02   -0.857040\n",
       "2020-03-03   -0.088897\n",
       "2020-03-04   -0.601060\n",
       "2020-03-05   -0.371741\n",
       "2020-03-06    0.139902\n",
       "2020-03-07   -0.285777\n",
       "2020-03-08    0.529729\n",
       "2020-03-09    0.114561\n",
       "2020-03-10    0.252510\n",
       "Freq: D, dtype: float64"
      ]
     },
     "execution_count": 50,
     "metadata": {},
     "output_type": "execute_result"
    }
   ],
   "source": [
    "df.mean(1)"
   ]
  },
  {
   "cell_type": "code",
   "execution_count": 51,
   "metadata": {},
   "outputs": [],
   "source": [
    "s= pd.Series([1,2,3,np.nan,4,5,6,7,8,9],index=d.shift(2))"
   ]
  },
  {
   "cell_type": "code",
   "execution_count": 52,
   "metadata": {},
   "outputs": [
    {
     "data": {
      "text/plain": [
       "2020-03-03    1.0\n",
       "2020-03-04    2.0\n",
       "2020-03-05    3.0\n",
       "2020-03-06    NaN\n",
       "2020-03-07    4.0\n",
       "2020-03-08    5.0\n",
       "2020-03-09    6.0\n",
       "2020-03-10    7.0\n",
       "2020-03-11    8.0\n",
       "2020-03-12    9.0\n",
       "Freq: D, dtype: float64"
      ]
     },
     "execution_count": 52,
     "metadata": {},
     "output_type": "execute_result"
    }
   ],
   "source": [
    "s"
   ]
  },
  {
   "cell_type": "code",
   "execution_count": 53,
   "metadata": {},
   "outputs": [
    {
     "data": {
      "text/html": [
       "<div>\n",
       "<style scoped>\n",
       "    .dataframe tbody tr th:only-of-type {\n",
       "        vertical-align: middle;\n",
       "    }\n",
       "\n",
       "    .dataframe tbody tr th {\n",
       "        vertical-align: top;\n",
       "    }\n",
       "\n",
       "    .dataframe thead th {\n",
       "        text-align: right;\n",
       "    }\n",
       "</style>\n",
       "<table border=\"1\" class=\"dataframe\">\n",
       "  <thead>\n",
       "    <tr style=\"text-align: right;\">\n",
       "      <th></th>\n",
       "      <th>A</th>\n",
       "      <th>B</th>\n",
       "      <th>C</th>\n",
       "      <th>D</th>\n",
       "    </tr>\n",
       "  </thead>\n",
       "  <tbody>\n",
       "    <tr>\n",
       "      <th>2020-03-01</th>\n",
       "      <td>NaN</td>\n",
       "      <td>NaN</td>\n",
       "      <td>NaN</td>\n",
       "      <td>NaN</td>\n",
       "    </tr>\n",
       "    <tr>\n",
       "      <th>2020-03-02</th>\n",
       "      <td>NaN</td>\n",
       "      <td>NaN</td>\n",
       "      <td>NaN</td>\n",
       "      <td>NaN</td>\n",
       "    </tr>\n",
       "    <tr>\n",
       "      <th>2020-03-03</th>\n",
       "      <td>-1.118312</td>\n",
       "      <td>-1.191459</td>\n",
       "      <td>-1.936935</td>\n",
       "      <td>-0.108882</td>\n",
       "    </tr>\n",
       "    <tr>\n",
       "      <th>2020-03-04</th>\n",
       "      <td>-1.534146</td>\n",
       "      <td>-3.837215</td>\n",
       "      <td>-2.840053</td>\n",
       "      <td>-2.192826</td>\n",
       "    </tr>\n",
       "    <tr>\n",
       "      <th>2020-03-05</th>\n",
       "      <td>-3.615605</td>\n",
       "      <td>-3.392686</td>\n",
       "      <td>-4.202798</td>\n",
       "      <td>-2.275877</td>\n",
       "    </tr>\n",
       "    <tr>\n",
       "      <th>2020-03-06</th>\n",
       "      <td>NaN</td>\n",
       "      <td>NaN</td>\n",
       "      <td>NaN</td>\n",
       "      <td>NaN</td>\n",
       "    </tr>\n",
       "    <tr>\n",
       "      <th>2020-03-07</th>\n",
       "      <td>-4.302154</td>\n",
       "      <td>-3.972514</td>\n",
       "      <td>-4.662304</td>\n",
       "      <td>-4.206137</td>\n",
       "    </tr>\n",
       "    <tr>\n",
       "      <th>2020-03-08</th>\n",
       "      <td>-4.929429</td>\n",
       "      <td>-5.111438</td>\n",
       "      <td>-3.423674</td>\n",
       "      <td>-4.416542</td>\n",
       "    </tr>\n",
       "    <tr>\n",
       "      <th>2020-03-09</th>\n",
       "      <td>-5.927303</td>\n",
       "      <td>-5.616863</td>\n",
       "      <td>-5.331147</td>\n",
       "      <td>-6.666442</td>\n",
       "    </tr>\n",
       "    <tr>\n",
       "      <th>2020-03-10</th>\n",
       "      <td>-6.758415</td>\n",
       "      <td>-6.470041</td>\n",
       "      <td>-7.382400</td>\n",
       "      <td>-6.379104</td>\n",
       "    </tr>\n",
       "    <tr>\n",
       "      <th>2020-03-11</th>\n",
       "      <td>NaN</td>\n",
       "      <td>NaN</td>\n",
       "      <td>NaN</td>\n",
       "      <td>NaN</td>\n",
       "    </tr>\n",
       "    <tr>\n",
       "      <th>2020-03-12</th>\n",
       "      <td>NaN</td>\n",
       "      <td>NaN</td>\n",
       "      <td>NaN</td>\n",
       "      <td>NaN</td>\n",
       "    </tr>\n",
       "  </tbody>\n",
       "</table>\n",
       "</div>"
      ],
      "text/plain": [
       "                   A         B         C         D\n",
       "2020-03-01       NaN       NaN       NaN       NaN\n",
       "2020-03-02       NaN       NaN       NaN       NaN\n",
       "2020-03-03 -1.118312 -1.191459 -1.936935 -0.108882\n",
       "2020-03-04 -1.534146 -3.837215 -2.840053 -2.192826\n",
       "2020-03-05 -3.615605 -3.392686 -4.202798 -2.275877\n",
       "2020-03-06       NaN       NaN       NaN       NaN\n",
       "2020-03-07 -4.302154 -3.972514 -4.662304 -4.206137\n",
       "2020-03-08 -4.929429 -5.111438 -3.423674 -4.416542\n",
       "2020-03-09 -5.927303 -5.616863 -5.331147 -6.666442\n",
       "2020-03-10 -6.758415 -6.470041 -7.382400 -6.379104\n",
       "2020-03-11       NaN       NaN       NaN       NaN\n",
       "2020-03-12       NaN       NaN       NaN       NaN"
      ]
     },
     "execution_count": 53,
     "metadata": {},
     "output_type": "execute_result"
    }
   ],
   "source": [
    "df.sub(s, axis='index')"
   ]
  },
  {
   "cell_type": "code",
   "execution_count": 54,
   "metadata": {},
   "outputs": [
    {
     "data": {
      "text/html": [
       "<div>\n",
       "<style scoped>\n",
       "    .dataframe tbody tr th:only-of-type {\n",
       "        vertical-align: middle;\n",
       "    }\n",
       "\n",
       "    .dataframe tbody tr th {\n",
       "        vertical-align: top;\n",
       "    }\n",
       "\n",
       "    .dataframe thead th {\n",
       "        text-align: right;\n",
       "    }\n",
       "</style>\n",
       "<table border=\"1\" class=\"dataframe\">\n",
       "  <thead>\n",
       "    <tr style=\"text-align: right;\">\n",
       "      <th></th>\n",
       "      <th>A</th>\n",
       "      <th>B</th>\n",
       "      <th>C</th>\n",
       "      <th>D</th>\n",
       "    </tr>\n",
       "  </thead>\n",
       "  <tbody>\n",
       "    <tr>\n",
       "      <th>2020-03-01</th>\n",
       "      <td>-0.084693</td>\n",
       "      <td>0.725556</td>\n",
       "      <td>-0.804611</td>\n",
       "      <td>-1.291762</td>\n",
       "    </tr>\n",
       "    <tr>\n",
       "      <th>2020-03-02</th>\n",
       "      <td>-0.343755</td>\n",
       "      <td>1.311228</td>\n",
       "      <td>-2.582982</td>\n",
       "      <td>-1.812649</td>\n",
       "    </tr>\n",
       "    <tr>\n",
       "      <th>2020-03-03</th>\n",
       "      <td>-0.118312</td>\n",
       "      <td>-0.191459</td>\n",
       "      <td>-0.936935</td>\n",
       "      <td>0.891118</td>\n",
       "    </tr>\n",
       "    <tr>\n",
       "      <th>2020-03-04</th>\n",
       "      <td>0.465854</td>\n",
       "      <td>-1.837215</td>\n",
       "      <td>-0.840053</td>\n",
       "      <td>-0.192826</td>\n",
       "    </tr>\n",
       "    <tr>\n",
       "      <th>2020-03-05</th>\n",
       "      <td>-0.615605</td>\n",
       "      <td>-0.392686</td>\n",
       "      <td>-1.202798</td>\n",
       "      <td>0.724123</td>\n",
       "    </tr>\n",
       "    <tr>\n",
       "      <th>2020-03-06</th>\n",
       "      <td>1.327992</td>\n",
       "      <td>-0.002053</td>\n",
       "      <td>0.385158</td>\n",
       "      <td>-1.151489</td>\n",
       "    </tr>\n",
       "    <tr>\n",
       "      <th>2020-03-07</th>\n",
       "      <td>-0.302154</td>\n",
       "      <td>0.027486</td>\n",
       "      <td>-0.662304</td>\n",
       "      <td>-0.206137</td>\n",
       "    </tr>\n",
       "    <tr>\n",
       "      <th>2020-03-08</th>\n",
       "      <td>0.070571</td>\n",
       "      <td>-0.111438</td>\n",
       "      <td>1.576326</td>\n",
       "      <td>0.583458</td>\n",
       "    </tr>\n",
       "    <tr>\n",
       "      <th>2020-03-09</th>\n",
       "      <td>0.072697</td>\n",
       "      <td>0.383137</td>\n",
       "      <td>0.668853</td>\n",
       "      <td>-0.666442</td>\n",
       "    </tr>\n",
       "    <tr>\n",
       "      <th>2020-03-10</th>\n",
       "      <td>0.241585</td>\n",
       "      <td>0.529959</td>\n",
       "      <td>-0.382400</td>\n",
       "      <td>0.620896</td>\n",
       "    </tr>\n",
       "  </tbody>\n",
       "</table>\n",
       "</div>"
      ],
      "text/plain": [
       "                   A         B         C         D\n",
       "2020-03-01 -0.084693  0.725556 -0.804611 -1.291762\n",
       "2020-03-02 -0.343755  1.311228 -2.582982 -1.812649\n",
       "2020-03-03 -0.118312 -0.191459 -0.936935  0.891118\n",
       "2020-03-04  0.465854 -1.837215 -0.840053 -0.192826\n",
       "2020-03-05 -0.615605 -0.392686 -1.202798  0.724123\n",
       "2020-03-06  1.327992 -0.002053  0.385158 -1.151489\n",
       "2020-03-07 -0.302154  0.027486 -0.662304 -0.206137\n",
       "2020-03-08  0.070571 -0.111438  1.576326  0.583458\n",
       "2020-03-09  0.072697  0.383137  0.668853 -0.666442\n",
       "2020-03-10  0.241585  0.529959 -0.382400  0.620896"
      ]
     },
     "execution_count": 54,
     "metadata": {},
     "output_type": "execute_result"
    }
   ],
   "source": [
    "df"
   ]
  },
  {
   "cell_type": "code",
   "execution_count": 55,
   "metadata": {},
   "outputs": [
    {
     "data": {
      "text/html": [
       "<div>\n",
       "<style scoped>\n",
       "    .dataframe tbody tr th:only-of-type {\n",
       "        vertical-align: middle;\n",
       "    }\n",
       "\n",
       "    .dataframe tbody tr th {\n",
       "        vertical-align: top;\n",
       "    }\n",
       "\n",
       "    .dataframe thead th {\n",
       "        text-align: right;\n",
       "    }\n",
       "</style>\n",
       "<table border=\"1\" class=\"dataframe\">\n",
       "  <thead>\n",
       "    <tr style=\"text-align: right;\">\n",
       "      <th></th>\n",
       "      <th>A</th>\n",
       "      <th>B</th>\n",
       "      <th>C</th>\n",
       "      <th>D</th>\n",
       "    </tr>\n",
       "  </thead>\n",
       "  <tbody>\n",
       "    <tr>\n",
       "      <th>2020-03-01</th>\n",
       "      <td>-0.084693</td>\n",
       "      <td>0.725556</td>\n",
       "      <td>-0.804611</td>\n",
       "      <td>-1.291762</td>\n",
       "    </tr>\n",
       "    <tr>\n",
       "      <th>2020-03-02</th>\n",
       "      <td>-0.428448</td>\n",
       "      <td>2.036785</td>\n",
       "      <td>-3.387594</td>\n",
       "      <td>-3.104412</td>\n",
       "    </tr>\n",
       "    <tr>\n",
       "      <th>2020-03-03</th>\n",
       "      <td>-0.546760</td>\n",
       "      <td>1.845325</td>\n",
       "      <td>-4.324528</td>\n",
       "      <td>-2.213294</td>\n",
       "    </tr>\n",
       "    <tr>\n",
       "      <th>2020-03-04</th>\n",
       "      <td>-0.080905</td>\n",
       "      <td>0.008110</td>\n",
       "      <td>-5.164581</td>\n",
       "      <td>-2.406119</td>\n",
       "    </tr>\n",
       "    <tr>\n",
       "      <th>2020-03-05</th>\n",
       "      <td>-0.696510</td>\n",
       "      <td>-0.384576</td>\n",
       "      <td>-6.367379</td>\n",
       "      <td>-1.681996</td>\n",
       "    </tr>\n",
       "    <tr>\n",
       "      <th>2020-03-06</th>\n",
       "      <td>0.631481</td>\n",
       "      <td>-0.386629</td>\n",
       "      <td>-5.982221</td>\n",
       "      <td>-2.833485</td>\n",
       "    </tr>\n",
       "    <tr>\n",
       "      <th>2020-03-07</th>\n",
       "      <td>0.329328</td>\n",
       "      <td>-0.359143</td>\n",
       "      <td>-6.644524</td>\n",
       "      <td>-3.039622</td>\n",
       "    </tr>\n",
       "    <tr>\n",
       "      <th>2020-03-08</th>\n",
       "      <td>0.399899</td>\n",
       "      <td>-0.470581</td>\n",
       "      <td>-5.068199</td>\n",
       "      <td>-2.456164</td>\n",
       "    </tr>\n",
       "    <tr>\n",
       "      <th>2020-03-09</th>\n",
       "      <td>0.472596</td>\n",
       "      <td>-0.087443</td>\n",
       "      <td>-4.399346</td>\n",
       "      <td>-3.122606</td>\n",
       "    </tr>\n",
       "    <tr>\n",
       "      <th>2020-03-10</th>\n",
       "      <td>0.714181</td>\n",
       "      <td>0.442515</td>\n",
       "      <td>-4.781746</td>\n",
       "      <td>-2.501710</td>\n",
       "    </tr>\n",
       "  </tbody>\n",
       "</table>\n",
       "</div>"
      ],
      "text/plain": [
       "                   A         B         C         D\n",
       "2020-03-01 -0.084693  0.725556 -0.804611 -1.291762\n",
       "2020-03-02 -0.428448  2.036785 -3.387594 -3.104412\n",
       "2020-03-03 -0.546760  1.845325 -4.324528 -2.213294\n",
       "2020-03-04 -0.080905  0.008110 -5.164581 -2.406119\n",
       "2020-03-05 -0.696510 -0.384576 -6.367379 -1.681996\n",
       "2020-03-06  0.631481 -0.386629 -5.982221 -2.833485\n",
       "2020-03-07  0.329328 -0.359143 -6.644524 -3.039622\n",
       "2020-03-08  0.399899 -0.470581 -5.068199 -2.456164\n",
       "2020-03-09  0.472596 -0.087443 -4.399346 -3.122606\n",
       "2020-03-10  0.714181  0.442515 -4.781746 -2.501710"
      ]
     },
     "execution_count": 55,
     "metadata": {},
     "output_type": "execute_result"
    }
   ],
   "source": [
    "#apply functions\n",
    "\n",
    "df.apply(np.cumsum)"
   ]
  },
  {
   "cell_type": "code",
   "execution_count": 56,
   "metadata": {},
   "outputs": [
    {
     "data": {
      "text/plain": [
       "A    1.943597\n",
       "B    3.148443\n",
       "C    4.159308\n",
       "D    2.703768\n",
       "dtype: float64"
      ]
     },
     "execution_count": 56,
     "metadata": {},
     "output_type": "execute_result"
    }
   ],
   "source": [
    "df.apply(lambda x:x.max()-x.min())"
   ]
  },
  {
   "cell_type": "code",
   "execution_count": 57,
   "metadata": {},
   "outputs": [
    {
     "data": {
      "text/plain": [
       "9.0    1\n",
       "8.0    1\n",
       "7.0    1\n",
       "6.0    1\n",
       "5.0    1\n",
       "4.0    1\n",
       "3.0    1\n",
       "2.0    1\n",
       "1.0    1\n",
       "dtype: int64"
      ]
     },
     "execution_count": 57,
     "metadata": {},
     "output_type": "execute_result"
    }
   ],
   "source": [
    "# histogram\n",
    "s.value_counts()"
   ]
  },
  {
   "cell_type": "code",
   "execution_count": 58,
   "metadata": {},
   "outputs": [],
   "source": [
    "s= pd.Series(['edureka','oython','jupyter',np.nan, 'football','world'])"
   ]
  },
  {
   "cell_type": "code",
   "execution_count": 60,
   "metadata": {},
   "outputs": [
    {
     "data": {
      "text/plain": [
       "0     EDUREKA\n",
       "1      OYTHON\n",
       "2     JUPYTER\n",
       "3         NaN\n",
       "4    FOOTBALL\n",
       "5       WORLD\n",
       "dtype: object"
      ]
     },
     "execution_count": 60,
     "metadata": {},
     "output_type": "execute_result"
    }
   ],
   "source": [
    "s.str.upper()"
   ]
  },
  {
   "cell_type": "code",
   "execution_count": 61,
   "metadata": {},
   "outputs": [],
   "source": [
    "#merging\n",
    "\n",
    "df= pd.DataFrame(np.random.randn(10,4))"
   ]
  },
  {
   "cell_type": "code",
   "execution_count": 62,
   "metadata": {},
   "outputs": [
    {
     "data": {
      "text/html": [
       "<div>\n",
       "<style scoped>\n",
       "    .dataframe tbody tr th:only-of-type {\n",
       "        vertical-align: middle;\n",
       "    }\n",
       "\n",
       "    .dataframe tbody tr th {\n",
       "        vertical-align: top;\n",
       "    }\n",
       "\n",
       "    .dataframe thead th {\n",
       "        text-align: right;\n",
       "    }\n",
       "</style>\n",
       "<table border=\"1\" class=\"dataframe\">\n",
       "  <thead>\n",
       "    <tr style=\"text-align: right;\">\n",
       "      <th></th>\n",
       "      <th>0</th>\n",
       "      <th>1</th>\n",
       "      <th>2</th>\n",
       "      <th>3</th>\n",
       "    </tr>\n",
       "  </thead>\n",
       "  <tbody>\n",
       "    <tr>\n",
       "      <th>0</th>\n",
       "      <td>-1.194566</td>\n",
       "      <td>-0.844606</td>\n",
       "      <td>0.715017</td>\n",
       "      <td>-0.313186</td>\n",
       "    </tr>\n",
       "    <tr>\n",
       "      <th>1</th>\n",
       "      <td>-0.091355</td>\n",
       "      <td>1.630853</td>\n",
       "      <td>0.303184</td>\n",
       "      <td>0.427497</td>\n",
       "    </tr>\n",
       "    <tr>\n",
       "      <th>2</th>\n",
       "      <td>-1.641493</td>\n",
       "      <td>-0.017673</td>\n",
       "      <td>-1.493350</td>\n",
       "      <td>-0.351715</td>\n",
       "    </tr>\n",
       "    <tr>\n",
       "      <th>3</th>\n",
       "      <td>0.243345</td>\n",
       "      <td>0.761339</td>\n",
       "      <td>-2.948217</td>\n",
       "      <td>0.682916</td>\n",
       "    </tr>\n",
       "    <tr>\n",
       "      <th>4</th>\n",
       "      <td>-0.561052</td>\n",
       "      <td>0.143170</td>\n",
       "      <td>-0.272878</td>\n",
       "      <td>-0.688642</td>\n",
       "    </tr>\n",
       "    <tr>\n",
       "      <th>5</th>\n",
       "      <td>-0.606810</td>\n",
       "      <td>-0.227568</td>\n",
       "      <td>-0.962212</td>\n",
       "      <td>-1.665062</td>\n",
       "    </tr>\n",
       "    <tr>\n",
       "      <th>6</th>\n",
       "      <td>0.115563</td>\n",
       "      <td>1.658294</td>\n",
       "      <td>-0.283451</td>\n",
       "      <td>0.703490</td>\n",
       "    </tr>\n",
       "    <tr>\n",
       "      <th>7</th>\n",
       "      <td>-0.954942</td>\n",
       "      <td>-0.658665</td>\n",
       "      <td>-0.622464</td>\n",
       "      <td>0.103068</td>\n",
       "    </tr>\n",
       "    <tr>\n",
       "      <th>8</th>\n",
       "      <td>-0.123738</td>\n",
       "      <td>0.405251</td>\n",
       "      <td>-0.170371</td>\n",
       "      <td>-2.062883</td>\n",
       "    </tr>\n",
       "    <tr>\n",
       "      <th>9</th>\n",
       "      <td>-0.469185</td>\n",
       "      <td>-0.013320</td>\n",
       "      <td>1.179776</td>\n",
       "      <td>0.200587</td>\n",
       "    </tr>\n",
       "  </tbody>\n",
       "</table>\n",
       "</div>"
      ],
      "text/plain": [
       "          0         1         2         3\n",
       "0 -1.194566 -0.844606  0.715017 -0.313186\n",
       "1 -0.091355  1.630853  0.303184  0.427497\n",
       "2 -1.641493 -0.017673 -1.493350 -0.351715\n",
       "3  0.243345  0.761339 -2.948217  0.682916\n",
       "4 -0.561052  0.143170 -0.272878 -0.688642\n",
       "5 -0.606810 -0.227568 -0.962212 -1.665062\n",
       "6  0.115563  1.658294 -0.283451  0.703490\n",
       "7 -0.954942 -0.658665 -0.622464  0.103068\n",
       "8 -0.123738  0.405251 -0.170371 -2.062883\n",
       "9 -0.469185 -0.013320  1.179776  0.200587"
      ]
     },
     "execution_count": 62,
     "metadata": {},
     "output_type": "execute_result"
    }
   ],
   "source": [
    "df"
   ]
  },
  {
   "cell_type": "code",
   "execution_count": 63,
   "metadata": {},
   "outputs": [],
   "source": [
    "df2=[df[:3],df[3:7],df[7:]]  # break into 3 df"
   ]
  },
  {
   "cell_type": "code",
   "execution_count": 64,
   "metadata": {},
   "outputs": [
    {
     "data": {
      "text/plain": [
       "[          0         1         2         3\n",
       " 0 -1.194566 -0.844606  0.715017 -0.313186\n",
       " 1 -0.091355  1.630853  0.303184  0.427497\n",
       " 2 -1.641493 -0.017673 -1.493350 -0.351715,\n",
       "           0         1         2         3\n",
       " 3  0.243345  0.761339 -2.948217  0.682916\n",
       " 4 -0.561052  0.143170 -0.272878 -0.688642\n",
       " 5 -0.606810 -0.227568 -0.962212 -1.665062\n",
       " 6  0.115563  1.658294 -0.283451  0.703490,\n",
       "           0         1         2         3\n",
       " 7 -0.954942 -0.658665 -0.622464  0.103068\n",
       " 8 -0.123738  0.405251 -0.170371 -2.062883\n",
       " 9 -0.469185 -0.013320  1.179776  0.200587]"
      ]
     },
     "execution_count": 64,
     "metadata": {},
     "output_type": "execute_result"
    }
   ],
   "source": [
    "df2"
   ]
  },
  {
   "cell_type": "code",
   "execution_count": 65,
   "metadata": {},
   "outputs": [
    {
     "data": {
      "text/html": [
       "<div>\n",
       "<style scoped>\n",
       "    .dataframe tbody tr th:only-of-type {\n",
       "        vertical-align: middle;\n",
       "    }\n",
       "\n",
       "    .dataframe tbody tr th {\n",
       "        vertical-align: top;\n",
       "    }\n",
       "\n",
       "    .dataframe thead th {\n",
       "        text-align: right;\n",
       "    }\n",
       "</style>\n",
       "<table border=\"1\" class=\"dataframe\">\n",
       "  <thead>\n",
       "    <tr style=\"text-align: right;\">\n",
       "      <th></th>\n",
       "      <th>0</th>\n",
       "      <th>1</th>\n",
       "      <th>2</th>\n",
       "      <th>3</th>\n",
       "    </tr>\n",
       "  </thead>\n",
       "  <tbody>\n",
       "    <tr>\n",
       "      <th>0</th>\n",
       "      <td>-1.194566</td>\n",
       "      <td>-0.844606</td>\n",
       "      <td>0.715017</td>\n",
       "      <td>-0.313186</td>\n",
       "    </tr>\n",
       "    <tr>\n",
       "      <th>1</th>\n",
       "      <td>-0.091355</td>\n",
       "      <td>1.630853</td>\n",
       "      <td>0.303184</td>\n",
       "      <td>0.427497</td>\n",
       "    </tr>\n",
       "    <tr>\n",
       "      <th>2</th>\n",
       "      <td>-1.641493</td>\n",
       "      <td>-0.017673</td>\n",
       "      <td>-1.493350</td>\n",
       "      <td>-0.351715</td>\n",
       "    </tr>\n",
       "    <tr>\n",
       "      <th>3</th>\n",
       "      <td>0.243345</td>\n",
       "      <td>0.761339</td>\n",
       "      <td>-2.948217</td>\n",
       "      <td>0.682916</td>\n",
       "    </tr>\n",
       "    <tr>\n",
       "      <th>4</th>\n",
       "      <td>-0.561052</td>\n",
       "      <td>0.143170</td>\n",
       "      <td>-0.272878</td>\n",
       "      <td>-0.688642</td>\n",
       "    </tr>\n",
       "    <tr>\n",
       "      <th>5</th>\n",
       "      <td>-0.606810</td>\n",
       "      <td>-0.227568</td>\n",
       "      <td>-0.962212</td>\n",
       "      <td>-1.665062</td>\n",
       "    </tr>\n",
       "    <tr>\n",
       "      <th>6</th>\n",
       "      <td>0.115563</td>\n",
       "      <td>1.658294</td>\n",
       "      <td>-0.283451</td>\n",
       "      <td>0.703490</td>\n",
       "    </tr>\n",
       "    <tr>\n",
       "      <th>7</th>\n",
       "      <td>-0.954942</td>\n",
       "      <td>-0.658665</td>\n",
       "      <td>-0.622464</td>\n",
       "      <td>0.103068</td>\n",
       "    </tr>\n",
       "    <tr>\n",
       "      <th>8</th>\n",
       "      <td>-0.123738</td>\n",
       "      <td>0.405251</td>\n",
       "      <td>-0.170371</td>\n",
       "      <td>-2.062883</td>\n",
       "    </tr>\n",
       "    <tr>\n",
       "      <th>9</th>\n",
       "      <td>-0.469185</td>\n",
       "      <td>-0.013320</td>\n",
       "      <td>1.179776</td>\n",
       "      <td>0.200587</td>\n",
       "    </tr>\n",
       "  </tbody>\n",
       "</table>\n",
       "</div>"
      ],
      "text/plain": [
       "          0         1         2         3\n",
       "0 -1.194566 -0.844606  0.715017 -0.313186\n",
       "1 -0.091355  1.630853  0.303184  0.427497\n",
       "2 -1.641493 -0.017673 -1.493350 -0.351715\n",
       "3  0.243345  0.761339 -2.948217  0.682916\n",
       "4 -0.561052  0.143170 -0.272878 -0.688642\n",
       "5 -0.606810 -0.227568 -0.962212 -1.665062\n",
       "6  0.115563  1.658294 -0.283451  0.703490\n",
       "7 -0.954942 -0.658665 -0.622464  0.103068\n",
       "8 -0.123738  0.405251 -0.170371 -2.062883\n",
       "9 -0.469185 -0.013320  1.179776  0.200587"
      ]
     },
     "execution_count": 65,
     "metadata": {},
     "output_type": "execute_result"
    }
   ],
   "source": [
    "pd.concat(df2) # combine 3 df into 1"
   ]
  },
  {
   "cell_type": "code",
   "execution_count": 69,
   "metadata": {},
   "outputs": [],
   "source": [
    "#left join\n",
    "left= pd.DataFrame({\n",
    "    'A':[1,2],\n",
    "    'B':[3,4],\n",
    "})\n",
    "\n",
    "right= pd.DataFrame({\n",
    "    'A':[3,2],\n",
    "    'D':[4,5]\n",
    "})"
   ]
  },
  {
   "cell_type": "code",
   "execution_count": 70,
   "metadata": {},
   "outputs": [
    {
     "data": {
      "text/html": [
       "<div>\n",
       "<style scoped>\n",
       "    .dataframe tbody tr th:only-of-type {\n",
       "        vertical-align: middle;\n",
       "    }\n",
       "\n",
       "    .dataframe tbody tr th {\n",
       "        vertical-align: top;\n",
       "    }\n",
       "\n",
       "    .dataframe thead th {\n",
       "        text-align: right;\n",
       "    }\n",
       "</style>\n",
       "<table border=\"1\" class=\"dataframe\">\n",
       "  <thead>\n",
       "    <tr style=\"text-align: right;\">\n",
       "      <th></th>\n",
       "      <th>A</th>\n",
       "      <th>B</th>\n",
       "    </tr>\n",
       "  </thead>\n",
       "  <tbody>\n",
       "    <tr>\n",
       "      <th>0</th>\n",
       "      <td>1</td>\n",
       "      <td>3</td>\n",
       "    </tr>\n",
       "    <tr>\n",
       "      <th>1</th>\n",
       "      <td>2</td>\n",
       "      <td>4</td>\n",
       "    </tr>\n",
       "  </tbody>\n",
       "</table>\n",
       "</div>"
      ],
      "text/plain": [
       "   A  B\n",
       "0  1  3\n",
       "1  2  4"
      ]
     },
     "execution_count": 70,
     "metadata": {},
     "output_type": "execute_result"
    }
   ],
   "source": [
    "left"
   ]
  },
  {
   "cell_type": "code",
   "execution_count": 71,
   "metadata": {},
   "outputs": [
    {
     "data": {
      "text/html": [
       "<div>\n",
       "<style scoped>\n",
       "    .dataframe tbody tr th:only-of-type {\n",
       "        vertical-align: middle;\n",
       "    }\n",
       "\n",
       "    .dataframe tbody tr th {\n",
       "        vertical-align: top;\n",
       "    }\n",
       "\n",
       "    .dataframe thead th {\n",
       "        text-align: right;\n",
       "    }\n",
       "</style>\n",
       "<table border=\"1\" class=\"dataframe\">\n",
       "  <thead>\n",
       "    <tr style=\"text-align: right;\">\n",
       "      <th></th>\n",
       "      <th>A</th>\n",
       "      <th>D</th>\n",
       "    </tr>\n",
       "  </thead>\n",
       "  <tbody>\n",
       "    <tr>\n",
       "      <th>0</th>\n",
       "      <td>3</td>\n",
       "      <td>4</td>\n",
       "    </tr>\n",
       "    <tr>\n",
       "      <th>1</th>\n",
       "      <td>2</td>\n",
       "      <td>5</td>\n",
       "    </tr>\n",
       "  </tbody>\n",
       "</table>\n",
       "</div>"
      ],
      "text/plain": [
       "   A  D\n",
       "0  3  4\n",
       "1  2  5"
      ]
     },
     "execution_count": 71,
     "metadata": {},
     "output_type": "execute_result"
    }
   ],
   "source": [
    "right"
   ]
  },
  {
   "cell_type": "code",
   "execution_count": 72,
   "metadata": {},
   "outputs": [
    {
     "data": {
      "text/html": [
       "<div>\n",
       "<style scoped>\n",
       "    .dataframe tbody tr th:only-of-type {\n",
       "        vertical-align: middle;\n",
       "    }\n",
       "\n",
       "    .dataframe tbody tr th {\n",
       "        vertical-align: top;\n",
       "    }\n",
       "\n",
       "    .dataframe thead th {\n",
       "        text-align: right;\n",
       "    }\n",
       "</style>\n",
       "<table border=\"1\" class=\"dataframe\">\n",
       "  <thead>\n",
       "    <tr style=\"text-align: right;\">\n",
       "      <th></th>\n",
       "      <th>A</th>\n",
       "      <th>B</th>\n",
       "      <th>D</th>\n",
       "    </tr>\n",
       "  </thead>\n",
       "  <tbody>\n",
       "    <tr>\n",
       "      <th>0</th>\n",
       "      <td>2</td>\n",
       "      <td>4</td>\n",
       "      <td>5</td>\n",
       "    </tr>\n",
       "  </tbody>\n",
       "</table>\n",
       "</div>"
      ],
      "text/plain": [
       "   A  B  D\n",
       "0  2  4  5"
      ]
     },
     "execution_count": 72,
     "metadata": {},
     "output_type": "execute_result"
    }
   ],
   "source": [
    "pd.merge(left,right, on='A')"
   ]
  },
  {
   "cell_type": "code",
   "execution_count": 73,
   "metadata": {},
   "outputs": [
    {
     "data": {
      "text/html": [
       "<div>\n",
       "<style scoped>\n",
       "    .dataframe tbody tr th:only-of-type {\n",
       "        vertical-align: middle;\n",
       "    }\n",
       "\n",
       "    .dataframe tbody tr th {\n",
       "        vertical-align: top;\n",
       "    }\n",
       "\n",
       "    .dataframe thead th {\n",
       "        text-align: right;\n",
       "    }\n",
       "</style>\n",
       "<table border=\"1\" class=\"dataframe\">\n",
       "  <thead>\n",
       "    <tr style=\"text-align: right;\">\n",
       "      <th></th>\n",
       "      <th>0</th>\n",
       "      <th>1</th>\n",
       "      <th>2</th>\n",
       "      <th>3</th>\n",
       "    </tr>\n",
       "  </thead>\n",
       "  <tbody>\n",
       "    <tr>\n",
       "      <th>0</th>\n",
       "      <td>-1.194566</td>\n",
       "      <td>-0.844606</td>\n",
       "      <td>0.715017</td>\n",
       "      <td>-0.313186</td>\n",
       "    </tr>\n",
       "    <tr>\n",
       "      <th>1</th>\n",
       "      <td>-0.091355</td>\n",
       "      <td>1.630853</td>\n",
       "      <td>0.303184</td>\n",
       "      <td>0.427497</td>\n",
       "    </tr>\n",
       "    <tr>\n",
       "      <th>2</th>\n",
       "      <td>-1.641493</td>\n",
       "      <td>-0.017673</td>\n",
       "      <td>-1.493350</td>\n",
       "      <td>-0.351715</td>\n",
       "    </tr>\n",
       "    <tr>\n",
       "      <th>3</th>\n",
       "      <td>0.243345</td>\n",
       "      <td>0.761339</td>\n",
       "      <td>-2.948217</td>\n",
       "      <td>0.682916</td>\n",
       "    </tr>\n",
       "    <tr>\n",
       "      <th>4</th>\n",
       "      <td>-0.561052</td>\n",
       "      <td>0.143170</td>\n",
       "      <td>-0.272878</td>\n",
       "      <td>-0.688642</td>\n",
       "    </tr>\n",
       "    <tr>\n",
       "      <th>5</th>\n",
       "      <td>-0.606810</td>\n",
       "      <td>-0.227568</td>\n",
       "      <td>-0.962212</td>\n",
       "      <td>-1.665062</td>\n",
       "    </tr>\n",
       "    <tr>\n",
       "      <th>6</th>\n",
       "      <td>0.115563</td>\n",
       "      <td>1.658294</td>\n",
       "      <td>-0.283451</td>\n",
       "      <td>0.703490</td>\n",
       "    </tr>\n",
       "    <tr>\n",
       "      <th>7</th>\n",
       "      <td>-0.954942</td>\n",
       "      <td>-0.658665</td>\n",
       "      <td>-0.622464</td>\n",
       "      <td>0.103068</td>\n",
       "    </tr>\n",
       "    <tr>\n",
       "      <th>8</th>\n",
       "      <td>-0.123738</td>\n",
       "      <td>0.405251</td>\n",
       "      <td>-0.170371</td>\n",
       "      <td>-2.062883</td>\n",
       "    </tr>\n",
       "    <tr>\n",
       "      <th>9</th>\n",
       "      <td>-0.469185</td>\n",
       "      <td>-0.013320</td>\n",
       "      <td>1.179776</td>\n",
       "      <td>0.200587</td>\n",
       "    </tr>\n",
       "  </tbody>\n",
       "</table>\n",
       "</div>"
      ],
      "text/plain": [
       "          0         1         2         3\n",
       "0 -1.194566 -0.844606  0.715017 -0.313186\n",
       "1 -0.091355  1.630853  0.303184  0.427497\n",
       "2 -1.641493 -0.017673 -1.493350 -0.351715\n",
       "3  0.243345  0.761339 -2.948217  0.682916\n",
       "4 -0.561052  0.143170 -0.272878 -0.688642\n",
       "5 -0.606810 -0.227568 -0.962212 -1.665062\n",
       "6  0.115563  1.658294 -0.283451  0.703490\n",
       "7 -0.954942 -0.658665 -0.622464  0.103068\n",
       "8 -0.123738  0.405251 -0.170371 -2.062883\n",
       "9 -0.469185 -0.013320  1.179776  0.200587"
      ]
     },
     "execution_count": 73,
     "metadata": {},
     "output_type": "execute_result"
    }
   ],
   "source": [
    "#grouping\n",
    "\n",
    "df"
   ]
  },
  {
   "cell_type": "code",
   "execution_count": 75,
   "metadata": {},
   "outputs": [
    {
     "data": {
      "text/html": [
       "<div>\n",
       "<style scoped>\n",
       "    .dataframe tbody tr th:only-of-type {\n",
       "        vertical-align: middle;\n",
       "    }\n",
       "\n",
       "    .dataframe tbody tr th {\n",
       "        vertical-align: top;\n",
       "    }\n",
       "\n",
       "    .dataframe thead th {\n",
       "        text-align: right;\n",
       "    }\n",
       "</style>\n",
       "<table border=\"1\" class=\"dataframe\">\n",
       "  <thead>\n",
       "    <tr style=\"text-align: right;\">\n",
       "      <th></th>\n",
       "      <th>0</th>\n",
       "      <th>1</th>\n",
       "      <th>3</th>\n",
       "    </tr>\n",
       "    <tr>\n",
       "      <th>2</th>\n",
       "      <th></th>\n",
       "      <th></th>\n",
       "      <th></th>\n",
       "    </tr>\n",
       "  </thead>\n",
       "  <tbody>\n",
       "    <tr>\n",
       "      <th>-2.948217</th>\n",
       "      <td>0.243345</td>\n",
       "      <td>0.761339</td>\n",
       "      <td>0.682916</td>\n",
       "    </tr>\n",
       "    <tr>\n",
       "      <th>-1.493350</th>\n",
       "      <td>-1.641493</td>\n",
       "      <td>-0.017673</td>\n",
       "      <td>-0.351715</td>\n",
       "    </tr>\n",
       "    <tr>\n",
       "      <th>-0.962212</th>\n",
       "      <td>-0.606810</td>\n",
       "      <td>-0.227568</td>\n",
       "      <td>-1.665062</td>\n",
       "    </tr>\n",
       "    <tr>\n",
       "      <th>-0.622464</th>\n",
       "      <td>-0.954942</td>\n",
       "      <td>-0.658665</td>\n",
       "      <td>0.103068</td>\n",
       "    </tr>\n",
       "    <tr>\n",
       "      <th>-0.283451</th>\n",
       "      <td>0.115563</td>\n",
       "      <td>1.658294</td>\n",
       "      <td>0.703490</td>\n",
       "    </tr>\n",
       "    <tr>\n",
       "      <th>-0.272878</th>\n",
       "      <td>-0.561052</td>\n",
       "      <td>0.143170</td>\n",
       "      <td>-0.688642</td>\n",
       "    </tr>\n",
       "    <tr>\n",
       "      <th>-0.170371</th>\n",
       "      <td>-0.123738</td>\n",
       "      <td>0.405251</td>\n",
       "      <td>-2.062883</td>\n",
       "    </tr>\n",
       "    <tr>\n",
       "      <th>0.303184</th>\n",
       "      <td>-0.091355</td>\n",
       "      <td>1.630853</td>\n",
       "      <td>0.427497</td>\n",
       "    </tr>\n",
       "    <tr>\n",
       "      <th>0.715017</th>\n",
       "      <td>-1.194566</td>\n",
       "      <td>-0.844606</td>\n",
       "      <td>-0.313186</td>\n",
       "    </tr>\n",
       "    <tr>\n",
       "      <th>1.179776</th>\n",
       "      <td>-0.469185</td>\n",
       "      <td>-0.013320</td>\n",
       "      <td>0.200587</td>\n",
       "    </tr>\n",
       "  </tbody>\n",
       "</table>\n",
       "</div>"
      ],
      "text/plain": [
       "                  0         1         3\n",
       "2                                      \n",
       "-2.948217  0.243345  0.761339  0.682916\n",
       "-1.493350 -1.641493 -0.017673 -0.351715\n",
       "-0.962212 -0.606810 -0.227568 -1.665062\n",
       "-0.622464 -0.954942 -0.658665  0.103068\n",
       "-0.283451  0.115563  1.658294  0.703490\n",
       "-0.272878 -0.561052  0.143170 -0.688642\n",
       "-0.170371 -0.123738  0.405251 -2.062883\n",
       " 0.303184 -0.091355  1.630853  0.427497\n",
       " 0.715017 -1.194566 -0.844606 -0.313186\n",
       " 1.179776 -0.469185 -0.013320  0.200587"
      ]
     },
     "execution_count": 75,
     "metadata": {},
     "output_type": "execute_result"
    }
   ],
   "source": [
    "df.groupby(2).sum()"
   ]
  },
  {
   "cell_type": "code",
   "execution_count": 77,
   "metadata": {},
   "outputs": [
    {
     "data": {
      "text/html": [
       "<div>\n",
       "<style scoped>\n",
       "    .dataframe tbody tr th:only-of-type {\n",
       "        vertical-align: middle;\n",
       "    }\n",
       "\n",
       "    .dataframe tbody tr th {\n",
       "        vertical-align: top;\n",
       "    }\n",
       "\n",
       "    .dataframe thead th {\n",
       "        text-align: right;\n",
       "    }\n",
       "</style>\n",
       "<table border=\"1\" class=\"dataframe\">\n",
       "  <thead>\n",
       "    <tr style=\"text-align: right;\">\n",
       "      <th></th>\n",
       "      <th></th>\n",
       "      <th>0</th>\n",
       "      <th>1</th>\n",
       "    </tr>\n",
       "    <tr>\n",
       "      <th>2</th>\n",
       "      <th>3</th>\n",
       "      <th></th>\n",
       "      <th></th>\n",
       "    </tr>\n",
       "  </thead>\n",
       "  <tbody>\n",
       "    <tr>\n",
       "      <th>-2.948217</th>\n",
       "      <th>0.682916</th>\n",
       "      <td>0.243345</td>\n",
       "      <td>0.761339</td>\n",
       "    </tr>\n",
       "    <tr>\n",
       "      <th>-1.493350</th>\n",
       "      <th>-0.351715</th>\n",
       "      <td>-1.641493</td>\n",
       "      <td>-0.017673</td>\n",
       "    </tr>\n",
       "    <tr>\n",
       "      <th>-0.962212</th>\n",
       "      <th>-1.665062</th>\n",
       "      <td>-0.606810</td>\n",
       "      <td>-0.227568</td>\n",
       "    </tr>\n",
       "    <tr>\n",
       "      <th>-0.622464</th>\n",
       "      <th>0.103068</th>\n",
       "      <td>-0.954942</td>\n",
       "      <td>-0.658665</td>\n",
       "    </tr>\n",
       "    <tr>\n",
       "      <th>-0.283451</th>\n",
       "      <th>0.703490</th>\n",
       "      <td>0.115563</td>\n",
       "      <td>1.658294</td>\n",
       "    </tr>\n",
       "    <tr>\n",
       "      <th>-0.272878</th>\n",
       "      <th>-0.688642</th>\n",
       "      <td>-0.561052</td>\n",
       "      <td>0.143170</td>\n",
       "    </tr>\n",
       "    <tr>\n",
       "      <th>-0.170371</th>\n",
       "      <th>-2.062883</th>\n",
       "      <td>-0.123738</td>\n",
       "      <td>0.405251</td>\n",
       "    </tr>\n",
       "    <tr>\n",
       "      <th>0.303184</th>\n",
       "      <th>0.427497</th>\n",
       "      <td>-0.091355</td>\n",
       "      <td>1.630853</td>\n",
       "    </tr>\n",
       "    <tr>\n",
       "      <th>0.715017</th>\n",
       "      <th>-0.313186</th>\n",
       "      <td>-1.194566</td>\n",
       "      <td>-0.844606</td>\n",
       "    </tr>\n",
       "    <tr>\n",
       "      <th>1.179776</th>\n",
       "      <th>0.200587</th>\n",
       "      <td>-0.469185</td>\n",
       "      <td>-0.013320</td>\n",
       "    </tr>\n",
       "  </tbody>\n",
       "</table>\n",
       "</div>"
      ],
      "text/plain": [
       "                            0         1\n",
       "2         3                            \n",
       "-2.948217  0.682916  0.243345  0.761339\n",
       "-1.493350 -0.351715 -1.641493 -0.017673\n",
       "-0.962212 -1.665062 -0.606810 -0.227568\n",
       "-0.622464  0.103068 -0.954942 -0.658665\n",
       "-0.283451  0.703490  0.115563  1.658294\n",
       "-0.272878 -0.688642 -0.561052  0.143170\n",
       "-0.170371 -2.062883 -0.123738  0.405251\n",
       " 0.303184  0.427497 -0.091355  1.630853\n",
       " 0.715017 -0.313186 -1.194566 -0.844606\n",
       " 1.179776  0.200587 -0.469185 -0.013320"
      ]
     },
     "execution_count": 77,
     "metadata": {},
     "output_type": "execute_result"
    }
   ],
   "source": [
    "df.groupby([2,3]).sum()"
   ]
  },
  {
   "cell_type": "code",
   "execution_count": null,
   "metadata": {},
   "outputs": [],
   "source": []
  },
  {
   "cell_type": "code",
   "execution_count": null,
   "metadata": {},
   "outputs": [],
   "source": [
    "# Stack"
   ]
  },
  {
   "cell_type": "code",
   "execution_count": 78,
   "metadata": {},
   "outputs": [],
   "source": [
    "my_tuple= list(zip(*[[1,2,3,4,5,17,18,19],[11,12,13,6,7,8,9,10]]))"
   ]
  },
  {
   "cell_type": "code",
   "execution_count": 80,
   "metadata": {},
   "outputs": [],
   "source": [
    "index= pd.MultiIndex.from_tuples(my_tuple, names=['First','Second'])"
   ]
  },
  {
   "cell_type": "code",
   "execution_count": 81,
   "metadata": {},
   "outputs": [],
   "source": [
    "df= pd.DataFrame(np.random.randn(8,2), index=index, columns=['A','B'])"
   ]
  },
  {
   "cell_type": "code",
   "execution_count": 82,
   "metadata": {},
   "outputs": [],
   "source": [
    "df2=df[:4]"
   ]
  },
  {
   "cell_type": "code",
   "execution_count": 83,
   "metadata": {},
   "outputs": [
    {
     "data": {
      "text/html": [
       "<div>\n",
       "<style scoped>\n",
       "    .dataframe tbody tr th:only-of-type {\n",
       "        vertical-align: middle;\n",
       "    }\n",
       "\n",
       "    .dataframe tbody tr th {\n",
       "        vertical-align: top;\n",
       "    }\n",
       "\n",
       "    .dataframe thead th {\n",
       "        text-align: right;\n",
       "    }\n",
       "</style>\n",
       "<table border=\"1\" class=\"dataframe\">\n",
       "  <thead>\n",
       "    <tr style=\"text-align: right;\">\n",
       "      <th></th>\n",
       "      <th></th>\n",
       "      <th>A</th>\n",
       "      <th>B</th>\n",
       "    </tr>\n",
       "    <tr>\n",
       "      <th>First</th>\n",
       "      <th>Second</th>\n",
       "      <th></th>\n",
       "      <th></th>\n",
       "    </tr>\n",
       "  </thead>\n",
       "  <tbody>\n",
       "    <tr>\n",
       "      <th>1</th>\n",
       "      <th>11</th>\n",
       "      <td>-0.541713</td>\n",
       "      <td>-1.887573</td>\n",
       "    </tr>\n",
       "    <tr>\n",
       "      <th>2</th>\n",
       "      <th>12</th>\n",
       "      <td>0.859997</td>\n",
       "      <td>-0.098221</td>\n",
       "    </tr>\n",
       "    <tr>\n",
       "      <th>3</th>\n",
       "      <th>13</th>\n",
       "      <td>-0.585408</td>\n",
       "      <td>0.467836</td>\n",
       "    </tr>\n",
       "    <tr>\n",
       "      <th>4</th>\n",
       "      <th>6</th>\n",
       "      <td>-0.575503</td>\n",
       "      <td>0.893461</td>\n",
       "    </tr>\n",
       "  </tbody>\n",
       "</table>\n",
       "</div>"
      ],
      "text/plain": [
       "                     A         B\n",
       "First Second                    \n",
       "1     11     -0.541713 -1.887573\n",
       "2     12      0.859997 -0.098221\n",
       "3     13     -0.585408  0.467836\n",
       "4     6      -0.575503  0.893461"
      ]
     },
     "execution_count": 83,
     "metadata": {},
     "output_type": "execute_result"
    }
   ],
   "source": [
    "df2"
   ]
  },
  {
   "cell_type": "code",
   "execution_count": 87,
   "metadata": {},
   "outputs": [],
   "source": [
    "a= df2.stack()"
   ]
  },
  {
   "cell_type": "code",
   "execution_count": 88,
   "metadata": {},
   "outputs": [
    {
     "data": {
      "text/plain": [
       "First  Second   \n",
       "1      11      A   -0.541713\n",
       "               B   -1.887573\n",
       "2      12      A    0.859997\n",
       "               B   -0.098221\n",
       "3      13      A   -0.585408\n",
       "               B    0.467836\n",
       "4      6       A   -0.575503\n",
       "               B    0.893461\n",
       "dtype: float64"
      ]
     },
     "execution_count": 88,
     "metadata": {},
     "output_type": "execute_result"
    }
   ],
   "source": [
    "a"
   ]
  },
  {
   "cell_type": "code",
   "execution_count": 89,
   "metadata": {},
   "outputs": [
    {
     "data": {
      "text/html": [
       "<div>\n",
       "<style scoped>\n",
       "    .dataframe tbody tr th:only-of-type {\n",
       "        vertical-align: middle;\n",
       "    }\n",
       "\n",
       "    .dataframe tbody tr th {\n",
       "        vertical-align: top;\n",
       "    }\n",
       "\n",
       "    .dataframe thead th {\n",
       "        text-align: right;\n",
       "    }\n",
       "</style>\n",
       "<table border=\"1\" class=\"dataframe\">\n",
       "  <thead>\n",
       "    <tr style=\"text-align: right;\">\n",
       "      <th></th>\n",
       "      <th></th>\n",
       "      <th>A</th>\n",
       "      <th>B</th>\n",
       "    </tr>\n",
       "    <tr>\n",
       "      <th>First</th>\n",
       "      <th>Second</th>\n",
       "      <th></th>\n",
       "      <th></th>\n",
       "    </tr>\n",
       "  </thead>\n",
       "  <tbody>\n",
       "    <tr>\n",
       "      <th>1</th>\n",
       "      <th>11</th>\n",
       "      <td>-0.541713</td>\n",
       "      <td>-1.887573</td>\n",
       "    </tr>\n",
       "    <tr>\n",
       "      <th>2</th>\n",
       "      <th>12</th>\n",
       "      <td>0.859997</td>\n",
       "      <td>-0.098221</td>\n",
       "    </tr>\n",
       "    <tr>\n",
       "      <th>3</th>\n",
       "      <th>13</th>\n",
       "      <td>-0.585408</td>\n",
       "      <td>0.467836</td>\n",
       "    </tr>\n",
       "    <tr>\n",
       "      <th>4</th>\n",
       "      <th>6</th>\n",
       "      <td>-0.575503</td>\n",
       "      <td>0.893461</td>\n",
       "    </tr>\n",
       "  </tbody>\n",
       "</table>\n",
       "</div>"
      ],
      "text/plain": [
       "                     A         B\n",
       "First Second                    \n",
       "1     11     -0.541713 -1.887573\n",
       "2     12      0.859997 -0.098221\n",
       "3     13     -0.585408  0.467836\n",
       "4     6      -0.575503  0.893461"
      ]
     },
     "execution_count": 89,
     "metadata": {},
     "output_type": "execute_result"
    }
   ],
   "source": [
    "a.unstack()"
   ]
  },
  {
   "cell_type": "code",
   "execution_count": 90,
   "metadata": {},
   "outputs": [],
   "source": [
    "df= pd.DataFrame({\n",
    "    'A':['a','b','c','d']*3,\n",
    "    'B':['A','B','C']*4,\n",
    "    'C':['P','P','P','Q','Q','Q']*2,\n",
    "    'D':np.random.randn(12),\n",
    "    'E': np.random.randn(12)\n",
    "})"
   ]
  },
  {
   "cell_type": "code",
   "execution_count": 91,
   "metadata": {},
   "outputs": [
    {
     "data": {
      "text/html": [
       "<div>\n",
       "<style scoped>\n",
       "    .dataframe tbody tr th:only-of-type {\n",
       "        vertical-align: middle;\n",
       "    }\n",
       "\n",
       "    .dataframe tbody tr th {\n",
       "        vertical-align: top;\n",
       "    }\n",
       "\n",
       "    .dataframe thead th {\n",
       "        text-align: right;\n",
       "    }\n",
       "</style>\n",
       "<table border=\"1\" class=\"dataframe\">\n",
       "  <thead>\n",
       "    <tr style=\"text-align: right;\">\n",
       "      <th></th>\n",
       "      <th>A</th>\n",
       "      <th>B</th>\n",
       "      <th>C</th>\n",
       "      <th>D</th>\n",
       "      <th>E</th>\n",
       "    </tr>\n",
       "  </thead>\n",
       "  <tbody>\n",
       "    <tr>\n",
       "      <th>0</th>\n",
       "      <td>a</td>\n",
       "      <td>A</td>\n",
       "      <td>P</td>\n",
       "      <td>0.367924</td>\n",
       "      <td>-0.509149</td>\n",
       "    </tr>\n",
       "    <tr>\n",
       "      <th>1</th>\n",
       "      <td>b</td>\n",
       "      <td>B</td>\n",
       "      <td>P</td>\n",
       "      <td>-1.293961</td>\n",
       "      <td>0.729342</td>\n",
       "    </tr>\n",
       "    <tr>\n",
       "      <th>2</th>\n",
       "      <td>c</td>\n",
       "      <td>C</td>\n",
       "      <td>P</td>\n",
       "      <td>0.818888</td>\n",
       "      <td>1.073029</td>\n",
       "    </tr>\n",
       "    <tr>\n",
       "      <th>3</th>\n",
       "      <td>d</td>\n",
       "      <td>A</td>\n",
       "      <td>Q</td>\n",
       "      <td>1.815157</td>\n",
       "      <td>-1.502210</td>\n",
       "    </tr>\n",
       "    <tr>\n",
       "      <th>4</th>\n",
       "      <td>a</td>\n",
       "      <td>B</td>\n",
       "      <td>Q</td>\n",
       "      <td>-0.199795</td>\n",
       "      <td>-0.756842</td>\n",
       "    </tr>\n",
       "    <tr>\n",
       "      <th>5</th>\n",
       "      <td>b</td>\n",
       "      <td>C</td>\n",
       "      <td>Q</td>\n",
       "      <td>1.072357</td>\n",
       "      <td>0.540900</td>\n",
       "    </tr>\n",
       "    <tr>\n",
       "      <th>6</th>\n",
       "      <td>c</td>\n",
       "      <td>A</td>\n",
       "      <td>P</td>\n",
       "      <td>-0.514946</td>\n",
       "      <td>-0.925089</td>\n",
       "    </tr>\n",
       "    <tr>\n",
       "      <th>7</th>\n",
       "      <td>d</td>\n",
       "      <td>B</td>\n",
       "      <td>P</td>\n",
       "      <td>1.978393</td>\n",
       "      <td>0.015787</td>\n",
       "    </tr>\n",
       "    <tr>\n",
       "      <th>8</th>\n",
       "      <td>a</td>\n",
       "      <td>C</td>\n",
       "      <td>P</td>\n",
       "      <td>-0.416054</td>\n",
       "      <td>-0.463599</td>\n",
       "    </tr>\n",
       "    <tr>\n",
       "      <th>9</th>\n",
       "      <td>b</td>\n",
       "      <td>A</td>\n",
       "      <td>Q</td>\n",
       "      <td>0.922080</td>\n",
       "      <td>0.378663</td>\n",
       "    </tr>\n",
       "    <tr>\n",
       "      <th>10</th>\n",
       "      <td>c</td>\n",
       "      <td>B</td>\n",
       "      <td>Q</td>\n",
       "      <td>-0.050401</td>\n",
       "      <td>1.288760</td>\n",
       "    </tr>\n",
       "    <tr>\n",
       "      <th>11</th>\n",
       "      <td>d</td>\n",
       "      <td>C</td>\n",
       "      <td>Q</td>\n",
       "      <td>0.597654</td>\n",
       "      <td>0.841572</td>\n",
       "    </tr>\n",
       "  </tbody>\n",
       "</table>\n",
       "</div>"
      ],
      "text/plain": [
       "    A  B  C         D         E\n",
       "0   a  A  P  0.367924 -0.509149\n",
       "1   b  B  P -1.293961  0.729342\n",
       "2   c  C  P  0.818888  1.073029\n",
       "3   d  A  Q  1.815157 -1.502210\n",
       "4   a  B  Q -0.199795 -0.756842\n",
       "5   b  C  Q  1.072357  0.540900\n",
       "6   c  A  P -0.514946 -0.925089\n",
       "7   d  B  P  1.978393  0.015787\n",
       "8   a  C  P -0.416054 -0.463599\n",
       "9   b  A  Q  0.922080  0.378663\n",
       "10  c  B  Q -0.050401  1.288760\n",
       "11  d  C  Q  0.597654  0.841572"
      ]
     },
     "execution_count": 91,
     "metadata": {},
     "output_type": "execute_result"
    }
   ],
   "source": [
    "df"
   ]
  },
  {
   "cell_type": "code",
   "execution_count": null,
   "metadata": {},
   "outputs": [],
   "source": [
    "# pivot tables"
   ]
  },
  {
   "cell_type": "code",
   "execution_count": 92,
   "metadata": {},
   "outputs": [
    {
     "data": {
      "text/html": [
       "<div>\n",
       "<style scoped>\n",
       "    .dataframe tbody tr th:only-of-type {\n",
       "        vertical-align: middle;\n",
       "    }\n",
       "\n",
       "    .dataframe tbody tr th {\n",
       "        vertical-align: top;\n",
       "    }\n",
       "\n",
       "    .dataframe thead th {\n",
       "        text-align: right;\n",
       "    }\n",
       "</style>\n",
       "<table border=\"1\" class=\"dataframe\">\n",
       "  <thead>\n",
       "    <tr style=\"text-align: right;\">\n",
       "      <th></th>\n",
       "      <th>C</th>\n",
       "      <th>P</th>\n",
       "      <th>Q</th>\n",
       "    </tr>\n",
       "    <tr>\n",
       "      <th>A</th>\n",
       "      <th>B</th>\n",
       "      <th></th>\n",
       "      <th></th>\n",
       "    </tr>\n",
       "  </thead>\n",
       "  <tbody>\n",
       "    <tr>\n",
       "      <th rowspan=\"3\" valign=\"top\">a</th>\n",
       "      <th>A</th>\n",
       "      <td>0.367924</td>\n",
       "      <td>NaN</td>\n",
       "    </tr>\n",
       "    <tr>\n",
       "      <th>B</th>\n",
       "      <td>NaN</td>\n",
       "      <td>-0.199795</td>\n",
       "    </tr>\n",
       "    <tr>\n",
       "      <th>C</th>\n",
       "      <td>-0.416054</td>\n",
       "      <td>NaN</td>\n",
       "    </tr>\n",
       "    <tr>\n",
       "      <th rowspan=\"3\" valign=\"top\">b</th>\n",
       "      <th>A</th>\n",
       "      <td>NaN</td>\n",
       "      <td>0.922080</td>\n",
       "    </tr>\n",
       "    <tr>\n",
       "      <th>B</th>\n",
       "      <td>-1.293961</td>\n",
       "      <td>NaN</td>\n",
       "    </tr>\n",
       "    <tr>\n",
       "      <th>C</th>\n",
       "      <td>NaN</td>\n",
       "      <td>1.072357</td>\n",
       "    </tr>\n",
       "    <tr>\n",
       "      <th rowspan=\"3\" valign=\"top\">c</th>\n",
       "      <th>A</th>\n",
       "      <td>-0.514946</td>\n",
       "      <td>NaN</td>\n",
       "    </tr>\n",
       "    <tr>\n",
       "      <th>B</th>\n",
       "      <td>NaN</td>\n",
       "      <td>-0.050401</td>\n",
       "    </tr>\n",
       "    <tr>\n",
       "      <th>C</th>\n",
       "      <td>0.818888</td>\n",
       "      <td>NaN</td>\n",
       "    </tr>\n",
       "    <tr>\n",
       "      <th rowspan=\"3\" valign=\"top\">d</th>\n",
       "      <th>A</th>\n",
       "      <td>NaN</td>\n",
       "      <td>1.815157</td>\n",
       "    </tr>\n",
       "    <tr>\n",
       "      <th>B</th>\n",
       "      <td>1.978393</td>\n",
       "      <td>NaN</td>\n",
       "    </tr>\n",
       "    <tr>\n",
       "      <th>C</th>\n",
       "      <td>NaN</td>\n",
       "      <td>0.597654</td>\n",
       "    </tr>\n",
       "  </tbody>\n",
       "</table>\n",
       "</div>"
      ],
      "text/plain": [
       "C           P         Q\n",
       "A B                    \n",
       "a A  0.367924       NaN\n",
       "  B       NaN -0.199795\n",
       "  C -0.416054       NaN\n",
       "b A       NaN  0.922080\n",
       "  B -1.293961       NaN\n",
       "  C       NaN  1.072357\n",
       "c A -0.514946       NaN\n",
       "  B       NaN -0.050401\n",
       "  C  0.818888       NaN\n",
       "d A       NaN  1.815157\n",
       "  B  1.978393       NaN\n",
       "  C       NaN  0.597654"
      ]
     },
     "execution_count": 92,
     "metadata": {},
     "output_type": "execute_result"
    }
   ],
   "source": [
    "pd.pivot_table(df,values='D',index=['A','B'],columns='C')"
   ]
  },
  {
   "cell_type": "markdown",
   "metadata": {},
   "source": [
    "### time series and categoricals"
   ]
  },
  {
   "cell_type": "code",
   "execution_count": 96,
   "metadata": {},
   "outputs": [],
   "source": [
    "dates = pd.date_range('3/3/2020', periods=100, freq='S')"
   ]
  },
  {
   "cell_type": "code",
   "execution_count": 97,
   "metadata": {},
   "outputs": [
    {
     "data": {
      "text/plain": [
       "DatetimeIndex(['2020-03-03 00:00:00', '2020-03-03 00:00:01',\n",
       "               '2020-03-03 00:00:02', '2020-03-03 00:00:03',\n",
       "               '2020-03-03 00:00:04', '2020-03-03 00:00:05',\n",
       "               '2020-03-03 00:00:06', '2020-03-03 00:00:07',\n",
       "               '2020-03-03 00:00:08', '2020-03-03 00:00:09',\n",
       "               '2020-03-03 00:00:10', '2020-03-03 00:00:11',\n",
       "               '2020-03-03 00:00:12', '2020-03-03 00:00:13',\n",
       "               '2020-03-03 00:00:14', '2020-03-03 00:00:15',\n",
       "               '2020-03-03 00:00:16', '2020-03-03 00:00:17',\n",
       "               '2020-03-03 00:00:18', '2020-03-03 00:00:19',\n",
       "               '2020-03-03 00:00:20', '2020-03-03 00:00:21',\n",
       "               '2020-03-03 00:00:22', '2020-03-03 00:00:23',\n",
       "               '2020-03-03 00:00:24', '2020-03-03 00:00:25',\n",
       "               '2020-03-03 00:00:26', '2020-03-03 00:00:27',\n",
       "               '2020-03-03 00:00:28', '2020-03-03 00:00:29',\n",
       "               '2020-03-03 00:00:30', '2020-03-03 00:00:31',\n",
       "               '2020-03-03 00:00:32', '2020-03-03 00:00:33',\n",
       "               '2020-03-03 00:00:34', '2020-03-03 00:00:35',\n",
       "               '2020-03-03 00:00:36', '2020-03-03 00:00:37',\n",
       "               '2020-03-03 00:00:38', '2020-03-03 00:00:39',\n",
       "               '2020-03-03 00:00:40', '2020-03-03 00:00:41',\n",
       "               '2020-03-03 00:00:42', '2020-03-03 00:00:43',\n",
       "               '2020-03-03 00:00:44', '2020-03-03 00:00:45',\n",
       "               '2020-03-03 00:00:46', '2020-03-03 00:00:47',\n",
       "               '2020-03-03 00:00:48', '2020-03-03 00:00:49',\n",
       "               '2020-03-03 00:00:50', '2020-03-03 00:00:51',\n",
       "               '2020-03-03 00:00:52', '2020-03-03 00:00:53',\n",
       "               '2020-03-03 00:00:54', '2020-03-03 00:00:55',\n",
       "               '2020-03-03 00:00:56', '2020-03-03 00:00:57',\n",
       "               '2020-03-03 00:00:58', '2020-03-03 00:00:59',\n",
       "               '2020-03-03 00:01:00', '2020-03-03 00:01:01',\n",
       "               '2020-03-03 00:01:02', '2020-03-03 00:01:03',\n",
       "               '2020-03-03 00:01:04', '2020-03-03 00:01:05',\n",
       "               '2020-03-03 00:01:06', '2020-03-03 00:01:07',\n",
       "               '2020-03-03 00:01:08', '2020-03-03 00:01:09',\n",
       "               '2020-03-03 00:01:10', '2020-03-03 00:01:11',\n",
       "               '2020-03-03 00:01:12', '2020-03-03 00:01:13',\n",
       "               '2020-03-03 00:01:14', '2020-03-03 00:01:15',\n",
       "               '2020-03-03 00:01:16', '2020-03-03 00:01:17',\n",
       "               '2020-03-03 00:01:18', '2020-03-03 00:01:19',\n",
       "               '2020-03-03 00:01:20', '2020-03-03 00:01:21',\n",
       "               '2020-03-03 00:01:22', '2020-03-03 00:01:23',\n",
       "               '2020-03-03 00:01:24', '2020-03-03 00:01:25',\n",
       "               '2020-03-03 00:01:26', '2020-03-03 00:01:27',\n",
       "               '2020-03-03 00:01:28', '2020-03-03 00:01:29',\n",
       "               '2020-03-03 00:01:30', '2020-03-03 00:01:31',\n",
       "               '2020-03-03 00:01:32', '2020-03-03 00:01:33',\n",
       "               '2020-03-03 00:01:34', '2020-03-03 00:01:35',\n",
       "               '2020-03-03 00:01:36', '2020-03-03 00:01:37',\n",
       "               '2020-03-03 00:01:38', '2020-03-03 00:01:39'],\n",
       "              dtype='datetime64[ns]', freq='S')"
      ]
     },
     "execution_count": 97,
     "metadata": {},
     "output_type": "execute_result"
    }
   ],
   "source": [
    "dates"
   ]
  },
  {
   "cell_type": "code",
   "execution_count": 99,
   "metadata": {},
   "outputs": [],
   "source": [
    "ts= pd.Series(np.random.randint(0,500,len(dates)),dates)"
   ]
  },
  {
   "cell_type": "code",
   "execution_count": 100,
   "metadata": {},
   "outputs": [
    {
     "data": {
      "text/plain": [
       "2020-03-03    25972\n",
       "Freq: 5T, dtype: int32"
      ]
     },
     "execution_count": 100,
     "metadata": {},
     "output_type": "execute_result"
    }
   ],
   "source": [
    "ts.resample('5min').sum()"
   ]
  },
  {
   "cell_type": "code",
   "execution_count": 101,
   "metadata": {},
   "outputs": [],
   "source": [
    "dates = pd.date_range('3/3/2020 00:00', periods=5, freq='S')"
   ]
  },
  {
   "cell_type": "code",
   "execution_count": 102,
   "metadata": {},
   "outputs": [],
   "source": [
    "ts=pd.Series(np.random.randn(len(dates)),dates)"
   ]
  },
  {
   "cell_type": "code",
   "execution_count": 103,
   "metadata": {},
   "outputs": [
    {
     "data": {
      "text/plain": [
       "2020-03-03 00:00:00   -0.069879\n",
       "2020-03-03 00:00:01    0.551833\n",
       "2020-03-03 00:00:02    0.456909\n",
       "2020-03-03 00:00:03    1.076609\n",
       "2020-03-03 00:00:04   -1.197830\n",
       "Freq: S, dtype: float64"
      ]
     },
     "execution_count": 103,
     "metadata": {},
     "output_type": "execute_result"
    }
   ],
   "source": [
    "ts"
   ]
  },
  {
   "cell_type": "code",
   "execution_count": 104,
   "metadata": {},
   "outputs": [],
   "source": [
    "ts_utc =ts.tz_localize('UTC')"
   ]
  },
  {
   "cell_type": "code",
   "execution_count": 105,
   "metadata": {},
   "outputs": [
    {
     "data": {
      "text/plain": [
       "2020-03-03 00:00:00+00:00   -0.069879\n",
       "2020-03-03 00:00:01+00:00    0.551833\n",
       "2020-03-03 00:00:02+00:00    0.456909\n",
       "2020-03-03 00:00:03+00:00    1.076609\n",
       "2020-03-03 00:00:04+00:00   -1.197830\n",
       "Freq: S, dtype: float64"
      ]
     },
     "execution_count": 105,
     "metadata": {},
     "output_type": "execute_result"
    }
   ],
   "source": [
    "ts_utc"
   ]
  },
  {
   "cell_type": "code",
   "execution_count": 106,
   "metadata": {},
   "outputs": [
    {
     "data": {
      "text/plain": [
       "2020-03-02 19:00:00-05:00   -0.069879\n",
       "2020-03-02 19:00:01-05:00    0.551833\n",
       "2020-03-02 19:00:02-05:00    0.456909\n",
       "2020-03-02 19:00:03-05:00    1.076609\n",
       "2020-03-02 19:00:04-05:00   -1.197830\n",
       "Freq: S, dtype: float64"
      ]
     },
     "execution_count": 106,
     "metadata": {},
     "output_type": "execute_result"
    }
   ],
   "source": [
    "ts_utc.tz_convert('US/Eastern')"
   ]
  },
  {
   "cell_type": "code",
   "execution_count": 107,
   "metadata": {},
   "outputs": [],
   "source": [
    "dates = pd.date_range('3/3/2020', periods=5, freq='M')"
   ]
  },
  {
   "cell_type": "code",
   "execution_count": 108,
   "metadata": {},
   "outputs": [],
   "source": [
    "ts=pd.Series(np.random.randn(len(dates)),dates)"
   ]
  },
  {
   "cell_type": "code",
   "execution_count": 109,
   "metadata": {},
   "outputs": [
    {
     "data": {
      "text/plain": [
       "2020-03-31    0.473563\n",
       "2020-04-30    0.057914\n",
       "2020-05-31   -0.940887\n",
       "2020-06-30    0.047517\n",
       "2020-07-31   -1.600747\n",
       "Freq: M, dtype: float64"
      ]
     },
     "execution_count": 109,
     "metadata": {},
     "output_type": "execute_result"
    }
   ],
   "source": [
    "ts"
   ]
  },
  {
   "cell_type": "code",
   "execution_count": 110,
   "metadata": {},
   "outputs": [],
   "source": [
    "ps=ts.to_period()"
   ]
  },
  {
   "cell_type": "code",
   "execution_count": 111,
   "metadata": {},
   "outputs": [
    {
     "data": {
      "text/plain": [
       "2020-03    0.473563\n",
       "2020-04    0.057914\n",
       "2020-05   -0.940887\n",
       "2020-06    0.047517\n",
       "2020-07   -1.600747\n",
       "Freq: M, dtype: float64"
      ]
     },
     "execution_count": 111,
     "metadata": {},
     "output_type": "execute_result"
    }
   ],
   "source": [
    "ps"
   ]
  },
  {
   "cell_type": "code",
   "execution_count": 112,
   "metadata": {},
   "outputs": [
    {
     "data": {
      "text/plain": [
       "2020-03-01    0.473563\n",
       "2020-04-01    0.057914\n",
       "2020-05-01   -0.940887\n",
       "2020-06-01    0.047517\n",
       "2020-07-01   -1.600747\n",
       "Freq: MS, dtype: float64"
      ]
     },
     "execution_count": 112,
     "metadata": {},
     "output_type": "execute_result"
    }
   ],
   "source": [
    "ps.to_timestamp()"
   ]
  },
  {
   "cell_type": "markdown",
   "metadata": {},
   "source": [
    "### Categorical"
   ]
  },
  {
   "cell_type": "code",
   "execution_count": 113,
   "metadata": {},
   "outputs": [],
   "source": [
    "df= pd.DataFrame({\n",
    "    'id':[1,2,3,4,5,6],\n",
    "    'grade':['a','b','c','b','a','e']\n",
    "})"
   ]
  },
  {
   "cell_type": "code",
   "execution_count": 114,
   "metadata": {},
   "outputs": [
    {
     "data": {
      "text/html": [
       "<div>\n",
       "<style scoped>\n",
       "    .dataframe tbody tr th:only-of-type {\n",
       "        vertical-align: middle;\n",
       "    }\n",
       "\n",
       "    .dataframe tbody tr th {\n",
       "        vertical-align: top;\n",
       "    }\n",
       "\n",
       "    .dataframe thead th {\n",
       "        text-align: right;\n",
       "    }\n",
       "</style>\n",
       "<table border=\"1\" class=\"dataframe\">\n",
       "  <thead>\n",
       "    <tr style=\"text-align: right;\">\n",
       "      <th></th>\n",
       "      <th>id</th>\n",
       "      <th>grade</th>\n",
       "    </tr>\n",
       "  </thead>\n",
       "  <tbody>\n",
       "    <tr>\n",
       "      <th>0</th>\n",
       "      <td>1</td>\n",
       "      <td>a</td>\n",
       "    </tr>\n",
       "    <tr>\n",
       "      <th>1</th>\n",
       "      <td>2</td>\n",
       "      <td>b</td>\n",
       "    </tr>\n",
       "    <tr>\n",
       "      <th>2</th>\n",
       "      <td>3</td>\n",
       "      <td>c</td>\n",
       "    </tr>\n",
       "    <tr>\n",
       "      <th>3</th>\n",
       "      <td>4</td>\n",
       "      <td>b</td>\n",
       "    </tr>\n",
       "    <tr>\n",
       "      <th>4</th>\n",
       "      <td>5</td>\n",
       "      <td>a</td>\n",
       "    </tr>\n",
       "    <tr>\n",
       "      <th>5</th>\n",
       "      <td>6</td>\n",
       "      <td>e</td>\n",
       "    </tr>\n",
       "  </tbody>\n",
       "</table>\n",
       "</div>"
      ],
      "text/plain": [
       "   id grade\n",
       "0   1     a\n",
       "1   2     b\n",
       "2   3     c\n",
       "3   4     b\n",
       "4   5     a\n",
       "5   6     e"
      ]
     },
     "execution_count": 114,
     "metadata": {},
     "output_type": "execute_result"
    }
   ],
   "source": [
    "df"
   ]
  },
  {
   "cell_type": "code",
   "execution_count": 115,
   "metadata": {},
   "outputs": [],
   "source": [
    "df['Grade']= df['grade'].astype(\"category\")"
   ]
  },
  {
   "cell_type": "code",
   "execution_count": 116,
   "metadata": {},
   "outputs": [
    {
     "data": {
      "text/plain": [
       "0    a\n",
       "1    b\n",
       "2    c\n",
       "3    b\n",
       "4    a\n",
       "5    e\n",
       "Name: Grade, dtype: category\n",
       "Categories (4, object): ['a', 'b', 'c', 'e']"
      ]
     },
     "execution_count": 116,
     "metadata": {},
     "output_type": "execute_result"
    }
   ],
   "source": [
    "df['Grade']"
   ]
  },
  {
   "cell_type": "code",
   "execution_count": 118,
   "metadata": {},
   "outputs": [],
   "source": [
    "df['Grade'].cat.categories=[\"very bad\",\"good\",\"very good\",\"excellent\"]"
   ]
  },
  {
   "cell_type": "code",
   "execution_count": 119,
   "metadata": {},
   "outputs": [],
   "source": [
    "df['Grade']= df['Grade'].cat.set_categories([\"very good\",\"bad\",\"very bad\",\"good\",\"medium\"])"
   ]
  },
  {
   "cell_type": "code",
   "execution_count": 120,
   "metadata": {},
   "outputs": [
    {
     "data": {
      "text/plain": [
       "0     very bad\n",
       "1         good\n",
       "2    very good\n",
       "3         good\n",
       "4     very bad\n",
       "5          NaN\n",
       "Name: Grade, dtype: category\n",
       "Categories (5, object): ['very good', 'bad', 'very bad', 'good', 'medium']"
      ]
     },
     "execution_count": 120,
     "metadata": {},
     "output_type": "execute_result"
    }
   ],
   "source": [
    "df[\"Grade\"]"
   ]
  },
  {
   "cell_type": "code",
   "execution_count": 121,
   "metadata": {},
   "outputs": [],
   "source": [
    "import matplotlib.pyplot as plt"
   ]
  },
  {
   "cell_type": "code",
   "execution_count": 122,
   "metadata": {},
   "outputs": [],
   "source": [
    "plt.close('all')"
   ]
  },
  {
   "cell_type": "code",
   "execution_count": 123,
   "metadata": {},
   "outputs": [],
   "source": [
    "ts=pd.Series(np.random.randn(500),index=pd.date_range('1/3/2020',periods=500))"
   ]
  },
  {
   "cell_type": "code",
   "execution_count": 124,
   "metadata": {},
   "outputs": [],
   "source": [
    "ts=ts.cumsum()"
   ]
  },
  {
   "cell_type": "code",
   "execution_count": 125,
   "metadata": {},
   "outputs": [
    {
     "data": {
      "text/plain": [
       "<AxesSubplot:>"
      ]
     },
     "execution_count": 125,
     "metadata": {},
     "output_type": "execute_result"
    },
    {
     "data": {
      "image/png": "[encoded data removed]",
      "text/plain": [
       "<Figure size 432x288 with 1 Axes>"
      ]
     },
     "metadata": {
      "needs_background": "light"
     },
     "output_type": "display_data"
    }
   ],
   "source": [
    "ts.plot()"
   ]
  },
  {
   "cell_type": "code",
   "execution_count": null,
   "metadata": {},
   "outputs": [],
   "source": [
    "# reading writing"
   ]
  },
  {
   "cell_type": "code",
   "execution_count": 126,
   "metadata": {},
   "outputs": [
    {
     "data": {
      "text/plain": [
       "2020-01-03    -1.266344\n",
       "2020-01-04     0.340075\n",
       "2020-01-05     1.013835\n",
       "2020-01-06    -0.847098\n",
       "2020-01-07    -0.081333\n",
       "                ...    \n",
       "2021-05-12   -17.431644\n",
       "2021-05-13   -16.483205\n",
       "2021-05-14   -16.339995\n",
       "2021-05-15   -14.398884\n",
       "2021-05-16   -13.499343\n",
       "Freq: D, Length: 500, dtype: float64"
      ]
     },
     "execution_count": 126,
     "metadata": {},
     "output_type": "execute_result"
    }
   ],
   "source": [
    "ts"
   ]
  },
  {
   "cell_type": "code",
   "execution_count": 127,
   "metadata": {},
   "outputs": [],
   "source": [
    "ts.to_csv(\"ts.csv\")"
   ]
  },
  {
   "cell_type": "code",
   "execution_count": 128,
   "metadata": {},
   "outputs": [
    {
     "data": {
      "text/html": [
       "<div>\n",
       "<style scoped>\n",
       "    .dataframe tbody tr th:only-of-type {\n",
       "        vertical-align: middle;\n",
       "    }\n",
       "\n",
       "    .dataframe tbody tr th {\n",
       "        vertical-align: top;\n",
       "    }\n",
       "\n",
       "    .dataframe thead th {\n",
       "        text-align: right;\n",
       "    }\n",
       "</style>\n",
       "<table border=\"1\" class=\"dataframe\">\n",
       "  <thead>\n",
       "    <tr style=\"text-align: right;\">\n",
       "      <th></th>\n",
       "      <th>Unnamed: 0</th>\n",
       "      <th>0</th>\n",
       "    </tr>\n",
       "  </thead>\n",
       "  <tbody>\n",
       "    <tr>\n",
       "      <th>0</th>\n",
       "      <td>2020-01-03</td>\n",
       "      <td>-1.266344</td>\n",
       "    </tr>\n",
       "    <tr>\n",
       "      <th>1</th>\n",
       "      <td>2020-01-04</td>\n",
       "      <td>0.340075</td>\n",
       "    </tr>\n",
       "    <tr>\n",
       "      <th>2</th>\n",
       "      <td>2020-01-05</td>\n",
       "      <td>1.013835</td>\n",
       "    </tr>\n",
       "    <tr>\n",
       "      <th>3</th>\n",
       "      <td>2020-01-06</td>\n",
       "      <td>-0.847098</td>\n",
       "    </tr>\n",
       "    <tr>\n",
       "      <th>4</th>\n",
       "      <td>2020-01-07</td>\n",
       "      <td>-0.081333</td>\n",
       "    </tr>\n",
       "    <tr>\n",
       "      <th>...</th>\n",
       "      <td>...</td>\n",
       "      <td>...</td>\n",
       "    </tr>\n",
       "    <tr>\n",
       "      <th>495</th>\n",
       "      <td>2021-05-12</td>\n",
       "      <td>-17.431644</td>\n",
       "    </tr>\n",
       "    <tr>\n",
       "      <th>496</th>\n",
       "      <td>2021-05-13</td>\n",
       "      <td>-16.483205</td>\n",
       "    </tr>\n",
       "    <tr>\n",
       "      <th>497</th>\n",
       "      <td>2021-05-14</td>\n",
       "      <td>-16.339995</td>\n",
       "    </tr>\n",
       "    <tr>\n",
       "      <th>498</th>\n",
       "      <td>2021-05-15</td>\n",
       "      <td>-14.398884</td>\n",
       "    </tr>\n",
       "    <tr>\n",
       "      <th>499</th>\n",
       "      <td>2021-05-16</td>\n",
       "      <td>-13.499343</td>\n",
       "    </tr>\n",
       "  </tbody>\n",
       "</table>\n",
       "<p>500 rows × 2 columns</p>\n",
       "</div>"
      ],
      "text/plain": [
       "     Unnamed: 0          0\n",
       "0    2020-01-03  -1.266344\n",
       "1    2020-01-04   0.340075\n",
       "2    2020-01-05   1.013835\n",
       "3    2020-01-06  -0.847098\n",
       "4    2020-01-07  -0.081333\n",
       "..          ...        ...\n",
       "495  2021-05-12 -17.431644\n",
       "496  2021-05-13 -16.483205\n",
       "497  2021-05-14 -16.339995\n",
       "498  2021-05-15 -14.398884\n",
       "499  2021-05-16 -13.499343\n",
       "\n",
       "[500 rows x 2 columns]"
      ]
     },
     "execution_count": 128,
     "metadata": {},
     "output_type": "execute_result"
    }
   ],
   "source": [
    "pd.read_csv(\"ts.csv\")"
   ]
  },
  {
   "cell_type": "code",
   "execution_count": null,
   "metadata": {},
   "outputs": [],
   "source": []
  }
 ],
 "metadata": {
  "kernelspec": {
   "display_name": "Python 3",
   "language": "python",
   "name": "python3"
  },
  "language_info": {
   "codemirror_mode": {
    "name": "ipython",
    "version": 3
   },
   "file_extension": ".py",
   "mimetype": "text/x-python",
   "name": "python",
   "nbconvert_exporter": "python",
   "pygments_lexer": "ipython3",
   "version": "3.8.5"
  }
 },
 "nbformat": 4,
 "nbformat_minor": 4
}
