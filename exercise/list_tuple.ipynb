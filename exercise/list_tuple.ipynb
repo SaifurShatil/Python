{
 "cells": [
  {
   "cell_type": "markdown",
   "metadata": {},
   "source": [
    "## List"
   ]
  },
  {
   "cell_type": "code",
   "execution_count": 7,
   "metadata": {},
   "outputs": [
    {
     "name": "stdout",
     "output_type": "stream",
     "text": [
      "2\n",
      "a\n",
      "kks\n",
      "['a', 'kks']\n",
      "[2, 'a']\n",
      "[2, 'b', 'kks']\n",
      "3\n"
     ]
    }
   ],
   "source": [
    "l=[2,'a',\"kks\"]\n",
    "\n",
    "for i in l:\n",
    "    print(i)\n",
    "    \n",
    "print(l[1:3])\n",
    "print(l[-3:-1])\n",
    "\n",
    "l[1]='b'\n",
    "print(l)\n",
    "print(len(l))"
   ]
  },
  {
   "cell_type": "code",
   "execution_count": 11,
   "metadata": {},
   "outputs": [
    {
     "name": "stdout",
     "output_type": "stream",
     "text": [
      "[2, 'b', 'kks', 23, 23, 23]\n"
     ]
    }
   ],
   "source": [
    "l.append(23)\n",
    "print(l)"
   ]
  },
  {
   "cell_type": "code",
   "execution_count": 47,
   "metadata": {},
   "outputs": [
    {
     "name": "stdout",
     "output_type": "stream",
     "text": [
      "5\n",
      "7\n",
      "6\n",
      "7\n",
      "8\n",
      "[2, 3, 4, 5, 7, 6, 7, 8]\n"
     ]
    }
   ],
   "source": [
    "l=[2,3,4]\n",
    "\n",
    "for c in range(5):\n",
    "    i=int(input())\n",
    "    l.append(i)\n",
    "print(l)  "
   ]
  },
  {
   "cell_type": "code",
   "execution_count": 49,
   "metadata": {},
   "outputs": [
    {
     "name": "stdout",
     "output_type": "stream",
     "text": [
      "5\n",
      "6\n",
      "7\n",
      "0\n",
      "[2, 3, 4, 5, 6, 7]\n"
     ]
    }
   ],
   "source": [
    "l=[2,3,4]\n",
    "\n",
    "while(1):\n",
    "    i=int(input())\n",
    "    if i==0:\n",
    "        break\n",
    "    l.append(i)\n",
    "    \n",
    "print(l) "
   ]
  },
  {
   "cell_type": "code",
   "execution_count": 12,
   "metadata": {},
   "outputs": [
    {
     "name": "stdout",
     "output_type": "stream",
     "text": [
      "[2, 'b', 'kks', 23, 'srs', 23, 23]\n"
     ]
    }
   ],
   "source": [
    "l.insert(4,\"srs\")\n",
    "print(l)"
   ]
  },
  {
   "cell_type": "code",
   "execution_count": 16,
   "metadata": {},
   "outputs": [
    {
     "ename": "TypeError",
     "evalue": "insert expected 2 arguments, got 1",
     "output_type": "error",
     "traceback": [
      "\u001b[1;31m---------------------------------------------------------------------------\u001b[0m",
      "\u001b[1;31mTypeError\u001b[0m                                 Traceback (most recent call last)",
      "\u001b[1;32m<ipython-input-16-ca05732f9868>\u001b[0m in \u001b[0;36m<module>\u001b[1;34m\u001b[0m\n\u001b[1;32m----> 1\u001b[1;33m \u001b[0ml\u001b[0m\u001b[1;33m.\u001b[0m\u001b[0minsert\u001b[0m\u001b[1;33m(\u001b[0m\u001b[1;34m\"yes\"\u001b[0m\u001b[1;33m)\u001b[0m\u001b[1;33m\u001b[0m\u001b[1;33m\u001b[0m\u001b[0m\n\u001b[0m\u001b[0;32m      2\u001b[0m \u001b[0mprint\u001b[0m\u001b[1;33m(\u001b[0m\u001b[0ml\u001b[0m\u001b[1;33m)\u001b[0m\u001b[1;33m\u001b[0m\u001b[1;33m\u001b[0m\u001b[0m\n",
      "\u001b[1;31mTypeError\u001b[0m: insert expected 2 arguments, got 1"
     ]
    }
   ],
   "source": [
    "l.insert(\"yes\")\n",
    "print(l)"
   ]
  },
  {
   "cell_type": "code",
   "execution_count": 17,
   "metadata": {},
   "outputs": [
    {
     "name": "stdout",
     "output_type": "stream",
     "text": [
      "[2, 'b', 'kks', 'srs', 23, 23]\n"
     ]
    }
   ],
   "source": [
    "l.remove(23) #first matching item\n",
    "print(l)"
   ]
  },
  {
   "cell_type": "code",
   "execution_count": 18,
   "metadata": {},
   "outputs": [
    {
     "name": "stdout",
     "output_type": "stream",
     "text": [
      "[2, 'b', 'srs', 23, 23]\n",
      "[2, 'b', 'srs', 23]\n"
     ]
    }
   ],
   "source": [
    "l.pop(2)\n",
    "print(l)\n",
    "l.pop()\n",
    "print(l)"
   ]
  },
  {
   "cell_type": "code",
   "execution_count": 28,
   "metadata": {},
   "outputs": [
    {
     "name": "stdout",
     "output_type": "stream",
     "text": [
      "[2, 4, 5, 6, 67]\n",
      "[2, 4, 67]\n"
     ]
    },
    {
     "ename": "NameError",
     "evalue": "name 'l' is not defined",
     "output_type": "error",
     "traceback": [
      "\u001b[1;31m---------------------------------------------------------------------------\u001b[0m",
      "\u001b[1;31mNameError\u001b[0m                                 Traceback (most recent call last)",
      "\u001b[1;32m<ipython-input-28-9bc9d08aefb5>\u001b[0m in \u001b[0;36m<module>\u001b[1;34m\u001b[0m\n\u001b[0;32m      5\u001b[0m \u001b[0mprint\u001b[0m\u001b[1;33m(\u001b[0m\u001b[0ml\u001b[0m\u001b[1;33m)\u001b[0m\u001b[1;33m\u001b[0m\u001b[1;33m\u001b[0m\u001b[0m\n\u001b[0;32m      6\u001b[0m \u001b[1;32mdel\u001b[0m \u001b[0ml\u001b[0m\u001b[1;33m\u001b[0m\u001b[1;33m\u001b[0m\u001b[0m\n\u001b[1;32m----> 7\u001b[1;33m \u001b[0mprint\u001b[0m\u001b[1;33m(\u001b[0m\u001b[0ml\u001b[0m\u001b[1;33m)\u001b[0m\u001b[1;33m\u001b[0m\u001b[1;33m\u001b[0m\u001b[0m\n\u001b[0m",
      "\u001b[1;31mNameError\u001b[0m: name 'l' is not defined"
     ]
    }
   ],
   "source": [
    "l=[2,3,4,5,6,67]\n",
    "del l[1]\n",
    "print(l)\n",
    "del l[2:4]\n",
    "print(l)\n",
    "del l\n",
    "print(l) # error as the list deleted"
   ]
  },
  {
   "cell_type": "code",
   "execution_count": 29,
   "metadata": {},
   "outputs": [
    {
     "name": "stdout",
     "output_type": "stream",
     "text": [
      "[]\n"
     ]
    }
   ],
   "source": [
    "l=[2,3,4,5,6,67]\n",
    "l.clear() # all\n",
    "print(l)"
   ]
  },
  {
   "cell_type": "code",
   "execution_count": 31,
   "metadata": {},
   "outputs": [
    {
     "name": "stdout",
     "output_type": "stream",
     "text": [
      "9\n",
      "no\n"
     ]
    }
   ],
   "source": [
    "l=[2,3,4,5,6,67]\n",
    "i=int(input())\n",
    "if i in l:\n",
    "    print('yes')\n",
    "else:\n",
    "    print('no')"
   ]
  },
  {
   "cell_type": "code",
   "execution_count": 5,
   "metadata": {},
   "outputs": [
    {
     "name": "stdout",
     "output_type": "stream",
     "text": [
      "[2, 3, 4, 5, 6, 67]\n",
      "2105873798912\n",
      "2105874633088\n"
     ]
    }
   ],
   "source": [
    "l=[2,3,4,5,6,67]\n",
    "l2=l.copy()              ####     copy list\n",
    "print(l2)\n",
    "print(id(l))\n",
    "print(id(l2))"
   ]
  },
  {
   "cell_type": "code",
   "execution_count": 33,
   "metadata": {},
   "outputs": [
    {
     "name": "stdout",
     "output_type": "stream",
     "text": [
      "[2, 3, 4, 5, 6, 67, 'a', 'b', 'srs', 54]\n"
     ]
    }
   ],
   "source": [
    "l3=['a','b',\"srs\",54]\n",
    "l4=l2+l3                #### concatenate\n",
    "print(l4)"
   ]
  },
  {
   "cell_type": "code",
   "execution_count": 34,
   "metadata": {},
   "outputs": [
    {
     "name": "stdout",
     "output_type": "stream",
     "text": [
      "[54, 'srs', 'b', 'a', 67, 6, 5, 4, 3, 2]\n"
     ]
    }
   ],
   "source": [
    "l4.reverse()               #### reverse list\n",
    "print(l4)"
   ]
  },
  {
   "cell_type": "code",
   "execution_count": 36,
   "metadata": {},
   "outputs": [
    {
     "name": "stdout",
     "output_type": "stream",
     "text": [
      "3\n"
     ]
    }
   ],
   "source": [
    "l=[2,3,4,5,6,67,8,3,4,2,8,0,4]\n",
    "n=l.count(4)                   #### count occurance of an item\n",
    "print(n)"
   ]
  },
  {
   "cell_type": "code",
   "execution_count": 38,
   "metadata": {},
   "outputs": [
    {
     "name": "stdout",
     "output_type": "stream",
     "text": [
      "[0, 2, 2, 3, 3, 4, 4, 4, 5, 6, 8, 8, 67]\n",
      "[67, 8, 8, 6, 5, 4, 4, 4, 3, 3, 2, 2, 0]\n"
     ]
    }
   ],
   "source": [
    "l.sort()      # increasing order\n",
    "print(l)\n",
    "\n",
    "l.sort(reverse=True)     #decreasing order\n",
    "print(l)"
   ]
  },
  {
   "cell_type": "code",
   "execution_count": 4,
   "metadata": {},
   "outputs": [
    {
     "name": "stdout",
     "output_type": "stream",
     "text": [
      "3\n",
      "['5', '9', '43', '65', '100', '900', '4325', '7689']\n",
      "['4325', '7689', '100', '900', '43', '65', '5', '9']\n"
     ]
    }
   ],
   "source": [
    "# sort acc to some criteria\n",
    "l=['100','43','5','4325','900','65','9','7689']\n",
    "def flen(c):\n",
    "    return len(c)\n",
    "\n",
    "print(flen(l[0]))\n",
    "\n",
    "l.sort(key=flen)\n",
    "print(l)\n",
    "\n",
    "l.sort(reverse=True,key=flen)\n",
    "print(l)"
   ]
  },
  {
   "cell_type": "markdown",
   "metadata": {},
   "source": [
    "multi dimensional list"
   ]
  },
  {
   "cell_type": "code",
   "execution_count": 13,
   "metadata": {},
   "outputs": [
    {
     "name": "stdout",
     "output_type": "stream",
     "text": [
      "[[1, 2, 3, 4], [5, 6, 7, 8, 9], [10, 11, 12]]\n",
      "3\n",
      "4\n",
      "8\n"
     ]
    }
   ],
   "source": [
    "mlist=[[1,2,3,4],\n",
    "       [5,6,7,8,9],\n",
    "       [10,11,12]\n",
    "      ]\n",
    "print(mlist)\n",
    "print(len(mlist))\n",
    "print(len(mlist[0]))\n",
    "print(mlist[1][3])"
   ]
  },
  {
   "cell_type": "code",
   "execution_count": 9,
   "metadata": {},
   "outputs": [
    {
     "name": "stdout",
     "output_type": "stream",
     "text": [
      "1 2 3 4 \n",
      "5 6 7 8 9 \n",
      "10 11 12 \n"
     ]
    }
   ],
   "source": [
    "for i in range(len(mlist)):              # row\n",
    "    for j in range(len(mlist[i])):       # col item\n",
    "        print(mlist[i][j],end=\" \")\n",
    "    print()"
   ]
  },
  {
   "cell_type": "code",
   "execution_count": 17,
   "metadata": {},
   "outputs": [
    {
     "name": "stdout",
     "output_type": "stream",
     "text": [
      "[[0, 0, 0], [0, 0, 0], [0, 0, 0], [0, 0, 0]]\n"
     ]
    }
   ],
   "source": [
    "r=4\n",
    "c=3\n",
    "ml=[[0 for x in range(c)] for y in range(r)]        #####   new\n",
    "print(ml)"
   ]
  },
  {
   "cell_type": "code",
   "execution_count": 18,
   "metadata": {},
   "outputs": [
    {
     "name": "stdout",
     "output_type": "stream",
     "text": [
      "[[1, 2, 3, 4], [5, 6, 7, 8, 9], [10, 11, 12], [54, 32, 90]]\n"
     ]
    }
   ],
   "source": [
    "mlist.append([54,32,90])   # add new sublist\n",
    "print(mlist)"
   ]
  },
  {
   "cell_type": "code",
   "execution_count": 19,
   "metadata": {},
   "outputs": [
    {
     "name": "stdout",
     "output_type": "stream",
     "text": [
      "[[1, 2, 3, 4, 31, 100, 76], [5, 6, 7, 8, 9], [10, 11, 12], [54, 32, 90]]\n"
     ]
    }
   ],
   "source": [
    "mlist[0].extend([31,100,76]) # add more items to a sublist\n",
    "print(mlist)"
   ]
  },
  {
   "cell_type": "code",
   "execution_count": 20,
   "metadata": {},
   "outputs": [
    {
     "name": "stdout",
     "output_type": "stream",
     "text": [
      "[[54, 32, 90], [10, 11, 12], [5, 6, 7, 8, 9], [1, 2, 3, 4, 31, 100, 76]]\n"
     ]
    }
   ],
   "source": [
    "mlist.reverse()\n",
    "print(mlist)"
   ]
  },
  {
   "cell_type": "code",
   "execution_count": 21,
   "metadata": {},
   "outputs": [
    {
     "name": "stdout",
     "output_type": "stream",
     "text": [
      "[[54, 32, 90], [10, 11, 12], [9, 8, 7, 6, 5], [1, 2, 3, 4, 31, 100, 76]]\n"
     ]
    }
   ],
   "source": [
    "mlist[2].reverse() #sublist reverse\n",
    "print(mlist)"
   ]
  },
  {
   "cell_type": "code",
   "execution_count": 22,
   "metadata": {},
   "outputs": [
    {
     "name": "stdout",
     "output_type": "stream",
     "text": [
      "[[1, 2, 3, 4, 31, 100, 76], [9, 8, 7, 6, 5], [10, 11, 12], [54, 32, 90]]\n"
     ]
    }
   ],
   "source": [
    "mlist.sort()\n",
    "print(mlist)"
   ]
  },
  {
   "cell_type": "code",
   "execution_count": 23,
   "metadata": {},
   "outputs": [
    {
     "name": "stdout",
     "output_type": "stream",
     "text": [
      "[[1, 2, 3, 4, 31, 76, 100], [9, 8, 7, 6, 5], [10, 11, 12], [54, 32, 90]]\n"
     ]
    }
   ],
   "source": [
    "mlist[0].sort()\n",
    "print(mlist)"
   ]
  },
  {
   "cell_type": "markdown",
   "metadata": {},
   "source": [
    "##  Tuple"
   ]
  },
  {
   "cell_type": "code",
   "execution_count": 25,
   "metadata": {},
   "outputs": [
    {
     "name": "stdout",
     "output_type": "stream",
     "text": [
      "('c', 'c++', 'java', 'python', 2, 76, 's', 'a')\n"
     ]
    }
   ],
   "source": [
    "tup= (\"c\",\"c++\",\"java\",\"python\",2,76,'s','a')\n",
    "print(tup)"
   ]
  },
  {
   "cell_type": "code",
   "execution_count": 27,
   "metadata": {},
   "outputs": [
    {
     "name": "stdout",
     "output_type": "stream",
     "text": [
      "('hello',)\n"
     ]
    }
   ],
   "source": [
    "t=(\"hello\",)                     # single item\n",
    "print(t)"
   ]
  },
  {
   "cell_type": "code",
   "execution_count": 28,
   "metadata": {},
   "outputs": [
    {
     "name": "stdout",
     "output_type": "stream",
     "text": [
      "c\n",
      "c++\n",
      "java\n",
      "python\n",
      "2\n",
      "76\n",
      "s\n",
      "a\n"
     ]
    }
   ],
   "source": [
    "for i in tup:\n",
    "    print (i)"
   ]
  },
  {
   "cell_type": "code",
   "execution_count": 30,
   "metadata": {},
   "outputs": [
    {
     "name": "stdout",
     "output_type": "stream",
     "text": [
      "76\n"
     ]
    }
   ],
   "source": [
    "print(tup[5])"
   ]
  },
  {
   "cell_type": "code",
   "execution_count": 31,
   "metadata": {},
   "outputs": [
    {
     "name": "stdout",
     "output_type": "stream",
     "text": [
      "('java', 'python', 2)\n"
     ]
    }
   ],
   "source": [
    "print(tup[2:5])"
   ]
  },
  {
   "cell_type": "code",
   "execution_count": 33,
   "metadata": {},
   "outputs": [
    {
     "name": "stdout",
     "output_type": "stream",
     "text": [
      "('python', 2, 76, 's')\n"
     ]
    }
   ],
   "source": [
    "print(tup[-5:-1])"
   ]
  },
  {
   "cell_type": "code",
   "execution_count": 34,
   "metadata": {},
   "outputs": [
    {
     "name": "stdout",
     "output_type": "stream",
     "text": [
      "8\n"
     ]
    }
   ],
   "source": [
    "print(len(tup))"
   ]
  },
  {
   "cell_type": "code",
   "execution_count": 37,
   "metadata": {},
   "outputs": [
    {
     "name": "stdout",
     "output_type": "stream",
     "text": [
      "java\n",
      "yes\n"
     ]
    }
   ],
   "source": [
    "i=input()\n",
    "if i in tup:\n",
    "    print('yes')\n",
    "    \n",
    "else:\n",
    "    print('no')"
   ]
  },
  {
   "cell_type": "code",
   "execution_count": 39,
   "metadata": {},
   "outputs": [
    {
     "name": "stdout",
     "output_type": "stream",
     "text": [
      "9\n",
      "3\n"
     ]
    }
   ],
   "source": [
    "# items first occurance index\n",
    "\n",
    "t=(4,6,9,2,4,9,1,5,6,9)\n",
    "i=int(input())\n",
    "x=t.index(i)                  #   new\n",
    "print(x+1)"
   ]
  },
  {
   "cell_type": "code",
   "execution_count": 40,
   "metadata": {},
   "outputs": [
    {
     "name": "stdout",
     "output_type": "stream",
     "text": [
      "('c', 'c++', 'java', 'python', 2, 76, 's', 'a', 4, 6, 9, 2, 4, 9, 1, 5, 6, 9)\n"
     ]
    }
   ],
   "source": [
    "t2=tup+t\n",
    "print(t2)"
   ]
  },
  {
   "cell_type": "code",
   "execution_count": 41,
   "metadata": {},
   "outputs": [
    {
     "name": "stdout",
     "output_type": "stream",
     "text": [
      "2\n"
     ]
    }
   ],
   "source": [
    "n=t2.count(4)\n",
    "print(n)"
   ]
  },
  {
   "cell_type": "code",
   "execution_count": 42,
   "metadata": {},
   "outputs": [],
   "source": [
    "del t"
   ]
  },
  {
   "cell_type": "code",
   "execution_count": 43,
   "metadata": {},
   "outputs": [
    {
     "ename": "NameError",
     "evalue": "name 't' is not defined",
     "output_type": "error",
     "traceback": [
      "\u001b[1;31m---------------------------------------------------------------------------\u001b[0m",
      "\u001b[1;31mNameError\u001b[0m                                 Traceback (most recent call last)",
      "\u001b[1;32m<ipython-input-43-febd3e668534>\u001b[0m in \u001b[0;36m<module>\u001b[1;34m\u001b[0m\n\u001b[1;32m----> 1\u001b[1;33m \u001b[0mprint\u001b[0m\u001b[1;33m(\u001b[0m\u001b[0mt\u001b[0m\u001b[1;33m)\u001b[0m\u001b[1;33m\u001b[0m\u001b[1;33m\u001b[0m\u001b[0m\n\u001b[0m",
      "\u001b[1;31mNameError\u001b[0m: name 't' is not defined"
     ]
    }
   ],
   "source": [
    "print(t) # as deleted"
   ]
  },
  {
   "cell_type": "code",
   "execution_count": 44,
   "metadata": {},
   "outputs": [
    {
     "name": "stdout",
     "output_type": "stream",
     "text": [
      "c\n",
      "c++\n",
      "java\n",
      "python\n",
      "2\n",
      "76\n",
      "s\n",
      "a\n",
      "4\n",
      "6\n",
      "9\n",
      "2\n",
      "4\n",
      "9\n",
      "1\n",
      "5\n",
      "6\n",
      "9\n"
     ]
    }
   ],
   "source": [
    "for i in range(len(t2)):\n",
    "    print(t2[i])"
   ]
  },
  {
   "cell_type": "code",
   "execution_count": null,
   "metadata": {},
   "outputs": [],
   "source": []
  },
  {
   "cell_type": "code",
   "execution_count": null,
   "metadata": {},
   "outputs": [],
   "source": []
  }
 ],
 "metadata": {
  "kernelspec": {
   "display_name": "Python 3",
   "language": "python",
   "name": "python3"
  },
  "language_info": {
   "codemirror_mode": {
    "name": "ipython",
    "version": 3
   },
   "file_extension": ".py",
   "mimetype": "text/x-python",
   "name": "python",
   "nbconvert_exporter": "python",
   "pygments_lexer": "ipython3",
   "version": "3.8.5"
  }
 },
 "nbformat": 4,
 "nbformat_minor": 4
}
