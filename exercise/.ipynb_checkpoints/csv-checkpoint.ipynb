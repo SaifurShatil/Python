{
 "cells": [
  {
   "cell_type": "markdown",
   "metadata": {},
   "source": [
    "## CSV"
   ]
  },
  {
   "cell_type": "markdown",
   "metadata": {},
   "source": [
    "## Read"
   ]
  },
  {
   "cell_type": "code",
   "execution_count": 17,
   "metadata": {},
   "outputs": [
    {
     "name": "stdout",
     "output_type": "stream",
     "text": [
      "Total num of rows: 185\n",
      "field names are: Date, Open, High, Low, Close, Adj Close, Volume\n",
      "First five rows are:\n",
      "2014-09-29     100.589996     100.690002      98.040001      99.620003      93.514290      142718700     \n",
      "\n",
      "2014-10-06      99.949997     102.379997      98.309998     100.730003      94.556244      280258200     \n",
      "\n",
      "2014-10-13     101.330002     101.779999      95.180000      97.669998      91.683792      358539800     \n",
      "\n",
      "2014-10-20      98.320000     105.489998      98.220001     105.220001      98.771042      358532900     \n",
      "\n",
      "2014-10-27     104.849998     108.040001     104.699997     108.000000     101.380676      220230600     \n",
      "\n"
     ]
    }
   ],
   "source": [
    "import csv\n",
    "filename=\"AAPL.csv\"\n",
    "\n",
    "# title and row list\n",
    "fields=[]\n",
    "rows=[]\n",
    "\n",
    "# reading\n",
    "with open(filename,\"r\")as csvfile:\n",
    "        # creating a csv reader object\n",
    "        csvreader=csv.reader(csvfile)\n",
    "        # extracting field names through first row\n",
    "        fields= next(csvreader)\n",
    "        # extracting each data row one by one\n",
    "        for row in csvreader:\n",
    "            rows.append(row)\n",
    "        print(\"Total num of rows: %d\"%(csvreader.line_num))\n",
    "\n",
    "# printing the field name\n",
    "print(\"field names are: \"+\", \".join(field for field in fields))\n",
    "        \n",
    "print(\"First five rows are:\")\n",
    "for row in rows[:5]:\n",
    "    for col in row:\n",
    "        print(\"%10s\" %col, end='     ')\n",
    "    print('\\n')\n",
    "\n"
   ]
  },
  {
   "cell_type": "markdown",
   "metadata": {},
   "source": [
    "## write"
   ]
  },
  {
   "cell_type": "code",
   "execution_count": 12,
   "metadata": {},
   "outputs": [
    {
     "name": "stdout",
     "output_type": "stream",
     "text": [
      "\n",
      "\n",
      "    Nikhil       COE         2       9.0\n",
      "\n",
      "\n",
      "\n",
      "   Sanchit       COE         2       9.1\n",
      "\n",
      "\n",
      "\n",
      "    Aditya        IT         2       9.3\n",
      "\n",
      "\n",
      "\n",
      "     Sagar        SE         1       9.5\n",
      "\n",
      "\n",
      "\n",
      "   Prateek       MCE         3       7.8\n",
      "\n",
      "\n",
      "\n",
      "     Sahil        EP         2       9.1\n",
      "\n",
      "\n",
      "\n"
     ]
    }
   ],
   "source": [
    "import csv\n",
    "filename1=\"university_records.csv\"\n",
    "fields=['Name', 'Branch', 'Year', 'CGPA']\n",
    "\n",
    "rows = [ ['Nikhil', 'COE', '2', '9.0'],\n",
    "         ['Sanchit', 'COE', '2', '9.1'],\n",
    "         ['Aditya', 'IT', '2', '9.3'],\n",
    "         ['Sagar', 'SE', '1', '9.5'],\n",
    "         ['Prateek', 'MCE', '3', '7.8'],\n",
    "         ['Sahil', 'EP', '2', '9.1']]\n",
    "\n",
    "with open(filename1,'w') as csvfile:\n",
    "    csvwriter=csv.writer(csvfile)\n",
    "    csvwriter.writerow(fields)\n",
    "    csvwriter.writerows(rows)\n",
    "\n",
    "fields1=[]\n",
    "rows1=[]\n",
    "with open(filename1,'r') as csvfile:\n",
    "    csvreader=csv.reader(csvfile)\n",
    "    fields1=next(csvreader)\n",
    "    for row in csvreader:\n",
    "        rows1.append(row)\n",
    "for row in rows1:\n",
    "    for col in row:\n",
    "        print(\"%10s\" %col, end='')\n",
    "    print('\\n')"
   ]
  },
  {
   "cell_type": "code",
   "execution_count": 11,
   "metadata": {},
   "outputs": [
    {
     "name": "stdout",
     "output_type": "stream",
     "text": [
      "Name, Branch, Year, CGPA\n"
     ]
    }
   ],
   "source": [
    "print(', '.join(field for field in fields1))"
   ]
  },
  {
   "cell_type": "markdown",
   "metadata": {},
   "source": [
    "## Writing dictionary"
   ]
  },
  {
   "cell_type": "code",
   "execution_count": 18,
   "metadata": {},
   "outputs": [],
   "source": [
    "import csv\n",
    "mydict =[{'branch': 'COE', 'cgpa': '9.0', 'name': 'Nikhil', 'year': '2'},\n",
    "         {'branch': 'COE', 'cgpa': '9.1', 'name': 'Sanchit', 'year': '2'},\n",
    "         {'branch': 'IT', 'cgpa': '9.3', 'name': 'Aditya', 'year': '2'},\n",
    "         {'branch': 'SE', 'cgpa': '9.5', 'name': 'Sagar', 'year': '1'},\n",
    "         {'branch': 'MCE', 'cgpa': '7.8', 'name': 'Prateek', 'year': '3'},\n",
    "         {'branch': 'EP', 'cgpa': '9.1', 'name': 'Sahil', 'year': '2'}]\n",
    "fields=['name','branch','cgpa','year']\n",
    "\n",
    "filename='university.csv'\n",
    "\n",
    "with open(filename,'w') as csvfile:\n",
    "    # creating a csv dict writer object\n",
    "    csvwriter=csv.DictWriter(csvfile,fieldnames=fields)\n",
    "    # writing headers (field names)\n",
    "    csvwriter.writeheader()  #new\n",
    "    # writing data rows\n",
    "    csvwriter.writerows(mydict) #new"
   ]
  },
  {
   "cell_type": "code",
   "execution_count": 20,
   "metadata": {},
   "outputs": [
    {
     "name": "stdout",
     "output_type": "stream",
     "text": [
      "name, branch, cgpa, year\n",
      "\n",
      "\n",
      "    Nikhil        COE        9.0          2 \n",
      "\n",
      "\n",
      "\n",
      "   Sanchit        COE        9.1          2 \n",
      "\n",
      "\n",
      "\n",
      "    Aditya         IT        9.3          2 \n",
      "\n",
      "\n",
      "\n",
      "     Sagar         SE        9.5          1 \n",
      "\n",
      "\n",
      "\n",
      "   Prateek        MCE        7.8          3 \n",
      "\n",
      "\n",
      "\n",
      "     Sahil         EP        9.1          2 \n",
      "\n",
      "\n",
      "\n"
     ]
    }
   ],
   "source": [
    "fields=[]\n",
    "rows=[]\n",
    "with open(filename,'r') as csvfile:\n",
    "    \n",
    "    csvreader=csv.reader(csvfile)\n",
    "     \n",
    "    fields=next(csvreader)\n",
    "    \n",
    "    for row in csvreader:\n",
    "        rows.append(row)\n",
    "    print(', '.join(field for field in fields))\n",
    "    for row in rows:\n",
    "        for col in row:\n",
    "            print(\"%10s\" %col, end=' ')\n",
    "        print('\\n')"
   ]
  },
  {
   "cell_type": "markdown",
   "metadata": {},
   "source": [
    " The ‘with’ keyword is used along with the open() method as it simplifies exception handling and automatically closes the CSV file."
   ]
  },
  {
   "cell_type": "code",
   "execution_count": 25,
   "metadata": {},
   "outputs": [
    {
     "name": "stdout",
     "output_type": "stream",
     "text": [
      "['name', 'branch', 'cgpa', 'year']\n",
      "[]\n",
      "['Nikhil', 'COE', '9.0', '2']\n",
      "[]\n",
      "['Sanchit', 'COE', '9.1', '2']\n",
      "[]\n",
      "['Aditya', 'IT', '9.3', '2']\n",
      "[]\n",
      "['Sagar', 'SE', '9.5', '1']\n",
      "[]\n",
      "['Prateek', 'MCE', '7.8', '3']\n",
      "[]\n",
      "['Sahil', 'EP', '9.1', '2']\n",
      "[]\n"
     ]
    }
   ],
   "source": [
    "with open('university.csv','r')as file:\n",
    "    csvreader=csv.reader(file)\n",
    "    for lines in csvreader:\n",
    "        print(lines)"
   ]
  },
  {
   "cell_type": "code",
   "execution_count": 28,
   "metadata": {},
   "outputs": [
    {
     "name": "stdout",
     "output_type": "stream",
     "text": [
      "{'name': 'Nikhil', 'branch': 'COE', 'cgpa': '9.0', 'year': '2'}\n",
      "{'name': 'Sanchit', 'branch': 'COE', 'cgpa': '9.1', 'year': '2'}\n",
      "{'name': 'Aditya', 'branch': 'IT', 'cgpa': '9.3', 'year': '2'}\n",
      "{'name': 'Sagar', 'branch': 'SE', 'cgpa': '9.5', 'year': '1'}\n",
      "{'name': 'Prateek', 'branch': 'MCE', 'cgpa': '7.8', 'year': '3'}\n",
      "{'name': 'Sahil', 'branch': 'EP', 'cgpa': '9.1', 'year': '2'}\n"
     ]
    }
   ],
   "source": [
    "with open('university.csv','r') as csvfile:\n",
    "    \n",
    "    csvreader=csv.DictReader(csvfile) # new\n",
    "    for lines in csvreader:\n",
    "        print(lines)"
   ]
  },
  {
   "cell_type": "code",
   "execution_count": 30,
   "metadata": {},
   "outputs": [
    {
     "name": "stdout",
     "output_type": "stream",
     "text": [
      "      name branch  cgpa  year\n",
      "0   Nikhil    COE   9.0     2\n",
      "1  Sanchit    COE   9.1     2\n",
      "2   Aditya     IT   9.3     2\n",
      "3    Sagar     SE   9.5     1\n",
      "4  Prateek    MCE   7.8     3\n",
      "5    Sahil     EP   9.1     2\n"
     ]
    }
   ],
   "source": [
    "import pandas\n",
    "csvFile= pandas.read_csv('university.csv')\n",
    "print(csvFile)"
   ]
  },
  {
   "cell_type": "markdown",
   "metadata": {},
   "source": []
  },
  {
   "cell_type": "code",
   "execution_count": null,
   "metadata": {},
   "outputs": [],
   "source": []
  },
  {
   "cell_type": "code",
   "execution_count": null,
   "metadata": {},
   "outputs": [],
   "source": []
  },
  {
   "cell_type": "code",
   "execution_count": null,
   "metadata": {},
   "outputs": [],
   "source": []
  },
  {
   "cell_type": "code",
   "execution_count": null,
   "metadata": {},
   "outputs": [],
   "source": []
  },
  {
   "cell_type": "code",
   "execution_count": null,
   "metadata": {},
   "outputs": [],
   "source": []
  },
  {
   "cell_type": "code",
   "execution_count": null,
   "metadata": {},
   "outputs": [],
   "source": []
  },
  {
   "cell_type": "code",
   "execution_count": null,
   "metadata": {},
   "outputs": [],
   "source": []
  },
  {
   "cell_type": "code",
   "execution_count": null,
   "metadata": {},
   "outputs": [],
   "source": []
  },
  {
   "cell_type": "code",
   "execution_count": null,
   "metadata": {},
   "outputs": [],
   "source": []
  }
 ],
 "metadata": {
  "kernelspec": {
   "display_name": "Python 3",
   "language": "python",
   "name": "python3"
  },
  "language_info": {
   "codemirror_mode": {
    "name": "ipython",
    "version": 3
   },
   "file_extension": ".py",
   "mimetype": "text/x-python",
   "name": "python",
   "nbconvert_exporter": "python",
   "pygments_lexer": "ipython3",
   "version": "3.8.5"
  }
 },
 "nbformat": 4,
 "nbformat_minor": 4
}
