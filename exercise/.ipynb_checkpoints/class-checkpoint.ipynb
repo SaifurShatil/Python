{
 "cells": [
  {
   "cell_type": "code",
   "execution_count": 1,
   "metadata": {},
   "outputs": [
    {
     "name": "stdout",
     "output_type": "stream",
     "text": [
      "10\n"
     ]
    }
   ],
   "source": [
    "class myClass():\n",
    "    x=10\n",
    "obj= myClass()\n",
    "print(obj.x)"
   ]
  },
  {
   "cell_type": "code",
   "execution_count": 7,
   "metadata": {},
   "outputs": [
    {
     "name": "stdout",
     "output_type": "stream",
     "text": [
      "hello\n",
      "hello\n"
     ]
    }
   ],
   "source": [
    "class myclass():\n",
    "    def func(self):\n",
    "        print(\"hello\")\n",
    "ob=myclass()\n",
    "ob.func()\n",
    "myclass.func(ob)"
   ]
  },
  {
   "cell_type": "code",
   "execution_count": 8,
   "metadata": {},
   "outputs": [
    {
     "name": "stdout",
     "output_type": "stream",
     "text": [
      "contructor\n",
      "function\n"
     ]
    }
   ],
   "source": [
    "class mclass():\n",
    "    def __init__(self):\n",
    "        print(\"contructor\")\n",
    "    def fun(self):\n",
    "        print(\"function\")\n",
    "ob=mclass()\n",
    "ob.fun()\n"
   ]
  },
  {
   "cell_type": "code",
   "execution_count": 9,
   "metadata": {},
   "outputs": [
    {
     "name": "stdout",
     "output_type": "stream",
     "text": [
      "eligible\n",
      "not\n"
     ]
    }
   ],
   "source": [
    "# parameterized constructor\n",
    "\n",
    "class elage():\n",
    "    def __init__(self, eage):\n",
    "        self.eage=eage\n",
    "    def agecheck(self,uage):\n",
    "        if uage>=self.eage:\n",
    "            print(\"eligible\")\n",
    "        else:\n",
    "            print('not')\n",
    "v1=elage(18)\n",
    "v1.agecheck(20)\n",
    "v1.agecheck(16)\n",
    "    "
   ]
  },
  {
   "cell_type": "code",
   "execution_count": 11,
   "metadata": {},
   "outputs": [
    {
     "name": "stdout",
     "output_type": "stream",
     "text": [
      "name: shatil\n",
      "age: 24\n",
      "\n",
      "name: shatil\n",
      "age: 25\n"
     ]
    }
   ],
   "source": [
    "# modifying object properties\n",
    "\n",
    "class mclass():\n",
    "    def __init__(self,name,age):\n",
    "        self.name=name\n",
    "        self.age=age\n",
    "    def show(self):\n",
    "        print(\"name:\", self.name)\n",
    "        print(\"age:\",self.age)\n",
    "obj=mclass(\"shatil\",24)\n",
    "obj.show()\n",
    "print()\n",
    "\n",
    "obj.age=25\n",
    "obj.show()"
   ]
  },
  {
   "cell_type": "code",
   "execution_count": 14,
   "metadata": {},
   "outputs": [
    {
     "name": "stdout",
     "output_type": "stream",
     "text": [
      "name: shatil\n",
      "age: 24\n",
      "shatil\n",
      "24\n",
      "\n",
      "name: shatil\n"
     ]
    },
    {
     "ename": "AttributeError",
     "evalue": "'mclass' object has no attribute 'age'",
     "output_type": "error",
     "traceback": [
      "\u001b[1;31m---------------------------------------------------------------------------\u001b[0m",
      "\u001b[1;31mAttributeError\u001b[0m                            Traceback (most recent call last)",
      "\u001b[1;32m<ipython-input-14-d2a849627bd6>\u001b[0m in \u001b[0;36m<module>\u001b[1;34m\u001b[0m\n\u001b[0;32m     14\u001b[0m \u001b[1;33m\u001b[0m\u001b[0m\n\u001b[0;32m     15\u001b[0m \u001b[1;32mdel\u001b[0m \u001b[0mobj\u001b[0m\u001b[1;33m.\u001b[0m\u001b[0mage\u001b[0m\u001b[1;33m\u001b[0m\u001b[1;33m\u001b[0m\u001b[0m\n\u001b[1;32m---> 16\u001b[1;33m \u001b[0mobj\u001b[0m\u001b[1;33m.\u001b[0m\u001b[0mshow\u001b[0m\u001b[1;33m(\u001b[0m\u001b[1;33m)\u001b[0m\u001b[1;33m\u001b[0m\u001b[1;33m\u001b[0m\u001b[0m\n\u001b[0m\u001b[0;32m     17\u001b[0m \u001b[1;33m\u001b[0m\u001b[0m\n",
      "\u001b[1;32m<ipython-input-14-d2a849627bd6>\u001b[0m in \u001b[0;36mshow\u001b[1;34m(self)\u001b[0m\n\u001b[0;32m      6\u001b[0m     \u001b[1;32mdef\u001b[0m \u001b[0mshow\u001b[0m\u001b[1;33m(\u001b[0m\u001b[0mself\u001b[0m\u001b[1;33m)\u001b[0m\u001b[1;33m:\u001b[0m\u001b[1;33m\u001b[0m\u001b[1;33m\u001b[0m\u001b[0m\n\u001b[0;32m      7\u001b[0m         \u001b[0mprint\u001b[0m\u001b[1;33m(\u001b[0m\u001b[1;34m\"name:\"\u001b[0m\u001b[1;33m,\u001b[0m \u001b[0mself\u001b[0m\u001b[1;33m.\u001b[0m\u001b[0mname\u001b[0m\u001b[1;33m)\u001b[0m\u001b[1;33m\u001b[0m\u001b[1;33m\u001b[0m\u001b[0m\n\u001b[1;32m----> 8\u001b[1;33m         \u001b[0mprint\u001b[0m\u001b[1;33m(\u001b[0m\u001b[1;34m\"age:\"\u001b[0m\u001b[1;33m,\u001b[0m\u001b[0mself\u001b[0m\u001b[1;33m.\u001b[0m\u001b[0mage\u001b[0m\u001b[1;33m)\u001b[0m\u001b[1;33m\u001b[0m\u001b[1;33m\u001b[0m\u001b[0m\n\u001b[0m\u001b[0;32m      9\u001b[0m \u001b[0mobj\u001b[0m\u001b[1;33m=\u001b[0m\u001b[0mmclass\u001b[0m\u001b[1;33m(\u001b[0m\u001b[1;34m\"shatil\"\u001b[0m\u001b[1;33m,\u001b[0m\u001b[1;36m24\u001b[0m\u001b[1;33m)\u001b[0m\u001b[1;33m\u001b[0m\u001b[1;33m\u001b[0m\u001b[0m\n\u001b[0;32m     10\u001b[0m \u001b[0mobj\u001b[0m\u001b[1;33m.\u001b[0m\u001b[0mshow\u001b[0m\u001b[1;33m(\u001b[0m\u001b[1;33m)\u001b[0m\u001b[1;33m\u001b[0m\u001b[1;33m\u001b[0m\u001b[0m\n",
      "\u001b[1;31mAttributeError\u001b[0m: 'mclass' object has no attribute 'age'"
     ]
    }
   ],
   "source": [
    "# delete object properties\n",
    "class mclass():\n",
    "    def __init__(self,name,age):\n",
    "        self.name=name\n",
    "        self.age=age\n",
    "    def show(self):\n",
    "        print(\"name:\", self.name)\n",
    "        print(\"age:\",self.age)\n",
    "        \n",
    "obj=mclass(\"shatil\",24)\n",
    "obj.show()\n",
    "print(obj.name)\n",
    "print(obj.age)\n",
    "print()\n",
    "\n",
    "del obj.age\n",
    "obj.show() # error as age is deleted\n",
    "\n"
   ]
  },
  {
   "cell_type": "code",
   "execution_count": 15,
   "metadata": {},
   "outputs": [
    {
     "name": "stdout",
     "output_type": "stream",
     "text": [
      "name: shatil\n",
      "age: 24\n",
      "name: nur\n",
      "age: 25\n",
      "name: shatil\n",
      "age: 24\n"
     ]
    },
    {
     "ename": "NameError",
     "evalue": "name 'obj1' is not defined",
     "output_type": "error",
     "traceback": [
      "\u001b[1;31m---------------------------------------------------------------------------\u001b[0m",
      "\u001b[1;31mNameError\u001b[0m                                 Traceback (most recent call last)",
      "\u001b[1;32m<ipython-input-15-a5c8a19639ef>\u001b[0m in \u001b[0;36m<module>\u001b[1;34m\u001b[0m\n\u001b[0;32m     15\u001b[0m \u001b[1;32mdel\u001b[0m \u001b[0mobj1\u001b[0m\u001b[1;33m\u001b[0m\u001b[1;33m\u001b[0m\u001b[0m\n\u001b[0;32m     16\u001b[0m \u001b[0mobj\u001b[0m\u001b[1;33m.\u001b[0m\u001b[0mshow\u001b[0m\u001b[1;33m(\u001b[0m\u001b[1;33m)\u001b[0m\u001b[1;33m\u001b[0m\u001b[1;33m\u001b[0m\u001b[0m\n\u001b[1;32m---> 17\u001b[1;33m \u001b[0mobj1\u001b[0m\u001b[1;33m.\u001b[0m\u001b[0mshow\u001b[0m\u001b[1;33m(\u001b[0m\u001b[1;33m)\u001b[0m\u001b[1;33m\u001b[0m\u001b[1;33m\u001b[0m\u001b[0m\n\u001b[0m",
      "\u001b[1;31mNameError\u001b[0m: name 'obj1' is not defined"
     ]
    }
   ],
   "source": [
    "# delete object\n",
    "\n",
    "class mclass():\n",
    "    def __init__(self,name,age):\n",
    "        self.name=name\n",
    "        self.age=age\n",
    "    def show(self):\n",
    "        print(\"name:\", self.name)\n",
    "        print(\"age:\",self.age)\n",
    "obj=mclass(\"shatil\",24)\n",
    "obj1=mclass(\"nur\",25)\n",
    "obj.show()\n",
    "obj1.show()\n",
    "\n",
    "del obj1\n",
    "obj.show()\n",
    "obj1.show()  # as obj1 was deleted"
   ]
  },
  {
   "cell_type": "markdown",
   "metadata": {},
   "source": [
    "## Inheritance"
   ]
  },
  {
   "cell_type": "code",
   "execution_count": 17,
   "metadata": {},
   "outputs": [
    {
     "name": "stdout",
     "output_type": "stream",
     "text": [
      "9\n",
      "20\n"
     ]
    }
   ],
   "source": [
    "#single\n",
    "class A():\n",
    "    def add(self,a,b):\n",
    "        return a+b\n",
    "class B(A):\n",
    "    def mul(self,a,b):\n",
    "        return a*b\n",
    "obj=B()\n",
    "print(obj.add(5,4))\n",
    "print(obj.mul(5,4))\n"
   ]
  },
  {
   "cell_type": "code",
   "execution_count": 18,
   "metadata": {},
   "outputs": [
    {
     "name": "stdout",
     "output_type": "stream",
     "text": [
      "30\n",
      "200\n"
     ]
    }
   ],
   "source": [
    "# hierarchical\n",
    "class base():\n",
    "    a=10\n",
    "    b=20\n",
    "class A(base):\n",
    "    def sum(self):\n",
    "        add=self.a+self.b\n",
    "        print(add)\n",
    "class B(base):\n",
    "    def mul(self):\n",
    "        m=self.a*self.b\n",
    "        print(m)\n",
    "\n",
    "a=A()\n",
    "a.sum()\n",
    "b=B()\n",
    "b.mul()"
   ]
  },
  {
   "cell_type": "code",
   "execution_count": 19,
   "metadata": {},
   "outputs": [
    {
     "ename": "AttributeError",
     "evalue": "'B' object has no attribute 'sum'",
     "output_type": "error",
     "traceback": [
      "\u001b[1;31m---------------------------------------------------------------------------\u001b[0m",
      "\u001b[1;31mAttributeError\u001b[0m                            Traceback (most recent call last)",
      "\u001b[1;32m<ipython-input-19-5625bf30d0a3>\u001b[0m in \u001b[0;36m<module>\u001b[1;34m\u001b[0m\n\u001b[1;32m----> 1\u001b[1;33m \u001b[0mb\u001b[0m\u001b[1;33m.\u001b[0m\u001b[0msum\u001b[0m\u001b[1;33m(\u001b[0m\u001b[1;33m)\u001b[0m\u001b[1;33m\u001b[0m\u001b[1;33m\u001b[0m\u001b[0m\n\u001b[0m",
      "\u001b[1;31mAttributeError\u001b[0m: 'B' object has no attribute 'sum'"
     ]
    }
   ],
   "source": [
    "b.sum()"
   ]
  },
  {
   "cell_type": "code",
   "execution_count": 20,
   "metadata": {},
   "outputs": [
    {
     "name": "stdout",
     "output_type": "stream",
     "text": [
      "19000\n"
     ]
    }
   ],
   "source": [
    "# multiple\n",
    "\n",
    "class cementCost():\n",
    "    def cal_cem(self, quantity):\n",
    "        return quantity*350\n",
    "class ironCost():\n",
    "    def cal_ir(self,quantity):\n",
    "        return quantity*400\n",
    "class builder(cementCost,ironCost):\n",
    "    def getTotalCost(self,c,i):\n",
    "        cc= self.cal_cem(c)      # new\n",
    "        ic=self.cal_ir(i)\n",
    "        total=cc+ic\n",
    "        return total\n",
    "\n",
    "b=builder()\n",
    "a=b.getTotalCost(20,30)\n",
    "print(a)\n",
    "\n"
   ]
  },
  {
   "cell_type": "code",
   "execution_count": 11,
   "metadata": {},
   "outputs": [],
   "source": [
    "# hybrid\n",
    "class Student():\n",
    "    def getStuDetails(self):\n",
    "        self.sname=input(\"name:\")\n",
    "        self.sroll=input(\"roll:\")\n",
    "    def showStuDetails(self):\n",
    "        print(self.sname)\n",
    "        print(self.sroll)\n"
   ]
  },
  {
   "cell_type": "code",
   "execution_count": 12,
   "metadata": {},
   "outputs": [],
   "source": [
    "class academics(Student):\n",
    "    total=0\n",
    "    def getMarks(self):\n",
    "        for x in range(3):\n",
    "            self.marks=int(input())\n",
    "            self.total=self.total+self.marks\n",
    "    def getATotal(self):\n",
    "        self.showStuDetails()\n",
    "        return self.total"
   ]
  },
  {
   "cell_type": "code",
   "execution_count": 15,
   "metadata": {},
   "outputs": [],
   "source": [
    "class sports():\n",
    "    spname=\"\"\n",
    "    spgrade=0\n",
    "    def getSport(self):\n",
    "        self.spname=input(\"spname:\")\n",
    "        self.spgrade=input(\"sgrade:\")\n",
    "    def getSTotal(self):\n",
    "        return self.spgrade\n",
    "    def showSport(self):\n",
    "        print(self.spname)"
   ]
  },
  {
   "cell_type": "code",
   "execution_count": 16,
   "metadata": {},
   "outputs": [
    {
     "name": "stdout",
     "output_type": "stream",
     "text": [
      "name:shatil\n",
      "roll:367654\n",
      "67\n",
      "75\n",
      "78\n",
      "spname:football\n",
      "sgrade:86\n",
      "shatil\n",
      "367654\n",
      "percentage :76.50\n",
      "football\n"
     ]
    }
   ],
   "source": [
    "class result(academics,sports):\n",
    "    def getresults(self):\n",
    "        self.getStuDetails()\n",
    "        self.getMarks()\n",
    "        self.getSport()\n",
    "    def showResults(self):\n",
    "        atotal=int(self.getATotal())\n",
    "        stotal=int(self.getSTotal())\n",
    "        per = (atotal+stotal)/4\n",
    "        print(\"percentage :{0:.2f}\".format(per))\n",
    "        self.showSport()\n",
    "r=result()\n",
    "r.getresults()\n",
    "r.showResults()"
   ]
  },
  {
   "cell_type": "code",
   "execution_count": 8,
   "metadata": {},
   "outputs": [
    {
     "name": "stdout",
     "output_type": "stream",
     "text": [
      "parent\n",
      "child f1\n",
      "child f2\n"
     ]
    }
   ],
   "source": [
    "# super\n",
    "class parent():\n",
    "    def fun1(self):\n",
    "        print(\"parent\")\n",
    "class child(parent):\n",
    "    def fun2(self):\n",
    "        print(\"child f1\")\n",
    "    \n",
    "    def fun3(self):\n",
    "        super().fun1()\n",
    "        self.fun2()\n",
    "        print(\"child f2\")\n",
    "c=child()\n",
    "c.fun3()"
   ]
  },
  {
   "cell_type": "markdown",
   "metadata": {},
   "source": [
    "## Exception Handling"
   ]
  },
  {
   "cell_type": "code",
   "execution_count": 23,
   "metadata": {},
   "outputs": [
    {
     "name": "stdout",
     "output_type": "stream",
     "text": [
      "1.25\n"
     ]
    }
   ],
   "source": [
    "class A():\n",
    "    def div(self,a,b):\n",
    "        try:\n",
    "            self.a=a\n",
    "            self.b=b\n",
    "            c=self.a/self.b\n",
    "            print(c)\n",
    "        except:\n",
    "            print(\"error\")\n",
    "ob=A()\n",
    "ob.div(5,4)"
   ]
  },
  {
   "cell_type": "code",
   "execution_count": 24,
   "metadata": {},
   "outputs": [
    {
     "name": "stdout",
     "output_type": "stream",
     "text": [
      "error\n"
     ]
    }
   ],
   "source": [
    "ob.div(3,0)"
   ]
  },
  {
   "cell_type": "code",
   "execution_count": 34,
   "metadata": {},
   "outputs": [
    {
     "name": "stdout",
     "output_type": "stream",
     "text": [
      " NameError: 1\n",
      " TypeError: 2\n",
      " ZeroDivisionError: 3\n",
      "1\n",
      "Name error\n"
     ]
    }
   ],
   "source": [
    "# multiple exceptions\n",
    "print(\" NameError: 1\")\n",
    "print(\" TypeError: 2\")\n",
    "print(\" ZeroDivisionError: 3\")\n",
    "\n",
    "i=int(input())\n",
    "try:\n",
    "    if i==1:\n",
    "        print(num)\n",
    "    elif i==2:\n",
    "        x=str(10)+int(10)\n",
    "    else:\n",
    "        x=10/0\n",
    "except NameError:\n",
    "    print(\"Name error\")\n",
    "except TypeError:\n",
    "    print(\"type error\")\n",
    "except ZeroDivisionError:\n",
    "    print(\"0 div error\")"
   ]
  },
  {
   "cell_type": "code",
   "execution_count": 46,
   "metadata": {},
   "outputs": [
    {
     "name": "stdout",
     "output_type": "stream",
     "text": [
      "1 to exception\n",
      "2 to safe execution\n",
      "2\n",
      "executed\n"
     ]
    }
   ],
   "source": [
    "# else\n",
    "print(\"1 to exception\")\n",
    "print(\"2 to safe execution\")\n",
    "\n",
    "i=int(input())\n",
    "try:\n",
    "    if i==1:\n",
    "        x=10/0\n",
    "except:\n",
    "    print(\"exception occurred\")\n",
    "else:\n",
    "    print(\"executed\")"
   ]
  },
  {
   "cell_type": "code",
   "execution_count": 41,
   "metadata": {},
   "outputs": [
    {
     "name": "stdout",
     "output_type": "stream",
     "text": [
      "1 to exception\n",
      "2 to safe execution\n",
      "1\n",
      "exception occurred\n",
      "executed\n"
     ]
    }
   ],
   "source": [
    "# else\n",
    "print(\"1 to exception\")\n",
    "print(\"2 to safe execution\")\n",
    "\n",
    "i=int(input())\n",
    "try:\n",
    "    if i==1:\n",
    "        x=10/0\n",
    "except:\n",
    "    print(\"exception occurred\")\n",
    "print(\"executed\")"
   ]
  },
  {
   "cell_type": "code",
   "execution_count": 44,
   "metadata": {},
   "outputs": [
    {
     "name": "stdout",
     "output_type": "stream",
     "text": [
      "1 to exception\n",
      "2 to safe execution\n",
      "1\n",
      "exception occurred\n",
      "executed\n"
     ]
    }
   ],
   "source": [
    "# finally\n",
    "\n",
    "print(\"1 to exception\")\n",
    "print(\"2 to safe execution\")\n",
    "\n",
    "i=int(input())\n",
    "try:\n",
    "    if i==1:\n",
    "        x=10/0\n",
    "except:\n",
    "    print(\"exception occurred\")\n",
    "finally:\n",
    "    print(\"executed\")"
   ]
  },
  {
   "cell_type": "markdown",
   "metadata": {},
   "source": [
    "difference between else and finally:\n",
    "1. else: if exception occurs, else will not be executed... either exception or else will execute\n",
    "2. finally: it will execute whether exception occurs or not"
   ]
  },
  {
   "cell_type": "code",
   "execution_count": 53,
   "metadata": {},
   "outputs": [
    {
     "name": "stdout",
     "output_type": "stream",
     "text": [
      "division by zero\n"
     ]
    }
   ],
   "source": [
    "\n",
    "try:\n",
    "    x=10/0\n",
    "except Exception as e:\n",
    "    print(e)"
   ]
  },
  {
   "cell_type": "code",
   "execution_count": 55,
   "metadata": {},
   "outputs": [
    {
     "ename": "Exception",
     "evalue": "exception occurred",
     "output_type": "error",
     "traceback": [
      "\u001b[1;31m---------------------------------------------------------------------------\u001b[0m",
      "\u001b[1;31mException\u001b[0m                                 Traceback (most recent call last)",
      "\u001b[1;32m<ipython-input-55-a9cc02f2ae57>\u001b[0m in \u001b[0;36m<module>\u001b[1;34m\u001b[0m\n\u001b[0;32m      2\u001b[0m \u001b[0mn\u001b[0m\u001b[1;33m=\u001b[0m\u001b[1;33m-\u001b[0m\u001b[1;36m1\u001b[0m\u001b[1;33m\u001b[0m\u001b[1;33m\u001b[0m\u001b[0m\n\u001b[0;32m      3\u001b[0m \u001b[1;32mif\u001b[0m \u001b[0mn\u001b[0m\u001b[1;33m<\u001b[0m\u001b[1;36m0\u001b[0m\u001b[1;33m:\u001b[0m\u001b[1;33m\u001b[0m\u001b[1;33m\u001b[0m\u001b[0m\n\u001b[1;32m----> 4\u001b[1;33m     \u001b[1;32mraise\u001b[0m \u001b[0mException\u001b[0m\u001b[1;33m(\u001b[0m\u001b[1;34m\"exception occurred\"\u001b[0m\u001b[1;33m)\u001b[0m\u001b[1;33m\u001b[0m\u001b[1;33m\u001b[0m\u001b[0m\n\u001b[0m",
      "\u001b[1;31mException\u001b[0m: exception occurred"
     ]
    }
   ],
   "source": [
    "# raise exception\n",
    "n=-1\n",
    "if n<0:\n",
    "    raise Exception(\"exception occurred\")"
   ]
  },
  {
   "cell_type": "code",
   "execution_count": 57,
   "metadata": {},
   "outputs": [
    {
     "ename": "RuntimeError",
     "evalue": "",
     "output_type": "error",
     "traceback": [
      "\u001b[1;31m---------------------------------------------------------------------------\u001b[0m",
      "\u001b[1;31mFileNotFoundError\u001b[0m                         Traceback (most recent call last)",
      "\u001b[1;32m<ipython-input-57-1751f1deb3b5>\u001b[0m in \u001b[0;36m<module>\u001b[1;34m\u001b[0m\n\u001b[0;32m      1\u001b[0m \u001b[1;32mtry\u001b[0m\u001b[1;33m:\u001b[0m\u001b[1;33m\u001b[0m\u001b[1;33m\u001b[0m\u001b[0m\n\u001b[1;32m----> 2\u001b[1;33m     \u001b[0mopen\u001b[0m\u001b[1;33m(\u001b[0m\u001b[1;34m'databse.sqlite'\u001b[0m\u001b[1;33m)\u001b[0m\u001b[1;33m\u001b[0m\u001b[1;33m\u001b[0m\u001b[0m\n\u001b[0m\u001b[0;32m      3\u001b[0m \u001b[1;32mexcept\u001b[0m\u001b[1;33m:\u001b[0m\u001b[1;33m\u001b[0m\u001b[1;33m\u001b[0m\u001b[0m\n",
      "\u001b[1;31mFileNotFoundError\u001b[0m: [Errno 2] No such file or directory: 'databse.sqlite'",
      "\nDuring handling of the above exception, another exception occurred:\n",
      "\u001b[1;31mRuntimeError\u001b[0m                              Traceback (most recent call last)",
      "\u001b[1;32m<ipython-input-57-1751f1deb3b5>\u001b[0m in \u001b[0;36m<module>\u001b[1;34m\u001b[0m\n\u001b[0;32m      2\u001b[0m     \u001b[0mopen\u001b[0m\u001b[1;33m(\u001b[0m\u001b[1;34m'databse.sqlite'\u001b[0m\u001b[1;33m)\u001b[0m\u001b[1;33m\u001b[0m\u001b[1;33m\u001b[0m\u001b[0m\n\u001b[0;32m      3\u001b[0m \u001b[1;32mexcept\u001b[0m\u001b[1;33m:\u001b[0m\u001b[1;33m\u001b[0m\u001b[1;33m\u001b[0m\u001b[0m\n\u001b[1;32m----> 4\u001b[1;33m     \u001b[1;32mraise\u001b[0m \u001b[0mRuntimeError\u001b[0m\u001b[1;33m\u001b[0m\u001b[1;33m\u001b[0m\u001b[0m\n\u001b[0m",
      "\u001b[1;31mRuntimeError\u001b[0m: "
     ]
    }
   ],
   "source": [
    "try:\n",
    "    open('databse.sqlite')\n",
    "except:\n",
    "    raise RuntimeError"
   ]
  },
  {
   "cell_type": "code",
   "execution_count": 61,
   "metadata": {},
   "outputs": [
    {
     "name": "stdout",
     "output_type": "stream",
     "text": [
      "name error occured\n"
     ]
    }
   ],
   "source": [
    "try:\n",
    "    raise NameError(\"hello\")\n",
    "except NameError:\n",
    "    print(\"name error occured\")\n",
    "    "
   ]
  },
  {
   "cell_type": "code",
   "execution_count": 62,
   "metadata": {},
   "outputs": [
    {
     "name": "stdout",
     "output_type": "stream",
     "text": [
      "name error occured\n"
     ]
    },
    {
     "ename": "NameError",
     "evalue": "hello",
     "output_type": "error",
     "traceback": [
      "\u001b[1;31m---------------------------------------------------------------------------\u001b[0m",
      "\u001b[1;31mNameError\u001b[0m                                 Traceback (most recent call last)",
      "\u001b[1;32m<ipython-input-62-64e6a31f0bf4>\u001b[0m in \u001b[0;36m<module>\u001b[1;34m\u001b[0m\n\u001b[0;32m      1\u001b[0m \u001b[1;32mtry\u001b[0m\u001b[1;33m:\u001b[0m\u001b[1;33m\u001b[0m\u001b[1;33m\u001b[0m\u001b[0m\n\u001b[1;32m----> 2\u001b[1;33m     \u001b[1;32mraise\u001b[0m \u001b[0mNameError\u001b[0m\u001b[1;33m(\u001b[0m\u001b[1;34m\"hello\"\u001b[0m\u001b[1;33m)\u001b[0m\u001b[1;33m\u001b[0m\u001b[1;33m\u001b[0m\u001b[0m\n\u001b[0m\u001b[0;32m      3\u001b[0m \u001b[1;32mexcept\u001b[0m \u001b[0mNameError\u001b[0m\u001b[1;33m:\u001b[0m\u001b[1;33m\u001b[0m\u001b[1;33m\u001b[0m\u001b[0m\n\u001b[0;32m      4\u001b[0m     \u001b[0mprint\u001b[0m\u001b[1;33m(\u001b[0m\u001b[1;34m\"name error occured\"\u001b[0m\u001b[1;33m)\u001b[0m\u001b[1;33m\u001b[0m\u001b[1;33m\u001b[0m\u001b[0m\n\u001b[0;32m      5\u001b[0m     \u001b[1;32mraise\u001b[0m\u001b[1;33m\u001b[0m\u001b[1;33m\u001b[0m\u001b[0m\n",
      "\u001b[1;31mNameError\u001b[0m: hello"
     ]
    }
   ],
   "source": [
    "try:\n",
    "    raise NameError(\"hello\")\n",
    "except NameError:\n",
    "    print(\"name error occured\")\n",
    "    raise"
   ]
  },
  {
   "cell_type": "code",
   "execution_count": null,
   "metadata": {},
   "outputs": [],
   "source": []
  }
 ],
 "metadata": {
  "kernelspec": {
   "display_name": "Python 3",
   "language": "python",
   "name": "python3"
  },
  "language_info": {
   "codemirror_mode": {
    "name": "ipython",
    "version": 3
   },
   "file_extension": ".py",
   "mimetype": "text/x-python",
   "name": "python",
   "nbconvert_exporter": "python",
   "pygments_lexer": "ipython3",
   "version": "3.8.5"
  }
 },
 "nbformat": 4,
 "nbformat_minor": 4
}
