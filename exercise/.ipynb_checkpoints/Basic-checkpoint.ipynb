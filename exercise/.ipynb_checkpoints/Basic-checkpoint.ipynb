{
 "cells": [
  {
   "cell_type": "markdown",
   "metadata": {},
   "source": [
    "Switch alternative dict"
   ]
  },
  {
   "cell_type": "code",
   "execution_count": 3,
   "metadata": {},
   "outputs": [
    {
     "name": "stdout",
     "output_type": "stream",
     "text": [
      "enter num:8\n",
      "entered: invalid\n"
     ]
    }
   ],
   "source": [
    "sw={\n",
    "    1:'one',\n",
    "    2:'two',\n",
    "    3:'three'\n",
    "}\n",
    "i=int(input('enter num:'))\n",
    "print('entered:',sw.get(i,'invalid'))"
   ]
  },
  {
   "cell_type": "code",
   "execution_count": 4,
   "metadata": {},
   "outputs": [
    {
     "name": "stdout",
     "output_type": "stream",
     "text": [
      "0\n",
      "1\n",
      "4\n",
      "9\n",
      "16\n",
      "25\n",
      "36\n",
      "49\n",
      "64\n",
      "81\n",
      "100\n"
     ]
    }
   ],
   "source": [
    "for x in range(11):\n",
    "    print(x*x)"
   ]
  },
  {
   "cell_type": "code",
   "execution_count": 5,
   "metadata": {},
   "outputs": [
    {
     "name": "stdout",
     "output_type": "stream",
     "text": [
      "2 even\n",
      "4 even\n",
      "6 even\n",
      "8 even\n",
      "10 even\n",
      "12 even\n",
      "14 even\n",
      "16 even\n",
      "18 even\n",
      "20 even\n",
      "22 even\n",
      "24 even\n"
     ]
    }
   ],
   "source": [
    "for x in range(1,25):\n",
    "    if x%2==0:\n",
    "        print(x,'even')"
   ]
  },
  {
   "cell_type": "markdown",
   "metadata": {},
   "source": [
    "for-else"
   ]
  },
  {
   "cell_type": "code",
   "execution_count": 6,
   "metadata": {},
   "outputs": [
    {
     "name": "stdout",
     "output_type": "stream",
     "text": [
      "0\n",
      "1\n",
      "2\n",
      "3\n",
      "4\n",
      "5\n",
      "loop end\n"
     ]
    }
   ],
   "source": [
    "for i in range(6):\n",
    "    print(i)\n",
    "else:\n",
    "    print('loop end')"
   ]
  },
  {
   "cell_type": "code",
   "execution_count": 10,
   "metadata": {},
   "outputs": [
    {
     "name": "stdout",
     "output_type": "stream",
     "text": [
      "1\n",
      "3\n",
      "5\n",
      "7\n",
      "9\n",
      "11\n",
      "13\n",
      "15\n",
      "17\n",
      "19\n"
     ]
    }
   ],
   "source": [
    "for i in range(1,20,+2): # not 2+\n",
    "    print(i)"
   ]
  },
  {
   "cell_type": "code",
   "execution_count": 13,
   "metadata": {},
   "outputs": [
    {
     "name": "stdout",
     "output_type": "stream",
     "text": [
      "10\n",
      "8\n",
      "6\n",
      "4\n",
      "2\n"
     ]
    }
   ],
   "source": [
    "for i in range (10,1,-2):\n",
    "    print(i)"
   ]
  },
  {
   "cell_type": "code",
   "execution_count": 16,
   "metadata": {},
   "outputs": [
    {
     "name": "stdout",
     "output_type": "stream",
     "text": [
      "inside while\n",
      "enter 1 to break:4\n",
      "inside while\n",
      "enter 1 to break:8\n",
      "inside while\n",
      "enter 1 to break:1\n",
      "outside while\n"
     ]
    }
   ],
   "source": [
    "n=0\n",
    "while n!=1:\n",
    "    print('inside while')\n",
    "    n=int(input('enter 1 to break:'))\n",
    "print('outside while')"
   ]
  },
  {
   "cell_type": "markdown",
   "metadata": {},
   "source": [
    "while-else"
   ]
  },
  {
   "cell_type": "code",
   "execution_count": 17,
   "metadata": {},
   "outputs": [
    {
     "name": "stdout",
     "output_type": "stream",
     "text": [
      "1\n",
      "2\n",
      "3\n",
      "4\n",
      "5\n",
      "done\n"
     ]
    }
   ],
   "source": [
    "n=1\n",
    "while n<=5:\n",
    "    print(n)\n",
    "    n+=1\n",
    "else:\n",
    "    print('done')"
   ]
  },
  {
   "cell_type": "code",
   "execution_count": 30,
   "metadata": {},
   "outputs": [
    {
     "name": "stdout",
     "output_type": "stream",
     "text": [
      "01 02 03 04 05 06 07 08 09 10 \n",
      "02 04 06 08 10 12 14 16 18 20 \n",
      "03 06 09 12 15 18 21 24 27 30 \n",
      "04 08 12 16 20 24 28 32 36 40 \n",
      "05 10 15 20 25 30 35 40 45 50 \n",
      "06 12 18 24 30 36 42 48 54 60 \n",
      "07 14 21 28 35 42 49 56 63 70 \n",
      "08 16 24 32 40 48 56 64 72 80 \n",
      "09 18 27 36 45 54 63 72 81 90 \n",
      "10 20 30 40 50 60 70 80 90 100 \n"
     ]
    }
   ],
   "source": [
    "for i in range(1,11):\n",
    "    for j in range(1,11):\n",
    "        print('{0:02d}'.format(i*j),end=' ')\n",
    "    print()"
   ]
  },
  {
   "cell_type": "code",
   "execution_count": 31,
   "metadata": {},
   "outputs": [
    {
     "name": "stdout",
     "output_type": "stream",
     "text": [
      "0\n",
      "1\n",
      "2\n",
      "3\n"
     ]
    }
   ],
   "source": [
    "for i in range(50):\n",
    "    if i==4:\n",
    "        break\n",
    "    print(i)"
   ]
  },
  {
   "cell_type": "code",
   "execution_count": 32,
   "metadata": {},
   "outputs": [
    {
     "name": "stdout",
     "output_type": "stream",
     "text": [
      "0\n",
      "1\n",
      "2\n",
      "3\n",
      "5\n",
      "6\n",
      "7\n",
      "8\n",
      "9\n"
     ]
    }
   ],
   "source": [
    "for i in range(10):\n",
    "    if i==4:\n",
    "        continue\n",
    "    print(i)"
   ]
  },
  {
   "cell_type": "code",
   "execution_count": 34,
   "metadata": {},
   "outputs": [
    {
     "name": "stdout",
     "output_type": "stream",
     "text": [
      "enter any num or 0 to exit:102\n",
      "enter lower num\n",
      "enter any num or 0 to exit:25\n",
      "625\n",
      "enter any num or 0 to exit:0\n",
      "Ended\n"
     ]
    }
   ],
   "source": [
    "while(1):\n",
    "    n=int(input(\"enter any num or 0 to exit:\"))\n",
    "    if n==0:\n",
    "        print(\"Ended\")\n",
    "        break\n",
    "    elif n>100:\n",
    "        print('enter lower num')\n",
    "        continue\n",
    "    else:\n",
    "        print(n*n)"
   ]
  },
  {
   "cell_type": "code",
   "execution_count": 38,
   "metadata": {},
   "outputs": [],
   "source": [
    "for i in range(5):\n",
    "    pass\n",
    "\n",
    "def fun():\n",
    "    pass\n",
    "fun()\n",
    "\n",
    "class mc:\n",
    "    pass\n",
    "c=mc"
   ]
  },
  {
   "cell_type": "code",
   "execution_count": null,
   "metadata": {},
   "outputs": [],
   "source": []
  }
 ],
 "metadata": {
  "kernelspec": {
   "display_name": "Python 3",
   "language": "python",
   "name": "python3"
  },
  "language_info": {
   "codemirror_mode": {
    "name": "ipython",
    "version": 3
   },
   "file_extension": ".py",
   "mimetype": "text/x-python",
   "name": "python",
   "nbconvert_exporter": "python",
   "pygments_lexer": "ipython3",
   "version": "3.8.5"
  }
 },
 "nbformat": 4,
 "nbformat_minor": 4
}
