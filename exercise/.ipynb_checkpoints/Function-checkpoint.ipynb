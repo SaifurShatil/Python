{
 "cells": [
  {
   "cell_type": "code",
   "execution_count": 1,
   "metadata": {},
   "outputs": [
    {
     "name": "stdout",
     "output_type": "stream",
     "text": [
      "hello\n"
     ]
    }
   ],
   "source": [
    "def fun():\n",
    "    print('hello')\n",
    "fun()"
   ]
  },
  {
   "cell_type": "code",
   "execution_count": 3,
   "metadata": {},
   "outputs": [
    {
     "name": "stdout",
     "output_type": "stream",
     "text": [
      "country: bd -> capital:  dhaka\n"
     ]
    }
   ],
   "source": [
    "def cap(co,ca):\n",
    "    print(\"country:\",co,\"-> capital: \",ca)\n",
    "cap(\"bd\",\"dhaka\")"
   ]
  },
  {
   "cell_type": "code",
   "execution_count": 5,
   "metadata": {},
   "outputs": [
    {
     "name": "stdout",
     "output_type": "stream",
     "text": [
      "cricket\n",
      "gardening\n"
     ]
    }
   ],
   "source": [
    "def hob(h=\"gardening\"): # default param\n",
    "    print(h)\n",
    "\n",
    "hob(\"cricket\")\n",
    "hob() "
   ]
  },
  {
   "cell_type": "code",
   "execution_count": 6,
   "metadata": {},
   "outputs": [
    {
     "name": "stdout",
     "output_type": "stream",
     "text": [
      "last name: saifur\n",
      "last name: shatil\n"
     ]
    }
   ],
   "source": [
    "# keyword arg, kwargs\n",
    "def name(fn,ln):\n",
    "    print(\"last name:\",ln)\n",
    "name(\"shatil\",\"saifur\")\n",
    "name(ln=\"shatil\",fn=\"saifur\")"
   ]
  },
  {
   "cell_type": "code",
   "execution_count": 8,
   "metadata": {},
   "outputs": [
    {
     "name": "stdout",
     "output_type": "stream",
     "text": [
      "c\n",
      "c++\n",
      "\n",
      "c\n",
      "c++\n",
      "python\n"
     ]
    }
   ],
   "source": [
    "# variable arg, args\n",
    "def var(*name):\n",
    "    for i in name:\n",
    "        print(i)\n",
    "var(\"c\",\"c++\")\n",
    "print()\n",
    "var(\"c\",\"c++\",\"python\")"
   ]
  },
  {
   "cell_type": "code",
   "execution_count": 9,
   "metadata": {},
   "outputs": [
    {
     "name": "stdout",
     "output_type": "stream",
     "text": [
      "cricket\n",
      "football\n",
      "23\n",
      "a\n",
      "srs\n"
     ]
    }
   ],
   "source": [
    "#passing list\n",
    "def func(sprt):\n",
    "    for i in sprt:\n",
    "        print(i)\n",
    "gm=[\"cricket\",\"football\",23,'a',\"srs\"]\n",
    "func(gm)"
   ]
  },
  {
   "cell_type": "code",
   "execution_count": 10,
   "metadata": {},
   "outputs": [
    {
     "name": "stdout",
     "output_type": "stream",
     "text": [
      "cricket\n",
      "football\n",
      "23\n",
      "a\n",
      "srs\n"
     ]
    }
   ],
   "source": [
    "func([\"cricket\",\"football\",23,'a',\"srs\"])"
   ]
  },
  {
   "cell_type": "code",
   "execution_count": 17,
   "metadata": {},
   "outputs": [
    {
     "data": {
      "text/plain": [
       "120"
      ]
     },
     "execution_count": 17,
     "metadata": {},
     "output_type": "execute_result"
    }
   ],
   "source": [
    "def fact(n):\n",
    "    if n<=1:\n",
    "        return 1\n",
    "    else:\n",
    "        return n*fact(n-1)\n",
    "fact(5)"
   ]
  },
  {
   "cell_type": "code",
   "execution_count": 21,
   "metadata": {},
   "outputs": [
    {
     "name": "stdout",
     "output_type": "stream",
     "text": [
      "out\n",
      "in\n"
     ]
    }
   ],
   "source": [
    "def out():\n",
    "    print('out')\n",
    "    def inn():\n",
    "        print('in')\n",
    "    inn()\n",
    "out()\n"
   ]
  },
  {
   "cell_type": "code",
   "execution_count": 29,
   "metadata": {},
   "outputs": [
    {
     "name": "stdout",
     "output_type": "stream",
     "text": [
      "100\n",
      "50\n",
      "50\n"
     ]
    }
   ],
   "source": [
    "x=100\n",
    "def glob():\n",
    "    globals()[\"x\"]=50\n",
    "    print(x)\n",
    "print(x)\n",
    "glob()\n",
    "print(x)"
   ]
  },
  {
   "cell_type": "code",
   "execution_count": 28,
   "metadata": {},
   "outputs": [
    {
     "name": "stdout",
     "output_type": "stream",
     "text": [
      "100\n",
      "50\n",
      "50\n"
     ]
    }
   ],
   "source": [
    "x=100\n",
    "def glob():\n",
    "    global x # to change global val\n",
    "    x=50\n",
    "    print(x)\n",
    "print(x)\n",
    "glob()\n",
    "print(x)"
   ]
  },
  {
   "cell_type": "code",
   "execution_count": 31,
   "metadata": {},
   "outputs": [
    {
     "name": "stdout",
     "output_type": "stream",
     "text": [
      "100\n",
      "50\n",
      "100\n"
     ]
    }
   ],
   "source": [
    "x=100\n",
    "def glob():\n",
    "    x=50 # only in this block\n",
    "    print(x)\n",
    "print(x)\n",
    "glob()\n",
    "print(x)"
   ]
  },
  {
   "cell_type": "markdown",
   "metadata": {},
   "source": [
    "##  lambda function"
   ]
  },
  {
   "cell_type": "code",
   "execution_count": 32,
   "metadata": {},
   "outputs": [
    {
     "name": "stdout",
     "output_type": "stream",
     "text": [
      "sum is: 7\n"
     ]
    }
   ],
   "source": [
    "# add numbers\n",
    "add=lambda a,b:a+b\n",
    "print(\"sum is:\",add(3,4))"
   ]
  },
  {
   "cell_type": "code",
   "execution_count": 36,
   "metadata": {},
   "outputs": [
    {
     "name": "stdout",
     "output_type": "stream",
     "text": [
      "fSecond is greater\n"
     ]
    }
   ],
   "source": [
    "#larger\n",
    "l= lambda n,m: (n>m and 'first' or 'Second')\n",
    "print(l(2,5),\"is greater\")"
   ]
  },
  {
   "cell_type": "code",
   "execution_count": 56,
   "metadata": {},
   "outputs": [
    {
     "name": "stdout",
     "output_type": "stream",
     "text": [
      "Odd\n"
     ]
    }
   ],
   "source": [
    "# even odd\n",
    "x= lambda x: x%2 and \"Odd\" or \"Even\"    # if anything remains -> odd\n",
    "print(x(3))"
   ]
  },
  {
   "cell_type": "code",
   "execution_count": 44,
   "metadata": {},
   "outputs": [
    {
     "name": "stdout",
     "output_type": "stream",
     "text": [
      "Even\n"
     ]
    }
   ],
   "source": [
    "# even odd\n",
    "x= lambda x: x%2==0 and \"Odd\" or \"Even\"  # condition true -> first one else second\n",
    "print(x(3))"
   ]
  },
  {
   "cell_type": "code",
   "execution_count": 43,
   "metadata": {},
   "outputs": [
    {
     "name": "stdout",
     "output_type": "stream",
     "text": [
      "Odd\n"
     ]
    }
   ],
   "source": [
    "y= lambda x: x%2==0 and \"Even\" or \"Odd\"\n",
    "print(y(3))"
   ]
  },
  {
   "cell_type": "code",
   "execution_count": 45,
   "metadata": {},
   "outputs": [
    {
     "name": "stdout",
     "output_type": "stream",
     "text": [
      "8\n"
     ]
    }
   ],
   "source": [
    "# lambda inside function (new)\n",
    "\n",
    "def double(n):                   \n",
    "    return lambda a: a*n\n",
    "calc= double(2) #n\n",
    "\n",
    "print(calc(4)) #a"
   ]
  },
  {
   "cell_type": "code",
   "execution_count": 48,
   "metadata": {},
   "outputs": [
    {
     "name": "stdout",
     "output_type": "stream",
     "text": [
      "<filter object at 0x000002D3DC67FD90>\n",
      "[1, 2, 3, 4]\n"
     ]
    }
   ],
   "source": [
    "# with filter\n",
    "\n",
    "n=[1,2,3,4,5,6,7,8,9]\n",
    "f= filter(lambda x: x<5, n)\n",
    "print(f)\n",
    "print(list(f))"
   ]
  },
  {
   "cell_type": "code",
   "execution_count": 50,
   "metadata": {},
   "outputs": [
    {
     "name": "stdout",
     "output_type": "stream",
     "text": [
      "[1, 2, 3, 4]\n"
     ]
    }
   ],
   "source": [
    "x= lambda x:x<5\n",
    "f=filter(x,n)\n",
    "print(list(f))"
   ]
  },
  {
   "cell_type": "code",
   "execution_count": 51,
   "metadata": {},
   "outputs": [
    {
     "name": "stdout",
     "output_type": "stream",
     "text": [
      "[1, 4, 9, 16]\n"
     ]
    }
   ],
   "source": [
    "# with map\n",
    "\n",
    "def sq(n):\n",
    "    return n*n\n",
    "\n",
    "m= map(sq,[1,2,3,4])\n",
    "print(list(m))"
   ]
  },
  {
   "cell_type": "code",
   "execution_count": 52,
   "metadata": {},
   "outputs": [
    {
     "name": "stdout",
     "output_type": "stream",
     "text": [
      "[1, 4, 9, 16]\n"
     ]
    }
   ],
   "source": [
    "m= map(lambda x:x*x,[1,2,3,4])\n",
    "print(list(m))"
   ]
  },
  {
   "cell_type": "code",
   "execution_count": 53,
   "metadata": {},
   "outputs": [
    {
     "name": "stdout",
     "output_type": "stream",
     "text": [
      "8040\n"
     ]
    }
   ],
   "source": [
    "# with reduce\n",
    "\n",
    "from functools import reduce\n",
    "n=[1,2,3,4,5,67]\n",
    "x=lambda x,y:x*y\n",
    "r= reduce(x,n)\n",
    "print(r)"
   ]
  },
  {
   "cell_type": "code",
   "execution_count": 55,
   "metadata": {},
   "outputs": [
    {
     "name": "stdout",
     "output_type": "stream",
     "text": [
      "82\n"
     ]
    }
   ],
   "source": [
    "r= reduce(lambda x,y:x+y, n)\n",
    "print(r)"
   ]
  },
  {
   "cell_type": "code",
   "execution_count": null,
   "metadata": {},
   "outputs": [],
   "source": []
  }
 ],
 "metadata": {
  "kernelspec": {
   "display_name": "Python 3",
   "language": "python",
   "name": "python3"
  },
  "language_info": {
   "codemirror_mode": {
    "name": "ipython",
    "version": 3
   },
   "file_extension": ".py",
   "mimetype": "text/x-python",
   "name": "python",
   "nbconvert_exporter": "python",
   "pygments_lexer": "ipython3",
   "version": "3.8.5"
  }
 },
 "nbformat": 4,
 "nbformat_minor": 4
}
