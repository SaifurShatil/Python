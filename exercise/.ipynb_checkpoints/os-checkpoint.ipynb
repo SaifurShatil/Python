{
 "cells": [
  {
   "cell_type": "markdown",
   "metadata": {},
   "source": [
    "1. os\n",
    "2. os.path\n",
    "3. CWD-> current working directory\n",
    "4. os.getcwd()\n",
    "5. os.chdir()"
   ]
  },
  {
   "cell_type": "code",
   "execution_count": 1,
   "metadata": {},
   "outputs": [
    {
     "name": "stdout",
     "output_type": "stream",
     "text": [
      "C:\\Users\\HP\\Documents\\Python\\exercise\n"
     ]
    }
   ],
   "source": [
    "# get current working directory\n",
    "import os\n",
    "cwd=os.getcwd()\n",
    "print(cwd)"
   ]
  },
  {
   "cell_type": "code",
   "execution_count": 2,
   "metadata": {},
   "outputs": [
    {
     "name": "stdout",
     "output_type": "stream",
     "text": [
      "C:\\Users\\HP\\Documents\\Python\\exercise\n",
      "\n",
      "C:\\Users\\HP\\Documents\\Python\n"
     ]
    }
   ],
   "source": [
    "# change cwd\n",
    "def currentdir():\n",
    "    print(os.getcwd())\n",
    "currentdir()\n",
    "print()\n",
    "os.chdir('../')\n",
    "currentdir()"
   ]
  },
  {
   "cell_type": "markdown",
   "metadata": {},
   "source": [
    "## Creating diretory\n",
    "1. os.mkdir()\n",
    "2. os.makedirs()"
   ]
  },
  {
   "cell_type": "code",
   "execution_count": 4,
   "metadata": {},
   "outputs": [
    {
     "name": "stdout",
     "output_type": "stream",
     "text": [
      "Directory New Folder is created\n"
     ]
    }
   ],
   "source": [
    "# mkdir\n",
    "import os\n",
    "directory=\"New Folder\"\n",
    "parent_dir=\"C:/Users/HP/Documents/Python/exercise\"\n",
    "\n",
    "# path\n",
    "path= os.path.join(parent_dir,directory)\n",
    "os.mkdir(path)\n",
    "\n",
    "print(\"Directory %s is created\" %directory)"
   ]
  },
  {
   "cell_type": "code",
   "execution_count": 5,
   "metadata": {},
   "outputs": [
    {
     "name": "stdout",
     "output_type": "stream",
     "text": [
      "Directory New Folder 2 is created\n"
     ]
    }
   ],
   "source": [
    "directory=\"New Folder 2\"\n",
    "parent_dir=\"C:/Users/HP/Documents/Python/exercise\"\n",
    "mode= 0o666   # directory mode\n",
    "path = os.path.join(parent_dir,directory)\n",
    "os.mkdir(path,mode)\n",
    "print(\"Directory %s is created\" %directory)"
   ]
  },
  {
   "cell_type": "markdown",
   "metadata": {},
   "source": [
    "# makedirs()\n",
    "\n",
    "os.makedirs() method in Python is used to create a directory recursively. \n",
    "That means while making leaf directory if any intermediate-level directory is missing,\n",
    "os.makedirs() method will create them all.\n"
   ]
  },
  {
   "cell_type": "code",
   "execution_count": 8,
   "metadata": {},
   "outputs": [
    {
     "name": "stdout",
     "output_type": "stream",
     "text": [
      "directory Name created\n"
     ]
    }
   ],
   "source": [
    "import os\n",
    "directory= 'Name' # leaf directory\n",
    "parent_dir=\"C:/Users/HP/Documents/Python/exercise/New Folder/Author\" \n",
    "path= os.path.join(parent_dir,directory)\n",
    "os.makedirs(path) # it will also create Author directory as it is not there  \n",
    "print(\"directory Author, %s created\" %directory)"
   ]
  },
  {
   "cell_type": "code",
   "execution_count": 9,
   "metadata": {},
   "outputs": [
    {
     "name": "stdout",
     "output_type": "stream",
     "text": [
      "directory A,B,c created\n"
     ]
    }
   ],
   "source": [
    "directory='c'\n",
    "parent_dir=\"C:/Users/HP/Documents/Python/exercise/New Folder/A/B/\"\n",
    "mode= 0o666\n",
    "path=os.path.join(parent_dir,directory)\n",
    "os.makedirs(path,mode) # it will also create A,B with c directory as they r not there\n",
    "print(\"directory A,B,%s created\" %directory)\n"
   ]
  },
  {
   "cell_type": "markdown",
   "metadata": {},
   "source": [
    " 'Author', 'A', and 'B' \n",
    " will also be created if \n",
    " it does not exists \n",
    "      \n",
    " If any of the intermediate level \n",
    " directory is missing \n",
    " os.makedirs() method will \n",
    " create them \n",
    "      \n",
    " os.makedirs() method can be \n",
    " used to create a directory tree"
   ]
  },
  {
   "cell_type": "markdown",
   "metadata": {},
   "source": [
    "# listing files and directories\n",
    "# os.listdir()"
   ]
  },
  {
   "cell_type": "markdown",
   "metadata": {},
   "source": [
    "os.listdir() method in Python is used to get the list of all files and directories in the specified directory. If we don’t specify any directory, then list of files and directories in the current working directory will be returned."
   ]
  },
  {
   "cell_type": "code",
   "execution_count": 10,
   "metadata": {},
   "outputs": [
    {
     "name": "stdout",
     "output_type": "stream",
     "text": [
      "C:\\Users\\HP\\Documents\\Python\n"
     ]
    }
   ],
   "source": [
    "print(os.getcwd())"
   ]
  },
  {
   "cell_type": "code",
   "execution_count": 11,
   "metadata": {},
   "outputs": [
    {
     "name": "stdout",
     "output_type": "stream",
     "text": [
      "files and directories in ' / ':\n",
      "['$Recycle.Bin', '$WinREAgent', 'aow_drv.log', 'Documents and Settings', 'drivers', 'DumpStack.log.tmp', 'hiberfil.sys', 'Intel', 'NVIDIA', 'OneDriveTemp', 'pagefile.sys', 'PerfLogs', 'Program Files', 'Program Files (x86)', 'ProgramData', 'Recovery', 'swapfile.sys', 'System Volume Information', 'Users', 'Windows']\n"
     ]
    }
   ],
   "source": [
    "import os\n",
    "dr='/' # root directory\n",
    "lst= os.listdir(dr)\n",
    "print(\"files and directories in '\",dr,\"':\")\n",
    "print(lst)"
   ]
  },
  {
   "cell_type": "code",
   "execution_count": 12,
   "metadata": {},
   "outputs": [
    {
     "name": "stdout",
     "output_type": "stream",
     "text": [
      "['.ipynb_checkpoints', 'exception_handling.ipynb', 'exercise', 'file.ipynb', 'Function.ipynb', 'MultiThreading.ipynb', 'mydata.txt', 'mypic.jpg', 'oop.ipynb', 'searching.ipynb', 'shatil.jpg', 'sorting.ipynb', 'writefile.txt']\n"
     ]
    }
   ],
   "source": [
    "path=\"C:/Users/HP/Documents/Python/\"\n",
    "lst=os.listdir(path)\n",
    "print(lst)"
   ]
  },
  {
   "cell_type": "markdown",
   "metadata": {},
   "source": [
    "## Deleting directory/ files\n",
    "1. os.remove()\n",
    "2. os.rmdir()"
   ]
  },
  {
   "cell_type": "code",
   "execution_count": null,
   "metadata": {},
   "outputs": [],
   "source": [
    "# os.remove()"
   ]
  },
  {
   "cell_type": "markdown",
   "metadata": {},
   "source": [
    "os.remove() method in Python is used to remove or delete a file path. This method can not remove or delete a directory. If the specified path is a directory then OSError will be raised by the method."
   ]
  },
  {
   "cell_type": "code",
   "execution_count": 13,
   "metadata": {},
   "outputs": [
    {
     "name": "stdout",
     "output_type": "stream",
     "text": [
      "C:\\Users\\HP\\Documents\\Python\n"
     ]
    }
   ],
   "source": [
    "print(os.getcwd())"
   ]
  },
  {
   "cell_type": "code",
   "execution_count": 20,
   "metadata": {},
   "outputs": [],
   "source": [
    "os.chdir(\"C:/Users/HP/Documents/Python/exercise/New Folder/dlt\")"
   ]
  },
  {
   "cell_type": "code",
   "execution_count": 21,
   "metadata": {
    "scrolled": true
   },
   "outputs": [
    {
     "name": "stdout",
     "output_type": "stream",
     "text": [
      "C:\\Users\\HP\\Documents\\Python\\exercise\\New Folder\\dlt\n"
     ]
    }
   ],
   "source": [
    "print(os.getcwd())"
   ]
  },
  {
   "cell_type": "code",
   "execution_count": 22,
   "metadata": {},
   "outputs": [
    {
     "name": "stdout",
     "output_type": "stream",
     "text": [
      "['aaa.txt', 'bbb.txt', 'ccc.txt', 'New folder']\n"
     ]
    }
   ],
   "source": [
    "print(os.listdir(os.getcwd()))"
   ]
  },
  {
   "cell_type": "code",
   "execution_count": 23,
   "metadata": {},
   "outputs": [],
   "source": [
    "file=\"bbb.txt\"\n",
    "parent_dir=os.getcwd()\n",
    "path=os.path.join(parent_dir,file)\n",
    "os.remove(path)"
   ]
  },
  {
   "cell_type": "code",
   "execution_count": 24,
   "metadata": {},
   "outputs": [
    {
     "name": "stdout",
     "output_type": "stream",
     "text": [
      "['aaa.txt', 'ccc.txt', 'New folder']\n"
     ]
    }
   ],
   "source": [
    "print(os.listdir(parent_dir)) # bbb.txt deteled"
   ]
  },
  {
   "cell_type": "code",
   "execution_count": null,
   "metadata": {},
   "outputs": [],
   "source": [
    "# os.rmdir()"
   ]
  },
  {
   "cell_type": "markdown",
   "metadata": {},
   "source": [
    "os.rmdir() method in Python is used to remove or delete a empty directory. OSError will be raised if the specified path is not an empty directory."
   ]
  },
  {
   "cell_type": "code",
   "execution_count": 26,
   "metadata": {},
   "outputs": [
    {
     "name": "stdout",
     "output_type": "stream",
     "text": [
      "C:\\Users\\HP\\Documents\\Python\\exercise\\New Folder\\dlt\n",
      "['aaa.txt', 'ccc.txt', 'New folder', 'New folder 2']\n"
     ]
    }
   ],
   "source": [
    "import os\n",
    "print(os.getcwd())\n",
    "print(os.listdir(os.getcwd()))"
   ]
  },
  {
   "cell_type": "code",
   "execution_count": 27,
   "metadata": {},
   "outputs": [
    {
     "ename": "OSError",
     "evalue": "[WinError 145] The directory is not empty: 'C:\\\\Users\\\\HP\\\\Documents\\\\Python\\\\exercise\\\\New Folder\\\\dlt\\\\New folder'",
     "output_type": "error",
     "traceback": [
      "\u001b[1;31m---------------------------------------------------------------------------\u001b[0m",
      "\u001b[1;31mOSError\u001b[0m                                   Traceback (most recent call last)",
      "\u001b[1;32m<ipython-input-27-5ae129a293d5>\u001b[0m in \u001b[0;36m<module>\u001b[1;34m\u001b[0m\n\u001b[0;32m      2\u001b[0m \u001b[0mparent_dir\u001b[0m\u001b[1;33m=\u001b[0m\u001b[0mos\u001b[0m\u001b[1;33m.\u001b[0m\u001b[0mgetcwd\u001b[0m\u001b[1;33m(\u001b[0m\u001b[1;33m)\u001b[0m\u001b[1;33m\u001b[0m\u001b[1;33m\u001b[0m\u001b[0m\n\u001b[0;32m      3\u001b[0m \u001b[0mpath\u001b[0m\u001b[1;33m=\u001b[0m\u001b[0mos\u001b[0m\u001b[1;33m.\u001b[0m\u001b[0mpath\u001b[0m\u001b[1;33m.\u001b[0m\u001b[0mjoin\u001b[0m\u001b[1;33m(\u001b[0m\u001b[0mparent_dir\u001b[0m\u001b[1;33m,\u001b[0m\u001b[0mdirectory\u001b[0m\u001b[1;33m)\u001b[0m\u001b[1;33m\u001b[0m\u001b[1;33m\u001b[0m\u001b[0m\n\u001b[1;32m----> 4\u001b[1;33m \u001b[0mos\u001b[0m\u001b[1;33m.\u001b[0m\u001b[0mrmdir\u001b[0m\u001b[1;33m(\u001b[0m\u001b[0mpath\u001b[0m\u001b[1;33m)\u001b[0m\u001b[1;33m\u001b[0m\u001b[1;33m\u001b[0m\u001b[0m\n\u001b[0m\u001b[0;32m      5\u001b[0m \u001b[0mprint\u001b[0m\u001b[1;33m(\u001b[0m\u001b[0mos\u001b[0m\u001b[1;33m.\u001b[0m\u001b[0mlistdir\u001b[0m\u001b[1;33m(\u001b[0m\u001b[0mos\u001b[0m\u001b[1;33m.\u001b[0m\u001b[0mgetcwd\u001b[0m\u001b[1;33m)\u001b[0m\u001b[1;33m)\u001b[0m\u001b[1;33m\u001b[0m\u001b[1;33m\u001b[0m\u001b[0m\n",
      "\u001b[1;31mOSError\u001b[0m: [WinError 145] The directory is not empty: 'C:\\\\Users\\\\HP\\\\Documents\\\\Python\\\\exercise\\\\New Folder\\\\dlt\\\\New folder'"
     ]
    }
   ],
   "source": [
    "directory=\"New folder\"\n",
    "parent_dir=os.getcwd()\n",
    "path=os.path.join(parent_dir,directory)\n",
    "os.rmdir(path)  \n",
    "print(os.listdir(os.getcwd))\n",
    "\n",
    "# error as the folder is not empty"
   ]
  },
  {
   "cell_type": "code",
   "execution_count": 29,
   "metadata": {},
   "outputs": [
    {
     "name": "stdout",
     "output_type": "stream",
     "text": [
      "['aaa.txt', 'ccc.txt', 'New folder']\n"
     ]
    }
   ],
   "source": [
    "directory=\"New folder 2\"\n",
    "parent_dir=os.getcwd()\n",
    "path=os.path.join(parent_dir,directory)\n",
    "os.rmdir(path)\n",
    "print(os.listdir(os.getcwd()))\n",
    "\n",
    "# New folder 2 deleted"
   ]
  },
  {
   "cell_type": "markdown",
   "metadata": {},
   "source": [
    "# Commonly used functions"
   ]
  },
  {
   "cell_type": "code",
   "execution_count": null,
   "metadata": {},
   "outputs": [],
   "source": [
    "# os.name"
   ]
  },
  {
   "cell_type": "markdown",
   "metadata": {},
   "source": [
    "This function gives the name of the operating system dependent module imported. The following names have currently been registered: ‘posix’, ‘nt’, ‘os2’, ‘ce’, ‘java’ and ‘riscos’\n",
    "\n",
    "Windows XP has os.name of ‘nt’.\n",
    "Mac OS X has os.name of ‘posix’."
   ]
  },
  {
   "cell_type": "code",
   "execution_count": 31,
   "metadata": {},
   "outputs": [
    {
     "name": "stdout",
     "output_type": "stream",
     "text": [
      "nt\n"
     ]
    }
   ],
   "source": [
    "import os\n",
    "print(os.name)"
   ]
  },
  {
   "cell_type": "code",
   "execution_count": null,
   "metadata": {},
   "outputs": [],
   "source": [
    "# os.error"
   ]
  },
  {
   "cell_type": "markdown",
   "metadata": {},
   "source": [
    "All functions in this module raise OSError in the case of invalid or inaccessible file names and paths, or other arguments that have the correct type, but are not accepted by the operating system. os.error is an alias for built-in OSError exception."
   ]
  },
  {
   "cell_type": "code",
   "execution_count": 37,
   "metadata": {},
   "outputs": [
    {
     "name": "stdout",
     "output_type": "stream",
     "text": [
      "<class 'OSError'>\n",
      "problem reading aba.txt\n",
      "hello world\n"
     ]
    }
   ],
   "source": [
    "try:\n",
    "    # If the file does not exist,\n",
    "    # then it would throw an IOError\n",
    "    \n",
    "    file=\"aba.txt\"\n",
    "    f=open(file,'r')\n",
    "    text=f.readline()\n",
    "    f.close()\n",
    "except IOError:\n",
    "    print(os.error)\n",
    "    print(\"problem reading \"+ file)\n",
    "\n",
    "# In any case, the code then continues with \n",
    "# the line after the try/except\n",
    "print(\"hello world\")"
   ]
  },
  {
   "cell_type": "code",
   "execution_count": null,
   "metadata": {},
   "outputs": [],
   "source": [
    "# os.popen()"
   ]
  },
  {
   "cell_type": "markdown",
   "metadata": {},
   "source": [
    "This method opens a pipe to or from command. The return value can be read or written depending on whether mode is ‘r’ or ‘w’.\n",
    "\n",
    "Syntax:\n",
    "\n",
    " os.popen(command, mode, bufsize)\n",
    "Parameters mode & bufsize are not necessary parameters, if not provided, default ‘r’ is taken for mode."
   ]
  },
  {
   "cell_type": "code",
   "execution_count": 38,
   "metadata": {},
   "outputs": [
    {
     "name": "stdout",
     "output_type": "stream",
     "text": [
      "Hello\n"
     ]
    }
   ],
   "source": [
    "import os\n",
    "file=\"aaa.txt\"\n",
    "f=open(file,'w')\n",
    "f.write(\"Hello\")\n",
    "f.close()\n",
    "\n",
    "f=open(file,'r')\n",
    "text=f.read()\n",
    "print(text)\n",
    "f.close()"
   ]
  },
  {
   "cell_type": "code",
   "execution_count": 42,
   "metadata": {},
   "outputs": [
    {
     "data": {
      "text/plain": [
       "6"
      ]
     },
     "execution_count": 42,
     "metadata": {},
     "output_type": "execute_result"
    }
   ],
   "source": [
    "import os\n",
    "file=\"aaa.txt\"\n",
    "# popen() provides a pipe/gateway and accesses the file directly\n",
    "f=os.popen(file,'w')\n",
    "f.write(\"Shatil\")\n",
    "# File not closed\n",
    "# see output in the file"
   ]
  },
  {
   "cell_type": "code",
   "execution_count": null,
   "metadata": {},
   "outputs": [],
   "source": [
    "# os.close()"
   ]
  },
  {
   "cell_type": "markdown",
   "metadata": {},
   "source": [
    "Close file descriptor file. A file opened using open(), can be closed by close()only. But file opened through os.popen(), can be closed with close() or os.close(). If we try closing a file opened with open(), using os.close(), Python would throw TypeError."
   ]
  },
  {
   "cell_type": "code",
   "execution_count": 2,
   "metadata": {},
   "outputs": [],
   "source": [
    "import os\n",
    "os.chdir(\"C:/Users/HP/Documents/Python/exercise/New Folder/dlt/\")\n",
    "f=open('aaa.txt','r')\n",
    "f.close()"
   ]
  },
  {
   "cell_type": "code",
   "execution_count": 3,
   "metadata": {},
   "outputs": [
    {
     "ename": "TypeError",
     "evalue": "an integer is required (got type _io.TextIOWrapper)",
     "output_type": "error",
     "traceback": [
      "\u001b[1;31m---------------------------------------------------------------------------\u001b[0m",
      "\u001b[1;31mTypeError\u001b[0m                                 Traceback (most recent call last)",
      "\u001b[1;32m<ipython-input-3-add5c7c3f755>\u001b[0m in \u001b[0;36m<module>\u001b[1;34m\u001b[0m\n\u001b[0;32m      1\u001b[0m \u001b[0mf\u001b[0m\u001b[1;33m=\u001b[0m\u001b[0mopen\u001b[0m\u001b[1;33m(\u001b[0m\u001b[1;34m'aaa.txt'\u001b[0m\u001b[1;33m,\u001b[0m\u001b[1;34m'r'\u001b[0m\u001b[1;33m)\u001b[0m\u001b[1;33m\u001b[0m\u001b[1;33m\u001b[0m\u001b[0m\n\u001b[1;32m----> 2\u001b[1;33m \u001b[0mos\u001b[0m\u001b[1;33m.\u001b[0m\u001b[0mclose\u001b[0m\u001b[1;33m(\u001b[0m\u001b[0mf\u001b[0m\u001b[1;33m)\u001b[0m \u001b[1;31m# as expected -read above\u001b[0m\u001b[1;33m\u001b[0m\u001b[1;33m\u001b[0m\u001b[0m\n\u001b[0m",
      "\u001b[1;31mTypeError\u001b[0m: an integer is required (got type _io.TextIOWrapper)"
     ]
    }
   ],
   "source": [
    "f=open('aaa.txt','r')\n",
    "os.close(f) # as expected -read above"
   ]
  },
  {
   "cell_type": "code",
   "execution_count": null,
   "metadata": {},
   "outputs": [],
   "source": [
    "import os\n",
    "f=os.popen('aaa.txt','r')\n",
    "f.close()"
   ]
  },
  {
   "cell_type": "code",
   "execution_count": null,
   "metadata": {},
   "outputs": [],
   "source": [
    "f=os.open('aaa.txt','w')\n",
    "os.close(f)"
   ]
  },
  {
   "cell_type": "code",
   "execution_count": null,
   "metadata": {},
   "outputs": [],
   "source": [
    "# os.rename()"
   ]
  },
  {
   "cell_type": "markdown",
   "metadata": {},
   "source": [
    "A file old.txt can be renamed to new.txt, using the function os.rename(). The name of the file changes only if, the file exists and user has sufficient privilege permission to change the file."
   ]
  },
  {
   "cell_type": "code",
   "execution_count": 6,
   "metadata": {},
   "outputs": [
    {
     "name": "stdout",
     "output_type": "stream",
     "text": [
      "C:\\Users\\HP\\Documents\\Python\\exercise\n"
     ]
    }
   ],
   "source": [
    "print(os.getcwd())"
   ]
  },
  {
   "cell_type": "code",
   "execution_count": 7,
   "metadata": {},
   "outputs": [],
   "source": [
    "os.chdir(\"C:/Users/HP/Documents/Python/exercise/New Folder/dlt/\")"
   ]
  },
  {
   "cell_type": "code",
   "execution_count": 8,
   "metadata": {},
   "outputs": [],
   "source": [
    "\n",
    "f='ccc.txt'\n",
    "os.rename(f,'ddd.txt')"
   ]
  },
  {
   "cell_type": "code",
   "execution_count": 9,
   "metadata": {},
   "outputs": [
    {
     "name": "stdout",
     "output_type": "stream",
     "text": [
      "['aaa.txt', 'ddd.txt', 'New folder']\n"
     ]
    }
   ],
   "source": [
    "print(os.listdir(os.getcwd()))"
   ]
  },
  {
   "cell_type": "code",
   "execution_count": null,
   "metadata": {},
   "outputs": [],
   "source": []
  }
 ],
 "metadata": {
  "kernelspec": {
   "display_name": "Python 3",
   "language": "python",
   "name": "python3"
  },
  "language_info": {
   "codemirror_mode": {
    "name": "ipython",
    "version": 3
   },
   "file_extension": ".py",
   "mimetype": "text/x-python",
   "name": "python",
   "nbconvert_exporter": "python",
   "pygments_lexer": "ipython3",
   "version": "3.8.5"
  }
 },
 "nbformat": 4,
 "nbformat_minor": 4
}
