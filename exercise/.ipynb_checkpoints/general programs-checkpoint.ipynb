{
 "cells": [
  {
   "cell_type": "code",
   "execution_count": 6,
   "metadata": {},
   "outputs": [
    {
     "name": "stdout",
     "output_type": "stream",
     "text": [
      "9\n",
      "009 is odd\n"
     ]
    }
   ],
   "source": [
    "n=int(input())\n",
    "if n%2==0:\n",
    "    print('{0} is even'.format(n)) ############ new\n",
    "else:\n",
    "    print(\"{0:003d} is odd\".format(n))"
   ]
  },
  {
   "cell_type": "code",
   "execution_count": 7,
   "metadata": {},
   "outputs": [
    {
     "name": "stdout",
     "output_type": "stream",
     "text": [
      "enter:5\n",
      "120\n"
     ]
    }
   ],
   "source": [
    "def fact(num):\n",
    "    if num==1:\n",
    "        return num\n",
    "    else:\n",
    "        return num*fact(num-1)\n",
    "n=int(input('enter:'))\n",
    "if n==0:\n",
    "    print('1')\n",
    "elif n>0:\n",
    "    print(fact(n))"
   ]
  },
  {
   "cell_type": "code",
   "execution_count": 20,
   "metadata": {},
   "outputs": [
    {
     "name": "stdout",
     "output_type": "stream",
     "text": [
      "15\n",
      "prime\n"
     ]
    }
   ],
   "source": [
    "n=int(input())\n",
    "for i in range(2,n):\n",
    "    if n%i==0:\n",
    "        print('not prime')\n",
    "        break\n",
    "    else:\n",
    "        print('prime')\n",
    "        break"
   ]
  },
  {
   "cell_type": "code",
   "execution_count": 22,
   "metadata": {},
   "outputs": [
    {
     "name": "stdout",
     "output_type": "stream",
     "text": [
      "how mnay:4\n",
      "2\n",
      "89\n",
      "6\n",
      "1\n",
      "[1, 2, 6, 89]\n",
      "89\n"
     ]
    }
   ],
   "source": [
    "a=[]\n",
    "n=int(input('how mnay:'))\n",
    "for i in range(n):\n",
    "    b=int(input())\n",
    "    a.append(b)\n",
    "a.sort()\n",
    "print(a)\n",
    "print(a[n-1])"
   ]
  },
  {
   "cell_type": "code",
   "execution_count": 23,
   "metadata": {},
   "outputs": [
    {
     "name": "stdout",
     "output_type": "stream",
     "text": [
      "4\n",
      "5\n",
      "4 5\n",
      "5 4\n"
     ]
    }
   ],
   "source": [
    "a=int(input())\n",
    "b=int(input())\n",
    "print(a , b)\n",
    "a=a+b\n",
    "b=a-b\n",
    "a=a-b\n",
    "print(a, b)"
   ]
  },
  {
   "cell_type": "code",
   "execution_count": 24,
   "metadata": {},
   "outputs": [
    {
     "name": "stdout",
     "output_type": "stream",
     "text": [
      "0\n",
      "1\n",
      "1\n",
      "2\n",
      "3\n",
      "5\n",
      "8\n",
      "13\n",
      "21\n",
      "34\n"
     ]
    }
   ],
   "source": [
    "#fibonacci\n",
    "def fib(n):\n",
    "    if(n<=1):\n",
    "        return n\n",
    "    else:\n",
    "        return fib(n-1)+fib(n-2)\n",
    "t=10\n",
    "for i in range(t):\n",
    "    print(fib(i))"
   ]
  },
  {
   "cell_type": "code",
   "execution_count": 31,
   "metadata": {},
   "outputs": [
    {
     "name": "stdout",
     "output_type": "stream",
     "text": [
      "radar\n",
      "palindrome\n"
     ]
    }
   ],
   "source": [
    "#palindrome\n",
    "s=\"RAdAR\"\n",
    "s=s.casefold() # to makelowercase , not necessary here\n",
    "print(s)\n",
    "r=reversed(s) ##################new\n",
    "if list(s)==list(r):\n",
    "    print(\"palindrome\")\n",
    "else:\n",
    "    print('not')\n"
   ]
  },
  {
   "cell_type": "code",
   "execution_count": 38,
   "metadata": {},
   "outputs": [
    {
     "name": "stdout",
     "output_type": "stream",
     "text": [
      "121\n",
      "dig 1\n",
      "rev 1\n",
      "n 12\n",
      "dig 2\n",
      "rev 12\n",
      "n 1\n",
      "dig 1\n",
      "rev 121\n",
      "n 0\n",
      "palindrome\n"
     ]
    }
   ],
   "source": [
    "n=int(input())\n",
    "tem=n\n",
    "rev=0\n",
    "while n>0:\n",
    "    dig= n%10\n",
    "    print('dig',dig)\n",
    "    rev=rev*10+dig\n",
    "    print('rev',rev)\n",
    "    n=n//10\n",
    "    print('n',n)\n",
    "if tem==rev:\n",
    "    print('palindrome')\n",
    "else:\n",
    "    print('not')"
   ]
  },
  {
   "cell_type": "code",
   "execution_count": 53,
   "metadata": {},
   "outputs": [
    {
     "name": "stdout",
     "output_type": "stream",
     "text": [
      "no of lines:5\n",
      "     1 \n",
      "    1 1 \n",
      "   1 2 1 \n",
      "  1 3 3 1 \n",
      " 1 4 6 4 1 \n"
     ]
    }
   ],
   "source": [
    "#pascal triangle\n",
    "#nCr\n",
    "\n",
    "def fact(n):\n",
    "    f=1\n",
    "    i=1\n",
    "    while i<=n:\n",
    "        f=f*i\n",
    "        i+=1\n",
    "    return f\n",
    "n=int(input('no of lines:'))\n",
    "for i in range(n):\n",
    "    for j in range(n-i):\n",
    "        print(end=\" \") #left space\n",
    "    for k in range(i+1):\n",
    "        print(fact(i)//(fact(k)*fact(i-k)),end=\" \")\n",
    "    print() #new line\n",
    "  \n"
   ]
  },
  {
   "cell_type": "code",
   "execution_count": 43,
   "metadata": {},
   "outputs": [
    {
     "name": "stdout",
     "output_type": "stream",
     "text": [
      "      1 \n",
      "     1 1 \n",
      "    1 2 1 \n",
      "   1 3 3 1 \n",
      "  1 4 6 4 1 \n"
     ]
    }
   ],
   "source": [
    "from math import factorial\n",
    "  \n",
    "# input n\n",
    "n = 5\n",
    "for i in range(n):\n",
    "    for j in range(n-i+1):\n",
    "  \n",
    "        # for left spacing\n",
    "        print(end=\" \")\n",
    "  \n",
    "    for j in range(i+1):\n",
    "  \n",
    "        # nCr = n!/((n-r)!*r!)\n",
    "        print(factorial(i)//(factorial(j)*factorial(i-j)), end=\" \")\n",
    "  \n",
    "    # for new line\n",
    "    print()"
   ]
  },
  {
   "cell_type": "code",
   "execution_count": 75,
   "metadata": {},
   "outputs": [
    {
     "name": "stdout",
     "output_type": "stream",
     "text": [
      "      1\n",
      "     1 1\n",
      "    1 2 1\n",
      "   1 3 3 1\n",
      "  1 4 6 4 1\n",
      " 1 5 10 10 5 1\n"
     ]
    }
   ],
   "source": [
    "#using binomial coeficient\n",
    "n=6\n",
    "for i in range(1,n+1):\n",
    "    for j in range(n-i):\n",
    "        print(end=' ')\n",
    "    c=1 #FIXED 1st element\n",
    "    for k in range(1,i+1):\n",
    "        print(' ',c,sep='',end='') #first value of a line always 1\n",
    "        c=c*(i-k)//k\n",
    "    print()"
   ]
  },
  {
   "cell_type": "code",
   "execution_count": 87,
   "metadata": {},
   "outputs": [
    {
     "name": "stdout",
     "output_type": "stream",
     "text": [
      "     1\n",
      "    1 1\n",
      "   1 2 1\n",
      "  1 3 3 1\n",
      " 1 4 6 4 1\n"
     ]
    }
   ],
   "source": [
    "#using power of 11\n",
    "# 11**0=1\n",
    "# 11**1=11\n",
    "# 11**2=121\n",
    "\n",
    "n=5\n",
    "for i in range(n):\n",
    "    print(' '*(n-i),end='')     ###################### new\n",
    "    print(' '.join(map(str,str(11**i))))"
   ]
  },
  {
   "cell_type": "code",
   "execution_count": 90,
   "metadata": {},
   "outputs": [
    {
     "name": "stdout",
     "output_type": "stream",
     "text": [
      "1993\n",
      "not\n"
     ]
    }
   ],
   "source": [
    "#leap year\n",
    "y=int(input())\n",
    "if (y%4==0 and y%100!=0 or y%4000==0):\n",
    "    print('lreapyear')\n",
    "else:\n",
    "    print('not')"
   ]
  },
  {
   "cell_type": "code",
   "execution_count": 100,
   "metadata": {},
   "outputs": [
    {
     "name": "stdout",
     "output_type": "stream",
     "text": [
      "5\n",
      "j 1\n",
      "1 : 1\n",
      "j 1\n",
      "j 2\n",
      "2 : 2\n",
      "j 1\n",
      "j 2\n",
      "j 3\n",
      "3 : 6\n",
      "j 1\n",
      "j 2\n",
      "j 3\n",
      "j 4\n",
      "4 : 24\n",
      "j 1\n",
      "j 2\n",
      "j 3\n",
      "j 4\n",
      "j 5\n",
      "5 : 120\n"
     ]
    }
   ],
   "source": [
    "#FACT 1 TO N\n",
    "n=int(input())\n",
    "for i in range(1,n+1):\n",
    "    c=i\n",
    "    f=1\n",
    "    for j in range(1,c+1):\n",
    "        print('j',j)\n",
    "        f=f*j\n",
    "    print(i,':',f)"
   ]
  },
  {
   "cell_type": "code",
   "execution_count": 113,
   "metadata": {},
   "outputs": [
    {
     "name": "stdout",
     "output_type": "stream",
     "text": [
      "50\n",
      "2\n",
      "3\n",
      "5\n",
      "7\n",
      "11\n",
      "13\n",
      "17\n",
      "19\n",
      "23\n",
      "29\n",
      "31\n",
      "37\n",
      "41\n",
      "43\n",
      "47\n"
     ]
    }
   ],
   "source": [
    "# prime 1 to n\n",
    "\n",
    "n=int(input())\n",
    "for i in range(1,n+1):\n",
    "    count=0\n",
    "    c=i\n",
    "    for j in range(1,c+1):\n",
    "       # print(j)\n",
    "        if c%j==0:\n",
    "            count+=1\n",
    "    if count==2:\n",
    "        print(c)\n",
    "       # pass\n",
    "    "
   ]
  },
  {
   "cell_type": "code",
   "execution_count": 124,
   "metadata": {},
   "outputs": [
    {
     "name": "stdout",
     "output_type": "stream",
     "text": [
      "n row:5\n",
      "1  \n",
      "2  3  \n",
      "4  5  6  \n",
      "7  8  9  10  \n",
      "11  12  13  14  15  \n"
     ]
    }
   ],
   "source": [
    "#floyd triangle\n",
    "n=1\n",
    "r=int(input('n row:'))\n",
    "for i in range(1,r+1):\n",
    "    for j in range(1,i+1):\n",
    "        print(n,end='  ')\n",
    "        n+=1\n",
    "    print()"
   ]
  },
  {
   "cell_type": "code",
   "execution_count": 126,
   "metadata": {},
   "outputs": [
    {
     "name": "stdout",
     "output_type": "stream",
     "text": [
      "12\n",
      "21\n"
     ]
    }
   ],
   "source": [
    "#reverse num\n",
    "rev=0\n",
    "n=int(input())\n",
    "while n>0:\n",
    "    \n",
    "    dig=n%10\n",
    "    rev=rev*10+dig\n",
    "    n=n//10\n",
    "print(rev)"
   ]
  },
  {
   "cell_type": "code",
   "execution_count": 128,
   "metadata": {},
   "outputs": [
    {
     "name": "stdout",
     "output_type": "stream",
     "text": [
      "52\n",
      "7\n"
     ]
    }
   ],
   "source": [
    "#sum of digit\n",
    "s=0\n",
    "n=int(input())\n",
    "while n>0:\n",
    "    \n",
    "    dig=n%10\n",
    "    s=s+dig\n",
    "    n=n//10\n",
    "print(s)"
   ]
  },
  {
   "cell_type": "code",
   "execution_count": 129,
   "metadata": {},
   "outputs": [
    {
     "name": "stdout",
     "output_type": "stream",
     "text": [
      "how many:5\n",
      "max:100\n",
      "18\n",
      "37\n",
      "4\n",
      "26\n",
      "11\n"
     ]
    }
   ],
   "source": [
    "#random number\n",
    "\n",
    "import random\n",
    "n=int(input(\"how many:\"))\n",
    "m=int(input('max:'))\n",
    "for i in range(n):\n",
    "    print(random.randint(0,m))"
   ]
  },
  {
   "cell_type": "code",
   "execution_count": 138,
   "metadata": {},
   "outputs": [
    {
     "name": "stdout",
     "output_type": "stream",
     "text": [
      "celcius:58\n",
      "fahrenheit = 136.40\n"
     ]
    }
   ],
   "source": [
    "c=float(input('celcius:'))\n",
    "f=(c*1.8)+32\n",
    "print('fahrenheit = {0:.2f}'.format(f))     ########### new"
   ]
  },
  {
   "cell_type": "code",
   "execution_count": 139,
   "metadata": {},
   "outputs": [
    {
     "name": "stdout",
     "output_type": "stream",
     "text": [
      "1st str:cola\n",
      "2nd str:coal\n",
      "anagram\n"
     ]
    }
   ],
   "source": [
    "#anagram\n",
    "s1=input('1st str:')\n",
    "s2=input(\"2nd str:\")\n",
    "if sorted(s1)==sorted(s2): ################## new\n",
    "    print('anagram')\n",
    "else:\n",
    "    print('not')"
   ]
  },
  {
   "cell_type": "code",
   "execution_count": 141,
   "metadata": {},
   "outputs": [
    {
     "name": "stdout",
     "output_type": "stream",
     "text": [
      "3\n",
      "4\n",
      "lcm 12\n"
     ]
    }
   ],
   "source": [
    "#LCM : min num that is divisible by both\n",
    "\n",
    "n1=int(input())\n",
    "n2=int(input())\n",
    "if n1>n2:\n",
    "    min=n1\n",
    "else:\n",
    "    min=n2\n",
    "while(1):\n",
    "    \n",
    "    if min%n1==0 and min%n2==0:\n",
    "        print('lcm',min)\n",
    "        break\n",
    "    else:\n",
    "        min+=1\n"
   ]
  },
  {
   "cell_type": "code",
   "execution_count": 144,
   "metadata": {},
   "outputs": [
    {
     "name": "stdout",
     "output_type": "stream",
     "text": [
      "15\n",
      "5\n",
      "gcd 5\n"
     ]
    }
   ],
   "source": [
    "#gcd\n",
    "def gcd(a,b):\n",
    "    if b==0:\n",
    "        return a\n",
    "    else:\n",
    "        return gcd(b,a%b)\n",
    "n1=int(input())\n",
    "n2=int(input())\n",
    "\n",
    "ans=gcd(n1,n2)\n",
    "print('gcd',ans)"
   ]
  },
  {
   "cell_type": "code",
   "execution_count": 147,
   "metadata": {},
   "outputs": [
    {
     "name": "stdout",
     "output_type": "stream",
     "text": [
      "1500\n",
      "2.5\n",
      "3\n",
      "simple interest is 112.50\n"
     ]
    }
   ],
   "source": [
    "p=float(input())\n",
    "t=float(input())\n",
    "r=float(input())\n",
    "si=p*t*r/100\n",
    "print(\"simple interest is %.2f\" %si) ############## new"
   ]
  },
  {
   "cell_type": "code",
   "execution_count": null,
   "metadata": {},
   "outputs": [],
   "source": []
  }
 ],
 "metadata": {
  "kernelspec": {
   "display_name": "Python 3",
   "language": "python",
   "name": "python3"
  },
  "language_info": {
   "codemirror_mode": {
    "name": "ipython",
    "version": 3
   },
   "file_extension": ".py",
   "mimetype": "text/x-python",
   "name": "python",
   "nbconvert_exporter": "python",
   "pygments_lexer": "ipython3",
   "version": "3.8.5"
  }
 },
 "nbformat": 4,
 "nbformat_minor": 4
}
