{
 "cells": [
  {
   "cell_type": "markdown",
   "metadata": {},
   "source": [
    "## Set"
   ]
  },
  {
   "cell_type": "code",
   "execution_count": 2,
   "metadata": {},
   "outputs": [
    {
     "name": "stdout",
     "output_type": "stream",
     "text": [
      "{'f', 'c', 'l', 76, 'srs', 'java', 23, 'python', 'c++'}\n"
     ]
    }
   ],
   "source": [
    "mset={\"c\",\"c++\",\"java\",\"python\",23,76,'f','l',\"srs\"}\n",
    "print(mset)"
   ]
  },
  {
   "cell_type": "code",
   "execution_count": 3,
   "metadata": {},
   "outputs": [
    {
     "name": "stdout",
     "output_type": "stream",
     "text": [
      "f\n",
      "c\n",
      "l\n",
      "76\n",
      "srs\n",
      "java\n",
      "23\n",
      "python\n",
      "c++\n"
     ]
    }
   ],
   "source": [
    "for i in mset:\n",
    "    print(i)"
   ]
  },
  {
   "cell_type": "code",
   "execution_count": 4,
   "metadata": {},
   "outputs": [
    {
     "name": "stdout",
     "output_type": "stream",
     "text": [
      "9\n"
     ]
    }
   ],
   "source": [
    "print(len(mset))"
   ]
  },
  {
   "cell_type": "code",
   "execution_count": 5,
   "metadata": {},
   "outputs": [
    {
     "name": "stdout",
     "output_type": "stream",
     "text": [
      "c++\n",
      "yes\n"
     ]
    }
   ],
   "source": [
    "i=input()\n",
    "if i in mset:\n",
    "    print(\"yes\")\n",
    "else:\n",
    "    print('no')"
   ]
  },
  {
   "cell_type": "code",
   "execution_count": 6,
   "metadata": {},
   "outputs": [
    {
     "name": "stdout",
     "output_type": "stream",
     "text": [
      "{'f', 'c', 'l', 76, 'srs', 'java', 23, 'python', 'c++', 95}\n"
     ]
    }
   ],
   "source": [
    "mset.add(95)  # new , add item\n",
    "print(mset)"
   ]
  },
  {
   "cell_type": "code",
   "execution_count": 12,
   "metadata": {},
   "outputs": [
    {
     "name": "stdout",
     "output_type": "stream",
     "text": [
      "{'c', 'e', 'srs', 23, 'f', 'h', 'l', 76, 'java', 's', 'i', 95, 't', 'o', 'r', 'a', 'k', 'python', 'c++'}\n"
     ]
    }
   ],
   "source": [
    "# add multiple items\n",
    "mset.update('o',\"rek\",\"shatil\") # add single char\n",
    "print(mset)"
   ]
  },
  {
   "cell_type": "code",
   "execution_count": 13,
   "metadata": {},
   "outputs": [
    {
     "name": "stdout",
     "output_type": "stream",
     "text": [
      "{'shatil', 'c', 'e', 'srs', 23, 'rek', 'f', 'h', 'z', 'l', 76, 'java', 's', 'i', 95, 't', 'o', 'r', 'a', 'k', 'python', 'c++'}\n"
     ]
    }
   ],
   "source": [
    "mset.update(['z',\"rek\",\"shatil\"]) #  new\n",
    "print(mset)"
   ]
  },
  {
   "cell_type": "code",
   "execution_count": 14,
   "metadata": {},
   "outputs": [
    {
     "name": "stdout",
     "output_type": "stream",
     "text": [
      "{'c', 'e', 'srs', 23, 'rek', 'f', 'h', 'z', 'l', 76, 'java', 's', 'i', 95, 't', 'o', 'r', 'a', 'k', 'python', 'c++'}\n"
     ]
    }
   ],
   "source": [
    "mset.remove(\"shatil\")\n",
    "print(mset)"
   ]
  },
  {
   "cell_type": "code",
   "execution_count": 15,
   "metadata": {},
   "outputs": [
    {
     "name": "stdout",
     "output_type": "stream",
     "text": [
      "c\n",
      "{'e', 'srs', 23, 'rek', 'f', 'h', 'z', 'l', 76, 'java', 's', 'i', 95, 't', 'o', 'r', 'a', 'k', 'python', 'c++'}\n"
     ]
    }
   ],
   "source": [
    "# remove randomly\n",
    "r = mset.pop()\n",
    "print(r)\n",
    "print(mset)"
   ]
  },
  {
   "cell_type": "code",
   "execution_count": 16,
   "metadata": {},
   "outputs": [
    {
     "name": "stdout",
     "output_type": "stream",
     "text": [
      "e\n",
      "{'srs', 23, 'rek', 'f', 'h', 'z', 'l', 76, 'java', 's', 'i', 95, 't', 'o', 'r', 'a', 'k', 'python', 'c++'}\n"
     ]
    }
   ],
   "source": [
    "r = mset.pop()\n",
    "print(r)\n",
    "print(mset)"
   ]
  },
  {
   "cell_type": "code",
   "execution_count": 17,
   "metadata": {},
   "outputs": [
    {
     "name": "stdout",
     "output_type": "stream",
     "text": [
      "srs\n",
      "{23, 'rek', 'f', 'h', 'z', 'l', 76, 'java', 's', 'i', 95, 't', 'o', 'r', 'a', 'k', 'python', 'c++'}\n"
     ]
    }
   ],
   "source": [
    "r = mset.pop()  # it seems remove from start\n",
    "print(r)\n",
    "print(mset)"
   ]
  },
  {
   "cell_type": "code",
   "execution_count": 21,
   "metadata": {},
   "outputs": [
    {
     "name": "stdout",
     "output_type": "stream",
     "text": [
      "set()\n"
     ]
    }
   ],
   "source": [
    "mset.clear()    # remove all item\n",
    "print(mset)"
   ]
  },
  {
   "cell_type": "code",
   "execution_count": 23,
   "metadata": {},
   "outputs": [
    {
     "ename": "NameError",
     "evalue": "name 'mset' is not defined",
     "output_type": "error",
     "traceback": [
      "\u001b[1;31m---------------------------------------------------------------------------\u001b[0m",
      "\u001b[1;31mNameError\u001b[0m                                 Traceback (most recent call last)",
      "\u001b[1;32m<ipython-input-23-f947a28b4e1a>\u001b[0m in \u001b[0;36m<module>\u001b[1;34m\u001b[0m\n\u001b[1;32m----> 1\u001b[1;33m \u001b[1;32mdel\u001b[0m \u001b[0mmset\u001b[0m      \u001b[1;31m#deletes\u001b[0m\u001b[1;33m\u001b[0m\u001b[1;33m\u001b[0m\u001b[0m\n\u001b[0m\u001b[0;32m      2\u001b[0m \u001b[0mprint\u001b[0m\u001b[1;33m(\u001b[0m\u001b[0mmset\u001b[0m\u001b[1;33m)\u001b[0m\u001b[1;33m\u001b[0m\u001b[1;33m\u001b[0m\u001b[0m\n",
      "\u001b[1;31mNameError\u001b[0m: name 'mset' is not defined"
     ]
    }
   ],
   "source": [
    "del mset      #deletes\n",
    "print(mset)   # as deleted"
   ]
  },
  {
   "cell_type": "code",
   "execution_count": 20,
   "metadata": {},
   "outputs": [
    {
     "name": "stdout",
     "output_type": "stream",
     "text": [
      "{1, 2, 3, 4, 'b', 'a', 'c'}\n"
     ]
    }
   ],
   "source": [
    "# add 2 sets using union\n",
    "a={1,2,3,4}\n",
    "b={'a','b','c'}\n",
    "c=a.union(b)   # new\n",
    "print(c)"
   ]
  },
  {
   "cell_type": "code",
   "execution_count": 24,
   "metadata": {},
   "outputs": [
    {
     "name": "stdout",
     "output_type": "stream",
     "text": [
      "{1, 2, 3, 4, 'b', 'a', 'c'}\n"
     ]
    }
   ],
   "source": [
    "# add 2 sets using update\n",
    "a.update(b)\n",
    "print(a)"
   ]
  },
  {
   "cell_type": "code",
   "execution_count": 26,
   "metadata": {},
   "outputs": [
    {
     "name": "stdout",
     "output_type": "stream",
     "text": [
      "{1, 2, 3, 4, 8, 'c', 'b', 'o', 'a'}\n"
     ]
    }
   ],
   "source": [
    "a.update([8,'o'])\n",
    "print(a)"
   ]
  },
  {
   "cell_type": "code",
   "execution_count": 27,
   "metadata": {},
   "outputs": [
    {
     "name": "stdout",
     "output_type": "stream",
     "text": [
      "{1, 2, 3, 4, 'b', 8, 'c', 'o', 'a'}\n"
     ]
    }
   ],
   "source": [
    "d=a.copy()                #copy\n",
    "print(d)"
   ]
  },
  {
   "cell_type": "code",
   "execution_count": 32,
   "metadata": {},
   "outputs": [
    {
     "name": "stdout",
     "output_type": "stream",
     "text": [
      "[2, 4]\n"
     ]
    },
    {
     "ename": "AttributeError",
     "evalue": "'tuple' object has no attribute 'copy'",
     "output_type": "error",
     "traceback": [
      "\u001b[1;31m---------------------------------------------------------------------------\u001b[0m",
      "\u001b[1;31mAttributeError\u001b[0m                            Traceback (most recent call last)",
      "\u001b[1;32m<ipython-input-32-e8caa043863c>\u001b[0m in \u001b[0;36m<module>\u001b[1;34m\u001b[0m\n\u001b[0;32m      4\u001b[0m \u001b[1;33m\u001b[0m\u001b[0m\n\u001b[0;32m      5\u001b[0m \u001b[0ma\u001b[0m\u001b[1;33m=\u001b[0m\u001b[1;33m(\u001b[0m\u001b[1;36m2\u001b[0m\u001b[1;33m,\u001b[0m\u001b[1;36m4\u001b[0m\u001b[1;33m)\u001b[0m\u001b[1;33m\u001b[0m\u001b[1;33m\u001b[0m\u001b[0m\n\u001b[1;32m----> 6\u001b[1;33m \u001b[0mb\u001b[0m\u001b[1;33m=\u001b[0m\u001b[0ma\u001b[0m\u001b[1;33m.\u001b[0m\u001b[0mcopy\u001b[0m\u001b[1;33m(\u001b[0m\u001b[1;33m)\u001b[0m\u001b[1;33m\u001b[0m\u001b[1;33m\u001b[0m\u001b[0m\n\u001b[0m\u001b[0;32m      7\u001b[0m \u001b[0mprint\u001b[0m\u001b[1;33m(\u001b[0m\u001b[0mb\u001b[0m\u001b[1;33m)\u001b[0m\u001b[1;33m\u001b[0m\u001b[1;33m\u001b[0m\u001b[0m\n",
      "\u001b[1;31mAttributeError\u001b[0m: 'tuple' object has no attribute 'copy'"
     ]
    }
   ],
   "source": [
    "a=[2,4]\n",
    "b=a.copy()\n",
    "print(b)\n",
    "\n",
    "a=(2,4)\n",
    "b=a.copy()\n",
    "print(b)"
   ]
  },
  {
   "cell_type": "code",
   "execution_count": 37,
   "metadata": {},
   "outputs": [
    {
     "name": "stdout",
     "output_type": "stream",
     "text": [
      "{5, 6}\n"
     ]
    }
   ],
   "source": [
    "# intersection\n",
    "#in both\n",
    "\n",
    "a={2,3,4,5,6}\n",
    "b={5,6,7,8}\n",
    "c=a.intersection(b)    # new\n",
    "print(c)"
   ]
  },
  {
   "cell_type": "code",
   "execution_count": 36,
   "metadata": {},
   "outputs": [
    {
     "name": "stdout",
     "output_type": "stream",
     "text": [
      "{3}\n"
     ]
    }
   ],
   "source": [
    "# difference\n",
    "# only in a\n",
    "\n",
    "a={2,3,4}\n",
    "b={2,4,5}\n",
    "c=a.difference(b)\n",
    "print(c)"
   ]
  },
  {
   "cell_type": "markdown",
   "metadata": {},
   "source": [
    "## Dictionaries"
   ]
  },
  {
   "cell_type": "code",
   "execution_count": 39,
   "metadata": {},
   "outputs": [
    {
     "name": "stdout",
     "output_type": "stream",
     "text": [
      "{1: 's', 2: 'r', 3: 't', 4: 'z', 5: 2019}\n"
     ]
    }
   ],
   "source": [
    "mdic={\n",
    "    1:'s',\n",
    "    2:'r',\n",
    "    3:'t',\n",
    "    4:'z',\n",
    "    5:2019\n",
    "}\n",
    "print(mdic)"
   ]
  },
  {
   "cell_type": "code",
   "execution_count": 42,
   "metadata": {},
   "outputs": [
    {
     "name": "stdout",
     "output_type": "stream",
     "text": [
      "1\n",
      "2\n",
      "3\n",
      "4\n",
      "5\n"
     ]
    }
   ],
   "source": [
    "for i in mdic:\n",
    "    print(i)"
   ]
  },
  {
   "cell_type": "code",
   "execution_count": 40,
   "metadata": {},
   "outputs": [
    {
     "name": "stdout",
     "output_type": "stream",
     "text": [
      "s\n",
      "r\n",
      "t\n",
      "z\n",
      "2019\n"
     ]
    }
   ],
   "source": [
    "for i in mdic:\n",
    "    print(mdic[i])"
   ]
  },
  {
   "cell_type": "code",
   "execution_count": 46,
   "metadata": {},
   "outputs": [
    {
     "name": "stdout",
     "output_type": "stream",
     "text": [
      "s\n",
      "r\n",
      "t\n",
      "z\n",
      "2019\n"
     ]
    }
   ],
   "source": [
    "for i in mdic.values():\n",
    "    print(i)"
   ]
  },
  {
   "cell_type": "code",
   "execution_count": 47,
   "metadata": {},
   "outputs": [
    {
     "name": "stdout",
     "output_type": "stream",
     "text": [
      "(1, 's')\n",
      "(2, 'r')\n",
      "(3, 't')\n",
      "(4, 'z')\n",
      "(5, 2019)\n"
     ]
    }
   ],
   "source": [
    "for i in mdic.items():\n",
    "    print(i)"
   ]
  },
  {
   "cell_type": "code",
   "execution_count": 49,
   "metadata": {},
   "outputs": [
    {
     "name": "stdout",
     "output_type": "stream",
     "text": [
      "(1, 's')\n",
      "(2, 4012)\n",
      "(3, 't')\n",
      "(4, 'z')\n",
      "(5, 2019)\n"
     ]
    }
   ],
   "source": [
    "# change value of a key\n",
    "mdic[2]=4012\n",
    "for i in mdic.items():\n",
    "    print(i)"
   ]
  },
  {
   "cell_type": "code",
   "execution_count": 50,
   "metadata": {},
   "outputs": [
    {
     "name": "stdout",
     "output_type": "stream",
     "text": [
      "(1, 's')\n",
      "(2, 4012)\n",
      "(3, 't')\n",
      "(4, 'z')\n",
      "(5, 2019)\n",
      "('name', 'shatil')\n"
     ]
    }
   ],
   "source": [
    "# add item\n",
    "mdic[\"name\"]=\"shatil\"\n",
    "for i in mdic.items():\n",
    "    print(i)"
   ]
  },
  {
   "cell_type": "code",
   "execution_count": 52,
   "metadata": {},
   "outputs": [
    {
     "name": "stdout",
     "output_type": "stream",
     "text": [
      "(1, 's')\n",
      "(2, 4012)\n",
      "(3, 't')\n",
      "(4, 'z')\n",
      "(5, 2019)\n",
      "('name', 'rakin')\n"
     ]
    }
   ],
   "source": [
    "mdic[\"name\"]=\"rakin\"\n",
    "for i in mdic.items():\n",
    "    print(i)"
   ]
  },
  {
   "cell_type": "code",
   "execution_count": 53,
   "metadata": {},
   "outputs": [
    {
     "name": "stdout",
     "output_type": "stream",
     "text": [
      "(1, 's')\n",
      "(2, 4012)\n",
      "(3, 't')\n",
      "(4, 'z')\n",
      "(5, 2019)\n",
      "('name', 'rakin')\n",
      "('year', 2022)\n"
     ]
    }
   ],
   "source": [
    "# add item using update\n",
    "mdic.update({\"year\":2022})\n",
    "for i in mdic.items():\n",
    "    print(i)"
   ]
  },
  {
   "cell_type": "code",
   "execution_count": 54,
   "metadata": {},
   "outputs": [
    {
     "name": "stdout",
     "output_type": "stream",
     "text": [
      "7\n"
     ]
    }
   ],
   "source": [
    "print(len(mdic))"
   ]
  },
  {
   "cell_type": "code",
   "execution_count": 59,
   "metadata": {},
   "outputs": [
    {
     "name": "stdout",
     "output_type": "stream",
     "text": [
      "name\n",
      "yes\n"
     ]
    }
   ],
   "source": [
    "i=input()\n",
    "if i in mdic:\n",
    "    print('yes')\n",
    "else:\n",
    "    print('no')"
   ]
  },
  {
   "cell_type": "code",
   "execution_count": 60,
   "metadata": {},
   "outputs": [
    {
     "name": "stdout",
     "output_type": "stream",
     "text": [
      "(1, 's')\n",
      "(2, 4012)\n",
      "(3, 't')\n",
      "(5, 2019)\n",
      "('name', 'rakin')\n"
     ]
    }
   ],
   "source": [
    "mdic.pop(4)                       #removing\n",
    "mdic.pop(\"year\")\n",
    "for i in mdic.items():\n",
    "    print(i)"
   ]
  },
  {
   "cell_type": "code",
   "execution_count": 61,
   "metadata": {},
   "outputs": [
    {
     "ename": "TypeError",
     "evalue": "pop expected at least 1 argument, got 0",
     "output_type": "error",
     "traceback": [
      "\u001b[1;31m---------------------------------------------------------------------------\u001b[0m",
      "\u001b[1;31mTypeError\u001b[0m                                 Traceback (most recent call last)",
      "\u001b[1;32m<ipython-input-61-22ac510d317e>\u001b[0m in \u001b[0;36m<module>\u001b[1;34m\u001b[0m\n\u001b[1;32m----> 1\u001b[1;33m \u001b[0mmdic\u001b[0m\u001b[1;33m.\u001b[0m\u001b[0mpop\u001b[0m\u001b[1;33m(\u001b[0m\u001b[1;33m)\u001b[0m\u001b[1;33m\u001b[0m\u001b[1;33m\u001b[0m\u001b[0m\n\u001b[0m\u001b[0;32m      2\u001b[0m \u001b[1;32mfor\u001b[0m \u001b[0mi\u001b[0m \u001b[1;32min\u001b[0m \u001b[0mmdic\u001b[0m\u001b[1;33m.\u001b[0m\u001b[0mitems\u001b[0m\u001b[1;33m(\u001b[0m\u001b[1;33m)\u001b[0m\u001b[1;33m:\u001b[0m\u001b[1;33m\u001b[0m\u001b[1;33m\u001b[0m\u001b[0m\n\u001b[0;32m      3\u001b[0m     \u001b[0mprint\u001b[0m\u001b[1;33m(\u001b[0m\u001b[0mi\u001b[0m\u001b[1;33m)\u001b[0m\u001b[1;33m\u001b[0m\u001b[1;33m\u001b[0m\u001b[0m\n",
      "\u001b[1;31mTypeError\u001b[0m: pop expected at least 1 argument, got 0"
     ]
    }
   ],
   "source": [
    "mdic.pop()\n",
    "for i in mdic.items():\n",
    "    print(i)"
   ]
  },
  {
   "cell_type": "code",
   "execution_count": 62,
   "metadata": {},
   "outputs": [
    {
     "name": "stdout",
     "output_type": "stream",
     "text": [
      "(1, 's')\n",
      "(3, 't')\n",
      "(5, 2019)\n",
      "('name', 'rakin')\n"
     ]
    }
   ],
   "source": [
    "del mdic[2]\n",
    "for i in mdic.items():\n",
    "    print(i)"
   ]
  },
  {
   "cell_type": "code",
   "execution_count": 63,
   "metadata": {},
   "outputs": [
    {
     "name": "stdout",
     "output_type": "stream",
     "text": [
      "(1, 's')\n",
      "(3, 't')\n",
      "(5, 2019)\n"
     ]
    }
   ],
   "source": [
    "del mdic[\"name\"]\n",
    "for i in mdic.items():\n",
    "    print(i)"
   ]
  },
  {
   "cell_type": "code",
   "execution_count": 64,
   "metadata": {},
   "outputs": [
    {
     "name": "stdout",
     "output_type": "stream",
     "text": [
      "{}\n"
     ]
    }
   ],
   "source": [
    "mdic.clear()\n",
    "print(mdic)"
   ]
  },
  {
   "cell_type": "code",
   "execution_count": 65,
   "metadata": {},
   "outputs": [],
   "source": [
    "del mdic"
   ]
  },
  {
   "cell_type": "code",
   "execution_count": 66,
   "metadata": {},
   "outputs": [
    {
     "ename": "NameError",
     "evalue": "name 'mdic' is not defined",
     "output_type": "error",
     "traceback": [
      "\u001b[1;31m---------------------------------------------------------------------------\u001b[0m",
      "\u001b[1;31mNameError\u001b[0m                                 Traceback (most recent call last)",
      "\u001b[1;32m<ipython-input-66-25690d13da4f>\u001b[0m in \u001b[0;36m<module>\u001b[1;34m\u001b[0m\n\u001b[1;32m----> 1\u001b[1;33m \u001b[0mmdic\u001b[0m\u001b[1;33m\u001b[0m\u001b[1;33m\u001b[0m\u001b[0m\n\u001b[0m",
      "\u001b[1;31mNameError\u001b[0m: name 'mdic' is not defined"
     ]
    }
   ],
   "source": [
    "mdic"
   ]
  },
  {
   "cell_type": "code",
   "execution_count": 68,
   "metadata": {},
   "outputs": [
    {
     "name": "stdout",
     "output_type": "stream",
     "text": [
      "{1: 23, 2: 'a', 3: 'sha', 'y': 'yes'}\n"
     ]
    }
   ],
   "source": [
    "a={\n",
    "    1:23,\n",
    "    2:'a',\n",
    "    3:\"sha\",\n",
    "    \"y\":\"yes\"\n",
    "}\n",
    "b=a.copy()\n",
    "print(b)"
   ]
  },
  {
   "cell_type": "code",
   "execution_count": 69,
   "metadata": {},
   "outputs": [
    {
     "name": "stdout",
     "output_type": "stream",
     "text": [
      "{1: 23, 2: 'a', 3: 'sha', 'y': 'yes'}\n"
     ]
    }
   ],
   "source": [
    "# copy using  dict\n",
    "c= dict(b)                            # new\n",
    "print(c)"
   ]
  },
  {
   "cell_type": "code",
   "execution_count": 70,
   "metadata": {},
   "outputs": [
    {
     "name": "stdout",
     "output_type": "stream",
     "text": [
      "{'laptop': {'brand': 'MacBook', 'os': 'mac os'}, 'mobile': {'brand': 'iphone', 'os': 'ios'}}\n"
     ]
    }
   ],
   "source": [
    "# nested dictionary                             # new\n",
    "\n",
    "laptop={\n",
    "    \"brand\":\"MacBook\",\n",
    "    \"os\":\"mac os\"\n",
    "}\n",
    "\n",
    "mobile={\n",
    "    \"brand\":\"iphone\",\n",
    "    \"os\":\"ios\"\n",
    "}\n",
    "\n",
    "apple={\n",
    "    \"laptop\":laptop,\n",
    "    \"mobile\":mobile\n",
    "}\n",
    "\n",
    "print(apple)"
   ]
  },
  {
   "cell_type": "code",
   "execution_count": null,
   "metadata": {},
   "outputs": [],
   "source": []
  }
 ],
 "metadata": {
  "kernelspec": {
   "display_name": "Python 3",
   "language": "python",
   "name": "python3"
  },
  "language_info": {
   "codemirror_mode": {
    "name": "ipython",
    "version": 3
   },
   "file_extension": ".py",
   "mimetype": "text/x-python",
   "name": "python",
   "nbconvert_exporter": "python",
   "pygments_lexer": "ipython3",
   "version": "3.8.5"
  }
 },
 "nbformat": 4,
 "nbformat_minor": 4
}
