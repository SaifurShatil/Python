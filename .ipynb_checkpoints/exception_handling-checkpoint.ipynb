{
 "cells": [
  {
   "cell_type": "code",
   "execution_count": 2,
   "metadata": {},
   "outputs": [
    {
     "name": "stdout",
     "output_type": "stream",
     "text": [
      "2.5\n",
      "bye\n"
     ]
    }
   ],
   "source": [
    "a=5\n",
    "b=2\n",
    "print(a/b)\n",
    "print('bye')"
   ]
  },
  {
   "cell_type": "code",
   "execution_count": 3,
   "metadata": {},
   "outputs": [
    {
     "ename": "ZeroDivisionError",
     "evalue": "division by zero",
     "output_type": "error",
     "traceback": [
      "\u001b[1;31m---------------------------------------------------------------------------\u001b[0m",
      "\u001b[1;31mZeroDivisionError\u001b[0m                         Traceback (most recent call last)",
      "\u001b[1;32m<ipython-input-3-6fcb1d7cfa98>\u001b[0m in \u001b[0;36m<module>\u001b[1;34m\u001b[0m\n\u001b[0;32m      1\u001b[0m \u001b[0ma\u001b[0m\u001b[1;33m=\u001b[0m\u001b[1;36m5\u001b[0m\u001b[1;33m\u001b[0m\u001b[1;33m\u001b[0m\u001b[0m\n\u001b[0;32m      2\u001b[0m \u001b[0mb\u001b[0m\u001b[1;33m=\u001b[0m\u001b[1;36m0\u001b[0m\u001b[1;33m\u001b[0m\u001b[1;33m\u001b[0m\u001b[0m\n\u001b[1;32m----> 3\u001b[1;33m \u001b[0mprint\u001b[0m\u001b[1;33m(\u001b[0m\u001b[0ma\u001b[0m\u001b[1;33m/\u001b[0m\u001b[0mb\u001b[0m\u001b[1;33m)\u001b[0m\u001b[1;33m\u001b[0m\u001b[1;33m\u001b[0m\u001b[0m\n\u001b[0m\u001b[0;32m      4\u001b[0m \u001b[0mprint\u001b[0m\u001b[1;33m(\u001b[0m\u001b[1;34m'bye'\u001b[0m\u001b[1;33m)\u001b[0m\u001b[1;33m\u001b[0m\u001b[1;33m\u001b[0m\u001b[0m\n",
      "\u001b[1;31mZeroDivisionError\u001b[0m: division by zero"
     ]
    }
   ],
   "source": [
    "a=5\n",
    "b=0\n",
    "print(a/b)\n",
    "print('bye')"
   ]
  },
  {
   "cell_type": "code",
   "execution_count": 4,
   "metadata": {},
   "outputs": [
    {
     "name": "stdout",
     "output_type": "stream",
     "text": [
      "cant divide num by 0\n",
      "bye\n"
     ]
    }
   ],
   "source": [
    "a=5\n",
    "b=0\n",
    "try:\n",
    "    print(a/b) #critical statement\n",
    "except Exception:\n",
    "    print('cant divide num by 0')\n",
    "    \n",
    "print('bye')"
   ]
  },
  {
   "cell_type": "code",
   "execution_count": 5,
   "metadata": {},
   "outputs": [
    {
     "name": "stdout",
     "output_type": "stream",
     "text": [
      "2.5\n",
      "bye\n"
     ]
    }
   ],
   "source": [
    "a=5\n",
    "b=2\n",
    "try:\n",
    "    print(a/b) #critical statement\n",
    "except Exception:\n",
    "    print('cant divide num by 0')\n",
    "    \n",
    "print('bye')"
   ]
  },
  {
   "cell_type": "code",
   "execution_count": 6,
   "metadata": {},
   "outputs": [
    {
     "name": "stdout",
     "output_type": "stream",
     "text": [
      "cant divide num by 0 division by zero\n",
      "bye\n"
     ]
    }
   ],
   "source": [
    "a=5\n",
    "b=0\n",
    "try:\n",
    "    print(a/b) #critical statement\n",
    "except Exception as e:\n",
    "    print('cant divide num by 0',e)\n",
    "    \n",
    "print('bye')"
   ]
  },
  {
   "cell_type": "code",
   "execution_count": 10,
   "metadata": {},
   "outputs": [
    {
     "name": "stdout",
     "output_type": "stream",
     "text": [
      "resource open\n",
      "2.5\n",
      "resource closed\n"
     ]
    }
   ],
   "source": [
    "a=5\n",
    "b=2\n",
    "try:\n",
    "    print(\"resource open\")\n",
    "    print(a/b) #critical statement\n",
    "    #print(\"resource closed\")\n",
    "except Exception as e:\n",
    "    print('cant divide num by 0',e)\n",
    "    #print(\"resource closed\")\n",
    "finally:\n",
    "    print(\"resource closed\")\n"
   ]
  },
  {
   "cell_type": "code",
   "execution_count": 11,
   "metadata": {},
   "outputs": [
    {
     "name": "stdout",
     "output_type": "stream",
     "text": [
      "resource open\n",
      "cant divide num by 0 division by zero\n",
      "resource closed\n"
     ]
    }
   ],
   "source": [
    "a=5\n",
    "b=0\n",
    "try:\n",
    "    print(\"resource open\")\n",
    "    print(a/b) #critical statement\n",
    "    #print(\"resource closed\")\n",
    "except Exception as e:\n",
    "    print('cant divide num by 0',e)\n",
    "    #print(\"resource closed\")\n",
    "finally:\n",
    "    print(\"resource closed\")\n"
   ]
  },
  {
   "cell_type": "code",
   "execution_count": 12,
   "metadata": {},
   "outputs": [
    {
     "name": "stdout",
     "output_type": "stream",
     "text": [
      "resource open\n",
      "2.5\n",
      "Enter a number: 5\n",
      "resource closed\n"
     ]
    }
   ],
   "source": [
    "a=5\n",
    "b=2\n",
    "try:\n",
    "    print(\"resource open\")\n",
    "    print(a/b) #critical statement\n",
    "    k=int(input(\"Enter a number: \"))\n",
    "    #print(\"resource closed\")\n",
    "except Exception as e:\n",
    "    print('cant divide num by 0',e)\n",
    "    #print(\"resource closed\")\n",
    "finally:\n",
    "    print(\"resource closed\")\n"
   ]
  },
  {
   "cell_type": "code",
   "execution_count": 13,
   "metadata": {},
   "outputs": [
    {
     "name": "stdout",
     "output_type": "stream",
     "text": [
      "resource open\n",
      "2.5\n",
      "Enter a number: p\n",
      "cant divide num by 0 invalid literal for int() with base 10: 'p'\n",
      "resource closed\n"
     ]
    }
   ],
   "source": [
    "a=5\n",
    "b=2\n",
    "try:\n",
    "    print(\"resource open\")\n",
    "    print(a/b) #critical statement\n",
    "    k=int(input(\"Enter a number: \"))\n",
    "    #print(\"resource closed\")\n",
    "except Exception as e:\n",
    "    print('cant divide num by 0',e)\n",
    "    #print(\"resource closed\")\n",
    "finally:\n",
    "    print(\"resource closed\")\n"
   ]
  },
  {
   "cell_type": "code",
   "execution_count": 15,
   "metadata": {},
   "outputs": [
    {
     "name": "stdout",
     "output_type": "stream",
     "text": [
      "resource open\n",
      "2.5\n",
      "Enter a number: p\n",
      "Invalid Input invalid literal for int() with base 10: 'p'\n",
      "resource closed\n"
     ]
    }
   ],
   "source": [
    "a=5\n",
    "b=2\n",
    "try:\n",
    "    print(\"resource open\")\n",
    "    print(a/b) #critical statement\n",
    "    k=int(input(\"Enter a number: \"))\n",
    "    #print(\"resource closed\")\n",
    "except ZeroDivisionError as e:\n",
    "    print('cant divide num by 0',e)\n",
    "    #print(\"resource closed\")\n",
    "except ValueError as e:\n",
    "    print('Invalid Input',e)\n",
    "finally:\n",
    "    print(\"resource closed\")\n"
   ]
  },
  {
   "cell_type": "code",
   "execution_count": 19,
   "metadata": {},
   "outputs": [
    {
     "name": "stdout",
     "output_type": "stream",
     "text": [
      "resource open\n",
      "2.5\n",
      "Enter a number: 8j\n",
      "Invalid Input invalid literal for int() with base 10: '8j'\n",
      "resource closed\n"
     ]
    }
   ],
   "source": [
    "a=5\n",
    "b=2\n",
    "try:\n",
    "    print(\"resource open\")\n",
    "    print(a/b) #critical statement\n",
    "    k=int(input(\"Enter a number: \"))\n",
    "    #print(\"resource closed\")\n",
    "except ZeroDivisionError as e: #to handle only o div error\n",
    "    print('cant divide num by 0',e)\n",
    "    #print(\"resource closed\")\n",
    "except ValueError as e: #to handle only val error\n",
    "    print('Invalid Input',e)\n",
    "except Exception as e: #to handle any error\n",
    "    print('something went wrong',e)\n",
    "finally:\n",
    "    print(\"resource closed\")\n"
   ]
  },
  {
   "cell_type": "code",
   "execution_count": 20,
   "metadata": {},
   "outputs": [
    {
     "name": "stdout",
     "output_type": "stream",
     "text": [
      "Enter a number: p\n"
     ]
    },
    {
     "ename": "ValueError",
     "evalue": "invalid literal for int() with base 10: 'p'",
     "output_type": "error",
     "traceback": [
      "\u001b[1;31m---------------------------------------------------------------------------\u001b[0m",
      "\u001b[1;31mValueError\u001b[0m                                Traceback (most recent call last)",
      "\u001b[1;32m<ipython-input-20-2482d9879389>\u001b[0m in \u001b[0;36m<module>\u001b[1;34m\u001b[0m\n\u001b[1;32m----> 1\u001b[1;33m \u001b[0mk\u001b[0m\u001b[1;33m=\u001b[0m\u001b[0mint\u001b[0m\u001b[1;33m(\u001b[0m\u001b[0minput\u001b[0m\u001b[1;33m(\u001b[0m\u001b[1;34m\"Enter a number: \"\u001b[0m\u001b[1;33m)\u001b[0m\u001b[1;33m)\u001b[0m\u001b[1;33m\u001b[0m\u001b[1;33m\u001b[0m\u001b[0m\n\u001b[0m",
      "\u001b[1;31mValueError\u001b[0m: invalid literal for int() with base 10: 'p'"
     ]
    }
   ],
   "source": [
    "k=int(input(\"Enter a number: \"))"
   ]
  },
  {
   "cell_type": "code",
   "execution_count": null,
   "metadata": {},
   "outputs": [],
   "source": []
  },
  {
   "cell_type": "code",
   "execution_count": null,
   "metadata": {},
   "outputs": [],
   "source": []
  },
  {
   "cell_type": "code",
   "execution_count": null,
   "metadata": {},
   "outputs": [],
   "source": []
  },
  {
   "cell_type": "code",
   "execution_count": null,
   "metadata": {},
   "outputs": [],
   "source": []
  },
  {
   "cell_type": "code",
   "execution_count": null,
   "metadata": {},
   "outputs": [],
   "source": []
  }
 ],
 "metadata": {
  "kernelspec": {
   "display_name": "Python 3",
   "language": "python",
   "name": "python3"
  },
  "language_info": {
   "codemirror_mode": {
    "name": "ipython",
    "version": 3
   },
   "file_extension": ".py",
   "mimetype": "text/x-python",
   "name": "python",
   "nbconvert_exporter": "python",
   "pygments_lexer": "ipython3",
   "version": "3.8.5"
  }
 },
 "nbformat": 4,
 "nbformat_minor": 4
}
