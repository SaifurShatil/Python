{
 "cells": [
  {
   "cell_type": "markdown",
   "metadata": {},
   "source": [
    "##  Bubble Sort"
   ]
  },
  {
   "cell_type": "markdown",
   "metadata": {},
   "source": [
    "After one iter one value in position"
   ]
  },
  {
   "cell_type": "code",
   "execution_count": 18,
   "metadata": {},
   "outputs": [],
   "source": [
    "def sort(nums):\n",
    "    for i in range(len(nums)-1,0,-1): \n",
    "        print('i',i)\n",
    "        for j in range(i):\n",
    "            print('j',j)\n",
    "            \n",
    "            if nums[j]>nums[j+1]:\n",
    "                temp=nums[j]\n",
    "                nums[j]=nums[j+1]\n",
    "                nums[j+1]=temp\n",
    "                print(nums)"
   ]
  },
  {
   "cell_type": "code",
   "execution_count": 19,
   "metadata": {},
   "outputs": [
    {
     "name": "stdout",
     "output_type": "stream",
     "text": [
      "i 6\n",
      "j 0\n",
      "j 1\n",
      "[5, 3, 6, 8, 6, 7, 2]\n",
      "j 2\n",
      "j 3\n",
      "[5, 3, 6, 6, 8, 7, 2]\n",
      "j 4\n",
      "[5, 3, 6, 6, 7, 8, 2]\n",
      "j 5\n",
      "[5, 3, 6, 6, 7, 2, 8]\n",
      "i 5\n",
      "j 0\n",
      "[3, 5, 6, 6, 7, 2, 8]\n",
      "j 1\n",
      "j 2\n",
      "j 3\n",
      "j 4\n",
      "[3, 5, 6, 6, 2, 7, 8]\n",
      "i 4\n",
      "j 0\n",
      "j 1\n",
      "j 2\n",
      "j 3\n",
      "[3, 5, 6, 2, 6, 7, 8]\n",
      "i 3\n",
      "j 0\n",
      "j 1\n",
      "j 2\n",
      "[3, 5, 2, 6, 6, 7, 8]\n",
      "i 2\n",
      "j 0\n",
      "j 1\n",
      "[3, 2, 5, 6, 6, 7, 8]\n",
      "i 1\n",
      "j 0\n",
      "[2, 3, 5, 6, 6, 7, 8]\n",
      "sorted:  [2, 3, 5, 6, 6, 7, 8]\n"
     ]
    }
   ],
   "source": [
    "nums=[5,6,3,8,6,7,2]\n",
    "sort(nums)\n",
    "print('sorted: ',nums)"
   ]
  },
  {
   "cell_type": "markdown",
   "metadata": {},
   "source": [
    "##  Selection Sort"
   ]
  },
  {
   "cell_type": "code",
   "execution_count": 34,
   "metadata": {},
   "outputs": [],
   "source": [
    "def sort(nums):\n",
    "    \n",
    "    for i in range(len(nums)-1):\n",
    "        print('i:',i)\n",
    "        minpos=i\n",
    "        print('minpos:',minpos)\n",
    "        for j in range(i+1,len(nums)):\n",
    "            print('j:',j)\n",
    "            if nums[j]<nums[minpos]:\n",
    "                minpos=j\n",
    "                print('new minpos:', minpos)\n",
    "        temp=nums[i]\n",
    "        nums[i]=nums[minpos]\n",
    "        nums[minpos]=temp\n",
    "        print(nums)\n",
    "        "
   ]
  },
  {
   "cell_type": "code",
   "execution_count": 35,
   "metadata": {},
   "outputs": [
    {
     "name": "stdout",
     "output_type": "stream",
     "text": [
      "i: 0\n",
      "minpos: 0\n",
      "j: 1\n",
      "j: 2\n",
      "new minpos: 2\n",
      "j: 3\n",
      "j: 4\n",
      "j: 5\n",
      "j: 6\n",
      "new minpos: 6\n",
      "[2, 6, 3, 8, 6, 7, 5]\n",
      "i: 1\n",
      "minpos: 1\n",
      "j: 2\n",
      "new minpos: 2\n",
      "j: 3\n",
      "j: 4\n",
      "j: 5\n",
      "j: 6\n",
      "[2, 3, 6, 8, 6, 7, 5]\n",
      "i: 2\n",
      "minpos: 2\n",
      "j: 3\n",
      "j: 4\n",
      "j: 5\n",
      "j: 6\n",
      "new minpos: 6\n",
      "[2, 3, 5, 8, 6, 7, 6]\n",
      "i: 3\n",
      "minpos: 3\n",
      "j: 4\n",
      "new minpos: 4\n",
      "j: 5\n",
      "j: 6\n",
      "[2, 3, 5, 6, 8, 7, 6]\n",
      "i: 4\n",
      "minpos: 4\n",
      "j: 5\n",
      "new minpos: 5\n",
      "j: 6\n",
      "new minpos: 6\n",
      "[2, 3, 5, 6, 6, 7, 8]\n",
      "i: 5\n",
      "minpos: 5\n",
      "j: 6\n",
      "[2, 3, 5, 6, 6, 7, 8]\n",
      "sorted:  [2, 3, 5, 6, 6, 7, 8]\n"
     ]
    }
   ],
   "source": [
    "nums=[5,6,3,8,6,7,2]\n",
    "sort(nums)\n",
    "print('sorted: ',nums)"
   ]
  },
  {
   "cell_type": "code",
   "execution_count": null,
   "metadata": {},
   "outputs": [],
   "source": []
  }
 ],
 "metadata": {
  "kernelspec": {
   "display_name": "Python 3",
   "language": "python",
   "name": "python3"
  },
  "language_info": {
   "codemirror_mode": {
    "name": "ipython",
    "version": 3
   },
   "file_extension": ".py",
   "mimetype": "text/x-python",
   "name": "python",
   "nbconvert_exporter": "python",
   "pygments_lexer": "ipython3",
   "version": "3.8.5"
  }
 },
 "nbformat": 4,
 "nbformat_minor": 4
}
